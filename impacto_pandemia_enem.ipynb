{
  "cells": [
    {
      "cell_type": "markdown",
      "metadata": {
        "id": "view-in-github",
        "colab_type": "text"
      },
      "source": [
        "<a href=\"https://colab.research.google.com/github/hugopoggi/enem/blob/main/impacto_pandemia_enem.ipynb\" target=\"_parent\"><img src=\"https://colab.research.google.com/assets/colab-badge.svg\" alt=\"Open In Colab\"/></a>"
      ]
    },
    {
      "cell_type": "code",
      "execution_count": 92,
      "metadata": {
        "colab": {
          "base_uri": "https://localhost:8080/"
        },
        "id": "BbgLD6BnZpAe",
        "outputId": "3433217d-908e-4c2f-8b60-50b7a9a743b8"
      },
      "outputs": [
        {
          "output_type": "stream",
          "name": "stdout",
          "text": [
            "Requirement already satisfied: pyspark in /usr/local/lib/python3.10/dist-packages (3.5.1)\n",
            "Requirement already satisfied: py4j==0.10.9.7 in /usr/local/lib/python3.10/dist-packages (from pyspark) (0.10.9.7)\n"
          ]
        }
      ],
      "source": [
        "!pip install pyspark"
      ]
    },
    {
      "cell_type": "code",
      "execution_count": 93,
      "metadata": {
        "id": "qUgEWrTTZ5lb"
      },
      "outputs": [],
      "source": [
        "from pyspark.sql import SparkSession as ss\n",
        "from pyspark.sql import functions as f\n",
        "from pyspark.sql.types import DoubleType"
      ]
    },
    {
      "cell_type": "code",
      "execution_count": 94,
      "metadata": {
        "id": "SmCA8hgxa0Fw"
      },
      "outputs": [],
      "source": [
        "spark = ss.builder.appName(\"ENEM\").getOrCreate()"
      ]
    },
    {
      "cell_type": "markdown",
      "source": [
        "**INICIANDO TRATAMENTO DE DADOS ENEM 2019\n",
        "**"
      ],
      "metadata": {
        "id": "g0ZXl97NO4hM"
      }
    },
    {
      "cell_type": "code",
      "execution_count": 95,
      "metadata": {
        "id": "J3WexsFkdKId"
      },
      "outputs": [],
      "source": [
        "# Importando a base de dados do enem de 2019\n",
        "url = \"/content/drive/MyDrive/BasesSpark/enem/enem_2019/DADOS/MICRODADOS*\"\n",
        "enem_2019 =spark.read.csv(\n",
        "    url,\n",
        "    header=True,\n",
        "    inferSchema=True,\n",
        "    encoding= \"UTF-8\",\n",
        "    sep=\";\"\n",
        ")"
      ]
    },
    {
      "cell_type": "code",
      "execution_count": 96,
      "metadata": {
        "colab": {
          "base_uri": "https://localhost:8080/"
        },
        "id": "pMxCEV8ZeML2",
        "outputId": "4f487306-2c37-4d6c-ae27-c6256a87ff6e"
      },
      "outputs": [
        {
          "output_type": "stream",
          "name": "stdout",
          "text": [
            "+------------+------+---------------+-------+---------------+-----------+----------------+---------------+---------------+---------+---------+------------+----------------+----------------+---------+---------+----------------------+------------------+---------------+------------------+------------------+-----------+-----------+--------------+--------------+--------------+--------------+-----------+-----------+-----------+-----------+----------+----------+----------+----------+--------------------+--------------------+--------------------+--------------------+---------+--------------------+--------------------+--------------------+--------------------+-----------------+-------------+-------------+-------------+-------------+-------------+---------------+----+----+----+----+----+----+----+----+----+----+----+----+----+----+----+----+----+----+----+----+----+----+----+----+----+\n",
            "|NU_INSCRICAO|NU_ANO|TP_FAIXA_ETARIA|TP_SEXO|TP_ESTADO_CIVIL|TP_COR_RACA|TP_NACIONALIDADE|TP_ST_CONCLUSAO|TP_ANO_CONCLUIU|TP_ESCOLA|TP_ENSINO|IN_TREINEIRO|CO_MUNICIPIO_ESC|NO_MUNICIPIO_ESC|CO_UF_ESC|SG_UF_ESC|TP_DEPENDENCIA_ADM_ESC|TP_LOCALIZACAO_ESC|TP_SIT_FUNC_ESC|CO_MUNICIPIO_PROVA|NO_MUNICIPIO_PROVA|CO_UF_PROVA|SG_UF_PROVA|TP_PRESENCA_CN|TP_PRESENCA_CH|TP_PRESENCA_LC|TP_PRESENCA_MT|CO_PROVA_CN|CO_PROVA_CH|CO_PROVA_LC|CO_PROVA_MT|NU_NOTA_CN|NU_NOTA_CH|NU_NOTA_LC|NU_NOTA_MT|     TX_RESPOSTAS_CN|     TX_RESPOSTAS_CH|     TX_RESPOSTAS_LC|     TX_RESPOSTAS_MT|TP_LINGUA|      TX_GABARITO_CN|      TX_GABARITO_CH|      TX_GABARITO_LC|      TX_GABARITO_MT|TP_STATUS_REDACAO|NU_NOTA_COMP1|NU_NOTA_COMP2|NU_NOTA_COMP3|NU_NOTA_COMP4|NU_NOTA_COMP5|NU_NOTA_REDACAO|Q001|Q002|Q003|Q004|Q005|Q006|Q007|Q008|Q009|Q010|Q011|Q012|Q013|Q014|Q015|Q016|Q017|Q018|Q019|Q020|Q021|Q022|Q023|Q024|Q025|\n",
            "+------------+------+---------------+-------+---------------+-----------+----------------+---------------+---------------+---------+---------+------------+----------------+----------------+---------+---------+----------------------+------------------+---------------+------------------+------------------+-----------+-----------+--------------+--------------+--------------+--------------+-----------+-----------+-----------+-----------+----------+----------+----------+----------+--------------------+--------------------+--------------------+--------------------+---------+--------------------+--------------------+--------------------+--------------------+-----------------+-------------+-------------+-------------+-------------+-------------+---------------+----+----+----+----+----+----+----+----+----+----+----+----+----+----+----+----+----+----+----+----+----+----+----+----+----+\n",
            "|190001595656|  2019|             13|      M|              1|          3|               1|              1|             11|        1|     NULL|           0|            NULL|            NULL|     NULL|     NULL|                  NULL|              NULL|           NULL|           3552205|          Sorocaba|         35|         SP|             0|             0|             0|             0|       NULL|       NULL|       NULL|       NULL|      NULL|      NULL|      NULL|      NULL|                NULL|                NULL|                NULL|                NULL|        0|                NULL|                NULL|                NULL|                NULL|             NULL|         NULL|         NULL|         NULL|         NULL|         NULL|           NULL|   B|   B|   A|   A|   2|   A|   A|   B|   C|   A|   A|   B|   A|   A|   A|   A|   A|   A|   A|   A|   A|   C|   A|   C|   B|\n",
            "|190001421546|  2019|              8|      M|              1|          1|               1|              1|              5|        1|        1|           0|            NULL|            NULL|     NULL|     NULL|                  NULL|              NULL|           NULL|           2910800|  Feira de Santana|         29|         BA|             0|             0|             0|             0|       NULL|       NULL|       NULL|       NULL|      NULL|      NULL|      NULL|      NULL|                NULL|                NULL|                NULL|                NULL|        0|                NULL|                NULL|                NULL|                NULL|             NULL|         NULL|         NULL|         NULL|         NULL|         NULL|           NULL|   C|   E|   B|   B|   4|   C|   A|   B|   C|   A|   A|   B|   A|   A|   A|   A|   A|   A|   B|   A|   A|   E|   A|   A|   B|\n",
            "|190001133210|  2019|             13|      F|              1|          3|               1|              1|             13|        1|        1|           0|            NULL|            NULL|     NULL|     NULL|                  NULL|              NULL|           NULL|           2304400|         Fortaleza|         23|         CE|             0|             0|             0|             0|       NULL|       NULL|       NULL|       NULL|      NULL|      NULL|      NULL|      NULL|                NULL|                NULL|                NULL|                NULL|        1|                NULL|                NULL|                NULL|                NULL|             NULL|         NULL|         NULL|         NULL|         NULL|         NULL|           NULL|   E|   E|   B|   C|   2|   B|   A|   B|   B|   A|   A|   B|   A|   A|   A|   A|   A|   A|   B|   A|   A|   C|   A|   A|   B|\n",
            "|190001199383|  2019|             10|      F|              1|          1|               1|              1|              4|        1|     NULL|           0|            NULL|            NULL|     NULL|     NULL|                  NULL|              NULL|           NULL|           1721000|            Palmas|         17|         TO|             1|             1|             1|             1|        504|        510|        513|        516|     483.8|     503.6|     537.3|     392.0|BACCEEBEECDBEDDAE...|AECEDADAABAADBAAD...|99999AAABEBBCCBDC...|DDBBBBCDCCDCAECCB...|        1|BEEAAEBEEBADEADDA...|EEBCEEDBADBBCBABC...|ADBBEDCABAABBCBCD...|BEDEEEAADBEBACABC...|                1|          120|          120|          120|          100|            0|            460|   C|   E|   B|   D|   4|   E|   A|   C|   C|   A|   B|   B|   A|   B|   A|   A|   A|   A|   C|   A|   B|   D|   A|   B|   B|\n",
            "|190001237802|  2019|              7|      F|              1|          1|               1|              1|              4|        1|        1|           0|            NULL|            NULL|     NULL|     NULL|                  NULL|              NULL|           NULL|           3118601|          Contagem|         31|         MG|             1|             1|             1|             1|        504|        510|        513|        516|     513.6|     575.5|     570.7|     677.0|EEBEDEEEEEBDCEEBE...|EEDCCEDDBCBEABAAA...|ABBBE99999ABBCACC...|CDEEEEEAEECBABABC...|        0|BEEAAEBEEBADEADDA...|EEBCEEDBADBBCBABC...|ADBBEDCABAABBCBCD...|BEDEEEAADBEBACABC...|                1|          160|          120|          180|          200|          200|            860|   E|   E|   C|   C|   3|   G|   A|   C|   D|   B|   A|   B|   B|   B|   A|   B|   A|   A|   B|   A|   A|   C|   B|   B|   B|\n",
            "|190001782198|  2019|             13|      M|              2|          2|               1|              1|             13|        1|     NULL|           0|            NULL|            NULL|     NULL|     NULL|                  NULL|              NULL|           NULL|           5107602|      Rondon�polis|         51|         MT|             1|             1|             1|             1|        505|        508|        512|        518|     563.7|     644.9|     564.2|     675.3|DCDBDEDCDDBCBEADB...|ABABADBECAEEBCBBD...|BBDDA99999ABACBEC...|DDCBADCBCDEABEACE...|        0|DADCCEBBCCACBEEBE...|CBABADBBCEEEBCBAD...|BBEDABDACACBABAEC...|DBEBACABCDBABECEE...|                1|          160|          200|          180|          180|           80|            800|   B|   B|   C|   B|   7|   E|   A|   B|   D|   A|   C|   B|   A|   B|   A|   B|   A|   A|   B|   A|   A|   E|   A|   B|   B|\n",
            "|190001421548|  2019|              7|      F|              1|          3|               1|              1|              5|        1|        1|           0|            NULL|            NULL|     NULL|     NULL|                  NULL|              NULL|           NULL|           2924009|      Paulo Afonso|         29|         BA|             1|             1|             1|             1|        505|        508|        512|        518|     484.6|     488.4|     507.2|     594.7|BADEBCACADECAEAAA...|AAAECDAACDAEDCDBD...|99999BEDAACECEACD...|ACBBAECECDBDDDCED...|        1|DADCCEBBCCACBEEBE...|CBABADBBCEEEBCBAD...|BBEDABDACACBABAEC...|DBEBACABCDBABECEE...|                1|          140|          120|          120|          160|           60|            600|   E|   B|   C|   B|   3|   B|   A|   B|   B|   A|   A|   B|   A|   A|   A|   A|   A|   A|   B|   A|   A|   B|   A|   A|   A|\n",
            "|190001595657|  2019|              5|      M|              1|          3|               1|              1|              1|        1|     NULL|           0|            NULL|            NULL|     NULL|     NULL|                  NULL|              NULL|           NULL|           3550308|         S�o Paulo|         35|         SP|             0|             0|             0|             0|       NULL|       NULL|       NULL|       NULL|      NULL|      NULL|      NULL|      NULL|                NULL|                NULL|                NULL|                NULL|        0|                NULL|                NULL|                NULL|                NULL|             NULL|         NULL|         NULL|         NULL|         NULL|         NULL|           NULL|   E|   B|   B|   B|   2|   D|   A|   B|   C|   A|   A|   B|   B|   B|   A|   B|   A|   A|   B|   A|   A|   C|   A|   A|   B|\n",
            "|190001592264|  2019|              5|      F|              1|          1|               1|              1|              1|        1|        1|           0|            NULL|            NULL|     NULL|     NULL|                  NULL|              NULL|           NULL|           3550308|         S�o Paulo|         35|         SP|             0|             0|             0|             0|       NULL|       NULL|       NULL|       NULL|      NULL|      NULL|      NULL|      NULL|                NULL|                NULL|                NULL|                NULL|        0|                NULL|                NULL|                NULL|                NULL|             NULL|         NULL|         NULL|         NULL|         NULL|         NULL|           NULL|   B|   C|   C|   F|   6|   C|   A|   B|   C|   A|   A|   B|   B|   A|   A|   B|   A|   A|   B|   A|   A|   B|   B|   A|   A|\n",
            "|190001592266|  2019|              2|      M|              1|          1|               1|              2|              0|        2|        1|           0|            NULL|            NULL|     NULL|     NULL|                  NULL|              NULL|           NULL|           3550308|         S�o Paulo|         35|         SP|             1|             1|             1|             1|        505|        509|        514|        518|     543.9|     548.1|     502.5|     480.7|BADADDBADBBECEBBC...|CDACAEDDABABADCEB...|EBBBC99999BCDBEBE...|DACCDBCBBDDDCCAEC...|        0|DADCCEBBCCACBEEBE...|ACACEEBCCBABADBBB...|EBBADCABDABACBCEB...|DBEBACABCDBABECEE...|                1|          120|           40|          120|          120|            0|            400|   E|   E|   B|   B|   5|   F|   A|   B|   C|   B|   A|   B|   B|   B|   A|   B|   A|   A|   B|   A|   B|   C|   B|   B|   B|\n",
            "|190001592265|  2019|              6|      F|              1|          1|               1|              1|              4|        1|        1|           0|            NULL|            NULL|     NULL|     NULL|                  NULL|              NULL|           NULL|           3530607|   Mogi das Cruzes|         35|         SP|             0|             0|             0|             0|       NULL|       NULL|       NULL|       NULL|      NULL|      NULL|      NULL|      NULL|                NULL|                NULL|                NULL|                NULL|        0|                NULL|                NULL|                NULL|                NULL|             NULL|         NULL|         NULL|         NULL|         NULL|         NULL|           NULL|   D|   D|   C|   B|   2|   C|   A|   B|   B|   A|   A|   B|   B|   B|   B|   B|   A|   B|   C|   A|   B|   C|   A|   A|   B|\n",
            "|190001475147|  2019|              4|      M|              1|          4|               1|              1|              1|        1|        1|           0|            NULL|            NULL|     NULL|     NULL|                  NULL|              NULL|           NULL|           2407104|           Maca�ba|         24|         RN|             1|             1|             1|             1|        505|        507|        511|        518|     518.2|     351.7|     417.6|     459.0|DADBBCDBACBDACCEB...|DCEABDAECBADBCADB...|99999EECABDCABEAA...|DEACBEBBCBECDAEEB...|        1|DADCCEBBCCACBEEBE...|BACCCBABBADCBCEEE...|BDABEABCADBCBAADD...|DBEBACABCDBABECEE...|                1|          120|          120|          120|          120|           20|            500|   B|   C|   C|   A|   4|   C|   A|   C|   D|   A|   A|   B|   B|   A|   A|   B|   A|   A|   B|   B|   A|   D|   A|   B|   B|\n",
            "|190001867756|  2019|              8|      F|              2|          1|               1|              1|              6|        1|        1|           0|            NULL|            NULL|     NULL|     NULL|                  NULL|              NULL|           NULL|           4101804|         Arauc�ria|         41|         PR|             1|             1|             1|             1|        506|        510|        513|        517|     373.8|     393.6|     451.0|     484.7|BADCACDEDADAACEAD...|CBABECBCBBDEACABA...|99999BDDDCBBABECA...|AADCDCCAEDAEBCECA...|        1|DEADBAAAEBEECEBCB...|EEBCEEDBADBBCBABC...|ADBBEDCABAABBCBCD...|AADDDBEEEBEDDBEBA...|                1|          120|           40|           40|          100|            0|            300|   D|   B|   F|   B|   3|   C|   A|   B|   C|   B|   B|   B|   A|   A|   A|   A|   A|   A|   B|   A|   A|   B|   A|   A|   A|\n",
            "|190001133211|  2019|              6|      F|              1|          1|               1|              1|              1|        1|        1|           0|            NULL|            NULL|     NULL|     NULL|                  NULL|              NULL|           NULL|           2304400|         Fortaleza|         23|         CE|             1|             1|             1|             1|        505|        510|        513|        518|     458.9|     441.6|     413.0|     399.0|AAABBD*BBBCCDAECB...|CDDEDBDABABAAAABD...|99999AADCBCEDDAAA...|BDDCBACAEDEDBBECB...|        1|DADCCEBBCCACBEEBE...|EEBCEEDBADBBCBABC...|ADBBEDCABAABBCBCD...|DBEBACABCDBABECEE...|                1|           80|           40|           40|           80|            0|            240|   E|   E|   E|   B|   4|   D|   A|   B|   C|   A|   A|   B|   A|   A|   A|   A|   A|   A|   B|   A|   A|   C|   A|   A|   A|\n",
            "|190001237803|  2019|             11|      F|              1|          2|               1|              2|              0|        2|        2|           0|         3170206|      Uberl�ndia|       31|       MG|                     2|                 1|              1|           3170206|        Uberl�ndia|         31|         MG|             0|             0|             0|             0|       NULL|       NULL|       NULL|       NULL|      NULL|      NULL|      NULL|      NULL|                NULL|                NULL|                NULL|                NULL|        1|                NULL|                NULL|                NULL|                NULL|             NULL|         NULL|         NULL|         NULL|         NULL|         NULL|           NULL|   E|   E|   C|   C|   4|   B|   A|   B|   B|   A|   A|   B|   A|   B|   A|   A|   A|   A|   B|   A|   A|   B|   A|   A|   A|\n",
            "|190001493186|  2019|              4|      M|              1|          2|               1|              1|              1|        1|        1|           0|            NULL|            NULL|     NULL|     NULL|                  NULL|              NULL|           NULL|           2611606|            Recife|         26|         PE|             0|             0|             0|             0|       NULL|       NULL|       NULL|       NULL|      NULL|      NULL|      NULL|      NULL|                NULL|                NULL|                NULL|                NULL|        1|                NULL|                NULL|                NULL|                NULL|             NULL|         NULL|         NULL|         NULL|         NULL|         NULL|           NULL|   D|   B|   C|   F|   4|   B|   A|   B|   C|   A|   A|   B|   A|   B|   A|   B|   A|   A|   B|   A|   A|   C|   B|   A|   B|\n",
            "|190001421547|  2019|              4|      M|              1|          3|               1|              3|              0|        1|     NULL|           1|            NULL|            NULL|     NULL|     NULL|                  NULL|              NULL|           NULL|           2911709|          Guanambi|         29|         BA|             1|             1|             1|             1|        506|        509|        514|        517|     390.1|     453.0|     515.2|     461.5|DCCBDDDBABBDBCADA...|BBABCBBBABBAABBAA...|ABBBB99999BAABCCC...|DCDDCCECDDDBDDDDD...|        0|DEADBAAAEBEECEBCB...|ACACEEBCCBABADBBB...|EBBADCABDABACBCEB...|AADDDBEEEBEDDBEBA...|                1|          100|          120|          100|          140|           60|            520|   C|   C|   A|   A|   4|   C|   A|   B|   D|   A|   A|   B|   A|   A|   A|   A|   A|   A|   B|   A|   A|   B|   A|   A|   A|\n",
            "|190001493187|  2019|              6|      F|              1|          3|               1|              1|              4|        1|        1|           0|            NULL|            NULL|     NULL|     NULL|                  NULL|              NULL|           NULL|           2611606|            Recife|         26|         PE|             0|             0|             0|             0|       NULL|       NULL|       NULL|       NULL|      NULL|      NULL|      NULL|      NULL|                NULL|                NULL|                NULL|                NULL|        1|                NULL|                NULL|                NULL|                NULL|             NULL|         NULL|         NULL|         NULL|         NULL|         NULL|           NULL|   D|   C|   B|   B|   3|   B|   A|   B|   C|   A|   A|   B|   A|   B|   A|   B|   A|   A|   B|   A|   A|   C|   A|   A|   B|\n",
            "|190001210202|  2019|              4|      F|              1|          3|               1|              1|              2|        1|        1|           0|            NULL|            NULL|     NULL|     NULL|                  NULL|              NULL|           NULL|           2105401|   Itapecuru Mirim|         21|         MA|             1|             1|             1|             1|        505|        508|        512|        518|     415.7|     379.2|     470.2|     375.1|AECCCACEDDDAEDCAB...|BACABBAECECBACBBC...|AADED99999CDCBABE...|CADCBDBBEAECBDBED...|        0|DADCCEBBCCACBEEBE...|CBABADBBCEEEBCBAD...|BBEDABDACACBABAEC...|DBEBACABCDBABECEE...|                1|          140|          120|          140|          120|           40|            560|   C|   E|   A|   A|   5|   B|   A|   B|   D|   A|   B|   B|   A|   A|   A|   A|   A|   A|   B|   A|   A|   B|   A|   A|   A|\n",
            "|190001421549|  2019|             11|      F|              2|          3|               1|              1|              2|        1|     NULL|           0|            NULL|            NULL|     NULL|     NULL|                  NULL|              NULL|           NULL|           2927408|          Salvador|         29|         BA|             1|             1|             1|             1|        503|        508|        512|        515|     461.9|     585.0|     552.1|     437.3|CEEEECCCDBBEADBCD...|EBCBADADBCAEDCAAD...|99999EDDAACBABAEE...|DCBEAACCABABDAEBC...|        1|AAECACDEADCBCDDDB...|CBABADBBCEEEBCBAD...|BBEDABDACACBABAEC...|EEEADBEBACABCDBAB...|                1|          140|          120|          140|          120|          140|            660|   B|   B|   A|   B|   4|   G|   A|   B|   C|   B|   A|   B|   A|   A|   A|   A|   A|   A|   B|   A|   A|   C|   B|   B|   B|\n",
            "+------------+------+---------------+-------+---------------+-----------+----------------+---------------+---------------+---------+---------+------------+----------------+----------------+---------+---------+----------------------+------------------+---------------+------------------+------------------+-----------+-----------+--------------+--------------+--------------+--------------+-----------+-----------+-----------+-----------+----------+----------+----------+----------+--------------------+--------------------+--------------------+--------------------+---------+--------------------+--------------------+--------------------+--------------------+-----------------+-------------+-------------+-------------+-------------+-------------+---------------+----+----+----+----+----+----+----+----+----+----+----+----+----+----+----+----+----+----+----+----+----+----+----+----+----+\n",
            "only showing top 20 rows\n",
            "\n"
          ]
        }
      ],
      "source": [
        "enem_2019.show()"
      ]
    },
    {
      "cell_type": "code",
      "execution_count": 97,
      "metadata": {
        "colab": {
          "base_uri": "https://localhost:8080/"
        },
        "id": "vKjXC2_SfClX",
        "outputId": "4eef1349-c6c5-49a5-cf1c-3f22a81022c6"
      },
      "outputs": [
        {
          "output_type": "execute_result",
          "data": {
            "text/plain": [
              "5095171"
            ]
          },
          "metadata": {},
          "execution_count": 97
        }
      ],
      "source": [
        "enem_2019.count()"
      ]
    },
    {
      "cell_type": "code",
      "execution_count": 98,
      "metadata": {
        "colab": {
          "base_uri": "https://localhost:8080/"
        },
        "id": "QHk-OpZ2gInj",
        "outputId": "ed7b42e3-5453-4e63-c1ba-bd3a6b5e7dee"
      },
      "outputs": [
        {
          "output_type": "stream",
          "name": "stdout",
          "text": [
            "root\n",
            " |-- NU_INSCRICAO: long (nullable = true)\n",
            " |-- NU_ANO: integer (nullable = true)\n",
            " |-- TP_FAIXA_ETARIA: integer (nullable = true)\n",
            " |-- TP_SEXO: string (nullable = true)\n",
            " |-- TP_ESTADO_CIVIL: integer (nullable = true)\n",
            " |-- TP_COR_RACA: integer (nullable = true)\n",
            " |-- TP_NACIONALIDADE: integer (nullable = true)\n",
            " |-- TP_ST_CONCLUSAO: integer (nullable = true)\n",
            " |-- TP_ANO_CONCLUIU: integer (nullable = true)\n",
            " |-- TP_ESCOLA: integer (nullable = true)\n",
            " |-- TP_ENSINO: integer (nullable = true)\n",
            " |-- IN_TREINEIRO: integer (nullable = true)\n",
            " |-- CO_MUNICIPIO_ESC: integer (nullable = true)\n",
            " |-- NO_MUNICIPIO_ESC: string (nullable = true)\n",
            " |-- CO_UF_ESC: integer (nullable = true)\n",
            " |-- SG_UF_ESC: string (nullable = true)\n",
            " |-- TP_DEPENDENCIA_ADM_ESC: integer (nullable = true)\n",
            " |-- TP_LOCALIZACAO_ESC: integer (nullable = true)\n",
            " |-- TP_SIT_FUNC_ESC: integer (nullable = true)\n",
            " |-- CO_MUNICIPIO_PROVA: integer (nullable = true)\n",
            " |-- NO_MUNICIPIO_PROVA: string (nullable = true)\n",
            " |-- CO_UF_PROVA: integer (nullable = true)\n",
            " |-- SG_UF_PROVA: string (nullable = true)\n",
            " |-- TP_PRESENCA_CN: integer (nullable = true)\n",
            " |-- TP_PRESENCA_CH: integer (nullable = true)\n",
            " |-- TP_PRESENCA_LC: integer (nullable = true)\n",
            " |-- TP_PRESENCA_MT: integer (nullable = true)\n",
            " |-- CO_PROVA_CN: integer (nullable = true)\n",
            " |-- CO_PROVA_CH: integer (nullable = true)\n",
            " |-- CO_PROVA_LC: integer (nullable = true)\n",
            " |-- CO_PROVA_MT: integer (nullable = true)\n",
            " |-- NU_NOTA_CN: double (nullable = true)\n",
            " |-- NU_NOTA_CH: double (nullable = true)\n",
            " |-- NU_NOTA_LC: double (nullable = true)\n",
            " |-- NU_NOTA_MT: double (nullable = true)\n",
            " |-- TX_RESPOSTAS_CN: string (nullable = true)\n",
            " |-- TX_RESPOSTAS_CH: string (nullable = true)\n",
            " |-- TX_RESPOSTAS_LC: string (nullable = true)\n",
            " |-- TX_RESPOSTAS_MT: string (nullable = true)\n",
            " |-- TP_LINGUA: integer (nullable = true)\n",
            " |-- TX_GABARITO_CN: string (nullable = true)\n",
            " |-- TX_GABARITO_CH: string (nullable = true)\n",
            " |-- TX_GABARITO_LC: string (nullable = true)\n",
            " |-- TX_GABARITO_MT: string (nullable = true)\n",
            " |-- TP_STATUS_REDACAO: integer (nullable = true)\n",
            " |-- NU_NOTA_COMP1: integer (nullable = true)\n",
            " |-- NU_NOTA_COMP2: integer (nullable = true)\n",
            " |-- NU_NOTA_COMP3: integer (nullable = true)\n",
            " |-- NU_NOTA_COMP4: integer (nullable = true)\n",
            " |-- NU_NOTA_COMP5: integer (nullable = true)\n",
            " |-- NU_NOTA_REDACAO: integer (nullable = true)\n",
            " |-- Q001: string (nullable = true)\n",
            " |-- Q002: string (nullable = true)\n",
            " |-- Q003: string (nullable = true)\n",
            " |-- Q004: string (nullable = true)\n",
            " |-- Q005: integer (nullable = true)\n",
            " |-- Q006: string (nullable = true)\n",
            " |-- Q007: string (nullable = true)\n",
            " |-- Q008: string (nullable = true)\n",
            " |-- Q009: string (nullable = true)\n",
            " |-- Q010: string (nullable = true)\n",
            " |-- Q011: string (nullable = true)\n",
            " |-- Q012: string (nullable = true)\n",
            " |-- Q013: string (nullable = true)\n",
            " |-- Q014: string (nullable = true)\n",
            " |-- Q015: string (nullable = true)\n",
            " |-- Q016: string (nullable = true)\n",
            " |-- Q017: string (nullable = true)\n",
            " |-- Q018: string (nullable = true)\n",
            " |-- Q019: string (nullable = true)\n",
            " |-- Q020: string (nullable = true)\n",
            " |-- Q021: string (nullable = true)\n",
            " |-- Q022: string (nullable = true)\n",
            " |-- Q023: string (nullable = true)\n",
            " |-- Q024: string (nullable = true)\n",
            " |-- Q025: string (nullable = true)\n",
            "\n"
          ]
        }
      ],
      "source": [
        "enem_2019.printSchema()"
      ]
    },
    {
      "cell_type": "code",
      "execution_count": 99,
      "metadata": {
        "colab": {
          "base_uri": "https://localhost:8080/"
        },
        "id": "2zo-VM_Agbph",
        "outputId": "5c3fe33a-7edf-44be-e9e6-e2e9ab60b267"
      },
      "outputs": [
        {
          "output_type": "stream",
          "name": "stdout",
          "text": [
            "+------------+------+---------------+-------+---------------+-----------+----------------+---------------+---------------+---------+---------+------------+----------------+--------------------+---------+---------+----------------------+------------------+---------------+------------------+--------------------+-----------+-----------+--------------+--------------+--------------+--------------+-----------+-----------+-----------+-----------+----------+----------+----------+----------+--------------------+--------------------+--------------------+--------------------+---------+--------------------+--------------------+--------------------+--------------------+-----------------+-------------+-------------+-------------+-------------+-------------+---------------+----+----+----+----+----+----+----+----+----+----+----+----+----+----+----+----+----+----+----+----+----+----+----+----+----+\n",
            "|NU_INSCRICAO|NU_ANO|TP_FAIXA_ETARIA|TP_SEXO|TP_ESTADO_CIVIL|TP_COR_RACA|TP_NACIONALIDADE|TP_ST_CONCLUSAO|TP_ANO_CONCLUIU|TP_ESCOLA|TP_ENSINO|IN_TREINEIRO|CO_MUNICIPIO_ESC|    NO_MUNICIPIO_ESC|CO_UF_ESC|SG_UF_ESC|TP_DEPENDENCIA_ADM_ESC|TP_LOCALIZACAO_ESC|TP_SIT_FUNC_ESC|CO_MUNICIPIO_PROVA|  NO_MUNICIPIO_PROVA|CO_UF_PROVA|SG_UF_PROVA|TP_PRESENCA_CN|TP_PRESENCA_CH|TP_PRESENCA_LC|TP_PRESENCA_MT|CO_PROVA_CN|CO_PROVA_CH|CO_PROVA_LC|CO_PROVA_MT|NU_NOTA_CN|NU_NOTA_CH|NU_NOTA_LC|NU_NOTA_MT|     TX_RESPOSTAS_CN|     TX_RESPOSTAS_CH|     TX_RESPOSTAS_LC|     TX_RESPOSTAS_MT|TP_LINGUA|      TX_GABARITO_CN|      TX_GABARITO_CH|      TX_GABARITO_LC|      TX_GABARITO_MT|TP_STATUS_REDACAO|NU_NOTA_COMP1|NU_NOTA_COMP2|NU_NOTA_COMP3|NU_NOTA_COMP4|NU_NOTA_COMP5|NU_NOTA_REDACAO|Q001|Q002|Q003|Q004|Q005|Q006|Q007|Q008|Q009|Q010|Q011|Q012|Q013|Q014|Q015|Q016|Q017|Q018|Q019|Q020|Q021|Q022|Q023|Q024|Q025|\n",
            "+------------+------+---------------+-------+---------------+-----------+----------------+---------------+---------------+---------+---------+------------+----------------+--------------------+---------+---------+----------------------+------------------+---------------+------------------+--------------------+-----------+-----------+--------------+--------------+--------------+--------------+-----------+-----------+-----------+-----------+----------+----------+----------+----------+--------------------+--------------------+--------------------+--------------------+---------+--------------------+--------------------+--------------------+--------------------+-----------------+-------------+-------------+-------------+-------------+-------------+---------------+----+----+----+----+----+----+----+----+----+----+----+----+----+----+----+----+----+----+----+----+----+----+----+----+----+\n",
            "|190001592266|  2019|              2|      M|              1|          1|               1|              2|              0|        2|        1|           0|            NULL|                NULL|     NULL|     NULL|                  NULL|              NULL|           NULL|           3550308|           S�o Paulo|         35|         SP|             1|             1|             1|             1|        505|        509|        514|        518|     543.9|     548.1|     502.5|     480.7|BADADDBADBBECEBBC...|CDACAEDDABABADCEB...|EBBBC99999BCDBEBE...|DACCDBCBBDDDCCAEC...|        0|DADCCEBBCCACBEEBE...|ACACEEBCCBABADBBB...|EBBADCABDABACBCEB...|DBEBACABCDBABECEE...|                1|          120|           40|          120|          120|            0|            400|   E|   E|   B|   B|   5|   F|   A|   B|   C|   B|   A|   B|   B|   B|   A|   B|   A|   A|   B|   A|   B|   C|   B|   B|   B|\n",
            "|190001421547|  2019|              4|      M|              1|          3|               1|              3|              0|        1|     NULL|           1|            NULL|                NULL|     NULL|     NULL|                  NULL|              NULL|           NULL|           2911709|            Guanambi|         29|         BA|             1|             1|             1|             1|        506|        509|        514|        517|     390.1|     453.0|     515.2|     461.5|DCCBDDDBABBDBCADA...|BBABCBBBABBAABBAA...|ABBBB99999BAABCCC...|DCDDCCECDDDBDDDDD...|        0|DEADBAAAEBEECEBCB...|ACACEEBCCBABADBBB...|EBBADCABDABACBCEB...|AADDDBEEEBEDDBEBA...|                1|          100|          120|          100|          140|           60|            520|   C|   C|   A|   A|   4|   C|   A|   B|   D|   A|   A|   B|   A|   A|   A|   A|   A|   A|   B|   A|   A|   B|   A|   A|   A|\n",
            "|190001867757|  2019|              2|      F|              1|          1|               1|              2|              0|        3|        1|           0|         4101408|           Apucarana|       41|       PR|                     4|                 1|              1|           4101408|           Apucarana|         41|         PR|             1|             1|             1|             1|        504|        509|        514|        516|     618.2|     744.7|     636.3|     713.7|BACACEDDEBCDEADAA...|ACACEEBCCBABADABE...|EBBAD99999BAEBADB...|BEBEAEAADAABABAAB...|        0|BEEAAEBEEBADEADDA...|ACACEEBCCBABADBBB...|EBBADCABDABACBCEB...|BEDEEEAADBEBACABC...|                1|          160|          200|          200|          180|          160|            900|   E|   E|   B|   B|   2|   E|   A|   B|   C|   B|   A|   B|   B|   B|   A|   B|   A|   B|   B|   B|   A|   C|   B|   B|   B|\n",
            "|190001692704|  2019|              3|      F|              1|          1|               1|              2|              0|        2|        1|           0|         4300604|            Alvorada|       43|       RS|                     2|                 1|              1|           4300604|            Alvorada|         43|         RS|             1|             1|             1|             1|        506|        507|        511|        517|     430.4|     466.8|     515.9|     394.1|BCDCAEDBABECDDCBE...|EEAEDEBCEBDDBCAAA...|99999CDDBDCABBBDA...|DBABCCBCDBAEEDDCB...|        1|DEADBAAAEBEECEBCB...|BACCCBABBADCBCEEE...|BDABEABCADBCBAADD...|AADDDBEEEBEDDBEBA...|                1|          160|          140|          120|          120|           40|            580|   E|   B|   B|   B|   3|   A|   A|   B|   D|   A|   A|   B|   B|   B|   A|   A|   A|   A|   B|   B|   A|   D|   A|   B|   A|\n",
            "|190001595660|  2019|              2|      F|              1|          2|               1|              2|              0|        2|        1|           0|         3530607|     Mogi das Cruzes|       35|       SP|                     2|                 1|              1|           3523107|     Itaquaquecetuba|         35|         SP|             1|             1|             1|             1|        505|        509|        514|        518|     371.8|     501.4|     518.6|     442.0|ABACBDDDBBEECEACB...|AEABAECCDAAEADAAD...|99999.....DBCDCDE...|ACACAEBBBBDABDCCD...|        1|DADCCEBBCCACBEEBE...|ACACEEBCCBABADBBB...|EBBADCABDABACBCEB...|DBEBACABCDBABECEE...|                1|          140|          120|          120|          140|          140|            660|   E|   F|   B|   D|   3|   B|   A|   B|   C|   A|   A|   B|   B|   A|   A|   A|   A|   A|   A|   A|   A|   D|   A|   A|   B|\n",
            "|190001421552|  2019|              2|      M|              1|          2|               1|              2|              0|        2|        1|           0|         2919207|    Lauro de Freitas|       29|       BA|                     2|                 1|              1|           2919207|    Lauro de Freitas|         29|         BA|             1|             1|             1|             1|        506|        510|        513|        517|     567.3|     584.1|     595.8|     704.5|BEDCCDDCEABBBDBDA...|AEECBEABADAEABAAE...|ADBBC99999ABBCBCD...|AABDCBBEECBDDCEBA...|        0|DEADBAAAEBEECEBCB...|EEBCEEDBADBBCBABC...|ADBBEDCABAABBCBCD...|AADDDBEEEBEDDBEBA...|                1|          140|          120|          140|          120|          100|            620|   E|   C|   B|   B|   2|   B|   A|   B|   C|   A|   A|   B|   B|   A|   A|   A|   A|   A|   B|   A|   A|   C|   A|   A|   B|\n",
            "|190001421555|  2019|              4|      M|              1|          3|               1|              3|              0|        1|     NULL|           1|            NULL|                NULL|     NULL|     NULL|                  NULL|              NULL|           NULL|           2900702|          Alagoinhas|         29|         BA|             1|             1|             1|             1|        503|        508|        512|        515|     421.1|     469.9|     435.6|     527.4|CEEDBCD*E*BACECDD...|ABACBCBADEACDDDBA...|99999BBAEDCBDDCBA...|EDBBBEBCADEBDDEEC...|        1|AAECACDEADCBCDDDB...|CBABADBBCEEEBCBAD...|BBEDABDACACBABAEC...|EEEADBEBACABCDBAB...|                4|            0|            0|            0|            0|            0|              0|   E|   E|   B|   B|   5|   B|   A|   B|   C|   A|   A|   B|   A|   A|   A|   A|   A|   A|   B|   A|   A|   B|   A|   A|   A|\n",
            "|190001421558|  2019|              1|      F|              1|          3|               1|              3|              0|        1|     NULL|           1|            NULL|                NULL|     NULL|     NULL|                  NULL|              NULL|           NULL|           2910800|    Feira de Santana|         29|         BA|             0|             0|             0|             0|       NULL|       NULL|       NULL|       NULL|      NULL|      NULL|      NULL|      NULL|                NULL|                NULL|                NULL|                NULL|        0|                NULL|                NULL|                NULL|                NULL|             NULL|         NULL|         NULL|         NULL|         NULL|         NULL|           NULL|   B|   E|   C|   B|   3|   B|   A|   B|   B|   A|   A|   B|   A|   A|   A|   A|   A|   A|   B|   B|   A|   B|   A|   B|   B|\n",
            "|190001480443|  2019|              3|      M|              2|          3|               4|              2|              0|        2|        1|           0|         2513703|          Santa Rita|       25|       PB|                     2|                 1|              1|           2513703|          Santa Rita|         25|         PB|             1|             1|             1|             1|        503|        509|        514|        515|     373.2|     409.6|     469.5|     379.1|BECAABDACDDBAEDCE...|CEBEABADEACABCBDE...|CBBDB99999BBEBEAE...|DEEDADDCBEADCEEBA...|        0|AAECACDEADCBCDDDB...|ACACEEBCCBABADBBB...|EBBADCABDABACBCEB...|EEEADBEBACABCDBAB...|                1|          120|          120|          120|          120|            0|            480|   D|   E|   C|   B|   4|   C|   A|   B|   C|   A|   B|   B|   A|   B|   A|   B|   A|   A|   C|   B|   A|   E|   A|   A|   B|\n",
            "|190001082475|  2019|              2|      F|              1|          3|               1|              2|              0|        2|        1|           0|         1302603|              Manaus|       13|       AM|                     2|                 1|              1|           1302603|              Manaus|         13|         AM|             1|             1|             1|             1|        504|        507|        511|        516|     385.8|     436.3|     393.8|     370.0|DAEDDCAEBACBBCBBD...|DDBAAAEAABECDABAE...|99999BBDDCCBDBEEA...|AAAEDBCECABCBABAA...|        1|BEEAAEBEEBADEADDA...|BACCCBABBADCBCEEE...|BDABEABCADBCBAADD...|BEDEEEAADBEBACABC...|                1|          100|           40|           40|           80|            0|            260|   H|   H|   F|   C|   4|   B|   A|   B|   B|   A|   A|   B|   A|   B|   A|   A|   A|   A|   B|   A|   A|   C|   B|   B|   B|\n",
            "|190002037440|  2019|              2|      M|              1|          3|               1|              2|              0|        2|        1|           0|         5300108|            Bras�lia|       53|       DF|                     2|                 1|              1|           5300108|            Bras�lia|         53|         DF|             1|             1|             1|             1|        506|        507|        511|        517|     389.7|     431.1|     482.0|     529.7|DCCADBEBDAAABBBDD...|BBADBCAABBCCECCCB...|DBBDA99999CCBECBD...|CBDCDCBBCBEADCAAA...|        0|DEADBAAAEBEECEBCB...|BACCCBABBADCBCEEE...|BDABEABCADBCBAADD...|AADDDBEEEBEDDBEBA...|                1|          120|          120|          120|          120|           80|            560|   B|   E|   A|   B|   4|   B|   B|   B|   C|   B|   A|   B|   A|   B|   A|   B|   A|   A|   B|   B|   A|   D|   A|   A|   A|\n",
            "|190001121527|  2019|              2|      F|              3|          1|               1|              2|              0|        2|        1|           0|         2207702|            Parna�ba|       22|       PI|                     1|                 1|              1|           2207702|            Parna�ba|         22|         PI|             1|             1|             1|             1|        505|        507|        511|        518|     427.6|     548.8|     587.2|     699.3|DBECADBBDDAACBEDE...|CEBDABACDACDECEEE...|99999CBCADBEBEAED...|DBDBAEBACDBAEEDEC...|        1|DADCCEBBCCACBEEBE...|BACCCBABBADCBCEEE...|BDABEABCADBCBAADD...|DBEBACABCDBABECEE...|                1|          160|          180|          140|          140|          200|            820|   D|   C|   C|   B|   6|   G|   A|   B|   C|   B|   A|   B|   A|   A|   A|   A|   A|   A|   A|   A|   A|   B|   A|   A|   A|\n",
            "|190001042836|  2019|              2|      F|              1|          2|               1|              2|              0|        2|        1|           0|         1501402|               Bel�m|       15|       PA|                     2|                 1|              1|           1501402|               Bel�m|         15|         PA|             1|             1|             1|             1|        506|        507|        511|        517|     510.9|     585.4|     578.4|     605.2|DDADBECADAECBDABD...|AECDBBACABDCEDAEE...|99999AECADBABADBD...|AACABDECBEBCDCACA...|        1|DEADBAAAEBEECEBCB...|BACCCBABBADCBCEEE...|BDABEABCADBCBAADD...|AADDDBEEEBEDDBEBA...|                1|          160|          200|          160|          200|          160|            880|   E|   F|   D|   D|   3|   C|   A|   B|   C|   A|   A|   B|   B|   B|   A|   A|   A|   A|   B|   A|   B|   D|   B|   B|   B|\n",
            "|190001421560|  2019|              4|      M|              1|          3|               1|              2|              0|        2|        1|           0|         2929503|S�o Sebasti�o do ...|       29|       BA|                     2|                 1|              1|           2929503|S�o Sebasti�o do ...|         29|         BA|             1|             1|             1|             1|        504|        509|        514|        516|     361.2|     499.0|     403.5|     392.5|EAEADACABEBDDAEBB...|EDBCDBCCBAACAAABE...|99999CBEABACEBEBA...|DABADBEBCEBCCACEA...|        1|BEEAAEBEEBADEADDA...|ACACEEBCCBABADBBB...|EBBADCABDABACBCEB...|BEDEEEAADBEBACABC...|                1|          120|          120|          120|          120|           80|            560|   C|   B|   C|   D|   5|   B|   A|   B|   B|   A|   A|   B|   A|   A|   A|   A|   A|   A|   B|   A|   A|   C|   A|   A|   B|\n",
            "|190001121528|  2019|              2|      F|              1|          3|               1|              2|              0|        2|        1|           0|         2208403|            Piripiri|       22|       PI|                     2|                 1|              1|           2208403|            Piripiri|         22|         PI|             1|             1|             1|             1|        504|        508|        512|        516|     556.8|     487.0|     571.8|     578.5|CBCCEECBEBBDECDAC...|AAACDCAEBEEEABABD...|99999BDABACCABEEC...|CAEACDABCCCCABCDC...|        1|BEEAAEBEEBADEADDA...|CBABADBBCEEEBCBAD...|BBEDABDACACBABAEC...|BEDEEEAADBEBACABC...|                1|          140|          180|          160|          160|          160|            800|   B|   A|   A|   F|   7|   C|   A|   B|   D|   A|   B|   B|   A|   A|   A|   A|   A|   A|   B|   A|   A|   C|   A|   A|   A|\n",
            "|190001595672|  2019|              3|      M|              1|          1|               1|              2|              0|        2|        1|           0|         3503307|              Araras|       35|       SP|                     2|                 1|              1|           3503307|              Araras|         35|         SP|             1|             1|             1|             1|        506|        507|        511|        517|     537.0|     585.3|     590.1|     661.4|EECDABBBDDECDABEA...|BAECAACBDADCBBEAE...|BDABE99999BABEAED...|AABDCCEBEDABDCBDA...|        0|DEADBAAAEBEECEBCB...|BACCCBABBADCBCEEE...|BDABEABCADBCBAADD...|AADDDBEEEBEDDBEBA...|                1|          120|          120|          100|          120|           80|            540|   E|   E|   C|   F|   3|   C|   A|   B|   B|   A|   B|   B|   A|   B|   A|   B|   A|   A|   B|   A|   A|   C|   A|   B|   B|\n",
            "|190001867760|  2019|              3|      M|              1|          3|               1|              2|              0|        2|        1|           0|         4104303|        Campo Mour�o|       41|       PR|                     2|                 1|              1|           4104303|        Campo Mour�o|         41|         PR|             1|             1|             1|             1|        506|        509|        514|        517|     523.2|     469.3|     508.4|     679.4|ADCBBBACEACCEDCCB...|ACECCCDDAAAEAABEC...|99999ACADBBBCCCDE...|AABDACEBCBABDECBA...|        1|DEADBAAAEBEECEBCB...|ACACEEBCCBABADBBB...|EBBADCABDABACBCEB...|AADDDBEEEBEDDBEBA...|                1|          140|          160|          120|          120|          100|            640|   E|   E|   D|   D|   4|   D|   A|   C|   D|   B|   A|   B|   A|   B|   A|   A|   A|   A|   B|   A|   A|   D|   A|   A|   B|\n",
            "|190001595675|  2019|              2|      F|              1|          1|               1|              2|              0|        2|        1|           0|         3529005|             Mar�lia|       35|       SP|                     2|                 1|              1|           3529005|             Mar�lia|         35|         SP|             1|             1|             1|             1|        506|        508|        512|        517|     423.9|     500.4|     472.3|     503.9|BDCBDBDEDBECEDDBB...|DAACAADECCAECCABD...|DBCBA99999ACBBEEB...|BBABDCBCAAEAEECCA...|        0|DEADBAAAEBEECEBCB...|CBABADBBCEEEBCBAD...|BBEDABDACACBABAEC...|AADDDBEEEBEDDBEBA...|                1|          120|          120|          140|          120|          120|            620|   E|   E|   C|   C|   4|   E|   A|   B|   C|   A|   A|   B|   B|   B|   B|   A|   A|   A|   B|   A|   B|   E|   A|   A|   A|\n",
            "|190001779797|  2019|              2|      F|              1|          3|               1|              2|              0|        2|        1|           0|            NULL|                NULL|     NULL|     NULL|                  NULL|              NULL|           NULL|           5200258|�guas Lindas de G...|         52|         GO|             1|             1|             1|             1|        504|        507|        511|        516|     467.9|     548.7|     536.1|     392.4|EAADBEBAECBBECCAB...|DCBCABAAABCCEAECE...|BDABD99999ECAACED...|ECDACDDBBEDCBEBBB...|        0|BEEAAEBEEBADEADDA...|BACCCBABBADCBCEEE...|BDABEABCADBCBAADD...|BEDEEEAADBEBACABC...|                1|          120|          120|          120|          120|          120|            600|   C|   F|   F|   B|   4|   C|   A|   B|   C|   B|   A|   B|   A|   A|   A|   B|   A|   A|   B|   A|   A|   D|   A|   A|   B|\n",
            "|190001237815|  2019|              2|      F|              1|          1|               1|              2|              0|        2|        1|           0|         3125101|             Extrema|       31|       MG|                     2|                 1|              1|           3125101|             Extrema|         31|         MG|             1|             1|             1|             1|        503|        508|        512|        515|     624.5|     636.9|     635.8|     698.7|CAECCCEEADDBCDDAB...|ABACADBBCEEEBCAAD...|BBEDA99999CBABDBC...|ECEADBEBAECBADAAC...|        0|AAECACDEADCBCDDDB...|CBABADBBCEEEBCBAD...|BBEDABDACACBABAEC...|EEEADBEBACABCDBAB...|                1|          160|          140|          160|          160|          180|            800|   C|   G|   C|   D|   4|   K|   A|   C|   C|   B|   B|   B|   A|   B|   A|   B|   A|   B|   C|   B|   A|   E|   A|   C|   B|\n",
            "+------------+------+---------------+-------+---------------+-----------+----------------+---------------+---------------+---------+---------+------------+----------------+--------------------+---------+---------+----------------------+------------------+---------------+------------------+--------------------+-----------+-----------+--------------+--------------+--------------+--------------+-----------+-----------+-----------+-----------+----------+----------+----------+----------+--------------------+--------------------+--------------------+--------------------+---------+--------------------+--------------------+--------------------+--------------------+-----------------+-------------+-------------+-------------+-------------+-------------+---------------+----+----+----+----+----+----+----+----+----+----+----+----+----+----+----+----+----+----+----+----+----+----+----+----+----+\n",
            "only showing top 20 rows\n",
            "\n"
          ]
        }
      ],
      "source": [
        "# Filtrando alunos que estiveram presentes em todos os dias de prova, que nao concluiram ou irão concluir o ensino medio\n",
        "enem_2019.where(\n",
        "    \"TP_FAIXA_ETARIA <= 10 and TP_PRESENCA_CN like '1' and TP_PRESENCA_CH like '1' and TP_PRESENCA_LC like '1' and TP_PRESENCA_MT like '1' and TP_ST_CONCLUSAO like '2' or TP_ST_CONCLUSAO like '3'\"\n",
        ").show()"
      ]
    },
    {
      "cell_type": "code",
      "execution_count": 100,
      "metadata": {
        "id": "uDem-zDZhKwn"
      },
      "outputs": [],
      "source": [
        "# Aplicando alteração ao Data Frame\n",
        "enem_2019 = enem_2019.where(\n",
        "    \"TP_FAIXA_ETARIA <= 10 and TP_PRESENCA_CN like '1' and TP_PRESENCA_CH like '1' and TP_PRESENCA_LC like '1' and TP_PRESENCA_MT like '1' and TP_ST_CONCLUSAO like '2' or TP_ST_CONCLUSAO like '3'\"\n",
        ")"
      ]
    },
    {
      "cell_type": "code",
      "source": [
        "enem_2019.show()"
      ],
      "metadata": {
        "colab": {
          "base_uri": "https://localhost:8080/"
        },
        "id": "j6IqQisEL14J",
        "outputId": "f964ebbc-d2b2-4c1a-d55c-491841a4c1ba"
      },
      "execution_count": 101,
      "outputs": [
        {
          "output_type": "stream",
          "name": "stdout",
          "text": [
            "+------------+------+---------------+-------+---------------+-----------+----------------+---------------+---------------+---------+---------+------------+----------------+--------------------+---------+---------+----------------------+------------------+---------------+------------------+--------------------+-----------+-----------+--------------+--------------+--------------+--------------+-----------+-----------+-----------+-----------+----------+----------+----------+----------+--------------------+--------------------+--------------------+--------------------+---------+--------------------+--------------------+--------------------+--------------------+-----------------+-------------+-------------+-------------+-------------+-------------+---------------+----+----+----+----+----+----+----+----+----+----+----+----+----+----+----+----+----+----+----+----+----+----+----+----+----+\n",
            "|NU_INSCRICAO|NU_ANO|TP_FAIXA_ETARIA|TP_SEXO|TP_ESTADO_CIVIL|TP_COR_RACA|TP_NACIONALIDADE|TP_ST_CONCLUSAO|TP_ANO_CONCLUIU|TP_ESCOLA|TP_ENSINO|IN_TREINEIRO|CO_MUNICIPIO_ESC|    NO_MUNICIPIO_ESC|CO_UF_ESC|SG_UF_ESC|TP_DEPENDENCIA_ADM_ESC|TP_LOCALIZACAO_ESC|TP_SIT_FUNC_ESC|CO_MUNICIPIO_PROVA|  NO_MUNICIPIO_PROVA|CO_UF_PROVA|SG_UF_PROVA|TP_PRESENCA_CN|TP_PRESENCA_CH|TP_PRESENCA_LC|TP_PRESENCA_MT|CO_PROVA_CN|CO_PROVA_CH|CO_PROVA_LC|CO_PROVA_MT|NU_NOTA_CN|NU_NOTA_CH|NU_NOTA_LC|NU_NOTA_MT|     TX_RESPOSTAS_CN|     TX_RESPOSTAS_CH|     TX_RESPOSTAS_LC|     TX_RESPOSTAS_MT|TP_LINGUA|      TX_GABARITO_CN|      TX_GABARITO_CH|      TX_GABARITO_LC|      TX_GABARITO_MT|TP_STATUS_REDACAO|NU_NOTA_COMP1|NU_NOTA_COMP2|NU_NOTA_COMP3|NU_NOTA_COMP4|NU_NOTA_COMP5|NU_NOTA_REDACAO|Q001|Q002|Q003|Q004|Q005|Q006|Q007|Q008|Q009|Q010|Q011|Q012|Q013|Q014|Q015|Q016|Q017|Q018|Q019|Q020|Q021|Q022|Q023|Q024|Q025|\n",
            "+------------+------+---------------+-------+---------------+-----------+----------------+---------------+---------------+---------+---------+------------+----------------+--------------------+---------+---------+----------------------+------------------+---------------+------------------+--------------------+-----------+-----------+--------------+--------------+--------------+--------------+-----------+-----------+-----------+-----------+----------+----------+----------+----------+--------------------+--------------------+--------------------+--------------------+---------+--------------------+--------------------+--------------------+--------------------+-----------------+-------------+-------------+-------------+-------------+-------------+---------------+----+----+----+----+----+----+----+----+----+----+----+----+----+----+----+----+----+----+----+----+----+----+----+----+----+\n",
            "|190001592266|  2019|              2|      M|              1|          1|               1|              2|              0|        2|        1|           0|            NULL|                NULL|     NULL|     NULL|                  NULL|              NULL|           NULL|           3550308|           S�o Paulo|         35|         SP|             1|             1|             1|             1|        505|        509|        514|        518|     543.9|     548.1|     502.5|     480.7|BADADDBADBBECEBBC...|CDACAEDDABABADCEB...|EBBBC99999BCDBEBE...|DACCDBCBBDDDCCAEC...|        0|DADCCEBBCCACBEEBE...|ACACEEBCCBABADBBB...|EBBADCABDABACBCEB...|DBEBACABCDBABECEE...|                1|          120|           40|          120|          120|            0|            400|   E|   E|   B|   B|   5|   F|   A|   B|   C|   B|   A|   B|   B|   B|   A|   B|   A|   A|   B|   A|   B|   C|   B|   B|   B|\n",
            "|190001421547|  2019|              4|      M|              1|          3|               1|              3|              0|        1|     NULL|           1|            NULL|                NULL|     NULL|     NULL|                  NULL|              NULL|           NULL|           2911709|            Guanambi|         29|         BA|             1|             1|             1|             1|        506|        509|        514|        517|     390.1|     453.0|     515.2|     461.5|DCCBDDDBABBDBCADA...|BBABCBBBABBAABBAA...|ABBBB99999BAABCCC...|DCDDCCECDDDBDDDDD...|        0|DEADBAAAEBEECEBCB...|ACACEEBCCBABADBBB...|EBBADCABDABACBCEB...|AADDDBEEEBEDDBEBA...|                1|          100|          120|          100|          140|           60|            520|   C|   C|   A|   A|   4|   C|   A|   B|   D|   A|   A|   B|   A|   A|   A|   A|   A|   A|   B|   A|   A|   B|   A|   A|   A|\n",
            "|190001867757|  2019|              2|      F|              1|          1|               1|              2|              0|        3|        1|           0|         4101408|           Apucarana|       41|       PR|                     4|                 1|              1|           4101408|           Apucarana|         41|         PR|             1|             1|             1|             1|        504|        509|        514|        516|     618.2|     744.7|     636.3|     713.7|BACACEDDEBCDEADAA...|ACACEEBCCBABADABE...|EBBAD99999BAEBADB...|BEBEAEAADAABABAAB...|        0|BEEAAEBEEBADEADDA...|ACACEEBCCBABADBBB...|EBBADCABDABACBCEB...|BEDEEEAADBEBACABC...|                1|          160|          200|          200|          180|          160|            900|   E|   E|   B|   B|   2|   E|   A|   B|   C|   B|   A|   B|   B|   B|   A|   B|   A|   B|   B|   B|   A|   C|   B|   B|   B|\n",
            "|190001692704|  2019|              3|      F|              1|          1|               1|              2|              0|        2|        1|           0|         4300604|            Alvorada|       43|       RS|                     2|                 1|              1|           4300604|            Alvorada|         43|         RS|             1|             1|             1|             1|        506|        507|        511|        517|     430.4|     466.8|     515.9|     394.1|BCDCAEDBABECDDCBE...|EEAEDEBCEBDDBCAAA...|99999CDDBDCABBBDA...|DBABCCBCDBAEEDDCB...|        1|DEADBAAAEBEECEBCB...|BACCCBABBADCBCEEE...|BDABEABCADBCBAADD...|AADDDBEEEBEDDBEBA...|                1|          160|          140|          120|          120|           40|            580|   E|   B|   B|   B|   3|   A|   A|   B|   D|   A|   A|   B|   B|   B|   A|   A|   A|   A|   B|   B|   A|   D|   A|   B|   A|\n",
            "|190001595660|  2019|              2|      F|              1|          2|               1|              2|              0|        2|        1|           0|         3530607|     Mogi das Cruzes|       35|       SP|                     2|                 1|              1|           3523107|     Itaquaquecetuba|         35|         SP|             1|             1|             1|             1|        505|        509|        514|        518|     371.8|     501.4|     518.6|     442.0|ABACBDDDBBEECEACB...|AEABAECCDAAEADAAD...|99999.....DBCDCDE...|ACACAEBBBBDABDCCD...|        1|DADCCEBBCCACBEEBE...|ACACEEBCCBABADBBB...|EBBADCABDABACBCEB...|DBEBACABCDBABECEE...|                1|          140|          120|          120|          140|          140|            660|   E|   F|   B|   D|   3|   B|   A|   B|   C|   A|   A|   B|   B|   A|   A|   A|   A|   A|   A|   A|   A|   D|   A|   A|   B|\n",
            "|190001421552|  2019|              2|      M|              1|          2|               1|              2|              0|        2|        1|           0|         2919207|    Lauro de Freitas|       29|       BA|                     2|                 1|              1|           2919207|    Lauro de Freitas|         29|         BA|             1|             1|             1|             1|        506|        510|        513|        517|     567.3|     584.1|     595.8|     704.5|BEDCCDDCEABBBDBDA...|AEECBEABADAEABAAE...|ADBBC99999ABBCBCD...|AABDCBBEECBDDCEBA...|        0|DEADBAAAEBEECEBCB...|EEBCEEDBADBBCBABC...|ADBBEDCABAABBCBCD...|AADDDBEEEBEDDBEBA...|                1|          140|          120|          140|          120|          100|            620|   E|   C|   B|   B|   2|   B|   A|   B|   C|   A|   A|   B|   B|   A|   A|   A|   A|   A|   B|   A|   A|   C|   A|   A|   B|\n",
            "|190001421555|  2019|              4|      M|              1|          3|               1|              3|              0|        1|     NULL|           1|            NULL|                NULL|     NULL|     NULL|                  NULL|              NULL|           NULL|           2900702|          Alagoinhas|         29|         BA|             1|             1|             1|             1|        503|        508|        512|        515|     421.1|     469.9|     435.6|     527.4|CEEDBCD*E*BACECDD...|ABACBCBADEACDDDBA...|99999BBAEDCBDDCBA...|EDBBBEBCADEBDDEEC...|        1|AAECACDEADCBCDDDB...|CBABADBBCEEEBCBAD...|BBEDABDACACBABAEC...|EEEADBEBACABCDBAB...|                4|            0|            0|            0|            0|            0|              0|   E|   E|   B|   B|   5|   B|   A|   B|   C|   A|   A|   B|   A|   A|   A|   A|   A|   A|   B|   A|   A|   B|   A|   A|   A|\n",
            "|190001421558|  2019|              1|      F|              1|          3|               1|              3|              0|        1|     NULL|           1|            NULL|                NULL|     NULL|     NULL|                  NULL|              NULL|           NULL|           2910800|    Feira de Santana|         29|         BA|             0|             0|             0|             0|       NULL|       NULL|       NULL|       NULL|      NULL|      NULL|      NULL|      NULL|                NULL|                NULL|                NULL|                NULL|        0|                NULL|                NULL|                NULL|                NULL|             NULL|         NULL|         NULL|         NULL|         NULL|         NULL|           NULL|   B|   E|   C|   B|   3|   B|   A|   B|   B|   A|   A|   B|   A|   A|   A|   A|   A|   A|   B|   B|   A|   B|   A|   B|   B|\n",
            "|190001480443|  2019|              3|      M|              2|          3|               4|              2|              0|        2|        1|           0|         2513703|          Santa Rita|       25|       PB|                     2|                 1|              1|           2513703|          Santa Rita|         25|         PB|             1|             1|             1|             1|        503|        509|        514|        515|     373.2|     409.6|     469.5|     379.1|BECAABDACDDBAEDCE...|CEBEABADEACABCBDE...|CBBDB99999BBEBEAE...|DEEDADDCBEADCEEBA...|        0|AAECACDEADCBCDDDB...|ACACEEBCCBABADBBB...|EBBADCABDABACBCEB...|EEEADBEBACABCDBAB...|                1|          120|          120|          120|          120|            0|            480|   D|   E|   C|   B|   4|   C|   A|   B|   C|   A|   B|   B|   A|   B|   A|   B|   A|   A|   C|   B|   A|   E|   A|   A|   B|\n",
            "|190001082475|  2019|              2|      F|              1|          3|               1|              2|              0|        2|        1|           0|         1302603|              Manaus|       13|       AM|                     2|                 1|              1|           1302603|              Manaus|         13|         AM|             1|             1|             1|             1|        504|        507|        511|        516|     385.8|     436.3|     393.8|     370.0|DAEDDCAEBACBBCBBD...|DDBAAAEAABECDABAE...|99999BBDDCCBDBEEA...|AAAEDBCECABCBABAA...|        1|BEEAAEBEEBADEADDA...|BACCCBABBADCBCEEE...|BDABEABCADBCBAADD...|BEDEEEAADBEBACABC...|                1|          100|           40|           40|           80|            0|            260|   H|   H|   F|   C|   4|   B|   A|   B|   B|   A|   A|   B|   A|   B|   A|   A|   A|   A|   B|   A|   A|   C|   B|   B|   B|\n",
            "|190002037440|  2019|              2|      M|              1|          3|               1|              2|              0|        2|        1|           0|         5300108|            Bras�lia|       53|       DF|                     2|                 1|              1|           5300108|            Bras�lia|         53|         DF|             1|             1|             1|             1|        506|        507|        511|        517|     389.7|     431.1|     482.0|     529.7|DCCADBEBDAAABBBDD...|BBADBCAABBCCECCCB...|DBBDA99999CCBECBD...|CBDCDCBBCBEADCAAA...|        0|DEADBAAAEBEECEBCB...|BACCCBABBADCBCEEE...|BDABEABCADBCBAADD...|AADDDBEEEBEDDBEBA...|                1|          120|          120|          120|          120|           80|            560|   B|   E|   A|   B|   4|   B|   B|   B|   C|   B|   A|   B|   A|   B|   A|   B|   A|   A|   B|   B|   A|   D|   A|   A|   A|\n",
            "|190001121527|  2019|              2|      F|              3|          1|               1|              2|              0|        2|        1|           0|         2207702|            Parna�ba|       22|       PI|                     1|                 1|              1|           2207702|            Parna�ba|         22|         PI|             1|             1|             1|             1|        505|        507|        511|        518|     427.6|     548.8|     587.2|     699.3|DBECADBBDDAACBEDE...|CEBDABACDACDECEEE...|99999CBCADBEBEAED...|DBDBAEBACDBAEEDEC...|        1|DADCCEBBCCACBEEBE...|BACCCBABBADCBCEEE...|BDABEABCADBCBAADD...|DBEBACABCDBABECEE...|                1|          160|          180|          140|          140|          200|            820|   D|   C|   C|   B|   6|   G|   A|   B|   C|   B|   A|   B|   A|   A|   A|   A|   A|   A|   A|   A|   A|   B|   A|   A|   A|\n",
            "|190001042836|  2019|              2|      F|              1|          2|               1|              2|              0|        2|        1|           0|         1501402|               Bel�m|       15|       PA|                     2|                 1|              1|           1501402|               Bel�m|         15|         PA|             1|             1|             1|             1|        506|        507|        511|        517|     510.9|     585.4|     578.4|     605.2|DDADBECADAECBDABD...|AECDBBACABDCEDAEE...|99999AECADBABADBD...|AACABDECBEBCDCACA...|        1|DEADBAAAEBEECEBCB...|BACCCBABBADCBCEEE...|BDABEABCADBCBAADD...|AADDDBEEEBEDDBEBA...|                1|          160|          200|          160|          200|          160|            880|   E|   F|   D|   D|   3|   C|   A|   B|   C|   A|   A|   B|   B|   B|   A|   A|   A|   A|   B|   A|   B|   D|   B|   B|   B|\n",
            "|190001421560|  2019|              4|      M|              1|          3|               1|              2|              0|        2|        1|           0|         2929503|S�o Sebasti�o do ...|       29|       BA|                     2|                 1|              1|           2929503|S�o Sebasti�o do ...|         29|         BA|             1|             1|             1|             1|        504|        509|        514|        516|     361.2|     499.0|     403.5|     392.5|EAEADACABEBDDAEBB...|EDBCDBCCBAACAAABE...|99999CBEABACEBEBA...|DABADBEBCEBCCACEA...|        1|BEEAAEBEEBADEADDA...|ACACEEBCCBABADBBB...|EBBADCABDABACBCEB...|BEDEEEAADBEBACABC...|                1|          120|          120|          120|          120|           80|            560|   C|   B|   C|   D|   5|   B|   A|   B|   B|   A|   A|   B|   A|   A|   A|   A|   A|   A|   B|   A|   A|   C|   A|   A|   B|\n",
            "|190001121528|  2019|              2|      F|              1|          3|               1|              2|              0|        2|        1|           0|         2208403|            Piripiri|       22|       PI|                     2|                 1|              1|           2208403|            Piripiri|         22|         PI|             1|             1|             1|             1|        504|        508|        512|        516|     556.8|     487.0|     571.8|     578.5|CBCCEECBEBBDECDAC...|AAACDCAEBEEEABABD...|99999BDABACCABEEC...|CAEACDABCCCCABCDC...|        1|BEEAAEBEEBADEADDA...|CBABADBBCEEEBCBAD...|BBEDABDACACBABAEC...|BEDEEEAADBEBACABC...|                1|          140|          180|          160|          160|          160|            800|   B|   A|   A|   F|   7|   C|   A|   B|   D|   A|   B|   B|   A|   A|   A|   A|   A|   A|   B|   A|   A|   C|   A|   A|   A|\n",
            "|190001595672|  2019|              3|      M|              1|          1|               1|              2|              0|        2|        1|           0|         3503307|              Araras|       35|       SP|                     2|                 1|              1|           3503307|              Araras|         35|         SP|             1|             1|             1|             1|        506|        507|        511|        517|     537.0|     585.3|     590.1|     661.4|EECDABBBDDECDABEA...|BAECAACBDADCBBEAE...|BDABE99999BABEAED...|AABDCCEBEDABDCBDA...|        0|DEADBAAAEBEECEBCB...|BACCCBABBADCBCEEE...|BDABEABCADBCBAADD...|AADDDBEEEBEDDBEBA...|                1|          120|          120|          100|          120|           80|            540|   E|   E|   C|   F|   3|   C|   A|   B|   B|   A|   B|   B|   A|   B|   A|   B|   A|   A|   B|   A|   A|   C|   A|   B|   B|\n",
            "|190001867760|  2019|              3|      M|              1|          3|               1|              2|              0|        2|        1|           0|         4104303|        Campo Mour�o|       41|       PR|                     2|                 1|              1|           4104303|        Campo Mour�o|         41|         PR|             1|             1|             1|             1|        506|        509|        514|        517|     523.2|     469.3|     508.4|     679.4|ADCBBBACEACCEDCCB...|ACECCCDDAAAEAABEC...|99999ACADBBBCCCDE...|AABDACEBCBABDECBA...|        1|DEADBAAAEBEECEBCB...|ACACEEBCCBABADBBB...|EBBADCABDABACBCEB...|AADDDBEEEBEDDBEBA...|                1|          140|          160|          120|          120|          100|            640|   E|   E|   D|   D|   4|   D|   A|   C|   D|   B|   A|   B|   A|   B|   A|   A|   A|   A|   B|   A|   A|   D|   A|   A|   B|\n",
            "|190001595675|  2019|              2|      F|              1|          1|               1|              2|              0|        2|        1|           0|         3529005|             Mar�lia|       35|       SP|                     2|                 1|              1|           3529005|             Mar�lia|         35|         SP|             1|             1|             1|             1|        506|        508|        512|        517|     423.9|     500.4|     472.3|     503.9|BDCBDBDEDBECEDDBB...|DAACAADECCAECCABD...|DBCBA99999ACBBEEB...|BBABDCBCAAEAEECCA...|        0|DEADBAAAEBEECEBCB...|CBABADBBCEEEBCBAD...|BBEDABDACACBABAEC...|AADDDBEEEBEDDBEBA...|                1|          120|          120|          140|          120|          120|            620|   E|   E|   C|   C|   4|   E|   A|   B|   C|   A|   A|   B|   B|   B|   B|   A|   A|   A|   B|   A|   B|   E|   A|   A|   A|\n",
            "|190001779797|  2019|              2|      F|              1|          3|               1|              2|              0|        2|        1|           0|            NULL|                NULL|     NULL|     NULL|                  NULL|              NULL|           NULL|           5200258|�guas Lindas de G...|         52|         GO|             1|             1|             1|             1|        504|        507|        511|        516|     467.9|     548.7|     536.1|     392.4|EAADBEBAECBBECCAB...|DCBCABAAABCCEAECE...|BDABD99999ECAACED...|ECDACDDBBEDCBEBBB...|        0|BEEAAEBEEBADEADDA...|BACCCBABBADCBCEEE...|BDABEABCADBCBAADD...|BEDEEEAADBEBACABC...|                1|          120|          120|          120|          120|          120|            600|   C|   F|   F|   B|   4|   C|   A|   B|   C|   B|   A|   B|   A|   A|   A|   B|   A|   A|   B|   A|   A|   D|   A|   A|   B|\n",
            "|190001237815|  2019|              2|      F|              1|          1|               1|              2|              0|        2|        1|           0|         3125101|             Extrema|       31|       MG|                     2|                 1|              1|           3125101|             Extrema|         31|         MG|             1|             1|             1|             1|        503|        508|        512|        515|     624.5|     636.9|     635.8|     698.7|CAECCCEEADDBCDDAB...|ABACADBBCEEEBCAAD...|BBEDA99999CBABDBC...|ECEADBEBAECBADAAC...|        0|AAECACDEADCBCDDDB...|CBABADBBCEEEBCBAD...|BBEDABDACACBABAEC...|EEEADBEBACABCDBAB...|                1|          160|          140|          160|          160|          180|            800|   C|   G|   C|   D|   4|   K|   A|   C|   C|   B|   B|   B|   A|   B|   A|   B|   A|   B|   C|   B|   A|   E|   A|   C|   B|\n",
            "+------------+------+---------------+-------+---------------+-----------+----------------+---------------+---------------+---------+---------+------------+----------------+--------------------+---------+---------+----------------------+------------------+---------------+------------------+--------------------+-----------+-----------+--------------+--------------+--------------+--------------+-----------+-----------+-----------+-----------+----------+----------+----------+----------+--------------------+--------------------+--------------------+--------------------+---------+--------------------+--------------------+--------------------+--------------------+-----------------+-------------+-------------+-------------+-------------+-------------+---------------+----+----+----+----+----+----+----+----+----+----+----+----+----+----+----+----+----+----+----+----+----+----+----+----+----+\n",
            "only showing top 20 rows\n",
            "\n"
          ]
        }
      ]
    },
    {
      "cell_type": "code",
      "source": [
        "# Removendo notas nulas:\n",
        "enem_2019.dropna(how='any',subset=[\"NU_NOTA_CN\",\n",
        "                                   \"NU_NOTA_CH\",\n",
        "                                   \"NU_NOTA_LC\",\n",
        "                                   \"NU_NOTA_MT\",\n",
        "                                   \"NU_NOTA_REDACAO\"]).show()"
      ],
      "metadata": {
        "colab": {
          "base_uri": "https://localhost:8080/"
        },
        "id": "Nxc316oDL7tK",
        "outputId": "6f694362-892c-420d-8fb9-714c5f10493c"
      },
      "execution_count": 102,
      "outputs": [
        {
          "output_type": "stream",
          "name": "stdout",
          "text": [
            "+------------+------+---------------+-------+---------------+-----------+----------------+---------------+---------------+---------+---------+------------+----------------+--------------------+---------+---------+----------------------+------------------+---------------+------------------+--------------------+-----------+-----------+--------------+--------------+--------------+--------------+-----------+-----------+-----------+-----------+----------+----------+----------+----------+--------------------+--------------------+--------------------+--------------------+---------+--------------------+--------------------+--------------------+--------------------+-----------------+-------------+-------------+-------------+-------------+-------------+---------------+----+----+----+----+----+----+----+----+----+----+----+----+----+----+----+----+----+----+----+----+----+----+----+----+----+\n",
            "|NU_INSCRICAO|NU_ANO|TP_FAIXA_ETARIA|TP_SEXO|TP_ESTADO_CIVIL|TP_COR_RACA|TP_NACIONALIDADE|TP_ST_CONCLUSAO|TP_ANO_CONCLUIU|TP_ESCOLA|TP_ENSINO|IN_TREINEIRO|CO_MUNICIPIO_ESC|    NO_MUNICIPIO_ESC|CO_UF_ESC|SG_UF_ESC|TP_DEPENDENCIA_ADM_ESC|TP_LOCALIZACAO_ESC|TP_SIT_FUNC_ESC|CO_MUNICIPIO_PROVA|  NO_MUNICIPIO_PROVA|CO_UF_PROVA|SG_UF_PROVA|TP_PRESENCA_CN|TP_PRESENCA_CH|TP_PRESENCA_LC|TP_PRESENCA_MT|CO_PROVA_CN|CO_PROVA_CH|CO_PROVA_LC|CO_PROVA_MT|NU_NOTA_CN|NU_NOTA_CH|NU_NOTA_LC|NU_NOTA_MT|     TX_RESPOSTAS_CN|     TX_RESPOSTAS_CH|     TX_RESPOSTAS_LC|     TX_RESPOSTAS_MT|TP_LINGUA|      TX_GABARITO_CN|      TX_GABARITO_CH|      TX_GABARITO_LC|      TX_GABARITO_MT|TP_STATUS_REDACAO|NU_NOTA_COMP1|NU_NOTA_COMP2|NU_NOTA_COMP3|NU_NOTA_COMP4|NU_NOTA_COMP5|NU_NOTA_REDACAO|Q001|Q002|Q003|Q004|Q005|Q006|Q007|Q008|Q009|Q010|Q011|Q012|Q013|Q014|Q015|Q016|Q017|Q018|Q019|Q020|Q021|Q022|Q023|Q024|Q025|\n",
            "+------------+------+---------------+-------+---------------+-----------+----------------+---------------+---------------+---------+---------+------------+----------------+--------------------+---------+---------+----------------------+------------------+---------------+------------------+--------------------+-----------+-----------+--------------+--------------+--------------+--------------+-----------+-----------+-----------+-----------+----------+----------+----------+----------+--------------------+--------------------+--------------------+--------------------+---------+--------------------+--------------------+--------------------+--------------------+-----------------+-------------+-------------+-------------+-------------+-------------+---------------+----+----+----+----+----+----+----+----+----+----+----+----+----+----+----+----+----+----+----+----+----+----+----+----+----+\n",
            "|190001592266|  2019|              2|      M|              1|          1|               1|              2|              0|        2|        1|           0|            NULL|                NULL|     NULL|     NULL|                  NULL|              NULL|           NULL|           3550308|           S�o Paulo|         35|         SP|             1|             1|             1|             1|        505|        509|        514|        518|     543.9|     548.1|     502.5|     480.7|BADADDBADBBECEBBC...|CDACAEDDABABADCEB...|EBBBC99999BCDBEBE...|DACCDBCBBDDDCCAEC...|        0|DADCCEBBCCACBEEBE...|ACACEEBCCBABADBBB...|EBBADCABDABACBCEB...|DBEBACABCDBABECEE...|                1|          120|           40|          120|          120|            0|            400|   E|   E|   B|   B|   5|   F|   A|   B|   C|   B|   A|   B|   B|   B|   A|   B|   A|   A|   B|   A|   B|   C|   B|   B|   B|\n",
            "|190001421547|  2019|              4|      M|              1|          3|               1|              3|              0|        1|     NULL|           1|            NULL|                NULL|     NULL|     NULL|                  NULL|              NULL|           NULL|           2911709|            Guanambi|         29|         BA|             1|             1|             1|             1|        506|        509|        514|        517|     390.1|     453.0|     515.2|     461.5|DCCBDDDBABBDBCADA...|BBABCBBBABBAABBAA...|ABBBB99999BAABCCC...|DCDDCCECDDDBDDDDD...|        0|DEADBAAAEBEECEBCB...|ACACEEBCCBABADBBB...|EBBADCABDABACBCEB...|AADDDBEEEBEDDBEBA...|                1|          100|          120|          100|          140|           60|            520|   C|   C|   A|   A|   4|   C|   A|   B|   D|   A|   A|   B|   A|   A|   A|   A|   A|   A|   B|   A|   A|   B|   A|   A|   A|\n",
            "|190001867757|  2019|              2|      F|              1|          1|               1|              2|              0|        3|        1|           0|         4101408|           Apucarana|       41|       PR|                     4|                 1|              1|           4101408|           Apucarana|         41|         PR|             1|             1|             1|             1|        504|        509|        514|        516|     618.2|     744.7|     636.3|     713.7|BACACEDDEBCDEADAA...|ACACEEBCCBABADABE...|EBBAD99999BAEBADB...|BEBEAEAADAABABAAB...|        0|BEEAAEBEEBADEADDA...|ACACEEBCCBABADBBB...|EBBADCABDABACBCEB...|BEDEEEAADBEBACABC...|                1|          160|          200|          200|          180|          160|            900|   E|   E|   B|   B|   2|   E|   A|   B|   C|   B|   A|   B|   B|   B|   A|   B|   A|   B|   B|   B|   A|   C|   B|   B|   B|\n",
            "|190001692704|  2019|              3|      F|              1|          1|               1|              2|              0|        2|        1|           0|         4300604|            Alvorada|       43|       RS|                     2|                 1|              1|           4300604|            Alvorada|         43|         RS|             1|             1|             1|             1|        506|        507|        511|        517|     430.4|     466.8|     515.9|     394.1|BCDCAEDBABECDDCBE...|EEAEDEBCEBDDBCAAA...|99999CDDBDCABBBDA...|DBABCCBCDBAEEDDCB...|        1|DEADBAAAEBEECEBCB...|BACCCBABBADCBCEEE...|BDABEABCADBCBAADD...|AADDDBEEEBEDDBEBA...|                1|          160|          140|          120|          120|           40|            580|   E|   B|   B|   B|   3|   A|   A|   B|   D|   A|   A|   B|   B|   B|   A|   A|   A|   A|   B|   B|   A|   D|   A|   B|   A|\n",
            "|190001595660|  2019|              2|      F|              1|          2|               1|              2|              0|        2|        1|           0|         3530607|     Mogi das Cruzes|       35|       SP|                     2|                 1|              1|           3523107|     Itaquaquecetuba|         35|         SP|             1|             1|             1|             1|        505|        509|        514|        518|     371.8|     501.4|     518.6|     442.0|ABACBDDDBBEECEACB...|AEABAECCDAAEADAAD...|99999.....DBCDCDE...|ACACAEBBBBDABDCCD...|        1|DADCCEBBCCACBEEBE...|ACACEEBCCBABADBBB...|EBBADCABDABACBCEB...|DBEBACABCDBABECEE...|                1|          140|          120|          120|          140|          140|            660|   E|   F|   B|   D|   3|   B|   A|   B|   C|   A|   A|   B|   B|   A|   A|   A|   A|   A|   A|   A|   A|   D|   A|   A|   B|\n",
            "|190001421552|  2019|              2|      M|              1|          2|               1|              2|              0|        2|        1|           0|         2919207|    Lauro de Freitas|       29|       BA|                     2|                 1|              1|           2919207|    Lauro de Freitas|         29|         BA|             1|             1|             1|             1|        506|        510|        513|        517|     567.3|     584.1|     595.8|     704.5|BEDCCDDCEABBBDBDA...|AEECBEABADAEABAAE...|ADBBC99999ABBCBCD...|AABDCBBEECBDDCEBA...|        0|DEADBAAAEBEECEBCB...|EEBCEEDBADBBCBABC...|ADBBEDCABAABBCBCD...|AADDDBEEEBEDDBEBA...|                1|          140|          120|          140|          120|          100|            620|   E|   C|   B|   B|   2|   B|   A|   B|   C|   A|   A|   B|   B|   A|   A|   A|   A|   A|   B|   A|   A|   C|   A|   A|   B|\n",
            "|190001421555|  2019|              4|      M|              1|          3|               1|              3|              0|        1|     NULL|           1|            NULL|                NULL|     NULL|     NULL|                  NULL|              NULL|           NULL|           2900702|          Alagoinhas|         29|         BA|             1|             1|             1|             1|        503|        508|        512|        515|     421.1|     469.9|     435.6|     527.4|CEEDBCD*E*BACECDD...|ABACBCBADEACDDDBA...|99999BBAEDCBDDCBA...|EDBBBEBCADEBDDEEC...|        1|AAECACDEADCBCDDDB...|CBABADBBCEEEBCBAD...|BBEDABDACACBABAEC...|EEEADBEBACABCDBAB...|                4|            0|            0|            0|            0|            0|              0|   E|   E|   B|   B|   5|   B|   A|   B|   C|   A|   A|   B|   A|   A|   A|   A|   A|   A|   B|   A|   A|   B|   A|   A|   A|\n",
            "|190001480443|  2019|              3|      M|              2|          3|               4|              2|              0|        2|        1|           0|         2513703|          Santa Rita|       25|       PB|                     2|                 1|              1|           2513703|          Santa Rita|         25|         PB|             1|             1|             1|             1|        503|        509|        514|        515|     373.2|     409.6|     469.5|     379.1|BECAABDACDDBAEDCE...|CEBEABADEACABCBDE...|CBBDB99999BBEBEAE...|DEEDADDCBEADCEEBA...|        0|AAECACDEADCBCDDDB...|ACACEEBCCBABADBBB...|EBBADCABDABACBCEB...|EEEADBEBACABCDBAB...|                1|          120|          120|          120|          120|            0|            480|   D|   E|   C|   B|   4|   C|   A|   B|   C|   A|   B|   B|   A|   B|   A|   B|   A|   A|   C|   B|   A|   E|   A|   A|   B|\n",
            "|190001082475|  2019|              2|      F|              1|          3|               1|              2|              0|        2|        1|           0|         1302603|              Manaus|       13|       AM|                     2|                 1|              1|           1302603|              Manaus|         13|         AM|             1|             1|             1|             1|        504|        507|        511|        516|     385.8|     436.3|     393.8|     370.0|DAEDDCAEBACBBCBBD...|DDBAAAEAABECDABAE...|99999BBDDCCBDBEEA...|AAAEDBCECABCBABAA...|        1|BEEAAEBEEBADEADDA...|BACCCBABBADCBCEEE...|BDABEABCADBCBAADD...|BEDEEEAADBEBACABC...|                1|          100|           40|           40|           80|            0|            260|   H|   H|   F|   C|   4|   B|   A|   B|   B|   A|   A|   B|   A|   B|   A|   A|   A|   A|   B|   A|   A|   C|   B|   B|   B|\n",
            "|190002037440|  2019|              2|      M|              1|          3|               1|              2|              0|        2|        1|           0|         5300108|            Bras�lia|       53|       DF|                     2|                 1|              1|           5300108|            Bras�lia|         53|         DF|             1|             1|             1|             1|        506|        507|        511|        517|     389.7|     431.1|     482.0|     529.7|DCCADBEBDAAABBBDD...|BBADBCAABBCCECCCB...|DBBDA99999CCBECBD...|CBDCDCBBCBEADCAAA...|        0|DEADBAAAEBEECEBCB...|BACCCBABBADCBCEEE...|BDABEABCADBCBAADD...|AADDDBEEEBEDDBEBA...|                1|          120|          120|          120|          120|           80|            560|   B|   E|   A|   B|   4|   B|   B|   B|   C|   B|   A|   B|   A|   B|   A|   B|   A|   A|   B|   B|   A|   D|   A|   A|   A|\n",
            "|190001121527|  2019|              2|      F|              3|          1|               1|              2|              0|        2|        1|           0|         2207702|            Parna�ba|       22|       PI|                     1|                 1|              1|           2207702|            Parna�ba|         22|         PI|             1|             1|             1|             1|        505|        507|        511|        518|     427.6|     548.8|     587.2|     699.3|DBECADBBDDAACBEDE...|CEBDABACDACDECEEE...|99999CBCADBEBEAED...|DBDBAEBACDBAEEDEC...|        1|DADCCEBBCCACBEEBE...|BACCCBABBADCBCEEE...|BDABEABCADBCBAADD...|DBEBACABCDBABECEE...|                1|          160|          180|          140|          140|          200|            820|   D|   C|   C|   B|   6|   G|   A|   B|   C|   B|   A|   B|   A|   A|   A|   A|   A|   A|   A|   A|   A|   B|   A|   A|   A|\n",
            "|190001042836|  2019|              2|      F|              1|          2|               1|              2|              0|        2|        1|           0|         1501402|               Bel�m|       15|       PA|                     2|                 1|              1|           1501402|               Bel�m|         15|         PA|             1|             1|             1|             1|        506|        507|        511|        517|     510.9|     585.4|     578.4|     605.2|DDADBECADAECBDABD...|AECDBBACABDCEDAEE...|99999AECADBABADBD...|AACABDECBEBCDCACA...|        1|DEADBAAAEBEECEBCB...|BACCCBABBADCBCEEE...|BDABEABCADBCBAADD...|AADDDBEEEBEDDBEBA...|                1|          160|          200|          160|          200|          160|            880|   E|   F|   D|   D|   3|   C|   A|   B|   C|   A|   A|   B|   B|   B|   A|   A|   A|   A|   B|   A|   B|   D|   B|   B|   B|\n",
            "|190001421560|  2019|              4|      M|              1|          3|               1|              2|              0|        2|        1|           0|         2929503|S�o Sebasti�o do ...|       29|       BA|                     2|                 1|              1|           2929503|S�o Sebasti�o do ...|         29|         BA|             1|             1|             1|             1|        504|        509|        514|        516|     361.2|     499.0|     403.5|     392.5|EAEADACABEBDDAEBB...|EDBCDBCCBAACAAABE...|99999CBEABACEBEBA...|DABADBEBCEBCCACEA...|        1|BEEAAEBEEBADEADDA...|ACACEEBCCBABADBBB...|EBBADCABDABACBCEB...|BEDEEEAADBEBACABC...|                1|          120|          120|          120|          120|           80|            560|   C|   B|   C|   D|   5|   B|   A|   B|   B|   A|   A|   B|   A|   A|   A|   A|   A|   A|   B|   A|   A|   C|   A|   A|   B|\n",
            "|190001121528|  2019|              2|      F|              1|          3|               1|              2|              0|        2|        1|           0|         2208403|            Piripiri|       22|       PI|                     2|                 1|              1|           2208403|            Piripiri|         22|         PI|             1|             1|             1|             1|        504|        508|        512|        516|     556.8|     487.0|     571.8|     578.5|CBCCEECBEBBDECDAC...|AAACDCAEBEEEABABD...|99999BDABACCABEEC...|CAEACDABCCCCABCDC...|        1|BEEAAEBEEBADEADDA...|CBABADBBCEEEBCBAD...|BBEDABDACACBABAEC...|BEDEEEAADBEBACABC...|                1|          140|          180|          160|          160|          160|            800|   B|   A|   A|   F|   7|   C|   A|   B|   D|   A|   B|   B|   A|   A|   A|   A|   A|   A|   B|   A|   A|   C|   A|   A|   A|\n",
            "|190001595672|  2019|              3|      M|              1|          1|               1|              2|              0|        2|        1|           0|         3503307|              Araras|       35|       SP|                     2|                 1|              1|           3503307|              Araras|         35|         SP|             1|             1|             1|             1|        506|        507|        511|        517|     537.0|     585.3|     590.1|     661.4|EECDABBBDDECDABEA...|BAECAACBDADCBBEAE...|BDABE99999BABEAED...|AABDCCEBEDABDCBDA...|        0|DEADBAAAEBEECEBCB...|BACCCBABBADCBCEEE...|BDABEABCADBCBAADD...|AADDDBEEEBEDDBEBA...|                1|          120|          120|          100|          120|           80|            540|   E|   E|   C|   F|   3|   C|   A|   B|   B|   A|   B|   B|   A|   B|   A|   B|   A|   A|   B|   A|   A|   C|   A|   B|   B|\n",
            "|190001867760|  2019|              3|      M|              1|          3|               1|              2|              0|        2|        1|           0|         4104303|        Campo Mour�o|       41|       PR|                     2|                 1|              1|           4104303|        Campo Mour�o|         41|         PR|             1|             1|             1|             1|        506|        509|        514|        517|     523.2|     469.3|     508.4|     679.4|ADCBBBACEACCEDCCB...|ACECCCDDAAAEAABEC...|99999ACADBBBCCCDE...|AABDACEBCBABDECBA...|        1|DEADBAAAEBEECEBCB...|ACACEEBCCBABADBBB...|EBBADCABDABACBCEB...|AADDDBEEEBEDDBEBA...|                1|          140|          160|          120|          120|          100|            640|   E|   E|   D|   D|   4|   D|   A|   C|   D|   B|   A|   B|   A|   B|   A|   A|   A|   A|   B|   A|   A|   D|   A|   A|   B|\n",
            "|190001595675|  2019|              2|      F|              1|          1|               1|              2|              0|        2|        1|           0|         3529005|             Mar�lia|       35|       SP|                     2|                 1|              1|           3529005|             Mar�lia|         35|         SP|             1|             1|             1|             1|        506|        508|        512|        517|     423.9|     500.4|     472.3|     503.9|BDCBDBDEDBECEDDBB...|DAACAADECCAECCABD...|DBCBA99999ACBBEEB...|BBABDCBCAAEAEECCA...|        0|DEADBAAAEBEECEBCB...|CBABADBBCEEEBCBAD...|BBEDABDACACBABAEC...|AADDDBEEEBEDDBEBA...|                1|          120|          120|          140|          120|          120|            620|   E|   E|   C|   C|   4|   E|   A|   B|   C|   A|   A|   B|   B|   B|   B|   A|   A|   A|   B|   A|   B|   E|   A|   A|   A|\n",
            "|190001779797|  2019|              2|      F|              1|          3|               1|              2|              0|        2|        1|           0|            NULL|                NULL|     NULL|     NULL|                  NULL|              NULL|           NULL|           5200258|�guas Lindas de G...|         52|         GO|             1|             1|             1|             1|        504|        507|        511|        516|     467.9|     548.7|     536.1|     392.4|EAADBEBAECBBECCAB...|DCBCABAAABCCEAECE...|BDABD99999ECAACED...|ECDACDDBBEDCBEBBB...|        0|BEEAAEBEEBADEADDA...|BACCCBABBADCBCEEE...|BDABEABCADBCBAADD...|BEDEEEAADBEBACABC...|                1|          120|          120|          120|          120|          120|            600|   C|   F|   F|   B|   4|   C|   A|   B|   C|   B|   A|   B|   A|   A|   A|   B|   A|   A|   B|   A|   A|   D|   A|   A|   B|\n",
            "|190001237815|  2019|              2|      F|              1|          1|               1|              2|              0|        2|        1|           0|         3125101|             Extrema|       31|       MG|                     2|                 1|              1|           3125101|             Extrema|         31|         MG|             1|             1|             1|             1|        503|        508|        512|        515|     624.5|     636.9|     635.8|     698.7|CAECCCEEADDBCDDAB...|ABACADBBCEEEBCAAD...|BBEDA99999CBABDBC...|ECEADBEBAECBADAAC...|        0|AAECACDEADCBCDDDB...|CBABADBBCEEEBCBAD...|BBEDABDACACBABAEC...|EEEADBEBACABCDBAB...|                1|          160|          140|          160|          160|          180|            800|   C|   G|   C|   D|   4|   K|   A|   C|   C|   B|   B|   B|   A|   B|   A|   B|   A|   B|   C|   B|   A|   E|   A|   C|   B|\n",
            "|190001925229|  2019|              3|      M|              1|          3|               1|              2|              0|        2|        1|           0|         2304400|           Fortaleza|       23|       CE|                     2|                 1|              1|           2304400|           Fortaleza|         23|         CE|             1|             1|             1|             1|        505|        509|        514|        518|     416.3|     489.4|     501.7|     394.4|ABCBADCCACDCBBAAB...|CCBEEAACABDBABAEC...|99999AEBEAABCBCDE...|ECDCABDEBBCECDCDC...|        1|DADCCEBBCCACBEEBE...|ACACEEBCCBABADBBB...|EBBADCABDABACBCEB...|DBEBACABCDBABECEE...|                1|          160|          200|          120|          160|           80|            720|   D|   B|   F|   F|   5|   A|   A|   B|   A|   A|   A|   B|   A|   A|   A|   A|   A|   A|   B|   A|   A|   D|   A|   A|   B|\n",
            "+------------+------+---------------+-------+---------------+-----------+----------------+---------------+---------------+---------+---------+------------+----------------+--------------------+---------+---------+----------------------+------------------+---------------+------------------+--------------------+-----------+-----------+--------------+--------------+--------------+--------------+-----------+-----------+-----------+-----------+----------+----------+----------+----------+--------------------+--------------------+--------------------+--------------------+---------+--------------------+--------------------+--------------------+--------------------+-----------------+-------------+-------------+-------------+-------------+-------------+---------------+----+----+----+----+----+----+----+----+----+----+----+----+----+----+----+----+----+----+----+----+----+----+----+----+----+\n",
            "only showing top 20 rows\n",
            "\n"
          ]
        }
      ]
    },
    {
      "cell_type": "code",
      "source": [
        "# Fazendo backup\n",
        "bkp = enem_2019"
      ],
      "metadata": {
        "id": "at8_B7Z9NV9g"
      },
      "execution_count": 103,
      "outputs": []
    },
    {
      "cell_type": "code",
      "source": [
        "# Aplicando alteração:\n",
        "enem_2019 = enem_2019.dropna(how='any',subset=[\"NU_NOTA_CN\",\n",
        "                                   \"NU_NOTA_CH\",\n",
        "                                   \"NU_NOTA_LC\",\n",
        "                                   \"NU_NOTA_MT\",\n",
        "                                   \"NU_NOTA_REDACAO\"])"
      ],
      "metadata": {
        "id": "od2PGLhMNehR"
      },
      "execution_count": 104,
      "outputs": []
    },
    {
      "cell_type": "code",
      "source": [
        "# Validando a alteração: verificando se existem valores nulos nas colunas especificadas\n",
        "enem_2019.filter((enem_2019[\"NU_NOTA_CN\"].isNull()) |\n",
        "                 (enem_2019[\"NU_NOTA_CH\"].isNull()) |\n",
        "                 (enem_2019[\"NU_NOTA_LC\"].isNull()) |\n",
        "                 (enem_2019[\"NU_NOTA_MT\"].isNull()) |\n",
        "                 (enem_2019[\"NU_NOTA_REDACAO\"].isNull())).show()"
      ],
      "metadata": {
        "colab": {
          "base_uri": "https://localhost:8080/"
        },
        "id": "Bk_gtrFSNmOG",
        "outputId": "0e2ef272-e199-450b-d005-2f0dcf0958ca"
      },
      "execution_count": 105,
      "outputs": [
        {
          "output_type": "stream",
          "name": "stdout",
          "text": [
            "+------------+------+---------------+-------+---------------+-----------+----------------+---------------+---------------+---------+---------+------------+----------------+----------------+---------+---------+----------------------+------------------+---------------+------------------+------------------+-----------+-----------+--------------+--------------+--------------+--------------+-----------+-----------+-----------+-----------+----------+----------+----------+----------+---------------+---------------+---------------+---------------+---------+--------------+--------------+--------------+--------------+-----------------+-------------+-------------+-------------+-------------+-------------+---------------+----+----+----+----+----+----+----+----+----+----+----+----+----+----+----+----+----+----+----+----+----+----+----+----+----+\n",
            "|NU_INSCRICAO|NU_ANO|TP_FAIXA_ETARIA|TP_SEXO|TP_ESTADO_CIVIL|TP_COR_RACA|TP_NACIONALIDADE|TP_ST_CONCLUSAO|TP_ANO_CONCLUIU|TP_ESCOLA|TP_ENSINO|IN_TREINEIRO|CO_MUNICIPIO_ESC|NO_MUNICIPIO_ESC|CO_UF_ESC|SG_UF_ESC|TP_DEPENDENCIA_ADM_ESC|TP_LOCALIZACAO_ESC|TP_SIT_FUNC_ESC|CO_MUNICIPIO_PROVA|NO_MUNICIPIO_PROVA|CO_UF_PROVA|SG_UF_PROVA|TP_PRESENCA_CN|TP_PRESENCA_CH|TP_PRESENCA_LC|TP_PRESENCA_MT|CO_PROVA_CN|CO_PROVA_CH|CO_PROVA_LC|CO_PROVA_MT|NU_NOTA_CN|NU_NOTA_CH|NU_NOTA_LC|NU_NOTA_MT|TX_RESPOSTAS_CN|TX_RESPOSTAS_CH|TX_RESPOSTAS_LC|TX_RESPOSTAS_MT|TP_LINGUA|TX_GABARITO_CN|TX_GABARITO_CH|TX_GABARITO_LC|TX_GABARITO_MT|TP_STATUS_REDACAO|NU_NOTA_COMP1|NU_NOTA_COMP2|NU_NOTA_COMP3|NU_NOTA_COMP4|NU_NOTA_COMP5|NU_NOTA_REDACAO|Q001|Q002|Q003|Q004|Q005|Q006|Q007|Q008|Q009|Q010|Q011|Q012|Q013|Q014|Q015|Q016|Q017|Q018|Q019|Q020|Q021|Q022|Q023|Q024|Q025|\n",
            "+------------+------+---------------+-------+---------------+-----------+----------------+---------------+---------------+---------+---------+------------+----------------+----------------+---------+---------+----------------------+------------------+---------------+------------------+------------------+-----------+-----------+--------------+--------------+--------------+--------------+-----------+-----------+-----------+-----------+----------+----------+----------+----------+---------------+---------------+---------------+---------------+---------+--------------+--------------+--------------+--------------+-----------------+-------------+-------------+-------------+-------------+-------------+---------------+----+----+----+----+----+----+----+----+----+----+----+----+----+----+----+----+----+----+----+----+----+----+----+----+----+\n",
            "+------------+------+---------------+-------+---------------+-----------+----------------+---------------+---------------+---------+---------+------------+----------------+----------------+---------+---------+----------------------+------------------+---------------+------------------+------------------+-----------+-----------+--------------+--------------+--------------+--------------+-----------+-----------+-----------+-----------+----------+----------+----------+----------+---------------+---------------+---------------+---------------+---------+--------------+--------------+--------------+--------------+-----------------+-------------+-------------+-------------+-------------+-------------+---------------+----+----+----+----+----+----+----+----+----+----+----+----+----+----+----+----+----+----+----+----+----+----+----+----+----+\n",
            "\n"
          ]
        }
      ]
    },
    {
      "cell_type": "code",
      "execution_count": 106,
      "metadata": {
        "colab": {
          "base_uri": "https://localhost:8080/"
        },
        "id": "m8F2N3DfhwYk",
        "outputId": "ab0a0d98-1661-4b55-d5f8-6046ad5068bb"
      },
      "outputs": [
        {
          "output_type": "stream",
          "name": "stdout",
          "text": [
            "+------------+------+---------------+-------+---------------+-----------+----------------+---------+------------+---------+----------------------+------------------+--------------------+----------+----------+----------+----------+---------------+\n",
            "|NU_INSCRICAO|NU_ANO|TP_FAIXA_ETARIA|TP_SEXO|TP_ESTADO_CIVIL|TP_COR_RACA|TP_NACIONALIDADE|TP_ESCOLA|IN_TREINEIRO|SG_UF_ESC|TP_DEPENDENCIA_ADM_ESC|TP_LOCALIZACAO_ESC|  NO_MUNICIPIO_PROVA|NU_NOTA_CN|NU_NOTA_CH|NU_NOTA_LC|NU_NOTA_MT|NU_NOTA_REDACAO|\n",
            "+------------+------+---------------+-------+---------------+-----------+----------------+---------+------------+---------+----------------------+------------------+--------------------+----------+----------+----------+----------+---------------+\n",
            "|190001592266|  2019|              2|      M|              1|          1|               1|        2|           0|     NULL|                  NULL|              NULL|           S�o Paulo|     543.9|     548.1|     502.5|     480.7|            400|\n",
            "|190001421547|  2019|              4|      M|              1|          3|               1|        1|           1|     NULL|                  NULL|              NULL|            Guanambi|     390.1|     453.0|     515.2|     461.5|            520|\n",
            "|190001867757|  2019|              2|      F|              1|          1|               1|        3|           0|       PR|                     4|                 1|           Apucarana|     618.2|     744.7|     636.3|     713.7|            900|\n",
            "|190001692704|  2019|              3|      F|              1|          1|               1|        2|           0|       RS|                     2|                 1|            Alvorada|     430.4|     466.8|     515.9|     394.1|            580|\n",
            "|190001595660|  2019|              2|      F|              1|          2|               1|        2|           0|       SP|                     2|                 1|     Itaquaquecetuba|     371.8|     501.4|     518.6|     442.0|            660|\n",
            "|190001421552|  2019|              2|      M|              1|          2|               1|        2|           0|       BA|                     2|                 1|    Lauro de Freitas|     567.3|     584.1|     595.8|     704.5|            620|\n",
            "|190001421555|  2019|              4|      M|              1|          3|               1|        1|           1|     NULL|                  NULL|              NULL|          Alagoinhas|     421.1|     469.9|     435.6|     527.4|              0|\n",
            "|190001480443|  2019|              3|      M|              2|          3|               4|        2|           0|       PB|                     2|                 1|          Santa Rita|     373.2|     409.6|     469.5|     379.1|            480|\n",
            "|190001082475|  2019|              2|      F|              1|          3|               1|        2|           0|       AM|                     2|                 1|              Manaus|     385.8|     436.3|     393.8|     370.0|            260|\n",
            "|190002037440|  2019|              2|      M|              1|          3|               1|        2|           0|       DF|                     2|                 1|            Bras�lia|     389.7|     431.1|     482.0|     529.7|            560|\n",
            "|190001121527|  2019|              2|      F|              3|          1|               1|        2|           0|       PI|                     1|                 1|            Parna�ba|     427.6|     548.8|     587.2|     699.3|            820|\n",
            "|190001042836|  2019|              2|      F|              1|          2|               1|        2|           0|       PA|                     2|                 1|               Bel�m|     510.9|     585.4|     578.4|     605.2|            880|\n",
            "|190001421560|  2019|              4|      M|              1|          3|               1|        2|           0|       BA|                     2|                 1|S�o Sebasti�o do ...|     361.2|     499.0|     403.5|     392.5|            560|\n",
            "|190001121528|  2019|              2|      F|              1|          3|               1|        2|           0|       PI|                     2|                 1|            Piripiri|     556.8|     487.0|     571.8|     578.5|            800|\n",
            "|190001595672|  2019|              3|      M|              1|          1|               1|        2|           0|       SP|                     2|                 1|              Araras|     537.0|     585.3|     590.1|     661.4|            540|\n",
            "|190001867760|  2019|              3|      M|              1|          3|               1|        2|           0|       PR|                     2|                 1|        Campo Mour�o|     523.2|     469.3|     508.4|     679.4|            640|\n",
            "|190001595675|  2019|              2|      F|              1|          1|               1|        2|           0|       SP|                     2|                 1|             Mar�lia|     423.9|     500.4|     472.3|     503.9|            620|\n",
            "|190001779797|  2019|              2|      F|              1|          3|               1|        2|           0|     NULL|                  NULL|              NULL|�guas Lindas de G...|     467.9|     548.7|     536.1|     392.4|            600|\n",
            "|190001237815|  2019|              2|      F|              1|          1|               1|        2|           0|       MG|                     2|                 1|             Extrema|     624.5|     636.9|     635.8|     698.7|            800|\n",
            "|190001925229|  2019|              3|      M|              1|          3|               1|        2|           0|       CE|                     2|                 1|           Fortaleza|     416.3|     489.4|     501.7|     394.4|            720|\n",
            "+------------+------+---------------+-------+---------------+-----------+----------------+---------+------------+---------+----------------------+------------------+--------------------+----------+----------+----------+----------+---------------+\n",
            "only showing top 20 rows\n",
            "\n"
          ]
        }
      ],
      "source": [
        "# Filtrando colunas que não interessam para esta analise:\n",
        "enem_2019.drop(\"TP_ANO_CONCLUIU\",\n",
        "               \"TP_ST_CONCLUSAO\",\n",
        "               \"CO_MUNICIPIO_ESC\",\n",
        "               \"CO_UF_ESC\",\n",
        "               \"CO_MUNICIPIO_PROVA\",\n",
        "               \"NO_MUNICIPIO_ESC\",\n",
        "               \"TP_SIT_FUNC_ESC\",\n",
        "               \"TP_ENSINO\",\n",
        "               \"TX_RESPOSTAS_CN\",\n",
        "               \"TX_RESPOSTAS_CH\",\n",
        "               \"TX_RESPOSTAS_LC\",\n",
        "               \"TX_RESPOSTAS_MT\",\n",
        "               \"TP_LINGUA\",\n",
        "               \"TX_GABARITO_CN\",\n",
        "               \"TX_GABARITO_CH\",\n",
        "               \"TX_GABARITO_LC\",\n",
        "               \"TX_GABARITO_MT\",\n",
        "               \"TP_STATUS_REDACAO\",\n",
        "               \"NU_NOTA_COMP1\",\n",
        "               \"NU_NOTA_COMP2\",\n",
        "               \"NU_NOTA_COMP3\",\n",
        "               \"NU_NOTA_COMP4\",\n",
        "               \"NU_NOTA_COMP5\",\n",
        "               \"CO_UF_PROVA\",\n",
        "               \"SG_UF_PROVA\",\n",
        "               \"TP_PRESENCA_CN\",\n",
        "               \"TP_PRESENCA_CH\",\n",
        "               \"TP_PRESENCA_LC\",\n",
        "               \"TP_PRESENCA_MT\",\n",
        "               \"CO_PROVA_CN\",\n",
        "               \"CO_PROVA_CH\",\n",
        "               \"CO_PROVA_LC\",\n",
        "               \"CO_PROVA_MT\",\n",
        "               \"Q001\",\n",
        "               \"Q002\",\n",
        "               \"Q003\",\n",
        "               \"Q004\",\n",
        "               \"Q005\",\n",
        "               \"Q006\",\n",
        "               \"Q007\",\n",
        "               \"Q008\",\n",
        "               \"Q009\",\n",
        "               \"Q010\",\n",
        "               \"Q011\",\n",
        "               \"Q012\",\n",
        "               \"Q013\",\n",
        "               \"Q014\",\n",
        "               \"Q015\",\n",
        "               \"Q016\",\n",
        "               \"Q017\",\n",
        "               \"Q018\",\n",
        "               \"Q019\",\n",
        "               \"Q020\",\n",
        "               \"Q021\",\n",
        "               \"Q022\",\n",
        "               \"Q023\",\n",
        "               \"Q024\",\n",
        "               \"Q025\").show()"
      ]
    },
    {
      "cell_type": "code",
      "execution_count": 107,
      "metadata": {
        "id": "DoWRsTMPjuPK"
      },
      "outputs": [],
      "source": [
        "# Aplicando Data frame\n",
        "enem_2019 = enem_2019.drop(\n",
        "               \"TP_ANO_CONCLUIU\",\n",
        "               \"TP_ESTADO_CIVIL\",\n",
        "               \"TP_ST_CONCLUSAO\",\n",
        "               \"CO_MUNICIPIO_ESC\",\n",
        "               \"CO_UF_ESC\",\n",
        "               \"CO_MUNICIPIO_PROVA\",\n",
        "               \"NO_MUNICIPIO_ESC\",\n",
        "               \"TP_SIT_FUNC_ESC\",\n",
        "               \"TP_ENSINO\",\n",
        "               \"TX_RESPOSTAS_CN\",\n",
        "               \"TX_RESPOSTAS_CH\",\n",
        "               \"TX_RESPOSTAS_LC\",\n",
        "               \"TX_RESPOSTAS_MT\",\n",
        "               \"TP_LINGUA\",\n",
        "               \"TX_GABARITO_CN\",\n",
        "               \"TX_GABARITO_CH\",\n",
        "               \"TX_GABARITO_LC\",\n",
        "               \"TX_GABARITO_MT\",\n",
        "               \"TP_STATUS_REDACAO\",\n",
        "               \"NU_NOTA_COMP1\",\n",
        "               \"NU_NOTA_COMP2\",\n",
        "               \"NU_NOTA_COMP3\",\n",
        "               \"NU_NOTA_COMP4\",\n",
        "               \"NU_NOTA_COMP5\",\n",
        "               \"CO_UF_PROVA\",\n",
        "               \"SG_UF_PROVA\",\n",
        "               \"TP_PRESENCA_CN\",\n",
        "               \"TP_PRESENCA_CH\",\n",
        "               \"TP_PRESENCA_LC\",\n",
        "               \"TP_PRESENCA_MT\",\n",
        "               \"CO_PROVA_CN\",\n",
        "               \"CO_PROVA_CH\",\n",
        "               \"CO_PROVA_LC\",\n",
        "               \"CO_PROVA_MT\",\n",
        "               \"Q001\",\n",
        "               \"Q002\",\n",
        "               \"Q003\",\n",
        "               \"Q004\",\n",
        "               \"Q005\",\n",
        "               \"Q006\",\n",
        "               \"Q007\",\n",
        "               \"Q008\",\n",
        "               \"Q009\",\n",
        "               \"Q010\",\n",
        "               \"Q011\",\n",
        "               \"Q012\",\n",
        "               \"Q013\",\n",
        "               \"Q014\",\n",
        "               \"Q015\",\n",
        "               \"Q016\",\n",
        "               \"Q017\",\n",
        "               \"Q018\",\n",
        "               \"Q019\",\n",
        "               \"Q020\",\n",
        "               \"Q021\",\n",
        "               \"Q022\",\n",
        "               \"Q023\",\n",
        "               \"Q024\",\n",
        "               \"Q025\")"
      ]
    },
    {
      "cell_type": "code",
      "execution_count": 108,
      "metadata": {
        "id": "pzHhViDYm9uM",
        "colab": {
          "base_uri": "https://localhost:8080/"
        },
        "outputId": "952cec84-23b7-4a24-e1d8-13defe1fc2b7"
      },
      "outputs": [
        {
          "output_type": "stream",
          "name": "stdout",
          "text": [
            "+------------+------+---------------+-------+-----------+----------------+---------+------------+---------+----------------------+------------------+--------------------+----------+----------+----------+----------+---------------+\n",
            "|NU_INSCRICAO|NU_ANO|TP_FAIXA_ETARIA|TP_SEXO|TP_COR_RACA|TP_NACIONALIDADE|TP_ESCOLA|IN_TREINEIRO|SG_UF_ESC|TP_DEPENDENCIA_ADM_ESC|TP_LOCALIZACAO_ESC|  NO_MUNICIPIO_PROVA|NU_NOTA_CN|NU_NOTA_CH|NU_NOTA_LC|NU_NOTA_MT|NU_NOTA_REDACAO|\n",
            "+------------+------+---------------+-------+-----------+----------------+---------+------------+---------+----------------------+------------------+--------------------+----------+----------+----------+----------+---------------+\n",
            "|190001592266|  2019|              2|      M|          1|               1|        2|           0|     NULL|                  NULL|              NULL|           S�o Paulo|     543.9|     548.1|     502.5|     480.7|            400|\n",
            "|190001421547|  2019|              4|      M|          3|               1|        1|           1|     NULL|                  NULL|              NULL|            Guanambi|     390.1|     453.0|     515.2|     461.5|            520|\n",
            "|190001867757|  2019|              2|      F|          1|               1|        3|           0|       PR|                     4|                 1|           Apucarana|     618.2|     744.7|     636.3|     713.7|            900|\n",
            "|190001692704|  2019|              3|      F|          1|               1|        2|           0|       RS|                     2|                 1|            Alvorada|     430.4|     466.8|     515.9|     394.1|            580|\n",
            "|190001595660|  2019|              2|      F|          2|               1|        2|           0|       SP|                     2|                 1|     Itaquaquecetuba|     371.8|     501.4|     518.6|     442.0|            660|\n",
            "|190001421552|  2019|              2|      M|          2|               1|        2|           0|       BA|                     2|                 1|    Lauro de Freitas|     567.3|     584.1|     595.8|     704.5|            620|\n",
            "|190001421555|  2019|              4|      M|          3|               1|        1|           1|     NULL|                  NULL|              NULL|          Alagoinhas|     421.1|     469.9|     435.6|     527.4|              0|\n",
            "|190001480443|  2019|              3|      M|          3|               4|        2|           0|       PB|                     2|                 1|          Santa Rita|     373.2|     409.6|     469.5|     379.1|            480|\n",
            "|190001082475|  2019|              2|      F|          3|               1|        2|           0|       AM|                     2|                 1|              Manaus|     385.8|     436.3|     393.8|     370.0|            260|\n",
            "|190002037440|  2019|              2|      M|          3|               1|        2|           0|       DF|                     2|                 1|            Bras�lia|     389.7|     431.1|     482.0|     529.7|            560|\n",
            "|190001121527|  2019|              2|      F|          1|               1|        2|           0|       PI|                     1|                 1|            Parna�ba|     427.6|     548.8|     587.2|     699.3|            820|\n",
            "|190001042836|  2019|              2|      F|          2|               1|        2|           0|       PA|                     2|                 1|               Bel�m|     510.9|     585.4|     578.4|     605.2|            880|\n",
            "|190001421560|  2019|              4|      M|          3|               1|        2|           0|       BA|                     2|                 1|S�o Sebasti�o do ...|     361.2|     499.0|     403.5|     392.5|            560|\n",
            "|190001121528|  2019|              2|      F|          3|               1|        2|           0|       PI|                     2|                 1|            Piripiri|     556.8|     487.0|     571.8|     578.5|            800|\n",
            "|190001595672|  2019|              3|      M|          1|               1|        2|           0|       SP|                     2|                 1|              Araras|     537.0|     585.3|     590.1|     661.4|            540|\n",
            "|190001867760|  2019|              3|      M|          3|               1|        2|           0|       PR|                     2|                 1|        Campo Mour�o|     523.2|     469.3|     508.4|     679.4|            640|\n",
            "|190001595675|  2019|              2|      F|          1|               1|        2|           0|       SP|                     2|                 1|             Mar�lia|     423.9|     500.4|     472.3|     503.9|            620|\n",
            "|190001779797|  2019|              2|      F|          3|               1|        2|           0|     NULL|                  NULL|              NULL|�guas Lindas de G...|     467.9|     548.7|     536.1|     392.4|            600|\n",
            "|190001237815|  2019|              2|      F|          1|               1|        2|           0|       MG|                     2|                 1|             Extrema|     624.5|     636.9|     635.8|     698.7|            800|\n",
            "|190001925229|  2019|              3|      M|          3|               1|        2|           0|       CE|                     2|                 1|           Fortaleza|     416.3|     489.4|     501.7|     394.4|            720|\n",
            "+------------+------+---------------+-------+-----------+----------------+---------+------------+---------+----------------------+------------------+--------------------+----------+----------+----------+----------+---------------+\n",
            "only showing top 20 rows\n",
            "\n"
          ]
        }
      ],
      "source": [
        "enem_2019.show()"
      ]
    },
    {
      "cell_type": "code",
      "source": [
        "# Renomenando colunas:\n",
        "enem_2019.withColumnsRenamed({\n",
        "    \"NU_INSCRICAO\":\"inscricao\",\n",
        "    \"NU_ANO\":\"ano_prova\",\n",
        "    \"TP_FAIXA_ETARIA\":\"faixa_etaria\",\n",
        "    \"TP_SEXO\":\"genero\",\n",
        "    \"TP_COR_RACA\":\"cor_raca\",\n",
        "    \"TP_NACIONALIDADE\":\"nacionalidade\",\n",
        "    \"TP_ESCOLA\": \"tipo_escola\",\n",
        "    \"IN_TREINEIRO\": \"treineiro\",\n",
        "    \"SG_UF_ESC\":\"uf_escola\",\n",
        "    \"TP_DEPENDENCIA_ADM_ESC\":\"dependencia_esc\",\n",
        "    \"TP_LOCALIZACAO_ESC\":\"localizacao_esc\",\n",
        "    \"NO_MUNICIPIO_PROVA\":\"municipio_esc\",\n",
        "    \"NU_NOTA_CN\":\"n_ciencias_nat\",\n",
        "    \"NU_NOTA_CH\":\"n_ciencias_hum\",\n",
        "    \"NU_NOTA_LC\":\"n_linguagens_cod\",\n",
        "    \"NU_NOTA_MT\":\"n_matematica\",\n",
        "    \"NU_NOTA_REDACAO\":\"n_redacao\"\n",
        "}).show()"
      ],
      "metadata": {
        "colab": {
          "base_uri": "https://localhost:8080/"
        },
        "id": "Ybz4omFW6SGD",
        "outputId": "a2f8c48b-e0a2-4764-9851-c55a6610bd23"
      },
      "execution_count": 109,
      "outputs": [
        {
          "output_type": "stream",
          "name": "stdout",
          "text": [
            "+------------+---------+------------+------+--------+-------------+-----------+---------+---------+---------------+---------------+--------------------+--------------+--------------+----------------+------------+---------+\n",
            "|   inscricao|ano_prova|faixa_etaria|genero|cor_raca|nacionalidade|tipo_escola|treineiro|uf_escola|dependencia_esc|localizacao_esc|       municipio_esc|n_ciencias_nat|n_ciencias_hum|n_linguagens_cod|n_matematica|n_redacao|\n",
            "+------------+---------+------------+------+--------+-------------+-----------+---------+---------+---------------+---------------+--------------------+--------------+--------------+----------------+------------+---------+\n",
            "|190001592266|     2019|           2|     M|       1|            1|          2|        0|     NULL|           NULL|           NULL|           S�o Paulo|         543.9|         548.1|           502.5|       480.7|      400|\n",
            "|190001421547|     2019|           4|     M|       3|            1|          1|        1|     NULL|           NULL|           NULL|            Guanambi|         390.1|         453.0|           515.2|       461.5|      520|\n",
            "|190001867757|     2019|           2|     F|       1|            1|          3|        0|       PR|              4|              1|           Apucarana|         618.2|         744.7|           636.3|       713.7|      900|\n",
            "|190001692704|     2019|           3|     F|       1|            1|          2|        0|       RS|              2|              1|            Alvorada|         430.4|         466.8|           515.9|       394.1|      580|\n",
            "|190001595660|     2019|           2|     F|       2|            1|          2|        0|       SP|              2|              1|     Itaquaquecetuba|         371.8|         501.4|           518.6|       442.0|      660|\n",
            "|190001421552|     2019|           2|     M|       2|            1|          2|        0|       BA|              2|              1|    Lauro de Freitas|         567.3|         584.1|           595.8|       704.5|      620|\n",
            "|190001421555|     2019|           4|     M|       3|            1|          1|        1|     NULL|           NULL|           NULL|          Alagoinhas|         421.1|         469.9|           435.6|       527.4|        0|\n",
            "|190001480443|     2019|           3|     M|       3|            4|          2|        0|       PB|              2|              1|          Santa Rita|         373.2|         409.6|           469.5|       379.1|      480|\n",
            "|190001082475|     2019|           2|     F|       3|            1|          2|        0|       AM|              2|              1|              Manaus|         385.8|         436.3|           393.8|       370.0|      260|\n",
            "|190002037440|     2019|           2|     M|       3|            1|          2|        0|       DF|              2|              1|            Bras�lia|         389.7|         431.1|           482.0|       529.7|      560|\n",
            "|190001121527|     2019|           2|     F|       1|            1|          2|        0|       PI|              1|              1|            Parna�ba|         427.6|         548.8|           587.2|       699.3|      820|\n",
            "|190001042836|     2019|           2|     F|       2|            1|          2|        0|       PA|              2|              1|               Bel�m|         510.9|         585.4|           578.4|       605.2|      880|\n",
            "|190001421560|     2019|           4|     M|       3|            1|          2|        0|       BA|              2|              1|S�o Sebasti�o do ...|         361.2|         499.0|           403.5|       392.5|      560|\n",
            "|190001121528|     2019|           2|     F|       3|            1|          2|        0|       PI|              2|              1|            Piripiri|         556.8|         487.0|           571.8|       578.5|      800|\n",
            "|190001595672|     2019|           3|     M|       1|            1|          2|        0|       SP|              2|              1|              Araras|         537.0|         585.3|           590.1|       661.4|      540|\n",
            "|190001867760|     2019|           3|     M|       3|            1|          2|        0|       PR|              2|              1|        Campo Mour�o|         523.2|         469.3|           508.4|       679.4|      640|\n",
            "|190001595675|     2019|           2|     F|       1|            1|          2|        0|       SP|              2|              1|             Mar�lia|         423.9|         500.4|           472.3|       503.9|      620|\n",
            "|190001779797|     2019|           2|     F|       3|            1|          2|        0|     NULL|           NULL|           NULL|�guas Lindas de G...|         467.9|         548.7|           536.1|       392.4|      600|\n",
            "|190001237815|     2019|           2|     F|       1|            1|          2|        0|       MG|              2|              1|             Extrema|         624.5|         636.9|           635.8|       698.7|      800|\n",
            "|190001925229|     2019|           3|     M|       3|            1|          2|        0|       CE|              2|              1|           Fortaleza|         416.3|         489.4|           501.7|       394.4|      720|\n",
            "+------------+---------+------------+------+--------+-------------+-----------+---------+---------+---------------+---------------+--------------------+--------------+--------------+----------------+------------+---------+\n",
            "only showing top 20 rows\n",
            "\n"
          ]
        }
      ]
    },
    {
      "cell_type": "code",
      "source": [
        "# Aplicando alterações\n",
        "enem_2019=enem_2019.withColumnsRenamed({\n",
        "    \"NU_INSCRICAO\":\"inscricao\",\n",
        "    \"NU_ANO\":\"ano_prova\",\n",
        "    \"TP_FAIXA_ETARIA\":\"faixa_etaria\",\n",
        "    \"TP_SEXO\":\"genero\",\n",
        "    \"TP_COR_RACA\":\"cor_raca\",\n",
        "    \"TP_NACIONALIDADE\":\"nacionalidade\",\n",
        "    \"TP_ESCOLA\": \"tipo_escola\",\n",
        "    \"IN_TREINEIRO\": \"treineiro\",\n",
        "    \"SG_UF_ESC\":\"uf_escola\",\n",
        "    \"TP_DEPENDENCIA_ADM_ESC\":\"dependencia_esc\",\n",
        "    \"TP_LOCALIZACAO_ESC\":\"localizacao_esc\",\n",
        "    \"NO_MUNICIPIO_PROVA\":\"municipio_esc\",\n",
        "    \"NU_NOTA_CN\":\"n_ciencias_nat\",\n",
        "    \"NU_NOTA_CH\":\"n_ciencias_hum\",\n",
        "    \"NU_NOTA_LC\":\"n_linguagens_cod\",\n",
        "    \"NU_NOTA_MT\":\"n_matematica\",\n",
        "    \"NU_NOTA_REDACAO\":\"n_redacao\"\n",
        "})"
      ],
      "metadata": {
        "id": "PjrDDYCv9HCR"
      },
      "execution_count": 110,
      "outputs": []
    },
    {
      "cell_type": "code",
      "source": [
        "enem_2019.show()"
      ],
      "metadata": {
        "colab": {
          "base_uri": "https://localhost:8080/"
        },
        "id": "GL4UY4viAPnA",
        "outputId": "34c7a8d4-f6a1-4d73-8df7-f33e575cdcc3"
      },
      "execution_count": 111,
      "outputs": [
        {
          "output_type": "stream",
          "name": "stdout",
          "text": [
            "+------------+---------+------------+------+--------+-------------+-----------+---------+---------+---------------+---------------+--------------------+--------------+--------------+----------------+------------+---------+\n",
            "|   inscricao|ano_prova|faixa_etaria|genero|cor_raca|nacionalidade|tipo_escola|treineiro|uf_escola|dependencia_esc|localizacao_esc|       municipio_esc|n_ciencias_nat|n_ciencias_hum|n_linguagens_cod|n_matematica|n_redacao|\n",
            "+------------+---------+------------+------+--------+-------------+-----------+---------+---------+---------------+---------------+--------------------+--------------+--------------+----------------+------------+---------+\n",
            "|190001592266|     2019|           2|     M|       1|            1|          2|        0|     NULL|           NULL|           NULL|           S�o Paulo|         543.9|         548.1|           502.5|       480.7|      400|\n",
            "|190001421547|     2019|           4|     M|       3|            1|          1|        1|     NULL|           NULL|           NULL|            Guanambi|         390.1|         453.0|           515.2|       461.5|      520|\n",
            "|190001867757|     2019|           2|     F|       1|            1|          3|        0|       PR|              4|              1|           Apucarana|         618.2|         744.7|           636.3|       713.7|      900|\n",
            "|190001692704|     2019|           3|     F|       1|            1|          2|        0|       RS|              2|              1|            Alvorada|         430.4|         466.8|           515.9|       394.1|      580|\n",
            "|190001595660|     2019|           2|     F|       2|            1|          2|        0|       SP|              2|              1|     Itaquaquecetuba|         371.8|         501.4|           518.6|       442.0|      660|\n",
            "|190001421552|     2019|           2|     M|       2|            1|          2|        0|       BA|              2|              1|    Lauro de Freitas|         567.3|         584.1|           595.8|       704.5|      620|\n",
            "|190001421555|     2019|           4|     M|       3|            1|          1|        1|     NULL|           NULL|           NULL|          Alagoinhas|         421.1|         469.9|           435.6|       527.4|        0|\n",
            "|190001480443|     2019|           3|     M|       3|            4|          2|        0|       PB|              2|              1|          Santa Rita|         373.2|         409.6|           469.5|       379.1|      480|\n",
            "|190001082475|     2019|           2|     F|       3|            1|          2|        0|       AM|              2|              1|              Manaus|         385.8|         436.3|           393.8|       370.0|      260|\n",
            "|190002037440|     2019|           2|     M|       3|            1|          2|        0|       DF|              2|              1|            Bras�lia|         389.7|         431.1|           482.0|       529.7|      560|\n",
            "|190001121527|     2019|           2|     F|       1|            1|          2|        0|       PI|              1|              1|            Parna�ba|         427.6|         548.8|           587.2|       699.3|      820|\n",
            "|190001042836|     2019|           2|     F|       2|            1|          2|        0|       PA|              2|              1|               Bel�m|         510.9|         585.4|           578.4|       605.2|      880|\n",
            "|190001421560|     2019|           4|     M|       3|            1|          2|        0|       BA|              2|              1|S�o Sebasti�o do ...|         361.2|         499.0|           403.5|       392.5|      560|\n",
            "|190001121528|     2019|           2|     F|       3|            1|          2|        0|       PI|              2|              1|            Piripiri|         556.8|         487.0|           571.8|       578.5|      800|\n",
            "|190001595672|     2019|           3|     M|       1|            1|          2|        0|       SP|              2|              1|              Araras|         537.0|         585.3|           590.1|       661.4|      540|\n",
            "|190001867760|     2019|           3|     M|       3|            1|          2|        0|       PR|              2|              1|        Campo Mour�o|         523.2|         469.3|           508.4|       679.4|      640|\n",
            "|190001595675|     2019|           2|     F|       1|            1|          2|        0|       SP|              2|              1|             Mar�lia|         423.9|         500.4|           472.3|       503.9|      620|\n",
            "|190001779797|     2019|           2|     F|       3|            1|          2|        0|     NULL|           NULL|           NULL|�guas Lindas de G...|         467.9|         548.7|           536.1|       392.4|      600|\n",
            "|190001237815|     2019|           2|     F|       1|            1|          2|        0|       MG|              2|              1|             Extrema|         624.5|         636.9|           635.8|       698.7|      800|\n",
            "|190001925229|     2019|           3|     M|       3|            1|          2|        0|       CE|              2|              1|           Fortaleza|         416.3|         489.4|           501.7|       394.4|      720|\n",
            "+------------+---------+------------+------+--------+-------------+-----------+---------+---------+---------------+---------------+--------------------+--------------+--------------+----------------+------------+---------+\n",
            "only showing top 20 rows\n",
            "\n"
          ]
        }
      ]
    },
    {
      "cell_type": "code",
      "source": [
        "# Alterando valores das colunas segundo dicionario de dados\n",
        "enem_2019.withColumn(    \"faixa_etaria\",\n",
        "                         f.when(enem_2019.faixa_etaria == 1, \"MENOR QUE 17\")\\\n",
        "                         .when(enem_2019.faixa_etaria == 2, \"17\")\\\n",
        "                         .when(enem_2019.faixa_etaria == 3, \"18\")\\\n",
        "                         .when(enem_2019.faixa_etaria == 4, \"19\")\\\n",
        "                         .when(enem_2019.faixa_etaria == 5, \"20\")\\\n",
        "                         .when(enem_2019.faixa_etaria == 6, \"21\")\\\n",
        "                         .when(enem_2019.faixa_etaria == 7, \"22\")\\\n",
        "                         .when(enem_2019.faixa_etaria == 8, \"23\")\\\n",
        "                         .when(enem_2019.faixa_etaria == 9, \"24\")\\\n",
        "                         .when(enem_2019.faixa_etaria == 10, \"25\").otherwise(\"N/I\")\n",
        "                         ).show()"
      ],
      "metadata": {
        "colab": {
          "base_uri": "https://localhost:8080/"
        },
        "id": "fwha3EZTARsv",
        "outputId": "de8df6c3-37ea-4d4a-d3a9-c0aa2e39bcc6"
      },
      "execution_count": 112,
      "outputs": [
        {
          "output_type": "stream",
          "name": "stdout",
          "text": [
            "+------------+---------+------------+------+--------+-------------+-----------+---------+---------+---------------+---------------+--------------------+--------------+--------------+----------------+------------+---------+\n",
            "|   inscricao|ano_prova|faixa_etaria|genero|cor_raca|nacionalidade|tipo_escola|treineiro|uf_escola|dependencia_esc|localizacao_esc|       municipio_esc|n_ciencias_nat|n_ciencias_hum|n_linguagens_cod|n_matematica|n_redacao|\n",
            "+------------+---------+------------+------+--------+-------------+-----------+---------+---------+---------------+---------------+--------------------+--------------+--------------+----------------+------------+---------+\n",
            "|190001592266|     2019|          17|     M|       1|            1|          2|        0|     NULL|           NULL|           NULL|           S�o Paulo|         543.9|         548.1|           502.5|       480.7|      400|\n",
            "|190001421547|     2019|          19|     M|       3|            1|          1|        1|     NULL|           NULL|           NULL|            Guanambi|         390.1|         453.0|           515.2|       461.5|      520|\n",
            "|190001867757|     2019|          17|     F|       1|            1|          3|        0|       PR|              4|              1|           Apucarana|         618.2|         744.7|           636.3|       713.7|      900|\n",
            "|190001692704|     2019|          18|     F|       1|            1|          2|        0|       RS|              2|              1|            Alvorada|         430.4|         466.8|           515.9|       394.1|      580|\n",
            "|190001595660|     2019|          17|     F|       2|            1|          2|        0|       SP|              2|              1|     Itaquaquecetuba|         371.8|         501.4|           518.6|       442.0|      660|\n",
            "|190001421552|     2019|          17|     M|       2|            1|          2|        0|       BA|              2|              1|    Lauro de Freitas|         567.3|         584.1|           595.8|       704.5|      620|\n",
            "|190001421555|     2019|          19|     M|       3|            1|          1|        1|     NULL|           NULL|           NULL|          Alagoinhas|         421.1|         469.9|           435.6|       527.4|        0|\n",
            "|190001480443|     2019|          18|     M|       3|            4|          2|        0|       PB|              2|              1|          Santa Rita|         373.2|         409.6|           469.5|       379.1|      480|\n",
            "|190001082475|     2019|          17|     F|       3|            1|          2|        0|       AM|              2|              1|              Manaus|         385.8|         436.3|           393.8|       370.0|      260|\n",
            "|190002037440|     2019|          17|     M|       3|            1|          2|        0|       DF|              2|              1|            Bras�lia|         389.7|         431.1|           482.0|       529.7|      560|\n",
            "|190001121527|     2019|          17|     F|       1|            1|          2|        0|       PI|              1|              1|            Parna�ba|         427.6|         548.8|           587.2|       699.3|      820|\n",
            "|190001042836|     2019|          17|     F|       2|            1|          2|        0|       PA|              2|              1|               Bel�m|         510.9|         585.4|           578.4|       605.2|      880|\n",
            "|190001421560|     2019|          19|     M|       3|            1|          2|        0|       BA|              2|              1|S�o Sebasti�o do ...|         361.2|         499.0|           403.5|       392.5|      560|\n",
            "|190001121528|     2019|          17|     F|       3|            1|          2|        0|       PI|              2|              1|            Piripiri|         556.8|         487.0|           571.8|       578.5|      800|\n",
            "|190001595672|     2019|          18|     M|       1|            1|          2|        0|       SP|              2|              1|              Araras|         537.0|         585.3|           590.1|       661.4|      540|\n",
            "|190001867760|     2019|          18|     M|       3|            1|          2|        0|       PR|              2|              1|        Campo Mour�o|         523.2|         469.3|           508.4|       679.4|      640|\n",
            "|190001595675|     2019|          17|     F|       1|            1|          2|        0|       SP|              2|              1|             Mar�lia|         423.9|         500.4|           472.3|       503.9|      620|\n",
            "|190001779797|     2019|          17|     F|       3|            1|          2|        0|     NULL|           NULL|           NULL|�guas Lindas de G...|         467.9|         548.7|           536.1|       392.4|      600|\n",
            "|190001237815|     2019|          17|     F|       1|            1|          2|        0|       MG|              2|              1|             Extrema|         624.5|         636.9|           635.8|       698.7|      800|\n",
            "|190001925229|     2019|          18|     M|       3|            1|          2|        0|       CE|              2|              1|           Fortaleza|         416.3|         489.4|           501.7|       394.4|      720|\n",
            "+------------+---------+------------+------+--------+-------------+-----------+---------+---------+---------------+---------------+--------------------+--------------+--------------+----------------+------------+---------+\n",
            "only showing top 20 rows\n",
            "\n"
          ]
        }
      ]
    },
    {
      "cell_type": "code",
      "source": [
        "# Implementando alteração:\n",
        "enem_2019 = enem_2019.withColumn(    \"faixa_etaria\",\n",
        "                         f.when(enem_2019.faixa_etaria == 1, \"MENOR QUE 17\")\\\n",
        "                         .when(enem_2019.faixa_etaria == 2, \"17\")\\\n",
        "                         .when(enem_2019.faixa_etaria == 3, \"18\")\\\n",
        "                         .when(enem_2019.faixa_etaria == 4, \"19\")\\\n",
        "                         .when(enem_2019.faixa_etaria == 5, \"20\")\\\n",
        "                         .when(enem_2019.faixa_etaria == 6, \"21\")\\\n",
        "                         .when(enem_2019.faixa_etaria == 7, \"22\")\\\n",
        "                         .when(enem_2019.faixa_etaria == 8, \"23\")\\\n",
        "                         .when(enem_2019.faixa_etaria == 9, \"24\")\\\n",
        "                         .when(enem_2019.faixa_etaria == 10, \"25\").otherwise(\"N/I\")\n",
        "                         )"
      ],
      "metadata": {
        "id": "ICkGub69CK1P"
      },
      "execution_count": 113,
      "outputs": []
    },
    {
      "cell_type": "code",
      "source": [
        "enem_2019.show()"
      ],
      "metadata": {
        "colab": {
          "base_uri": "https://localhost:8080/"
        },
        "id": "HhcI9hMrGoNN",
        "outputId": "e61a4738-bcfa-4432-847f-6f061b00c9a3"
      },
      "execution_count": 114,
      "outputs": [
        {
          "output_type": "stream",
          "name": "stdout",
          "text": [
            "+------------+---------+------------+------+--------+-------------+-----------+---------+---------+---------------+---------------+--------------------+--------------+--------------+----------------+------------+---------+\n",
            "|   inscricao|ano_prova|faixa_etaria|genero|cor_raca|nacionalidade|tipo_escola|treineiro|uf_escola|dependencia_esc|localizacao_esc|       municipio_esc|n_ciencias_nat|n_ciencias_hum|n_linguagens_cod|n_matematica|n_redacao|\n",
            "+------------+---------+------------+------+--------+-------------+-----------+---------+---------+---------------+---------------+--------------------+--------------+--------------+----------------+------------+---------+\n",
            "|190001592266|     2019|          17|     M|       1|            1|          2|        0|     NULL|           NULL|           NULL|           S�o Paulo|         543.9|         548.1|           502.5|       480.7|      400|\n",
            "|190001421547|     2019|          19|     M|       3|            1|          1|        1|     NULL|           NULL|           NULL|            Guanambi|         390.1|         453.0|           515.2|       461.5|      520|\n",
            "|190001867757|     2019|          17|     F|       1|            1|          3|        0|       PR|              4|              1|           Apucarana|         618.2|         744.7|           636.3|       713.7|      900|\n",
            "|190001692704|     2019|          18|     F|       1|            1|          2|        0|       RS|              2|              1|            Alvorada|         430.4|         466.8|           515.9|       394.1|      580|\n",
            "|190001595660|     2019|          17|     F|       2|            1|          2|        0|       SP|              2|              1|     Itaquaquecetuba|         371.8|         501.4|           518.6|       442.0|      660|\n",
            "|190001421552|     2019|          17|     M|       2|            1|          2|        0|       BA|              2|              1|    Lauro de Freitas|         567.3|         584.1|           595.8|       704.5|      620|\n",
            "|190001421555|     2019|          19|     M|       3|            1|          1|        1|     NULL|           NULL|           NULL|          Alagoinhas|         421.1|         469.9|           435.6|       527.4|        0|\n",
            "|190001480443|     2019|          18|     M|       3|            4|          2|        0|       PB|              2|              1|          Santa Rita|         373.2|         409.6|           469.5|       379.1|      480|\n",
            "|190001082475|     2019|          17|     F|       3|            1|          2|        0|       AM|              2|              1|              Manaus|         385.8|         436.3|           393.8|       370.0|      260|\n",
            "|190002037440|     2019|          17|     M|       3|            1|          2|        0|       DF|              2|              1|            Bras�lia|         389.7|         431.1|           482.0|       529.7|      560|\n",
            "|190001121527|     2019|          17|     F|       1|            1|          2|        0|       PI|              1|              1|            Parna�ba|         427.6|         548.8|           587.2|       699.3|      820|\n",
            "|190001042836|     2019|          17|     F|       2|            1|          2|        0|       PA|              2|              1|               Bel�m|         510.9|         585.4|           578.4|       605.2|      880|\n",
            "|190001421560|     2019|          19|     M|       3|            1|          2|        0|       BA|              2|              1|S�o Sebasti�o do ...|         361.2|         499.0|           403.5|       392.5|      560|\n",
            "|190001121528|     2019|          17|     F|       3|            1|          2|        0|       PI|              2|              1|            Piripiri|         556.8|         487.0|           571.8|       578.5|      800|\n",
            "|190001595672|     2019|          18|     M|       1|            1|          2|        0|       SP|              2|              1|              Araras|         537.0|         585.3|           590.1|       661.4|      540|\n",
            "|190001867760|     2019|          18|     M|       3|            1|          2|        0|       PR|              2|              1|        Campo Mour�o|         523.2|         469.3|           508.4|       679.4|      640|\n",
            "|190001595675|     2019|          17|     F|       1|            1|          2|        0|       SP|              2|              1|             Mar�lia|         423.9|         500.4|           472.3|       503.9|      620|\n",
            "|190001779797|     2019|          17|     F|       3|            1|          2|        0|     NULL|           NULL|           NULL|�guas Lindas de G...|         467.9|         548.7|           536.1|       392.4|      600|\n",
            "|190001237815|     2019|          17|     F|       1|            1|          2|        0|       MG|              2|              1|             Extrema|         624.5|         636.9|           635.8|       698.7|      800|\n",
            "|190001925229|     2019|          18|     M|       3|            1|          2|        0|       CE|              2|              1|           Fortaleza|         416.3|         489.4|           501.7|       394.4|      720|\n",
            "+------------+---------+------------+------+--------+-------------+-----------+---------+---------+---------------+---------------+--------------------+--------------+--------------+----------------+------------+---------+\n",
            "only showing top 20 rows\n",
            "\n"
          ]
        }
      ]
    },
    {
      "cell_type": "code",
      "source": [
        "# Alterando valores das colunas segundo dicionario de dados\n",
        "enem_2019.withColumn(\"cor_raca\",\n",
        "                         f.when(enem_2019.cor_raca == 1, \"BRANCA\")\\\n",
        "                         .when(enem_2019.cor_raca == 2, \"PRETA\")\\\n",
        "                         .when(enem_2019.cor_raca == 3, \"PARDA\")\\\n",
        "                         .when(enem_2019.cor_raca == 4, \"AMARELA\")\n",
        "                         .when(enem_2019.cor_raca == 5, \"INDIGENA\").otherwise(\"N/I\")\n",
        "                         ).show()"
      ],
      "metadata": {
        "colab": {
          "base_uri": "https://localhost:8080/"
        },
        "id": "BUwk0H9ZJB7M",
        "outputId": "2385c5ae-047e-4d32-8533-1cfd25bb6b23"
      },
      "execution_count": 115,
      "outputs": [
        {
          "output_type": "stream",
          "name": "stdout",
          "text": [
            "+------------+---------+------------+------+--------+-------------+-----------+---------+---------+---------------+---------------+--------------------+--------------+--------------+----------------+------------+---------+\n",
            "|   inscricao|ano_prova|faixa_etaria|genero|cor_raca|nacionalidade|tipo_escola|treineiro|uf_escola|dependencia_esc|localizacao_esc|       municipio_esc|n_ciencias_nat|n_ciencias_hum|n_linguagens_cod|n_matematica|n_redacao|\n",
            "+------------+---------+------------+------+--------+-------------+-----------+---------+---------+---------------+---------------+--------------------+--------------+--------------+----------------+------------+---------+\n",
            "|190001592266|     2019|          17|     M|  BRANCA|            1|          2|        0|     NULL|           NULL|           NULL|           S�o Paulo|         543.9|         548.1|           502.5|       480.7|      400|\n",
            "|190001421547|     2019|          19|     M|   PARDA|            1|          1|        1|     NULL|           NULL|           NULL|            Guanambi|         390.1|         453.0|           515.2|       461.5|      520|\n",
            "|190001867757|     2019|          17|     F|  BRANCA|            1|          3|        0|       PR|              4|              1|           Apucarana|         618.2|         744.7|           636.3|       713.7|      900|\n",
            "|190001692704|     2019|          18|     F|  BRANCA|            1|          2|        0|       RS|              2|              1|            Alvorada|         430.4|         466.8|           515.9|       394.1|      580|\n",
            "|190001595660|     2019|          17|     F|   PRETA|            1|          2|        0|       SP|              2|              1|     Itaquaquecetuba|         371.8|         501.4|           518.6|       442.0|      660|\n",
            "|190001421552|     2019|          17|     M|   PRETA|            1|          2|        0|       BA|              2|              1|    Lauro de Freitas|         567.3|         584.1|           595.8|       704.5|      620|\n",
            "|190001421555|     2019|          19|     M|   PARDA|            1|          1|        1|     NULL|           NULL|           NULL|          Alagoinhas|         421.1|         469.9|           435.6|       527.4|        0|\n",
            "|190001480443|     2019|          18|     M|   PARDA|            4|          2|        0|       PB|              2|              1|          Santa Rita|         373.2|         409.6|           469.5|       379.1|      480|\n",
            "|190001082475|     2019|          17|     F|   PARDA|            1|          2|        0|       AM|              2|              1|              Manaus|         385.8|         436.3|           393.8|       370.0|      260|\n",
            "|190002037440|     2019|          17|     M|   PARDA|            1|          2|        0|       DF|              2|              1|            Bras�lia|         389.7|         431.1|           482.0|       529.7|      560|\n",
            "|190001121527|     2019|          17|     F|  BRANCA|            1|          2|        0|       PI|              1|              1|            Parna�ba|         427.6|         548.8|           587.2|       699.3|      820|\n",
            "|190001042836|     2019|          17|     F|   PRETA|            1|          2|        0|       PA|              2|              1|               Bel�m|         510.9|         585.4|           578.4|       605.2|      880|\n",
            "|190001421560|     2019|          19|     M|   PARDA|            1|          2|        0|       BA|              2|              1|S�o Sebasti�o do ...|         361.2|         499.0|           403.5|       392.5|      560|\n",
            "|190001121528|     2019|          17|     F|   PARDA|            1|          2|        0|       PI|              2|              1|            Piripiri|         556.8|         487.0|           571.8|       578.5|      800|\n",
            "|190001595672|     2019|          18|     M|  BRANCA|            1|          2|        0|       SP|              2|              1|              Araras|         537.0|         585.3|           590.1|       661.4|      540|\n",
            "|190001867760|     2019|          18|     M|   PARDA|            1|          2|        0|       PR|              2|              1|        Campo Mour�o|         523.2|         469.3|           508.4|       679.4|      640|\n",
            "|190001595675|     2019|          17|     F|  BRANCA|            1|          2|        0|       SP|              2|              1|             Mar�lia|         423.9|         500.4|           472.3|       503.9|      620|\n",
            "|190001779797|     2019|          17|     F|   PARDA|            1|          2|        0|     NULL|           NULL|           NULL|�guas Lindas de G...|         467.9|         548.7|           536.1|       392.4|      600|\n",
            "|190001237815|     2019|          17|     F|  BRANCA|            1|          2|        0|       MG|              2|              1|             Extrema|         624.5|         636.9|           635.8|       698.7|      800|\n",
            "|190001925229|     2019|          18|     M|   PARDA|            1|          2|        0|       CE|              2|              1|           Fortaleza|         416.3|         489.4|           501.7|       394.4|      720|\n",
            "+------------+---------+------------+------+--------+-------------+-----------+---------+---------+---------------+---------------+--------------------+--------------+--------------+----------------+------------+---------+\n",
            "only showing top 20 rows\n",
            "\n"
          ]
        }
      ]
    },
    {
      "cell_type": "code",
      "source": [
        "# Implementando alteração\n",
        "enem_2019 = enem_2019.withColumn(\"cor_raca\",\n",
        "                         f.when(enem_2019.cor_raca == 1, \"BRANCA\")\\\n",
        "                         .when(enem_2019.cor_raca == 2, \"PRETA\")\\\n",
        "                         .when(enem_2019.cor_raca == 3, \"PARDA\")\\\n",
        "                         .when(enem_2019.cor_raca == 4, \"AMARELA\")\n",
        "                         .when(enem_2019.cor_raca == 5, \"INDIGENA\").otherwise(\"N/I\")\n",
        "                         )"
      ],
      "metadata": {
        "id": "HZllOInHJ-Hr"
      },
      "execution_count": 116,
      "outputs": []
    },
    {
      "cell_type": "code",
      "source": [
        "enem_2019.show()"
      ],
      "metadata": {
        "colab": {
          "base_uri": "https://localhost:8080/"
        },
        "id": "TOnjydx5H1wV",
        "outputId": "621df568-02a4-4511-fd91-35783a65effd"
      },
      "execution_count": 117,
      "outputs": [
        {
          "output_type": "stream",
          "name": "stdout",
          "text": [
            "+------------+---------+------------+------+--------+-------------+-----------+---------+---------+---------------+---------------+--------------------+--------------+--------------+----------------+------------+---------+\n",
            "|   inscricao|ano_prova|faixa_etaria|genero|cor_raca|nacionalidade|tipo_escola|treineiro|uf_escola|dependencia_esc|localizacao_esc|       municipio_esc|n_ciencias_nat|n_ciencias_hum|n_linguagens_cod|n_matematica|n_redacao|\n",
            "+------------+---------+------------+------+--------+-------------+-----------+---------+---------+---------------+---------------+--------------------+--------------+--------------+----------------+------------+---------+\n",
            "|190001592266|     2019|          17|     M|  BRANCA|            1|          2|        0|     NULL|           NULL|           NULL|           S�o Paulo|         543.9|         548.1|           502.5|       480.7|      400|\n",
            "|190001421547|     2019|          19|     M|   PARDA|            1|          1|        1|     NULL|           NULL|           NULL|            Guanambi|         390.1|         453.0|           515.2|       461.5|      520|\n",
            "|190001867757|     2019|          17|     F|  BRANCA|            1|          3|        0|       PR|              4|              1|           Apucarana|         618.2|         744.7|           636.3|       713.7|      900|\n",
            "|190001692704|     2019|          18|     F|  BRANCA|            1|          2|        0|       RS|              2|              1|            Alvorada|         430.4|         466.8|           515.9|       394.1|      580|\n",
            "|190001595660|     2019|          17|     F|   PRETA|            1|          2|        0|       SP|              2|              1|     Itaquaquecetuba|         371.8|         501.4|           518.6|       442.0|      660|\n",
            "|190001421552|     2019|          17|     M|   PRETA|            1|          2|        0|       BA|              2|              1|    Lauro de Freitas|         567.3|         584.1|           595.8|       704.5|      620|\n",
            "|190001421555|     2019|          19|     M|   PARDA|            1|          1|        1|     NULL|           NULL|           NULL|          Alagoinhas|         421.1|         469.9|           435.6|       527.4|        0|\n",
            "|190001480443|     2019|          18|     M|   PARDA|            4|          2|        0|       PB|              2|              1|          Santa Rita|         373.2|         409.6|           469.5|       379.1|      480|\n",
            "|190001082475|     2019|          17|     F|   PARDA|            1|          2|        0|       AM|              2|              1|              Manaus|         385.8|         436.3|           393.8|       370.0|      260|\n",
            "|190002037440|     2019|          17|     M|   PARDA|            1|          2|        0|       DF|              2|              1|            Bras�lia|         389.7|         431.1|           482.0|       529.7|      560|\n",
            "|190001121527|     2019|          17|     F|  BRANCA|            1|          2|        0|       PI|              1|              1|            Parna�ba|         427.6|         548.8|           587.2|       699.3|      820|\n",
            "|190001042836|     2019|          17|     F|   PRETA|            1|          2|        0|       PA|              2|              1|               Bel�m|         510.9|         585.4|           578.4|       605.2|      880|\n",
            "|190001421560|     2019|          19|     M|   PARDA|            1|          2|        0|       BA|              2|              1|S�o Sebasti�o do ...|         361.2|         499.0|           403.5|       392.5|      560|\n",
            "|190001121528|     2019|          17|     F|   PARDA|            1|          2|        0|       PI|              2|              1|            Piripiri|         556.8|         487.0|           571.8|       578.5|      800|\n",
            "|190001595672|     2019|          18|     M|  BRANCA|            1|          2|        0|       SP|              2|              1|              Araras|         537.0|         585.3|           590.1|       661.4|      540|\n",
            "|190001867760|     2019|          18|     M|   PARDA|            1|          2|        0|       PR|              2|              1|        Campo Mour�o|         523.2|         469.3|           508.4|       679.4|      640|\n",
            "|190001595675|     2019|          17|     F|  BRANCA|            1|          2|        0|       SP|              2|              1|             Mar�lia|         423.9|         500.4|           472.3|       503.9|      620|\n",
            "|190001779797|     2019|          17|     F|   PARDA|            1|          2|        0|     NULL|           NULL|           NULL|�guas Lindas de G...|         467.9|         548.7|           536.1|       392.4|      600|\n",
            "|190001237815|     2019|          17|     F|  BRANCA|            1|          2|        0|       MG|              2|              1|             Extrema|         624.5|         636.9|           635.8|       698.7|      800|\n",
            "|190001925229|     2019|          18|     M|   PARDA|            1|          2|        0|       CE|              2|              1|           Fortaleza|         416.3|         489.4|           501.7|       394.4|      720|\n",
            "+------------+---------+------------+------+--------+-------------+-----------+---------+---------+---------------+---------------+--------------------+--------------+--------------+----------------+------------+---------+\n",
            "only showing top 20 rows\n",
            "\n"
          ]
        }
      ]
    },
    {
      "cell_type": "code",
      "source": [
        "# Alterando valores de colunas segundo dicionario\n",
        "enem_2019.withColumn(\"nacionalidade\",\n",
        "                         f.when(enem_2019.nacionalidade == 1, \"BRASILEIRO(A)\")\\\n",
        "                         .when(enem_2019.nacionalidade == 2, \"BRASILEIRO(A) NATURALIZADO\")\\\n",
        "                         .when(enem_2019.nacionalidade == 3, \"ESTRANGEIRO\")\\\n",
        "                         .when(enem_2019.nacionalidade == 4, \"BRASILEIRO, NASCIDO NO EXTERIOR\").otherwise(\"N/I\")\n",
        "                         ).show()"
      ],
      "metadata": {
        "colab": {
          "base_uri": "https://localhost:8080/"
        },
        "id": "nCDcEqsCKSZr",
        "outputId": "ddddd314-df4a-4641-c11e-8d6c94a60a92"
      },
      "execution_count": 118,
      "outputs": [
        {
          "output_type": "stream",
          "name": "stdout",
          "text": [
            "+------------+---------+------------+------+--------+--------------------+-----------+---------+---------+---------------+---------------+--------------------+--------------+--------------+----------------+------------+---------+\n",
            "|   inscricao|ano_prova|faixa_etaria|genero|cor_raca|       nacionalidade|tipo_escola|treineiro|uf_escola|dependencia_esc|localizacao_esc|       municipio_esc|n_ciencias_nat|n_ciencias_hum|n_linguagens_cod|n_matematica|n_redacao|\n",
            "+------------+---------+------------+------+--------+--------------------+-----------+---------+---------+---------------+---------------+--------------------+--------------+--------------+----------------+------------+---------+\n",
            "|190001592266|     2019|          17|     M|  BRANCA|       BRASILEIRO(A)|          2|        0|     NULL|           NULL|           NULL|           S�o Paulo|         543.9|         548.1|           502.5|       480.7|      400|\n",
            "|190001421547|     2019|          19|     M|   PARDA|       BRASILEIRO(A)|          1|        1|     NULL|           NULL|           NULL|            Guanambi|         390.1|         453.0|           515.2|       461.5|      520|\n",
            "|190001867757|     2019|          17|     F|  BRANCA|       BRASILEIRO(A)|          3|        0|       PR|              4|              1|           Apucarana|         618.2|         744.7|           636.3|       713.7|      900|\n",
            "|190001692704|     2019|          18|     F|  BRANCA|       BRASILEIRO(A)|          2|        0|       RS|              2|              1|            Alvorada|         430.4|         466.8|           515.9|       394.1|      580|\n",
            "|190001595660|     2019|          17|     F|   PRETA|       BRASILEIRO(A)|          2|        0|       SP|              2|              1|     Itaquaquecetuba|         371.8|         501.4|           518.6|       442.0|      660|\n",
            "|190001421552|     2019|          17|     M|   PRETA|       BRASILEIRO(A)|          2|        0|       BA|              2|              1|    Lauro de Freitas|         567.3|         584.1|           595.8|       704.5|      620|\n",
            "|190001421555|     2019|          19|     M|   PARDA|       BRASILEIRO(A)|          1|        1|     NULL|           NULL|           NULL|          Alagoinhas|         421.1|         469.9|           435.6|       527.4|        0|\n",
            "|190001480443|     2019|          18|     M|   PARDA|BRASILEIRO, NASCI...|          2|        0|       PB|              2|              1|          Santa Rita|         373.2|         409.6|           469.5|       379.1|      480|\n",
            "|190001082475|     2019|          17|     F|   PARDA|       BRASILEIRO(A)|          2|        0|       AM|              2|              1|              Manaus|         385.8|         436.3|           393.8|       370.0|      260|\n",
            "|190002037440|     2019|          17|     M|   PARDA|       BRASILEIRO(A)|          2|        0|       DF|              2|              1|            Bras�lia|         389.7|         431.1|           482.0|       529.7|      560|\n",
            "|190001121527|     2019|          17|     F|  BRANCA|       BRASILEIRO(A)|          2|        0|       PI|              1|              1|            Parna�ba|         427.6|         548.8|           587.2|       699.3|      820|\n",
            "|190001042836|     2019|          17|     F|   PRETA|       BRASILEIRO(A)|          2|        0|       PA|              2|              1|               Bel�m|         510.9|         585.4|           578.4|       605.2|      880|\n",
            "|190001421560|     2019|          19|     M|   PARDA|       BRASILEIRO(A)|          2|        0|       BA|              2|              1|S�o Sebasti�o do ...|         361.2|         499.0|           403.5|       392.5|      560|\n",
            "|190001121528|     2019|          17|     F|   PARDA|       BRASILEIRO(A)|          2|        0|       PI|              2|              1|            Piripiri|         556.8|         487.0|           571.8|       578.5|      800|\n",
            "|190001595672|     2019|          18|     M|  BRANCA|       BRASILEIRO(A)|          2|        0|       SP|              2|              1|              Araras|         537.0|         585.3|           590.1|       661.4|      540|\n",
            "|190001867760|     2019|          18|     M|   PARDA|       BRASILEIRO(A)|          2|        0|       PR|              2|              1|        Campo Mour�o|         523.2|         469.3|           508.4|       679.4|      640|\n",
            "|190001595675|     2019|          17|     F|  BRANCA|       BRASILEIRO(A)|          2|        0|       SP|              2|              1|             Mar�lia|         423.9|         500.4|           472.3|       503.9|      620|\n",
            "|190001779797|     2019|          17|     F|   PARDA|       BRASILEIRO(A)|          2|        0|     NULL|           NULL|           NULL|�guas Lindas de G...|         467.9|         548.7|           536.1|       392.4|      600|\n",
            "|190001237815|     2019|          17|     F|  BRANCA|       BRASILEIRO(A)|          2|        0|       MG|              2|              1|             Extrema|         624.5|         636.9|           635.8|       698.7|      800|\n",
            "|190001925229|     2019|          18|     M|   PARDA|       BRASILEIRO(A)|          2|        0|       CE|              2|              1|           Fortaleza|         416.3|         489.4|           501.7|       394.4|      720|\n",
            "+------------+---------+------------+------+--------+--------------------+-----------+---------+---------+---------------+---------------+--------------------+--------------+--------------+----------------+------------+---------+\n",
            "only showing top 20 rows\n",
            "\n"
          ]
        }
      ]
    },
    {
      "cell_type": "code",
      "source": [
        "# Implementando normalização:\n",
        "enem_2019 = enem_2019.withColumn(\"nacionalidade\",\n",
        "                         f.when(enem_2019.nacionalidade == 1, \"BRASILEIRO(A)\")\\\n",
        "                         .when(enem_2019.nacionalidade == 2, \"BRASILEIRO(A) NATURALIZADO\")\\\n",
        "                         .when(enem_2019.nacionalidade == 3, \"ESTRANGEIRO\")\\\n",
        "                         .when(enem_2019.nacionalidade == 4, \"BRASILEIRO, NASCIDO NO EXTERIOR\").otherwise(\"N/I\")\n",
        "                         )"
      ],
      "metadata": {
        "id": "BO1VjV_xK250"
      },
      "execution_count": 119,
      "outputs": []
    },
    {
      "cell_type": "code",
      "source": [
        "enem_2019.show()"
      ],
      "metadata": {
        "colab": {
          "base_uri": "https://localhost:8080/"
        },
        "id": "sojeF1COLZ7U",
        "outputId": "3e78e57e-4f1e-4a73-cace-645201e8d402"
      },
      "execution_count": 120,
      "outputs": [
        {
          "output_type": "stream",
          "name": "stdout",
          "text": [
            "+------------+---------+------------+------+--------+--------------------+-----------+---------+---------+---------------+---------------+--------------------+--------------+--------------+----------------+------------+---------+\n",
            "|   inscricao|ano_prova|faixa_etaria|genero|cor_raca|       nacionalidade|tipo_escola|treineiro|uf_escola|dependencia_esc|localizacao_esc|       municipio_esc|n_ciencias_nat|n_ciencias_hum|n_linguagens_cod|n_matematica|n_redacao|\n",
            "+------------+---------+------------+------+--------+--------------------+-----------+---------+---------+---------------+---------------+--------------------+--------------+--------------+----------------+------------+---------+\n",
            "|190001592266|     2019|          17|     M|  BRANCA|       BRASILEIRO(A)|          2|        0|     NULL|           NULL|           NULL|           S�o Paulo|         543.9|         548.1|           502.5|       480.7|      400|\n",
            "|190001421547|     2019|          19|     M|   PARDA|       BRASILEIRO(A)|          1|        1|     NULL|           NULL|           NULL|            Guanambi|         390.1|         453.0|           515.2|       461.5|      520|\n",
            "|190001867757|     2019|          17|     F|  BRANCA|       BRASILEIRO(A)|          3|        0|       PR|              4|              1|           Apucarana|         618.2|         744.7|           636.3|       713.7|      900|\n",
            "|190001692704|     2019|          18|     F|  BRANCA|       BRASILEIRO(A)|          2|        0|       RS|              2|              1|            Alvorada|         430.4|         466.8|           515.9|       394.1|      580|\n",
            "|190001595660|     2019|          17|     F|   PRETA|       BRASILEIRO(A)|          2|        0|       SP|              2|              1|     Itaquaquecetuba|         371.8|         501.4|           518.6|       442.0|      660|\n",
            "|190001421552|     2019|          17|     M|   PRETA|       BRASILEIRO(A)|          2|        0|       BA|              2|              1|    Lauro de Freitas|         567.3|         584.1|           595.8|       704.5|      620|\n",
            "|190001421555|     2019|          19|     M|   PARDA|       BRASILEIRO(A)|          1|        1|     NULL|           NULL|           NULL|          Alagoinhas|         421.1|         469.9|           435.6|       527.4|        0|\n",
            "|190001480443|     2019|          18|     M|   PARDA|BRASILEIRO, NASCI...|          2|        0|       PB|              2|              1|          Santa Rita|         373.2|         409.6|           469.5|       379.1|      480|\n",
            "|190001082475|     2019|          17|     F|   PARDA|       BRASILEIRO(A)|          2|        0|       AM|              2|              1|              Manaus|         385.8|         436.3|           393.8|       370.0|      260|\n",
            "|190002037440|     2019|          17|     M|   PARDA|       BRASILEIRO(A)|          2|        0|       DF|              2|              1|            Bras�lia|         389.7|         431.1|           482.0|       529.7|      560|\n",
            "|190001121527|     2019|          17|     F|  BRANCA|       BRASILEIRO(A)|          2|        0|       PI|              1|              1|            Parna�ba|         427.6|         548.8|           587.2|       699.3|      820|\n",
            "|190001042836|     2019|          17|     F|   PRETA|       BRASILEIRO(A)|          2|        0|       PA|              2|              1|               Bel�m|         510.9|         585.4|           578.4|       605.2|      880|\n",
            "|190001421560|     2019|          19|     M|   PARDA|       BRASILEIRO(A)|          2|        0|       BA|              2|              1|S�o Sebasti�o do ...|         361.2|         499.0|           403.5|       392.5|      560|\n",
            "|190001121528|     2019|          17|     F|   PARDA|       BRASILEIRO(A)|          2|        0|       PI|              2|              1|            Piripiri|         556.8|         487.0|           571.8|       578.5|      800|\n",
            "|190001595672|     2019|          18|     M|  BRANCA|       BRASILEIRO(A)|          2|        0|       SP|              2|              1|              Araras|         537.0|         585.3|           590.1|       661.4|      540|\n",
            "|190001867760|     2019|          18|     M|   PARDA|       BRASILEIRO(A)|          2|        0|       PR|              2|              1|        Campo Mour�o|         523.2|         469.3|           508.4|       679.4|      640|\n",
            "|190001595675|     2019|          17|     F|  BRANCA|       BRASILEIRO(A)|          2|        0|       SP|              2|              1|             Mar�lia|         423.9|         500.4|           472.3|       503.9|      620|\n",
            "|190001779797|     2019|          17|     F|   PARDA|       BRASILEIRO(A)|          2|        0|     NULL|           NULL|           NULL|�guas Lindas de G...|         467.9|         548.7|           536.1|       392.4|      600|\n",
            "|190001237815|     2019|          17|     F|  BRANCA|       BRASILEIRO(A)|          2|        0|       MG|              2|              1|             Extrema|         624.5|         636.9|           635.8|       698.7|      800|\n",
            "|190001925229|     2019|          18|     M|   PARDA|       BRASILEIRO(A)|          2|        0|       CE|              2|              1|           Fortaleza|         416.3|         489.4|           501.7|       394.4|      720|\n",
            "+------------+---------+------------+------+--------+--------------------+-----------+---------+---------+---------------+---------------+--------------------+--------------+--------------+----------------+------------+---------+\n",
            "only showing top 20 rows\n",
            "\n"
          ]
        }
      ]
    },
    {
      "cell_type": "code",
      "source": [
        "# Alterando valores das colunas segundo dicionario:\n",
        "enem_2019.withColumn(\"tipo_escola\",\n",
        "                         f.when(enem_2019.tipo_escola == 2, \"PUBLICA\")\\\n",
        "                         .when(enem_2019.tipo_escola == 3, \"PRIVADA\")\\\n",
        "                         .when(enem_2019.tipo_escola == 4, \"EXTERIOR\")\n",
        ").show()"
      ],
      "metadata": {
        "colab": {
          "base_uri": "https://localhost:8080/"
        },
        "id": "SsIHjneLLDHK",
        "outputId": "74f90fea-88de-4155-bde3-ab1de6536dd9"
      },
      "execution_count": 121,
      "outputs": [
        {
          "output_type": "stream",
          "name": "stdout",
          "text": [
            "+------------+---------+------------+------+--------+--------------------+-----------+---------+---------+---------------+---------------+--------------------+--------------+--------------+----------------+------------+---------+\n",
            "|   inscricao|ano_prova|faixa_etaria|genero|cor_raca|       nacionalidade|tipo_escola|treineiro|uf_escola|dependencia_esc|localizacao_esc|       municipio_esc|n_ciencias_nat|n_ciencias_hum|n_linguagens_cod|n_matematica|n_redacao|\n",
            "+------------+---------+------------+------+--------+--------------------+-----------+---------+---------+---------------+---------------+--------------------+--------------+--------------+----------------+------------+---------+\n",
            "|190001592266|     2019|          17|     M|  BRANCA|       BRASILEIRO(A)|    PUBLICA|        0|     NULL|           NULL|           NULL|           S�o Paulo|         543.9|         548.1|           502.5|       480.7|      400|\n",
            "|190001421547|     2019|          19|     M|   PARDA|       BRASILEIRO(A)|       NULL|        1|     NULL|           NULL|           NULL|            Guanambi|         390.1|         453.0|           515.2|       461.5|      520|\n",
            "|190001867757|     2019|          17|     F|  BRANCA|       BRASILEIRO(A)|    PRIVADA|        0|       PR|              4|              1|           Apucarana|         618.2|         744.7|           636.3|       713.7|      900|\n",
            "|190001692704|     2019|          18|     F|  BRANCA|       BRASILEIRO(A)|    PUBLICA|        0|       RS|              2|              1|            Alvorada|         430.4|         466.8|           515.9|       394.1|      580|\n",
            "|190001595660|     2019|          17|     F|   PRETA|       BRASILEIRO(A)|    PUBLICA|        0|       SP|              2|              1|     Itaquaquecetuba|         371.8|         501.4|           518.6|       442.0|      660|\n",
            "|190001421552|     2019|          17|     M|   PRETA|       BRASILEIRO(A)|    PUBLICA|        0|       BA|              2|              1|    Lauro de Freitas|         567.3|         584.1|           595.8|       704.5|      620|\n",
            "|190001421555|     2019|          19|     M|   PARDA|       BRASILEIRO(A)|       NULL|        1|     NULL|           NULL|           NULL|          Alagoinhas|         421.1|         469.9|           435.6|       527.4|        0|\n",
            "|190001480443|     2019|          18|     M|   PARDA|BRASILEIRO, NASCI...|    PUBLICA|        0|       PB|              2|              1|          Santa Rita|         373.2|         409.6|           469.5|       379.1|      480|\n",
            "|190001082475|     2019|          17|     F|   PARDA|       BRASILEIRO(A)|    PUBLICA|        0|       AM|              2|              1|              Manaus|         385.8|         436.3|           393.8|       370.0|      260|\n",
            "|190002037440|     2019|          17|     M|   PARDA|       BRASILEIRO(A)|    PUBLICA|        0|       DF|              2|              1|            Bras�lia|         389.7|         431.1|           482.0|       529.7|      560|\n",
            "|190001121527|     2019|          17|     F|  BRANCA|       BRASILEIRO(A)|    PUBLICA|        0|       PI|              1|              1|            Parna�ba|         427.6|         548.8|           587.2|       699.3|      820|\n",
            "|190001042836|     2019|          17|     F|   PRETA|       BRASILEIRO(A)|    PUBLICA|        0|       PA|              2|              1|               Bel�m|         510.9|         585.4|           578.4|       605.2|      880|\n",
            "|190001421560|     2019|          19|     M|   PARDA|       BRASILEIRO(A)|    PUBLICA|        0|       BA|              2|              1|S�o Sebasti�o do ...|         361.2|         499.0|           403.5|       392.5|      560|\n",
            "|190001121528|     2019|          17|     F|   PARDA|       BRASILEIRO(A)|    PUBLICA|        0|       PI|              2|              1|            Piripiri|         556.8|         487.0|           571.8|       578.5|      800|\n",
            "|190001595672|     2019|          18|     M|  BRANCA|       BRASILEIRO(A)|    PUBLICA|        0|       SP|              2|              1|              Araras|         537.0|         585.3|           590.1|       661.4|      540|\n",
            "|190001867760|     2019|          18|     M|   PARDA|       BRASILEIRO(A)|    PUBLICA|        0|       PR|              2|              1|        Campo Mour�o|         523.2|         469.3|           508.4|       679.4|      640|\n",
            "|190001595675|     2019|          17|     F|  BRANCA|       BRASILEIRO(A)|    PUBLICA|        0|       SP|              2|              1|             Mar�lia|         423.9|         500.4|           472.3|       503.9|      620|\n",
            "|190001779797|     2019|          17|     F|   PARDA|       BRASILEIRO(A)|    PUBLICA|        0|     NULL|           NULL|           NULL|�guas Lindas de G...|         467.9|         548.7|           536.1|       392.4|      600|\n",
            "|190001237815|     2019|          17|     F|  BRANCA|       BRASILEIRO(A)|    PUBLICA|        0|       MG|              2|              1|             Extrema|         624.5|         636.9|           635.8|       698.7|      800|\n",
            "|190001925229|     2019|          18|     M|   PARDA|       BRASILEIRO(A)|    PUBLICA|        0|       CE|              2|              1|           Fortaleza|         416.3|         489.4|           501.7|       394.4|      720|\n",
            "+------------+---------+------------+------+--------+--------------------+-----------+---------+---------+---------------+---------------+--------------------+--------------+--------------+----------------+------------+---------+\n",
            "only showing top 20 rows\n",
            "\n"
          ]
        }
      ]
    },
    {
      "cell_type": "code",
      "source": [
        "enem_2019 = enem_2019.withColumn(\"tipo_escola\",\n",
        "                         f.when(enem_2019.tipo_escola == 2, \"PUBLICA\")\\\n",
        "                         .when(enem_2019.tipo_escola == 3, \"PRIVADA\")\\\n",
        "                         .when(enem_2019.tipo_escola == 4, \"EXTERIOR\")\n",
        ")"
      ],
      "metadata": {
        "id": "K2mGa_dALyMz"
      },
      "execution_count": 122,
      "outputs": []
    },
    {
      "cell_type": "code",
      "source": [
        "enem_2019.show()"
      ],
      "metadata": {
        "colab": {
          "base_uri": "https://localhost:8080/"
        },
        "id": "1S5WbeKdMDQa",
        "outputId": "38bf0064-e954-4d16-a3a0-69cf4098f7c5"
      },
      "execution_count": 123,
      "outputs": [
        {
          "output_type": "stream",
          "name": "stdout",
          "text": [
            "+------------+---------+------------+------+--------+--------------------+-----------+---------+---------+---------------+---------------+--------------------+--------------+--------------+----------------+------------+---------+\n",
            "|   inscricao|ano_prova|faixa_etaria|genero|cor_raca|       nacionalidade|tipo_escola|treineiro|uf_escola|dependencia_esc|localizacao_esc|       municipio_esc|n_ciencias_nat|n_ciencias_hum|n_linguagens_cod|n_matematica|n_redacao|\n",
            "+------------+---------+------------+------+--------+--------------------+-----------+---------+---------+---------------+---------------+--------------------+--------------+--------------+----------------+------------+---------+\n",
            "|190001592266|     2019|          17|     M|  BRANCA|       BRASILEIRO(A)|    PUBLICA|        0|     NULL|           NULL|           NULL|           S�o Paulo|         543.9|         548.1|           502.5|       480.7|      400|\n",
            "|190001421547|     2019|          19|     M|   PARDA|       BRASILEIRO(A)|       NULL|        1|     NULL|           NULL|           NULL|            Guanambi|         390.1|         453.0|           515.2|       461.5|      520|\n",
            "|190001867757|     2019|          17|     F|  BRANCA|       BRASILEIRO(A)|    PRIVADA|        0|       PR|              4|              1|           Apucarana|         618.2|         744.7|           636.3|       713.7|      900|\n",
            "|190001692704|     2019|          18|     F|  BRANCA|       BRASILEIRO(A)|    PUBLICA|        0|       RS|              2|              1|            Alvorada|         430.4|         466.8|           515.9|       394.1|      580|\n",
            "|190001595660|     2019|          17|     F|   PRETA|       BRASILEIRO(A)|    PUBLICA|        0|       SP|              2|              1|     Itaquaquecetuba|         371.8|         501.4|           518.6|       442.0|      660|\n",
            "|190001421552|     2019|          17|     M|   PRETA|       BRASILEIRO(A)|    PUBLICA|        0|       BA|              2|              1|    Lauro de Freitas|         567.3|         584.1|           595.8|       704.5|      620|\n",
            "|190001421555|     2019|          19|     M|   PARDA|       BRASILEIRO(A)|       NULL|        1|     NULL|           NULL|           NULL|          Alagoinhas|         421.1|         469.9|           435.6|       527.4|        0|\n",
            "|190001480443|     2019|          18|     M|   PARDA|BRASILEIRO, NASCI...|    PUBLICA|        0|       PB|              2|              1|          Santa Rita|         373.2|         409.6|           469.5|       379.1|      480|\n",
            "|190001082475|     2019|          17|     F|   PARDA|       BRASILEIRO(A)|    PUBLICA|        0|       AM|              2|              1|              Manaus|         385.8|         436.3|           393.8|       370.0|      260|\n",
            "|190002037440|     2019|          17|     M|   PARDA|       BRASILEIRO(A)|    PUBLICA|        0|       DF|              2|              1|            Bras�lia|         389.7|         431.1|           482.0|       529.7|      560|\n",
            "|190001121527|     2019|          17|     F|  BRANCA|       BRASILEIRO(A)|    PUBLICA|        0|       PI|              1|              1|            Parna�ba|         427.6|         548.8|           587.2|       699.3|      820|\n",
            "|190001042836|     2019|          17|     F|   PRETA|       BRASILEIRO(A)|    PUBLICA|        0|       PA|              2|              1|               Bel�m|         510.9|         585.4|           578.4|       605.2|      880|\n",
            "|190001421560|     2019|          19|     M|   PARDA|       BRASILEIRO(A)|    PUBLICA|        0|       BA|              2|              1|S�o Sebasti�o do ...|         361.2|         499.0|           403.5|       392.5|      560|\n",
            "|190001121528|     2019|          17|     F|   PARDA|       BRASILEIRO(A)|    PUBLICA|        0|       PI|              2|              1|            Piripiri|         556.8|         487.0|           571.8|       578.5|      800|\n",
            "|190001595672|     2019|          18|     M|  BRANCA|       BRASILEIRO(A)|    PUBLICA|        0|       SP|              2|              1|              Araras|         537.0|         585.3|           590.1|       661.4|      540|\n",
            "|190001867760|     2019|          18|     M|   PARDA|       BRASILEIRO(A)|    PUBLICA|        0|       PR|              2|              1|        Campo Mour�o|         523.2|         469.3|           508.4|       679.4|      640|\n",
            "|190001595675|     2019|          17|     F|  BRANCA|       BRASILEIRO(A)|    PUBLICA|        0|       SP|              2|              1|             Mar�lia|         423.9|         500.4|           472.3|       503.9|      620|\n",
            "|190001779797|     2019|          17|     F|   PARDA|       BRASILEIRO(A)|    PUBLICA|        0|     NULL|           NULL|           NULL|�guas Lindas de G...|         467.9|         548.7|           536.1|       392.4|      600|\n",
            "|190001237815|     2019|          17|     F|  BRANCA|       BRASILEIRO(A)|    PUBLICA|        0|       MG|              2|              1|             Extrema|         624.5|         636.9|           635.8|       698.7|      800|\n",
            "|190001925229|     2019|          18|     M|   PARDA|       BRASILEIRO(A)|    PUBLICA|        0|       CE|              2|              1|           Fortaleza|         416.3|         489.4|           501.7|       394.4|      720|\n",
            "+------------+---------+------------+------+--------+--------------------+-----------+---------+---------+---------------+---------------+--------------------+--------------+--------------+----------------+------------+---------+\n",
            "only showing top 20 rows\n",
            "\n"
          ]
        }
      ]
    },
    {
      "cell_type": "code",
      "source": [
        "# Removendo valores nulos do tipo escola:\n",
        "enem_2019.dropna(subset=[\"tipo_escola\"]).show()"
      ],
      "metadata": {
        "colab": {
          "base_uri": "https://localhost:8080/"
        },
        "id": "KGd8HnxQQF7r",
        "outputId": "15eefd6a-61c9-452b-f1ed-7aea97d54cee"
      },
      "execution_count": 124,
      "outputs": [
        {
          "output_type": "stream",
          "name": "stdout",
          "text": [
            "+------------+---------+------------+------+--------+--------------------+-----------+---------+---------+---------------+---------------+--------------------+--------------+--------------+----------------+------------+---------+\n",
            "|   inscricao|ano_prova|faixa_etaria|genero|cor_raca|       nacionalidade|tipo_escola|treineiro|uf_escola|dependencia_esc|localizacao_esc|       municipio_esc|n_ciencias_nat|n_ciencias_hum|n_linguagens_cod|n_matematica|n_redacao|\n",
            "+------------+---------+------------+------+--------+--------------------+-----------+---------+---------+---------------+---------------+--------------------+--------------+--------------+----------------+------------+---------+\n",
            "|190001592266|     2019|          17|     M|  BRANCA|       BRASILEIRO(A)|    PUBLICA|        0|     NULL|           NULL|           NULL|           S�o Paulo|         543.9|         548.1|           502.5|       480.7|      400|\n",
            "|190001867757|     2019|          17|     F|  BRANCA|       BRASILEIRO(A)|    PRIVADA|        0|       PR|              4|              1|           Apucarana|         618.2|         744.7|           636.3|       713.7|      900|\n",
            "|190001692704|     2019|          18|     F|  BRANCA|       BRASILEIRO(A)|    PUBLICA|        0|       RS|              2|              1|            Alvorada|         430.4|         466.8|           515.9|       394.1|      580|\n",
            "|190001595660|     2019|          17|     F|   PRETA|       BRASILEIRO(A)|    PUBLICA|        0|       SP|              2|              1|     Itaquaquecetuba|         371.8|         501.4|           518.6|       442.0|      660|\n",
            "|190001421552|     2019|          17|     M|   PRETA|       BRASILEIRO(A)|    PUBLICA|        0|       BA|              2|              1|    Lauro de Freitas|         567.3|         584.1|           595.8|       704.5|      620|\n",
            "|190001480443|     2019|          18|     M|   PARDA|BRASILEIRO, NASCI...|    PUBLICA|        0|       PB|              2|              1|          Santa Rita|         373.2|         409.6|           469.5|       379.1|      480|\n",
            "|190001082475|     2019|          17|     F|   PARDA|       BRASILEIRO(A)|    PUBLICA|        0|       AM|              2|              1|              Manaus|         385.8|         436.3|           393.8|       370.0|      260|\n",
            "|190002037440|     2019|          17|     M|   PARDA|       BRASILEIRO(A)|    PUBLICA|        0|       DF|              2|              1|            Bras�lia|         389.7|         431.1|           482.0|       529.7|      560|\n",
            "|190001121527|     2019|          17|     F|  BRANCA|       BRASILEIRO(A)|    PUBLICA|        0|       PI|              1|              1|            Parna�ba|         427.6|         548.8|           587.2|       699.3|      820|\n",
            "|190001042836|     2019|          17|     F|   PRETA|       BRASILEIRO(A)|    PUBLICA|        0|       PA|              2|              1|               Bel�m|         510.9|         585.4|           578.4|       605.2|      880|\n",
            "|190001421560|     2019|          19|     M|   PARDA|       BRASILEIRO(A)|    PUBLICA|        0|       BA|              2|              1|S�o Sebasti�o do ...|         361.2|         499.0|           403.5|       392.5|      560|\n",
            "|190001121528|     2019|          17|     F|   PARDA|       BRASILEIRO(A)|    PUBLICA|        0|       PI|              2|              1|            Piripiri|         556.8|         487.0|           571.8|       578.5|      800|\n",
            "|190001595672|     2019|          18|     M|  BRANCA|       BRASILEIRO(A)|    PUBLICA|        0|       SP|              2|              1|              Araras|         537.0|         585.3|           590.1|       661.4|      540|\n",
            "|190001867760|     2019|          18|     M|   PARDA|       BRASILEIRO(A)|    PUBLICA|        0|       PR|              2|              1|        Campo Mour�o|         523.2|         469.3|           508.4|       679.4|      640|\n",
            "|190001595675|     2019|          17|     F|  BRANCA|       BRASILEIRO(A)|    PUBLICA|        0|       SP|              2|              1|             Mar�lia|         423.9|         500.4|           472.3|       503.9|      620|\n",
            "|190001779797|     2019|          17|     F|   PARDA|       BRASILEIRO(A)|    PUBLICA|        0|     NULL|           NULL|           NULL|�guas Lindas de G...|         467.9|         548.7|           536.1|       392.4|      600|\n",
            "|190001237815|     2019|          17|     F|  BRANCA|       BRASILEIRO(A)|    PUBLICA|        0|       MG|              2|              1|             Extrema|         624.5|         636.9|           635.8|       698.7|      800|\n",
            "|190001925229|     2019|          18|     M|   PARDA|       BRASILEIRO(A)|    PUBLICA|        0|       CE|              2|              1|           Fortaleza|         416.3|         489.4|           501.7|       394.4|      720|\n",
            "|190001517230|     2019|          18|     F|   PARDA|       BRASILEIRO(A)|    PUBLICA|        0|       RJ|              2|              1|      Angra dos Reis|         402.9|         509.7|           534.2|       451.9|      500|\n",
            "|190001595676|     2019|          17|     F|  BRANCA|       BRASILEIRO(A)|    PUBLICA|        0|       SP|              2|              1|           S�o Paulo|         565.5|         590.4|           600.0|       687.0|      940|\n",
            "+------------+---------+------------+------+--------+--------------------+-----------+---------+---------+---------------+---------------+--------------------+--------------+--------------+----------------+------------+---------+\n",
            "only showing top 20 rows\n",
            "\n"
          ]
        }
      ]
    },
    {
      "cell_type": "code",
      "source": [
        "# Aplicando alteração:\n",
        "enem_2019 = enem_2019.dropna(subset=[\"tipo_escola\"])"
      ],
      "metadata": {
        "id": "H4wqx0Z0Qa6I"
      },
      "execution_count": 125,
      "outputs": []
    },
    {
      "cell_type": "code",
      "source": [
        "# Verificando alteração:\n",
        "enem_2019.filter((enem_2019[\"tipo_escola\"].isNull())).show()"
      ],
      "metadata": {
        "colab": {
          "base_uri": "https://localhost:8080/"
        },
        "id": "olPU37XCQhXo",
        "outputId": "9cb468e0-dcb7-4ac4-8833-bef44cce1902"
      },
      "execution_count": 126,
      "outputs": [
        {
          "output_type": "stream",
          "name": "stdout",
          "text": [
            "+---------+---------+------------+------+--------+-------------+-----------+---------+---------+---------------+---------------+-------------+--------------+--------------+----------------+------------+---------+\n",
            "|inscricao|ano_prova|faixa_etaria|genero|cor_raca|nacionalidade|tipo_escola|treineiro|uf_escola|dependencia_esc|localizacao_esc|municipio_esc|n_ciencias_nat|n_ciencias_hum|n_linguagens_cod|n_matematica|n_redacao|\n",
            "+---------+---------+------------+------+--------+-------------+-----------+---------+---------+---------------+---------------+-------------+--------------+--------------+----------------+------------+---------+\n",
            "+---------+---------+------------+------+--------+-------------+-----------+---------+---------+---------------+---------------+-------------+--------------+--------------+----------------+------------+---------+\n",
            "\n"
          ]
        }
      ]
    },
    {
      "cell_type": "code",
      "source": [
        "# Alterando dados segundo dicionario\n",
        "enem_2019.withColumn(\"treineiro\",\n",
        "                         f.when(enem_2019.treineiro == 1, \"SIM\").otherwise(\"NAO\")\n",
        "                         ).show()"
      ],
      "metadata": {
        "colab": {
          "base_uri": "https://localhost:8080/"
        },
        "id": "a_RNhWC2MFbK",
        "outputId": "22d219cf-cc4f-4236-ecad-f5d8b11c3146"
      },
      "execution_count": 127,
      "outputs": [
        {
          "output_type": "stream",
          "name": "stdout",
          "text": [
            "+------------+---------+------------+------+--------+--------------------+-----------+---------+---------+---------------+---------------+--------------------+--------------+--------------+----------------+------------+---------+\n",
            "|   inscricao|ano_prova|faixa_etaria|genero|cor_raca|       nacionalidade|tipo_escola|treineiro|uf_escola|dependencia_esc|localizacao_esc|       municipio_esc|n_ciencias_nat|n_ciencias_hum|n_linguagens_cod|n_matematica|n_redacao|\n",
            "+------------+---------+------------+------+--------+--------------------+-----------+---------+---------+---------------+---------------+--------------------+--------------+--------------+----------------+------------+---------+\n",
            "|190001592266|     2019|          17|     M|  BRANCA|       BRASILEIRO(A)|    PUBLICA|      NAO|     NULL|           NULL|           NULL|           S�o Paulo|         543.9|         548.1|           502.5|       480.7|      400|\n",
            "|190001867757|     2019|          17|     F|  BRANCA|       BRASILEIRO(A)|    PRIVADA|      NAO|       PR|              4|              1|           Apucarana|         618.2|         744.7|           636.3|       713.7|      900|\n",
            "|190001692704|     2019|          18|     F|  BRANCA|       BRASILEIRO(A)|    PUBLICA|      NAO|       RS|              2|              1|            Alvorada|         430.4|         466.8|           515.9|       394.1|      580|\n",
            "|190001595660|     2019|          17|     F|   PRETA|       BRASILEIRO(A)|    PUBLICA|      NAO|       SP|              2|              1|     Itaquaquecetuba|         371.8|         501.4|           518.6|       442.0|      660|\n",
            "|190001421552|     2019|          17|     M|   PRETA|       BRASILEIRO(A)|    PUBLICA|      NAO|       BA|              2|              1|    Lauro de Freitas|         567.3|         584.1|           595.8|       704.5|      620|\n",
            "|190001480443|     2019|          18|     M|   PARDA|BRASILEIRO, NASCI...|    PUBLICA|      NAO|       PB|              2|              1|          Santa Rita|         373.2|         409.6|           469.5|       379.1|      480|\n",
            "|190001082475|     2019|          17|     F|   PARDA|       BRASILEIRO(A)|    PUBLICA|      NAO|       AM|              2|              1|              Manaus|         385.8|         436.3|           393.8|       370.0|      260|\n",
            "|190002037440|     2019|          17|     M|   PARDA|       BRASILEIRO(A)|    PUBLICA|      NAO|       DF|              2|              1|            Bras�lia|         389.7|         431.1|           482.0|       529.7|      560|\n",
            "|190001121527|     2019|          17|     F|  BRANCA|       BRASILEIRO(A)|    PUBLICA|      NAO|       PI|              1|              1|            Parna�ba|         427.6|         548.8|           587.2|       699.3|      820|\n",
            "|190001042836|     2019|          17|     F|   PRETA|       BRASILEIRO(A)|    PUBLICA|      NAO|       PA|              2|              1|               Bel�m|         510.9|         585.4|           578.4|       605.2|      880|\n",
            "|190001421560|     2019|          19|     M|   PARDA|       BRASILEIRO(A)|    PUBLICA|      NAO|       BA|              2|              1|S�o Sebasti�o do ...|         361.2|         499.0|           403.5|       392.5|      560|\n",
            "|190001121528|     2019|          17|     F|   PARDA|       BRASILEIRO(A)|    PUBLICA|      NAO|       PI|              2|              1|            Piripiri|         556.8|         487.0|           571.8|       578.5|      800|\n",
            "|190001595672|     2019|          18|     M|  BRANCA|       BRASILEIRO(A)|    PUBLICA|      NAO|       SP|              2|              1|              Araras|         537.0|         585.3|           590.1|       661.4|      540|\n",
            "|190001867760|     2019|          18|     M|   PARDA|       BRASILEIRO(A)|    PUBLICA|      NAO|       PR|              2|              1|        Campo Mour�o|         523.2|         469.3|           508.4|       679.4|      640|\n",
            "|190001595675|     2019|          17|     F|  BRANCA|       BRASILEIRO(A)|    PUBLICA|      NAO|       SP|              2|              1|             Mar�lia|         423.9|         500.4|           472.3|       503.9|      620|\n",
            "|190001779797|     2019|          17|     F|   PARDA|       BRASILEIRO(A)|    PUBLICA|      NAO|     NULL|           NULL|           NULL|�guas Lindas de G...|         467.9|         548.7|           536.1|       392.4|      600|\n",
            "|190001237815|     2019|          17|     F|  BRANCA|       BRASILEIRO(A)|    PUBLICA|      NAO|       MG|              2|              1|             Extrema|         624.5|         636.9|           635.8|       698.7|      800|\n",
            "|190001925229|     2019|          18|     M|   PARDA|       BRASILEIRO(A)|    PUBLICA|      NAO|       CE|              2|              1|           Fortaleza|         416.3|         489.4|           501.7|       394.4|      720|\n",
            "|190001517230|     2019|          18|     F|   PARDA|       BRASILEIRO(A)|    PUBLICA|      NAO|       RJ|              2|              1|      Angra dos Reis|         402.9|         509.7|           534.2|       451.9|      500|\n",
            "|190001595676|     2019|          17|     F|  BRANCA|       BRASILEIRO(A)|    PUBLICA|      NAO|       SP|              2|              1|           S�o Paulo|         565.5|         590.4|           600.0|       687.0|      940|\n",
            "+------------+---------+------------+------+--------+--------------------+-----------+---------+---------+---------------+---------------+--------------------+--------------+--------------+----------------+------------+---------+\n",
            "only showing top 20 rows\n",
            "\n"
          ]
        }
      ]
    },
    {
      "cell_type": "code",
      "source": [
        "enem_2019=enem_2019.withColumn(\"treineiro\",\n",
        "                         f.when(enem_2019.treineiro == 1, \"SIM\").otherwise(\"NAO\"))"
      ],
      "metadata": {
        "id": "iSPFOD0zR6tB"
      },
      "execution_count": 128,
      "outputs": []
    },
    {
      "cell_type": "code",
      "source": [
        "# Atualizando backup\n",
        "bpk = enem_2019"
      ],
      "metadata": {
        "id": "yxuNB7qlMWqp"
      },
      "execution_count": 129,
      "outputs": []
    },
    {
      "cell_type": "code",
      "source": [
        "# Tratando dados \"uf_escola\" e \"municipio_esc\" - se \"uf_escola\" e \"municipio_esc\"\n",
        "# for nulo remova a linha\n",
        "enem_2019.dropna(thresh=1,subset=[\"uf_escola\",\"dependencia_esc\"]).show()"
      ],
      "metadata": {
        "colab": {
          "base_uri": "https://localhost:8080/"
        },
        "id": "5ONFn1P1Si7X",
        "outputId": "40c6afef-800e-4e78-a885-2143d744fac5"
      },
      "execution_count": 130,
      "outputs": [
        {
          "output_type": "stream",
          "name": "stdout",
          "text": [
            "+------------+---------+------------+------+--------+--------------------+-----------+---------+---------+---------------+---------------+--------------------+--------------+--------------+----------------+------------+---------+\n",
            "|   inscricao|ano_prova|faixa_etaria|genero|cor_raca|       nacionalidade|tipo_escola|treineiro|uf_escola|dependencia_esc|localizacao_esc|       municipio_esc|n_ciencias_nat|n_ciencias_hum|n_linguagens_cod|n_matematica|n_redacao|\n",
            "+------------+---------+------------+------+--------+--------------------+-----------+---------+---------+---------------+---------------+--------------------+--------------+--------------+----------------+------------+---------+\n",
            "|190001867757|     2019|          17|     F|  BRANCA|       BRASILEIRO(A)|    PRIVADA|      NAO|       PR|              4|              1|           Apucarana|         618.2|         744.7|           636.3|       713.7|      900|\n",
            "|190001692704|     2019|          18|     F|  BRANCA|       BRASILEIRO(A)|    PUBLICA|      NAO|       RS|              2|              1|            Alvorada|         430.4|         466.8|           515.9|       394.1|      580|\n",
            "|190001595660|     2019|          17|     F|   PRETA|       BRASILEIRO(A)|    PUBLICA|      NAO|       SP|              2|              1|     Itaquaquecetuba|         371.8|         501.4|           518.6|       442.0|      660|\n",
            "|190001421552|     2019|          17|     M|   PRETA|       BRASILEIRO(A)|    PUBLICA|      NAO|       BA|              2|              1|    Lauro de Freitas|         567.3|         584.1|           595.8|       704.5|      620|\n",
            "|190001480443|     2019|          18|     M|   PARDA|BRASILEIRO, NASCI...|    PUBLICA|      NAO|       PB|              2|              1|          Santa Rita|         373.2|         409.6|           469.5|       379.1|      480|\n",
            "|190001082475|     2019|          17|     F|   PARDA|       BRASILEIRO(A)|    PUBLICA|      NAO|       AM|              2|              1|              Manaus|         385.8|         436.3|           393.8|       370.0|      260|\n",
            "|190002037440|     2019|          17|     M|   PARDA|       BRASILEIRO(A)|    PUBLICA|      NAO|       DF|              2|              1|            Bras�lia|         389.7|         431.1|           482.0|       529.7|      560|\n",
            "|190001121527|     2019|          17|     F|  BRANCA|       BRASILEIRO(A)|    PUBLICA|      NAO|       PI|              1|              1|            Parna�ba|         427.6|         548.8|           587.2|       699.3|      820|\n",
            "|190001042836|     2019|          17|     F|   PRETA|       BRASILEIRO(A)|    PUBLICA|      NAO|       PA|              2|              1|               Bel�m|         510.9|         585.4|           578.4|       605.2|      880|\n",
            "|190001421560|     2019|          19|     M|   PARDA|       BRASILEIRO(A)|    PUBLICA|      NAO|       BA|              2|              1|S�o Sebasti�o do ...|         361.2|         499.0|           403.5|       392.5|      560|\n",
            "|190001121528|     2019|          17|     F|   PARDA|       BRASILEIRO(A)|    PUBLICA|      NAO|       PI|              2|              1|            Piripiri|         556.8|         487.0|           571.8|       578.5|      800|\n",
            "|190001595672|     2019|          18|     M|  BRANCA|       BRASILEIRO(A)|    PUBLICA|      NAO|       SP|              2|              1|              Araras|         537.0|         585.3|           590.1|       661.4|      540|\n",
            "|190001867760|     2019|          18|     M|   PARDA|       BRASILEIRO(A)|    PUBLICA|      NAO|       PR|              2|              1|        Campo Mour�o|         523.2|         469.3|           508.4|       679.4|      640|\n",
            "|190001595675|     2019|          17|     F|  BRANCA|       BRASILEIRO(A)|    PUBLICA|      NAO|       SP|              2|              1|             Mar�lia|         423.9|         500.4|           472.3|       503.9|      620|\n",
            "|190001237815|     2019|          17|     F|  BRANCA|       BRASILEIRO(A)|    PUBLICA|      NAO|       MG|              2|              1|             Extrema|         624.5|         636.9|           635.8|       698.7|      800|\n",
            "|190001925229|     2019|          18|     M|   PARDA|       BRASILEIRO(A)|    PUBLICA|      NAO|       CE|              2|              1|           Fortaleza|         416.3|         489.4|           501.7|       394.4|      720|\n",
            "|190001517230|     2019|          18|     F|   PARDA|       BRASILEIRO(A)|    PUBLICA|      NAO|       RJ|              2|              1|      Angra dos Reis|         402.9|         509.7|           534.2|       451.9|      500|\n",
            "|190001595676|     2019|          17|     F|  BRANCA|       BRASILEIRO(A)|    PUBLICA|      NAO|       SP|              2|              1|           S�o Paulo|         565.5|         590.4|           600.0|       687.0|      940|\n",
            "|190001480447|     2019|          18|     F|     N/I|       BRASILEIRO(A)|    PUBLICA|      NAO|       PB|              2|              1|         Jo�o Pessoa|         419.5|         540.9|           495.8|       444.6|      480|\n",
            "|190001237818|     2019|          19|     M|   PRETA|       BRASILEIRO(A)|    PUBLICA|      NAO|       MG|              2|              1|      Belo Horizonte|         421.6|         381.0|           463.0|       449.0|      420|\n",
            "+------------+---------+------------+------+--------+--------------------+-----------+---------+---------+---------------+---------------+--------------------+--------------+--------------+----------------+------------+---------+\n",
            "only showing top 20 rows\n",
            "\n"
          ]
        }
      ]
    },
    {
      "cell_type": "code",
      "source": [
        "enem_2019 = enem_2019.dropna(thresh=2,subset=[\"uf_escola\",\"dependencia_esc\"])"
      ],
      "metadata": {
        "id": "NNCpafbxM98q"
      },
      "execution_count": 131,
      "outputs": []
    },
    {
      "cell_type": "code",
      "source": [
        "enem_2019.show()"
      ],
      "metadata": {
        "colab": {
          "base_uri": "https://localhost:8080/"
        },
        "id": "YhKACUWKNFBK",
        "outputId": "7920bd2a-33dd-44ff-aea1-a976efb7917b"
      },
      "execution_count": 132,
      "outputs": [
        {
          "output_type": "stream",
          "name": "stdout",
          "text": [
            "+------------+---------+------------+------+--------+--------------------+-----------+---------+---------+---------------+---------------+--------------------+--------------+--------------+----------------+------------+---------+\n",
            "|   inscricao|ano_prova|faixa_etaria|genero|cor_raca|       nacionalidade|tipo_escola|treineiro|uf_escola|dependencia_esc|localizacao_esc|       municipio_esc|n_ciencias_nat|n_ciencias_hum|n_linguagens_cod|n_matematica|n_redacao|\n",
            "+------------+---------+------------+------+--------+--------------------+-----------+---------+---------+---------------+---------------+--------------------+--------------+--------------+----------------+------------+---------+\n",
            "|190001867757|     2019|          17|     F|  BRANCA|       BRASILEIRO(A)|    PRIVADA|      NAO|       PR|              4|              1|           Apucarana|         618.2|         744.7|           636.3|       713.7|      900|\n",
            "|190001692704|     2019|          18|     F|  BRANCA|       BRASILEIRO(A)|    PUBLICA|      NAO|       RS|              2|              1|            Alvorada|         430.4|         466.8|           515.9|       394.1|      580|\n",
            "|190001595660|     2019|          17|     F|   PRETA|       BRASILEIRO(A)|    PUBLICA|      NAO|       SP|              2|              1|     Itaquaquecetuba|         371.8|         501.4|           518.6|       442.0|      660|\n",
            "|190001421552|     2019|          17|     M|   PRETA|       BRASILEIRO(A)|    PUBLICA|      NAO|       BA|              2|              1|    Lauro de Freitas|         567.3|         584.1|           595.8|       704.5|      620|\n",
            "|190001480443|     2019|          18|     M|   PARDA|BRASILEIRO, NASCI...|    PUBLICA|      NAO|       PB|              2|              1|          Santa Rita|         373.2|         409.6|           469.5|       379.1|      480|\n",
            "|190001082475|     2019|          17|     F|   PARDA|       BRASILEIRO(A)|    PUBLICA|      NAO|       AM|              2|              1|              Manaus|         385.8|         436.3|           393.8|       370.0|      260|\n",
            "|190002037440|     2019|          17|     M|   PARDA|       BRASILEIRO(A)|    PUBLICA|      NAO|       DF|              2|              1|            Bras�lia|         389.7|         431.1|           482.0|       529.7|      560|\n",
            "|190001121527|     2019|          17|     F|  BRANCA|       BRASILEIRO(A)|    PUBLICA|      NAO|       PI|              1|              1|            Parna�ba|         427.6|         548.8|           587.2|       699.3|      820|\n",
            "|190001042836|     2019|          17|     F|   PRETA|       BRASILEIRO(A)|    PUBLICA|      NAO|       PA|              2|              1|               Bel�m|         510.9|         585.4|           578.4|       605.2|      880|\n",
            "|190001421560|     2019|          19|     M|   PARDA|       BRASILEIRO(A)|    PUBLICA|      NAO|       BA|              2|              1|S�o Sebasti�o do ...|         361.2|         499.0|           403.5|       392.5|      560|\n",
            "|190001121528|     2019|          17|     F|   PARDA|       BRASILEIRO(A)|    PUBLICA|      NAO|       PI|              2|              1|            Piripiri|         556.8|         487.0|           571.8|       578.5|      800|\n",
            "|190001595672|     2019|          18|     M|  BRANCA|       BRASILEIRO(A)|    PUBLICA|      NAO|       SP|              2|              1|              Araras|         537.0|         585.3|           590.1|       661.4|      540|\n",
            "|190001867760|     2019|          18|     M|   PARDA|       BRASILEIRO(A)|    PUBLICA|      NAO|       PR|              2|              1|        Campo Mour�o|         523.2|         469.3|           508.4|       679.4|      640|\n",
            "|190001595675|     2019|          17|     F|  BRANCA|       BRASILEIRO(A)|    PUBLICA|      NAO|       SP|              2|              1|             Mar�lia|         423.9|         500.4|           472.3|       503.9|      620|\n",
            "|190001237815|     2019|          17|     F|  BRANCA|       BRASILEIRO(A)|    PUBLICA|      NAO|       MG|              2|              1|             Extrema|         624.5|         636.9|           635.8|       698.7|      800|\n",
            "|190001925229|     2019|          18|     M|   PARDA|       BRASILEIRO(A)|    PUBLICA|      NAO|       CE|              2|              1|           Fortaleza|         416.3|         489.4|           501.7|       394.4|      720|\n",
            "|190001517230|     2019|          18|     F|   PARDA|       BRASILEIRO(A)|    PUBLICA|      NAO|       RJ|              2|              1|      Angra dos Reis|         402.9|         509.7|           534.2|       451.9|      500|\n",
            "|190001595676|     2019|          17|     F|  BRANCA|       BRASILEIRO(A)|    PUBLICA|      NAO|       SP|              2|              1|           S�o Paulo|         565.5|         590.4|           600.0|       687.0|      940|\n",
            "|190001480447|     2019|          18|     F|     N/I|       BRASILEIRO(A)|    PUBLICA|      NAO|       PB|              2|              1|         Jo�o Pessoa|         419.5|         540.9|           495.8|       444.6|      480|\n",
            "|190001237818|     2019|          19|     M|   PRETA|       BRASILEIRO(A)|    PUBLICA|      NAO|       MG|              2|              1|      Belo Horizonte|         421.6|         381.0|           463.0|       449.0|      420|\n",
            "+------------+---------+------------+------+--------+--------------------+-----------+---------+---------+---------------+---------------+--------------------+--------------+--------------+----------------+------------+---------+\n",
            "only showing top 20 rows\n",
            "\n"
          ]
        }
      ]
    },
    {
      "cell_type": "code",
      "source": [
        "# Alterando dados de colunas segundo dicionario:\n",
        "enem_2019.withColumn(\"dependencia_esc\",\n",
        "                         f.when(enem_2019.dependencia_esc == 1, \"FEDERAL\")\\\n",
        "                         .when(enem_2019.dependencia_esc == 2, \"MUNICIPAL\")\\\n",
        "                         .when(enem_2019.dependencia_esc == 3, \"PRIVADA\").otherwise(\"N/I\")\n",
        ").show()"
      ],
      "metadata": {
        "colab": {
          "base_uri": "https://localhost:8080/"
        },
        "id": "MQa0KsCcNGg6",
        "outputId": "b4725e24-b8e6-4e14-8daa-2af1b4a1790d"
      },
      "execution_count": 133,
      "outputs": [
        {
          "output_type": "stream",
          "name": "stdout",
          "text": [
            "+------------+---------+------------+------+--------+--------------------+-----------+---------+---------+---------------+---------------+--------------------+--------------+--------------+----------------+------------+---------+\n",
            "|   inscricao|ano_prova|faixa_etaria|genero|cor_raca|       nacionalidade|tipo_escola|treineiro|uf_escola|dependencia_esc|localizacao_esc|       municipio_esc|n_ciencias_nat|n_ciencias_hum|n_linguagens_cod|n_matematica|n_redacao|\n",
            "+------------+---------+------------+------+--------+--------------------+-----------+---------+---------+---------------+---------------+--------------------+--------------+--------------+----------------+------------+---------+\n",
            "|190001867757|     2019|          17|     F|  BRANCA|       BRASILEIRO(A)|    PRIVADA|      NAO|       PR|            N/I|              1|           Apucarana|         618.2|         744.7|           636.3|       713.7|      900|\n",
            "|190001692704|     2019|          18|     F|  BRANCA|       BRASILEIRO(A)|    PUBLICA|      NAO|       RS|      MUNICIPAL|              1|            Alvorada|         430.4|         466.8|           515.9|       394.1|      580|\n",
            "|190001595660|     2019|          17|     F|   PRETA|       BRASILEIRO(A)|    PUBLICA|      NAO|       SP|      MUNICIPAL|              1|     Itaquaquecetuba|         371.8|         501.4|           518.6|       442.0|      660|\n",
            "|190001421552|     2019|          17|     M|   PRETA|       BRASILEIRO(A)|    PUBLICA|      NAO|       BA|      MUNICIPAL|              1|    Lauro de Freitas|         567.3|         584.1|           595.8|       704.5|      620|\n",
            "|190001480443|     2019|          18|     M|   PARDA|BRASILEIRO, NASCI...|    PUBLICA|      NAO|       PB|      MUNICIPAL|              1|          Santa Rita|         373.2|         409.6|           469.5|       379.1|      480|\n",
            "|190001082475|     2019|          17|     F|   PARDA|       BRASILEIRO(A)|    PUBLICA|      NAO|       AM|      MUNICIPAL|              1|              Manaus|         385.8|         436.3|           393.8|       370.0|      260|\n",
            "|190002037440|     2019|          17|     M|   PARDA|       BRASILEIRO(A)|    PUBLICA|      NAO|       DF|      MUNICIPAL|              1|            Bras�lia|         389.7|         431.1|           482.0|       529.7|      560|\n",
            "|190001121527|     2019|          17|     F|  BRANCA|       BRASILEIRO(A)|    PUBLICA|      NAO|       PI|        FEDERAL|              1|            Parna�ba|         427.6|         548.8|           587.2|       699.3|      820|\n",
            "|190001042836|     2019|          17|     F|   PRETA|       BRASILEIRO(A)|    PUBLICA|      NAO|       PA|      MUNICIPAL|              1|               Bel�m|         510.9|         585.4|           578.4|       605.2|      880|\n",
            "|190001421560|     2019|          19|     M|   PARDA|       BRASILEIRO(A)|    PUBLICA|      NAO|       BA|      MUNICIPAL|              1|S�o Sebasti�o do ...|         361.2|         499.0|           403.5|       392.5|      560|\n",
            "|190001121528|     2019|          17|     F|   PARDA|       BRASILEIRO(A)|    PUBLICA|      NAO|       PI|      MUNICIPAL|              1|            Piripiri|         556.8|         487.0|           571.8|       578.5|      800|\n",
            "|190001595672|     2019|          18|     M|  BRANCA|       BRASILEIRO(A)|    PUBLICA|      NAO|       SP|      MUNICIPAL|              1|              Araras|         537.0|         585.3|           590.1|       661.4|      540|\n",
            "|190001867760|     2019|          18|     M|   PARDA|       BRASILEIRO(A)|    PUBLICA|      NAO|       PR|      MUNICIPAL|              1|        Campo Mour�o|         523.2|         469.3|           508.4|       679.4|      640|\n",
            "|190001595675|     2019|          17|     F|  BRANCA|       BRASILEIRO(A)|    PUBLICA|      NAO|       SP|      MUNICIPAL|              1|             Mar�lia|         423.9|         500.4|           472.3|       503.9|      620|\n",
            "|190001237815|     2019|          17|     F|  BRANCA|       BRASILEIRO(A)|    PUBLICA|      NAO|       MG|      MUNICIPAL|              1|             Extrema|         624.5|         636.9|           635.8|       698.7|      800|\n",
            "|190001925229|     2019|          18|     M|   PARDA|       BRASILEIRO(A)|    PUBLICA|      NAO|       CE|      MUNICIPAL|              1|           Fortaleza|         416.3|         489.4|           501.7|       394.4|      720|\n",
            "|190001517230|     2019|          18|     F|   PARDA|       BRASILEIRO(A)|    PUBLICA|      NAO|       RJ|      MUNICIPAL|              1|      Angra dos Reis|         402.9|         509.7|           534.2|       451.9|      500|\n",
            "|190001595676|     2019|          17|     F|  BRANCA|       BRASILEIRO(A)|    PUBLICA|      NAO|       SP|      MUNICIPAL|              1|           S�o Paulo|         565.5|         590.4|           600.0|       687.0|      940|\n",
            "|190001480447|     2019|          18|     F|     N/I|       BRASILEIRO(A)|    PUBLICA|      NAO|       PB|      MUNICIPAL|              1|         Jo�o Pessoa|         419.5|         540.9|           495.8|       444.6|      480|\n",
            "|190001237818|     2019|          19|     M|   PRETA|       BRASILEIRO(A)|    PUBLICA|      NAO|       MG|      MUNICIPAL|              1|      Belo Horizonte|         421.6|         381.0|           463.0|       449.0|      420|\n",
            "+------------+---------+------------+------+--------+--------------------+-----------+---------+---------+---------------+---------------+--------------------+--------------+--------------+----------------+------------+---------+\n",
            "only showing top 20 rows\n",
            "\n"
          ]
        }
      ]
    },
    {
      "cell_type": "code",
      "source": [
        "enem_2019 = enem_2019.withColumn(\"dependencia_esc\",\n",
        "                         f.when(enem_2019.dependencia_esc == 1, \"FEDERAL\")\\\n",
        "                         .when(enem_2019.dependencia_esc == 2, \"MUNICIPAL\")\\\n",
        "                         .when(enem_2019.dependencia_esc == 3, \"PRIVADA\").otherwise(\"N/I\")\n",
        ")"
      ],
      "metadata": {
        "id": "-sqH7jTIN4xS"
      },
      "execution_count": 134,
      "outputs": []
    },
    {
      "cell_type": "code",
      "source": [
        "enem_2019.show()"
      ],
      "metadata": {
        "colab": {
          "base_uri": "https://localhost:8080/"
        },
        "id": "8tXlZUlyN8l5",
        "outputId": "3717765b-c7c8-438a-bf54-ebec6704e836"
      },
      "execution_count": 135,
      "outputs": [
        {
          "output_type": "stream",
          "name": "stdout",
          "text": [
            "+------------+---------+------------+------+--------+--------------------+-----------+---------+---------+---------------+---------------+--------------------+--------------+--------------+----------------+------------+---------+\n",
            "|   inscricao|ano_prova|faixa_etaria|genero|cor_raca|       nacionalidade|tipo_escola|treineiro|uf_escola|dependencia_esc|localizacao_esc|       municipio_esc|n_ciencias_nat|n_ciencias_hum|n_linguagens_cod|n_matematica|n_redacao|\n",
            "+------------+---------+------------+------+--------+--------------------+-----------+---------+---------+---------------+---------------+--------------------+--------------+--------------+----------------+------------+---------+\n",
            "|190001867757|     2019|          17|     F|  BRANCA|       BRASILEIRO(A)|    PRIVADA|      NAO|       PR|            N/I|              1|           Apucarana|         618.2|         744.7|           636.3|       713.7|      900|\n",
            "|190001692704|     2019|          18|     F|  BRANCA|       BRASILEIRO(A)|    PUBLICA|      NAO|       RS|      MUNICIPAL|              1|            Alvorada|         430.4|         466.8|           515.9|       394.1|      580|\n",
            "|190001595660|     2019|          17|     F|   PRETA|       BRASILEIRO(A)|    PUBLICA|      NAO|       SP|      MUNICIPAL|              1|     Itaquaquecetuba|         371.8|         501.4|           518.6|       442.0|      660|\n",
            "|190001421552|     2019|          17|     M|   PRETA|       BRASILEIRO(A)|    PUBLICA|      NAO|       BA|      MUNICIPAL|              1|    Lauro de Freitas|         567.3|         584.1|           595.8|       704.5|      620|\n",
            "|190001480443|     2019|          18|     M|   PARDA|BRASILEIRO, NASCI...|    PUBLICA|      NAO|       PB|      MUNICIPAL|              1|          Santa Rita|         373.2|         409.6|           469.5|       379.1|      480|\n",
            "|190001082475|     2019|          17|     F|   PARDA|       BRASILEIRO(A)|    PUBLICA|      NAO|       AM|      MUNICIPAL|              1|              Manaus|         385.8|         436.3|           393.8|       370.0|      260|\n",
            "|190002037440|     2019|          17|     M|   PARDA|       BRASILEIRO(A)|    PUBLICA|      NAO|       DF|      MUNICIPAL|              1|            Bras�lia|         389.7|         431.1|           482.0|       529.7|      560|\n",
            "|190001121527|     2019|          17|     F|  BRANCA|       BRASILEIRO(A)|    PUBLICA|      NAO|       PI|        FEDERAL|              1|            Parna�ba|         427.6|         548.8|           587.2|       699.3|      820|\n",
            "|190001042836|     2019|          17|     F|   PRETA|       BRASILEIRO(A)|    PUBLICA|      NAO|       PA|      MUNICIPAL|              1|               Bel�m|         510.9|         585.4|           578.4|       605.2|      880|\n",
            "|190001421560|     2019|          19|     M|   PARDA|       BRASILEIRO(A)|    PUBLICA|      NAO|       BA|      MUNICIPAL|              1|S�o Sebasti�o do ...|         361.2|         499.0|           403.5|       392.5|      560|\n",
            "|190001121528|     2019|          17|     F|   PARDA|       BRASILEIRO(A)|    PUBLICA|      NAO|       PI|      MUNICIPAL|              1|            Piripiri|         556.8|         487.0|           571.8|       578.5|      800|\n",
            "|190001595672|     2019|          18|     M|  BRANCA|       BRASILEIRO(A)|    PUBLICA|      NAO|       SP|      MUNICIPAL|              1|              Araras|         537.0|         585.3|           590.1|       661.4|      540|\n",
            "|190001867760|     2019|          18|     M|   PARDA|       BRASILEIRO(A)|    PUBLICA|      NAO|       PR|      MUNICIPAL|              1|        Campo Mour�o|         523.2|         469.3|           508.4|       679.4|      640|\n",
            "|190001595675|     2019|          17|     F|  BRANCA|       BRASILEIRO(A)|    PUBLICA|      NAO|       SP|      MUNICIPAL|              1|             Mar�lia|         423.9|         500.4|           472.3|       503.9|      620|\n",
            "|190001237815|     2019|          17|     F|  BRANCA|       BRASILEIRO(A)|    PUBLICA|      NAO|       MG|      MUNICIPAL|              1|             Extrema|         624.5|         636.9|           635.8|       698.7|      800|\n",
            "|190001925229|     2019|          18|     M|   PARDA|       BRASILEIRO(A)|    PUBLICA|      NAO|       CE|      MUNICIPAL|              1|           Fortaleza|         416.3|         489.4|           501.7|       394.4|      720|\n",
            "|190001517230|     2019|          18|     F|   PARDA|       BRASILEIRO(A)|    PUBLICA|      NAO|       RJ|      MUNICIPAL|              1|      Angra dos Reis|         402.9|         509.7|           534.2|       451.9|      500|\n",
            "|190001595676|     2019|          17|     F|  BRANCA|       BRASILEIRO(A)|    PUBLICA|      NAO|       SP|      MUNICIPAL|              1|           S�o Paulo|         565.5|         590.4|           600.0|       687.0|      940|\n",
            "|190001480447|     2019|          18|     F|     N/I|       BRASILEIRO(A)|    PUBLICA|      NAO|       PB|      MUNICIPAL|              1|         Jo�o Pessoa|         419.5|         540.9|           495.8|       444.6|      480|\n",
            "|190001237818|     2019|          19|     M|   PRETA|       BRASILEIRO(A)|    PUBLICA|      NAO|       MG|      MUNICIPAL|              1|      Belo Horizonte|         421.6|         381.0|           463.0|       449.0|      420|\n",
            "+------------+---------+------------+------+--------+--------------------+-----------+---------+---------+---------------+---------------+--------------------+--------------+--------------+----------------+------------+---------+\n",
            "only showing top 20 rows\n",
            "\n"
          ]
        }
      ]
    },
    {
      "cell_type": "code",
      "source": [
        "# Alterando dados de colunas segundo dicionario:\n",
        "enem_2019.withColumn(\"localizacao_esc\",\n",
        "                         f.when(enem_2019.localizacao_esc == 1, \"URBANO\")\\\n",
        "                         .when(enem_2019.localizacao_esc == 2, \"RURAL\")\n",
        ").show()"
      ],
      "metadata": {
        "colab": {
          "base_uri": "https://localhost:8080/"
        },
        "id": "d-FsESmlN9-J",
        "outputId": "7f56aa8a-e400-47e1-954e-53143c4860b6"
      },
      "execution_count": 136,
      "outputs": [
        {
          "output_type": "stream",
          "name": "stdout",
          "text": [
            "+------------+---------+------------+------+--------+--------------------+-----------+---------+---------+---------------+---------------+--------------------+--------------+--------------+----------------+------------+---------+\n",
            "|   inscricao|ano_prova|faixa_etaria|genero|cor_raca|       nacionalidade|tipo_escola|treineiro|uf_escola|dependencia_esc|localizacao_esc|       municipio_esc|n_ciencias_nat|n_ciencias_hum|n_linguagens_cod|n_matematica|n_redacao|\n",
            "+------------+---------+------------+------+--------+--------------------+-----------+---------+---------+---------------+---------------+--------------------+--------------+--------------+----------------+------------+---------+\n",
            "|190001867757|     2019|          17|     F|  BRANCA|       BRASILEIRO(A)|    PRIVADA|      NAO|       PR|            N/I|         URBANO|           Apucarana|         618.2|         744.7|           636.3|       713.7|      900|\n",
            "|190001692704|     2019|          18|     F|  BRANCA|       BRASILEIRO(A)|    PUBLICA|      NAO|       RS|      MUNICIPAL|         URBANO|            Alvorada|         430.4|         466.8|           515.9|       394.1|      580|\n",
            "|190001595660|     2019|          17|     F|   PRETA|       BRASILEIRO(A)|    PUBLICA|      NAO|       SP|      MUNICIPAL|         URBANO|     Itaquaquecetuba|         371.8|         501.4|           518.6|       442.0|      660|\n",
            "|190001421552|     2019|          17|     M|   PRETA|       BRASILEIRO(A)|    PUBLICA|      NAO|       BA|      MUNICIPAL|         URBANO|    Lauro de Freitas|         567.3|         584.1|           595.8|       704.5|      620|\n",
            "|190001480443|     2019|          18|     M|   PARDA|BRASILEIRO, NASCI...|    PUBLICA|      NAO|       PB|      MUNICIPAL|         URBANO|          Santa Rita|         373.2|         409.6|           469.5|       379.1|      480|\n",
            "|190001082475|     2019|          17|     F|   PARDA|       BRASILEIRO(A)|    PUBLICA|      NAO|       AM|      MUNICIPAL|         URBANO|              Manaus|         385.8|         436.3|           393.8|       370.0|      260|\n",
            "|190002037440|     2019|          17|     M|   PARDA|       BRASILEIRO(A)|    PUBLICA|      NAO|       DF|      MUNICIPAL|         URBANO|            Bras�lia|         389.7|         431.1|           482.0|       529.7|      560|\n",
            "|190001121527|     2019|          17|     F|  BRANCA|       BRASILEIRO(A)|    PUBLICA|      NAO|       PI|        FEDERAL|         URBANO|            Parna�ba|         427.6|         548.8|           587.2|       699.3|      820|\n",
            "|190001042836|     2019|          17|     F|   PRETA|       BRASILEIRO(A)|    PUBLICA|      NAO|       PA|      MUNICIPAL|         URBANO|               Bel�m|         510.9|         585.4|           578.4|       605.2|      880|\n",
            "|190001421560|     2019|          19|     M|   PARDA|       BRASILEIRO(A)|    PUBLICA|      NAO|       BA|      MUNICIPAL|         URBANO|S�o Sebasti�o do ...|         361.2|         499.0|           403.5|       392.5|      560|\n",
            "|190001121528|     2019|          17|     F|   PARDA|       BRASILEIRO(A)|    PUBLICA|      NAO|       PI|      MUNICIPAL|         URBANO|            Piripiri|         556.8|         487.0|           571.8|       578.5|      800|\n",
            "|190001595672|     2019|          18|     M|  BRANCA|       BRASILEIRO(A)|    PUBLICA|      NAO|       SP|      MUNICIPAL|         URBANO|              Araras|         537.0|         585.3|           590.1|       661.4|      540|\n",
            "|190001867760|     2019|          18|     M|   PARDA|       BRASILEIRO(A)|    PUBLICA|      NAO|       PR|      MUNICIPAL|         URBANO|        Campo Mour�o|         523.2|         469.3|           508.4|       679.4|      640|\n",
            "|190001595675|     2019|          17|     F|  BRANCA|       BRASILEIRO(A)|    PUBLICA|      NAO|       SP|      MUNICIPAL|         URBANO|             Mar�lia|         423.9|         500.4|           472.3|       503.9|      620|\n",
            "|190001237815|     2019|          17|     F|  BRANCA|       BRASILEIRO(A)|    PUBLICA|      NAO|       MG|      MUNICIPAL|         URBANO|             Extrema|         624.5|         636.9|           635.8|       698.7|      800|\n",
            "|190001925229|     2019|          18|     M|   PARDA|       BRASILEIRO(A)|    PUBLICA|      NAO|       CE|      MUNICIPAL|         URBANO|           Fortaleza|         416.3|         489.4|           501.7|       394.4|      720|\n",
            "|190001517230|     2019|          18|     F|   PARDA|       BRASILEIRO(A)|    PUBLICA|      NAO|       RJ|      MUNICIPAL|         URBANO|      Angra dos Reis|         402.9|         509.7|           534.2|       451.9|      500|\n",
            "|190001595676|     2019|          17|     F|  BRANCA|       BRASILEIRO(A)|    PUBLICA|      NAO|       SP|      MUNICIPAL|         URBANO|           S�o Paulo|         565.5|         590.4|           600.0|       687.0|      940|\n",
            "|190001480447|     2019|          18|     F|     N/I|       BRASILEIRO(A)|    PUBLICA|      NAO|       PB|      MUNICIPAL|         URBANO|         Jo�o Pessoa|         419.5|         540.9|           495.8|       444.6|      480|\n",
            "|190001237818|     2019|          19|     M|   PRETA|       BRASILEIRO(A)|    PUBLICA|      NAO|       MG|      MUNICIPAL|         URBANO|      Belo Horizonte|         421.6|         381.0|           463.0|       449.0|      420|\n",
            "+------------+---------+------------+------+--------+--------------------+-----------+---------+---------+---------------+---------------+--------------------+--------------+--------------+----------------+------------+---------+\n",
            "only showing top 20 rows\n",
            "\n"
          ]
        }
      ]
    },
    {
      "cell_type": "code",
      "source": [
        "enem_2019 = enem_2019.withColumn(\"localizacao_esc\",\n",
        "                         f.when(enem_2019.localizacao_esc == 1, \"URBANO\")\\\n",
        "                         .when(enem_2019.localizacao_esc == 2, \"RURAL\")\n",
        ")"
      ],
      "metadata": {
        "id": "_-0MBoghOaAS"
      },
      "execution_count": 137,
      "outputs": []
    },
    {
      "cell_type": "code",
      "source": [
        "enem_2019.show()"
      ],
      "metadata": {
        "colab": {
          "base_uri": "https://localhost:8080/"
        },
        "id": "lLEwoZeEOe5p",
        "outputId": "d9554802-0659-4a6c-ec58-0242229de66b"
      },
      "execution_count": 138,
      "outputs": [
        {
          "output_type": "stream",
          "name": "stdout",
          "text": [
            "+------------+---------+------------+------+--------+--------------------+-----------+---------+---------+---------------+---------------+--------------------+--------------+--------------+----------------+------------+---------+\n",
            "|   inscricao|ano_prova|faixa_etaria|genero|cor_raca|       nacionalidade|tipo_escola|treineiro|uf_escola|dependencia_esc|localizacao_esc|       municipio_esc|n_ciencias_nat|n_ciencias_hum|n_linguagens_cod|n_matematica|n_redacao|\n",
            "+------------+---------+------------+------+--------+--------------------+-----------+---------+---------+---------------+---------------+--------------------+--------------+--------------+----------------+------------+---------+\n",
            "|190001867757|     2019|          17|     F|  BRANCA|       BRASILEIRO(A)|    PRIVADA|      NAO|       PR|            N/I|         URBANO|           Apucarana|         618.2|         744.7|           636.3|       713.7|      900|\n",
            "|190001692704|     2019|          18|     F|  BRANCA|       BRASILEIRO(A)|    PUBLICA|      NAO|       RS|      MUNICIPAL|         URBANO|            Alvorada|         430.4|         466.8|           515.9|       394.1|      580|\n",
            "|190001595660|     2019|          17|     F|   PRETA|       BRASILEIRO(A)|    PUBLICA|      NAO|       SP|      MUNICIPAL|         URBANO|     Itaquaquecetuba|         371.8|         501.4|           518.6|       442.0|      660|\n",
            "|190001421552|     2019|          17|     M|   PRETA|       BRASILEIRO(A)|    PUBLICA|      NAO|       BA|      MUNICIPAL|         URBANO|    Lauro de Freitas|         567.3|         584.1|           595.8|       704.5|      620|\n",
            "|190001480443|     2019|          18|     M|   PARDA|BRASILEIRO, NASCI...|    PUBLICA|      NAO|       PB|      MUNICIPAL|         URBANO|          Santa Rita|         373.2|         409.6|           469.5|       379.1|      480|\n",
            "|190001082475|     2019|          17|     F|   PARDA|       BRASILEIRO(A)|    PUBLICA|      NAO|       AM|      MUNICIPAL|         URBANO|              Manaus|         385.8|         436.3|           393.8|       370.0|      260|\n",
            "|190002037440|     2019|          17|     M|   PARDA|       BRASILEIRO(A)|    PUBLICA|      NAO|       DF|      MUNICIPAL|         URBANO|            Bras�lia|         389.7|         431.1|           482.0|       529.7|      560|\n",
            "|190001121527|     2019|          17|     F|  BRANCA|       BRASILEIRO(A)|    PUBLICA|      NAO|       PI|        FEDERAL|         URBANO|            Parna�ba|         427.6|         548.8|           587.2|       699.3|      820|\n",
            "|190001042836|     2019|          17|     F|   PRETA|       BRASILEIRO(A)|    PUBLICA|      NAO|       PA|      MUNICIPAL|         URBANO|               Bel�m|         510.9|         585.4|           578.4|       605.2|      880|\n",
            "|190001421560|     2019|          19|     M|   PARDA|       BRASILEIRO(A)|    PUBLICA|      NAO|       BA|      MUNICIPAL|         URBANO|S�o Sebasti�o do ...|         361.2|         499.0|           403.5|       392.5|      560|\n",
            "|190001121528|     2019|          17|     F|   PARDA|       BRASILEIRO(A)|    PUBLICA|      NAO|       PI|      MUNICIPAL|         URBANO|            Piripiri|         556.8|         487.0|           571.8|       578.5|      800|\n",
            "|190001595672|     2019|          18|     M|  BRANCA|       BRASILEIRO(A)|    PUBLICA|      NAO|       SP|      MUNICIPAL|         URBANO|              Araras|         537.0|         585.3|           590.1|       661.4|      540|\n",
            "|190001867760|     2019|          18|     M|   PARDA|       BRASILEIRO(A)|    PUBLICA|      NAO|       PR|      MUNICIPAL|         URBANO|        Campo Mour�o|         523.2|         469.3|           508.4|       679.4|      640|\n",
            "|190001595675|     2019|          17|     F|  BRANCA|       BRASILEIRO(A)|    PUBLICA|      NAO|       SP|      MUNICIPAL|         URBANO|             Mar�lia|         423.9|         500.4|           472.3|       503.9|      620|\n",
            "|190001237815|     2019|          17|     F|  BRANCA|       BRASILEIRO(A)|    PUBLICA|      NAO|       MG|      MUNICIPAL|         URBANO|             Extrema|         624.5|         636.9|           635.8|       698.7|      800|\n",
            "|190001925229|     2019|          18|     M|   PARDA|       BRASILEIRO(A)|    PUBLICA|      NAO|       CE|      MUNICIPAL|         URBANO|           Fortaleza|         416.3|         489.4|           501.7|       394.4|      720|\n",
            "|190001517230|     2019|          18|     F|   PARDA|       BRASILEIRO(A)|    PUBLICA|      NAO|       RJ|      MUNICIPAL|         URBANO|      Angra dos Reis|         402.9|         509.7|           534.2|       451.9|      500|\n",
            "|190001595676|     2019|          17|     F|  BRANCA|       BRASILEIRO(A)|    PUBLICA|      NAO|       SP|      MUNICIPAL|         URBANO|           S�o Paulo|         565.5|         590.4|           600.0|       687.0|      940|\n",
            "|190001480447|     2019|          18|     F|     N/I|       BRASILEIRO(A)|    PUBLICA|      NAO|       PB|      MUNICIPAL|         URBANO|         Jo�o Pessoa|         419.5|         540.9|           495.8|       444.6|      480|\n",
            "|190001237818|     2019|          19|     M|   PRETA|       BRASILEIRO(A)|    PUBLICA|      NAO|       MG|      MUNICIPAL|         URBANO|      Belo Horizonte|         421.6|         381.0|           463.0|       449.0|      420|\n",
            "+------------+---------+------------+------+--------+--------------------+-----------+---------+---------+---------------+---------------+--------------------+--------------+--------------+----------------+------------+---------+\n",
            "only showing top 20 rows\n",
            "\n"
          ]
        }
      ]
    },
    {
      "cell_type": "code",
      "source": [
        "bkp= enem_2019"
      ],
      "metadata": {
        "id": "ULDeJ9MkUBv2"
      },
      "execution_count": 139,
      "outputs": []
    },
    {
      "cell_type": "code",
      "source": [
        "# Removendo dados nulos da coluna \"localizacao_esc\":\n",
        "enem_2019 = enem_2019.dropna(subset=['localizacao_esc'])"
      ],
      "metadata": {
        "id": "seK2tl8dTtal"
      },
      "execution_count": 140,
      "outputs": []
    },
    {
      "cell_type": "code",
      "source": [
        "# Verificando alteração\n",
        "enem_2019.filter((enem_2019['localizacao_esc'].isNull())).show()"
      ],
      "metadata": {
        "colab": {
          "base_uri": "https://localhost:8080/"
        },
        "id": "5CsUqOcfUghY",
        "outputId": "896d8a38-456c-43b7-e8a4-1955b8180550"
      },
      "execution_count": 141,
      "outputs": [
        {
          "output_type": "stream",
          "name": "stdout",
          "text": [
            "+---------+---------+------------+------+--------+-------------+-----------+---------+---------+---------------+---------------+-------------+--------------+--------------+----------------+------------+---------+\n",
            "|inscricao|ano_prova|faixa_etaria|genero|cor_raca|nacionalidade|tipo_escola|treineiro|uf_escola|dependencia_esc|localizacao_esc|municipio_esc|n_ciencias_nat|n_ciencias_hum|n_linguagens_cod|n_matematica|n_redacao|\n",
            "+---------+---------+------------+------+--------+-------------+-----------+---------+---------+---------------+---------------+-------------+--------------+--------------+----------------+------------+---------+\n",
            "+---------+---------+------------+------+--------+-------------+-----------+---------+---------+---------------+---------------+-------------+--------------+--------------+----------------+------------+---------+\n",
            "\n"
          ]
        }
      ]
    },
    {
      "cell_type": "code",
      "source": [
        "bkp = enem_2019"
      ],
      "metadata": {
        "id": "xxVGlDOYWhNX"
      },
      "execution_count": 142,
      "outputs": []
    },
    {
      "cell_type": "code",
      "source": [
        "# Adicionando a coluna media final para enem:\n",
        "enem_2019 = enem_2019.withColumn(\"nota_final\",\n",
        "                                  (f.col(\"n_ciencias_nat\") +\n",
        "                                   f.col(\"n_ciencias_hum\") +\n",
        "                                   f.col(\"n_linguagens_cod\") +\n",
        "                                   f.col(\"n_matematica\") +\n",
        "                                   f.col(\"n_redacao\")) / 5)"
      ],
      "metadata": {
        "id": "0xplXxfbTOQI"
      },
      "execution_count": 143,
      "outputs": []
    },
    {
      "cell_type": "code",
      "source": [
        "enem_2019.show()"
      ],
      "metadata": {
        "colab": {
          "base_uri": "https://localhost:8080/"
        },
        "id": "j3G-TLdvXPh0",
        "outputId": "dd5c00a6-526f-4dcc-91fc-82cd692562df"
      },
      "execution_count": 144,
      "outputs": [
        {
          "output_type": "stream",
          "name": "stdout",
          "text": [
            "+------------+---------+------------+------+--------+--------------------+-----------+---------+---------+---------------+---------------+--------------------+--------------+--------------+----------------+------------+---------+------------------+\n",
            "|   inscricao|ano_prova|faixa_etaria|genero|cor_raca|       nacionalidade|tipo_escola|treineiro|uf_escola|dependencia_esc|localizacao_esc|       municipio_esc|n_ciencias_nat|n_ciencias_hum|n_linguagens_cod|n_matematica|n_redacao|        nota_final|\n",
            "+------------+---------+------------+------+--------+--------------------+-----------+---------+---------+---------------+---------------+--------------------+--------------+--------------+----------------+------------+---------+------------------+\n",
            "|190001867757|     2019|          17|     F|  BRANCA|       BRASILEIRO(A)|    PRIVADA|      NAO|       PR|            N/I|         URBANO|           Apucarana|         618.2|         744.7|           636.3|       713.7|      900|            722.58|\n",
            "|190001692704|     2019|          18|     F|  BRANCA|       BRASILEIRO(A)|    PUBLICA|      NAO|       RS|      MUNICIPAL|         URBANO|            Alvorada|         430.4|         466.8|           515.9|       394.1|      580|477.43999999999994|\n",
            "|190001595660|     2019|          17|     F|   PRETA|       BRASILEIRO(A)|    PUBLICA|      NAO|       SP|      MUNICIPAL|         URBANO|     Itaquaquecetuba|         371.8|         501.4|           518.6|       442.0|      660|498.76000000000005|\n",
            "|190001421552|     2019|          17|     M|   PRETA|       BRASILEIRO(A)|    PUBLICA|      NAO|       BA|      MUNICIPAL|         URBANO|    Lauro de Freitas|         567.3|         584.1|           595.8|       704.5|      620| 614.3399999999999|\n",
            "|190001480443|     2019|          18|     M|   PARDA|BRASILEIRO, NASCI...|    PUBLICA|      NAO|       PB|      MUNICIPAL|         URBANO|          Santa Rita|         373.2|         409.6|           469.5|       379.1|      480|422.28000000000003|\n",
            "|190001082475|     2019|          17|     F|   PARDA|       BRASILEIRO(A)|    PUBLICA|      NAO|       AM|      MUNICIPAL|         URBANO|              Manaus|         385.8|         436.3|           393.8|       370.0|      260|            369.18|\n",
            "|190002037440|     2019|          17|     M|   PARDA|       BRASILEIRO(A)|    PUBLICA|      NAO|       DF|      MUNICIPAL|         URBANO|            Bras�lia|         389.7|         431.1|           482.0|       529.7|      560|             478.5|\n",
            "|190001121527|     2019|          17|     F|  BRANCA|       BRASILEIRO(A)|    PUBLICA|      NAO|       PI|        FEDERAL|         URBANO|            Parna�ba|         427.6|         548.8|           587.2|       699.3|      820| 616.5799999999999|\n",
            "|190001042836|     2019|          17|     F|   PRETA|       BRASILEIRO(A)|    PUBLICA|      NAO|       PA|      MUNICIPAL|         URBANO|               Bel�m|         510.9|         585.4|           578.4|       605.2|      880| 631.9799999999999|\n",
            "|190001421560|     2019|          19|     M|   PARDA|       BRASILEIRO(A)|    PUBLICA|      NAO|       BA|      MUNICIPAL|         URBANO|S�o Sebasti�o do ...|         361.2|         499.0|           403.5|       392.5|      560|443.23999999999995|\n",
            "|190001121528|     2019|          17|     F|   PARDA|       BRASILEIRO(A)|    PUBLICA|      NAO|       PI|      MUNICIPAL|         URBANO|            Piripiri|         556.8|         487.0|           571.8|       578.5|      800| 598.8199999999999|\n",
            "|190001595672|     2019|          18|     M|  BRANCA|       BRASILEIRO(A)|    PUBLICA|      NAO|       SP|      MUNICIPAL|         URBANO|              Araras|         537.0|         585.3|           590.1|       661.4|      540|            582.76|\n",
            "|190001867760|     2019|          18|     M|   PARDA|       BRASILEIRO(A)|    PUBLICA|      NAO|       PR|      MUNICIPAL|         URBANO|        Campo Mour�o|         523.2|         469.3|           508.4|       679.4|      640| 564.0600000000001|\n",
            "|190001595675|     2019|          17|     F|  BRANCA|       BRASILEIRO(A)|    PUBLICA|      NAO|       SP|      MUNICIPAL|         URBANO|             Mar�lia|         423.9|         500.4|           472.3|       503.9|      620|             504.1|\n",
            "|190001237815|     2019|          17|     F|  BRANCA|       BRASILEIRO(A)|    PUBLICA|      NAO|       MG|      MUNICIPAL|         URBANO|             Extrema|         624.5|         636.9|           635.8|       698.7|      800| 679.1800000000001|\n",
            "|190001925229|     2019|          18|     M|   PARDA|       BRASILEIRO(A)|    PUBLICA|      NAO|       CE|      MUNICIPAL|         URBANO|           Fortaleza|         416.3|         489.4|           501.7|       394.4|      720|            504.36|\n",
            "|190001517230|     2019|          18|     F|   PARDA|       BRASILEIRO(A)|    PUBLICA|      NAO|       RJ|      MUNICIPAL|         URBANO|      Angra dos Reis|         402.9|         509.7|           534.2|       451.9|      500|479.73999999999995|\n",
            "|190001595676|     2019|          17|     F|  BRANCA|       BRASILEIRO(A)|    PUBLICA|      NAO|       SP|      MUNICIPAL|         URBANO|           S�o Paulo|         565.5|         590.4|           600.0|       687.0|      940|            676.58|\n",
            "|190001480447|     2019|          18|     F|     N/I|       BRASILEIRO(A)|    PUBLICA|      NAO|       PB|      MUNICIPAL|         URBANO|         Jo�o Pessoa|         419.5|         540.9|           495.8|       444.6|      480|            476.16|\n",
            "|190001237818|     2019|          19|     M|   PRETA|       BRASILEIRO(A)|    PUBLICA|      NAO|       MG|      MUNICIPAL|         URBANO|      Belo Horizonte|         421.6|         381.0|           463.0|       449.0|      420|426.91999999999996|\n",
            "+------------+---------+------------+------+--------+--------------------+-----------+---------+---------+---------------+---------------+--------------------+--------------+--------------+----------------+------------+---------+------------------+\n",
            "only showing top 20 rows\n",
            "\n"
          ]
        }
      ]
    },
    {
      "cell_type": "code",
      "source": [
        "bkp = enem_2019"
      ],
      "metadata": {
        "id": "to_b_FxKXrzX"
      },
      "execution_count": 145,
      "outputs": []
    },
    {
      "cell_type": "code",
      "source": [
        "# normalizando coluna nota final deixando 2 casa apos o . :\n",
        "enem_2019 = enem_2019.withColumn(\"nota_final\",\n",
        "                                 f.format_number(\"nota_final\", 2))"
      ],
      "metadata": {
        "id": "t6gI01PUXjuE"
      },
      "execution_count": 146,
      "outputs": []
    },
    {
      "cell_type": "code",
      "source": [
        "enem_2019.show()"
      ],
      "metadata": {
        "colab": {
          "base_uri": "https://localhost:8080/"
        },
        "id": "CwU2nyWuX7Nd",
        "outputId": "e5424e8b-fe8a-433d-fac9-5ec161fc552b"
      },
      "execution_count": 147,
      "outputs": [
        {
          "output_type": "stream",
          "name": "stdout",
          "text": [
            "+------------+---------+------------+------+--------+--------------------+-----------+---------+---------+---------------+---------------+--------------------+--------------+--------------+----------------+------------+---------+----------+\n",
            "|   inscricao|ano_prova|faixa_etaria|genero|cor_raca|       nacionalidade|tipo_escola|treineiro|uf_escola|dependencia_esc|localizacao_esc|       municipio_esc|n_ciencias_nat|n_ciencias_hum|n_linguagens_cod|n_matematica|n_redacao|nota_final|\n",
            "+------------+---------+------------+------+--------+--------------------+-----------+---------+---------+---------------+---------------+--------------------+--------------+--------------+----------------+------------+---------+----------+\n",
            "|190001867757|     2019|          17|     F|  BRANCA|       BRASILEIRO(A)|    PRIVADA|      NAO|       PR|            N/I|         URBANO|           Apucarana|         618.2|         744.7|           636.3|       713.7|      900|    722.58|\n",
            "|190001692704|     2019|          18|     F|  BRANCA|       BRASILEIRO(A)|    PUBLICA|      NAO|       RS|      MUNICIPAL|         URBANO|            Alvorada|         430.4|         466.8|           515.9|       394.1|      580|    477.44|\n",
            "|190001595660|     2019|          17|     F|   PRETA|       BRASILEIRO(A)|    PUBLICA|      NAO|       SP|      MUNICIPAL|         URBANO|     Itaquaquecetuba|         371.8|         501.4|           518.6|       442.0|      660|    498.76|\n",
            "|190001421552|     2019|          17|     M|   PRETA|       BRASILEIRO(A)|    PUBLICA|      NAO|       BA|      MUNICIPAL|         URBANO|    Lauro de Freitas|         567.3|         584.1|           595.8|       704.5|      620|    614.34|\n",
            "|190001480443|     2019|          18|     M|   PARDA|BRASILEIRO, NASCI...|    PUBLICA|      NAO|       PB|      MUNICIPAL|         URBANO|          Santa Rita|         373.2|         409.6|           469.5|       379.1|      480|    422.28|\n",
            "|190001082475|     2019|          17|     F|   PARDA|       BRASILEIRO(A)|    PUBLICA|      NAO|       AM|      MUNICIPAL|         URBANO|              Manaus|         385.8|         436.3|           393.8|       370.0|      260|    369.18|\n",
            "|190002037440|     2019|          17|     M|   PARDA|       BRASILEIRO(A)|    PUBLICA|      NAO|       DF|      MUNICIPAL|         URBANO|            Bras�lia|         389.7|         431.1|           482.0|       529.7|      560|    478.50|\n",
            "|190001121527|     2019|          17|     F|  BRANCA|       BRASILEIRO(A)|    PUBLICA|      NAO|       PI|        FEDERAL|         URBANO|            Parna�ba|         427.6|         548.8|           587.2|       699.3|      820|    616.58|\n",
            "|190001042836|     2019|          17|     F|   PRETA|       BRASILEIRO(A)|    PUBLICA|      NAO|       PA|      MUNICIPAL|         URBANO|               Bel�m|         510.9|         585.4|           578.4|       605.2|      880|    631.98|\n",
            "|190001421560|     2019|          19|     M|   PARDA|       BRASILEIRO(A)|    PUBLICA|      NAO|       BA|      MUNICIPAL|         URBANO|S�o Sebasti�o do ...|         361.2|         499.0|           403.5|       392.5|      560|    443.24|\n",
            "|190001121528|     2019|          17|     F|   PARDA|       BRASILEIRO(A)|    PUBLICA|      NAO|       PI|      MUNICIPAL|         URBANO|            Piripiri|         556.8|         487.0|           571.8|       578.5|      800|    598.82|\n",
            "|190001595672|     2019|          18|     M|  BRANCA|       BRASILEIRO(A)|    PUBLICA|      NAO|       SP|      MUNICIPAL|         URBANO|              Araras|         537.0|         585.3|           590.1|       661.4|      540|    582.76|\n",
            "|190001867760|     2019|          18|     M|   PARDA|       BRASILEIRO(A)|    PUBLICA|      NAO|       PR|      MUNICIPAL|         URBANO|        Campo Mour�o|         523.2|         469.3|           508.4|       679.4|      640|    564.06|\n",
            "|190001595675|     2019|          17|     F|  BRANCA|       BRASILEIRO(A)|    PUBLICA|      NAO|       SP|      MUNICIPAL|         URBANO|             Mar�lia|         423.9|         500.4|           472.3|       503.9|      620|    504.10|\n",
            "|190001237815|     2019|          17|     F|  BRANCA|       BRASILEIRO(A)|    PUBLICA|      NAO|       MG|      MUNICIPAL|         URBANO|             Extrema|         624.5|         636.9|           635.8|       698.7|      800|    679.18|\n",
            "|190001925229|     2019|          18|     M|   PARDA|       BRASILEIRO(A)|    PUBLICA|      NAO|       CE|      MUNICIPAL|         URBANO|           Fortaleza|         416.3|         489.4|           501.7|       394.4|      720|    504.36|\n",
            "|190001517230|     2019|          18|     F|   PARDA|       BRASILEIRO(A)|    PUBLICA|      NAO|       RJ|      MUNICIPAL|         URBANO|      Angra dos Reis|         402.9|         509.7|           534.2|       451.9|      500|    479.74|\n",
            "|190001595676|     2019|          17|     F|  BRANCA|       BRASILEIRO(A)|    PUBLICA|      NAO|       SP|      MUNICIPAL|         URBANO|           S�o Paulo|         565.5|         590.4|           600.0|       687.0|      940|    676.58|\n",
            "|190001480447|     2019|          18|     F|     N/I|       BRASILEIRO(A)|    PUBLICA|      NAO|       PB|      MUNICIPAL|         URBANO|         Jo�o Pessoa|         419.5|         540.9|           495.8|       444.6|      480|    476.16|\n",
            "|190001237818|     2019|          19|     M|   PRETA|       BRASILEIRO(A)|    PUBLICA|      NAO|       MG|      MUNICIPAL|         URBANO|      Belo Horizonte|         421.6|         381.0|           463.0|       449.0|      420|    426.92|\n",
            "+------------+---------+------------+------+--------+--------------------+-----------+---------+---------+---------------+---------------+--------------------+--------------+--------------+----------------+------------+---------+----------+\n",
            "only showing top 20 rows\n",
            "\n"
          ]
        }
      ]
    },
    {
      "cell_type": "markdown",
      "source": [
        "CONSULTAS SQL:\n"
      ],
      "metadata": {
        "id": "VC7s4FKNlf8o"
      }
    },
    {
      "cell_type": "code",
      "source": [
        "enem_2019.count()"
      ],
      "metadata": {
        "colab": {
          "base_uri": "https://localhost:8080/"
        },
        "id": "d7TXZcwUYCaE",
        "outputId": "7b77864b-b638-4d9a-a754-fe84bd06831c"
      },
      "execution_count": 148,
      "outputs": [
        {
          "output_type": "execute_result",
          "data": {
            "text/plain": [
              "940926"
            ]
          },
          "metadata": {},
          "execution_count": 148
        }
      ]
    },
    {
      "cell_type": "code",
      "source": [
        "# Criando view\n",
        "enem_2019.createOrReplaceTempView(\"v_enem_2019\")"
      ],
      "metadata": {
        "id": "s5PTVWeQSMz4"
      },
      "execution_count": 149,
      "outputs": []
    },
    {
      "cell_type": "code",
      "source": [
        "spark.sql(\n",
        "\"\"\"\n",
        "SELECT A.uf_escola, ROUND(AVG(A.nota_final), 2) AS media_estado\n",
        "FROM v_enem_2019 A\n",
        "GROUP BY uf_escola\n",
        "ORDER BY media_estado DESC\n",
        "\"\"\"\n",
        ").toPandas()"
      ],
      "metadata": {
        "id": "gZGigWeuSsHX",
        "colab": {
          "base_uri": "https://localhost:8080/",
          "height": 896
        },
        "outputId": "3bffefe5-faa6-4d7c-c125-140f3e01df51"
      },
      "execution_count": 150,
      "outputs": [
        {
          "output_type": "execute_result",
          "data": {
            "text/plain": [
              "   uf_escola  media_estado\n",
              "0         DF        542.84\n",
              "1         RJ        542.60\n",
              "2         RS        541.38\n",
              "3         MG        540.90\n",
              "4         SC        539.17\n",
              "5         SP        538.54\n",
              "6         ES        537.31\n",
              "7         PR        533.68\n",
              "8         GO        528.88\n",
              "9         RN        526.97\n",
              "10        MS        521.43\n",
              "11        SE        518.65\n",
              "12        PB        515.23\n",
              "13        MT        511.19\n",
              "14        PE        511.08\n",
              "15        BA        507.92\n",
              "16        PI        507.26\n",
              "17        RO        504.46\n",
              "18        RR        503.87\n",
              "19        AC        501.45\n",
              "20        AL        500.26\n",
              "21        PA        500.12\n",
              "22        TO        500.11\n",
              "23        CE        494.21\n",
              "24        AP        491.57\n",
              "25        AM        486.38\n",
              "26        MA        484.08"
            ],
            "text/html": [
              "\n",
              "  <div id=\"df-7f4d7e17-5a7d-4c81-9623-75c01d05f496\" class=\"colab-df-container\">\n",
              "    <div>\n",
              "<style scoped>\n",
              "    .dataframe tbody tr th:only-of-type {\n",
              "        vertical-align: middle;\n",
              "    }\n",
              "\n",
              "    .dataframe tbody tr th {\n",
              "        vertical-align: top;\n",
              "    }\n",
              "\n",
              "    .dataframe thead th {\n",
              "        text-align: right;\n",
              "    }\n",
              "</style>\n",
              "<table border=\"1\" class=\"dataframe\">\n",
              "  <thead>\n",
              "    <tr style=\"text-align: right;\">\n",
              "      <th></th>\n",
              "      <th>uf_escola</th>\n",
              "      <th>media_estado</th>\n",
              "    </tr>\n",
              "  </thead>\n",
              "  <tbody>\n",
              "    <tr>\n",
              "      <th>0</th>\n",
              "      <td>DF</td>\n",
              "      <td>542.84</td>\n",
              "    </tr>\n",
              "    <tr>\n",
              "      <th>1</th>\n",
              "      <td>RJ</td>\n",
              "      <td>542.60</td>\n",
              "    </tr>\n",
              "    <tr>\n",
              "      <th>2</th>\n",
              "      <td>RS</td>\n",
              "      <td>541.38</td>\n",
              "    </tr>\n",
              "    <tr>\n",
              "      <th>3</th>\n",
              "      <td>MG</td>\n",
              "      <td>540.90</td>\n",
              "    </tr>\n",
              "    <tr>\n",
              "      <th>4</th>\n",
              "      <td>SC</td>\n",
              "      <td>539.17</td>\n",
              "    </tr>\n",
              "    <tr>\n",
              "      <th>5</th>\n",
              "      <td>SP</td>\n",
              "      <td>538.54</td>\n",
              "    </tr>\n",
              "    <tr>\n",
              "      <th>6</th>\n",
              "      <td>ES</td>\n",
              "      <td>537.31</td>\n",
              "    </tr>\n",
              "    <tr>\n",
              "      <th>7</th>\n",
              "      <td>PR</td>\n",
              "      <td>533.68</td>\n",
              "    </tr>\n",
              "    <tr>\n",
              "      <th>8</th>\n",
              "      <td>GO</td>\n",
              "      <td>528.88</td>\n",
              "    </tr>\n",
              "    <tr>\n",
              "      <th>9</th>\n",
              "      <td>RN</td>\n",
              "      <td>526.97</td>\n",
              "    </tr>\n",
              "    <tr>\n",
              "      <th>10</th>\n",
              "      <td>MS</td>\n",
              "      <td>521.43</td>\n",
              "    </tr>\n",
              "    <tr>\n",
              "      <th>11</th>\n",
              "      <td>SE</td>\n",
              "      <td>518.65</td>\n",
              "    </tr>\n",
              "    <tr>\n",
              "      <th>12</th>\n",
              "      <td>PB</td>\n",
              "      <td>515.23</td>\n",
              "    </tr>\n",
              "    <tr>\n",
              "      <th>13</th>\n",
              "      <td>MT</td>\n",
              "      <td>511.19</td>\n",
              "    </tr>\n",
              "    <tr>\n",
              "      <th>14</th>\n",
              "      <td>PE</td>\n",
              "      <td>511.08</td>\n",
              "    </tr>\n",
              "    <tr>\n",
              "      <th>15</th>\n",
              "      <td>BA</td>\n",
              "      <td>507.92</td>\n",
              "    </tr>\n",
              "    <tr>\n",
              "      <th>16</th>\n",
              "      <td>PI</td>\n",
              "      <td>507.26</td>\n",
              "    </tr>\n",
              "    <tr>\n",
              "      <th>17</th>\n",
              "      <td>RO</td>\n",
              "      <td>504.46</td>\n",
              "    </tr>\n",
              "    <tr>\n",
              "      <th>18</th>\n",
              "      <td>RR</td>\n",
              "      <td>503.87</td>\n",
              "    </tr>\n",
              "    <tr>\n",
              "      <th>19</th>\n",
              "      <td>AC</td>\n",
              "      <td>501.45</td>\n",
              "    </tr>\n",
              "    <tr>\n",
              "      <th>20</th>\n",
              "      <td>AL</td>\n",
              "      <td>500.26</td>\n",
              "    </tr>\n",
              "    <tr>\n",
              "      <th>21</th>\n",
              "      <td>PA</td>\n",
              "      <td>500.12</td>\n",
              "    </tr>\n",
              "    <tr>\n",
              "      <th>22</th>\n",
              "      <td>TO</td>\n",
              "      <td>500.11</td>\n",
              "    </tr>\n",
              "    <tr>\n",
              "      <th>23</th>\n",
              "      <td>CE</td>\n",
              "      <td>494.21</td>\n",
              "    </tr>\n",
              "    <tr>\n",
              "      <th>24</th>\n",
              "      <td>AP</td>\n",
              "      <td>491.57</td>\n",
              "    </tr>\n",
              "    <tr>\n",
              "      <th>25</th>\n",
              "      <td>AM</td>\n",
              "      <td>486.38</td>\n",
              "    </tr>\n",
              "    <tr>\n",
              "      <th>26</th>\n",
              "      <td>MA</td>\n",
              "      <td>484.08</td>\n",
              "    </tr>\n",
              "  </tbody>\n",
              "</table>\n",
              "</div>\n",
              "    <div class=\"colab-df-buttons\">\n",
              "\n",
              "  <div class=\"colab-df-container\">\n",
              "    <button class=\"colab-df-convert\" onclick=\"convertToInteractive('df-7f4d7e17-5a7d-4c81-9623-75c01d05f496')\"\n",
              "            title=\"Convert this dataframe to an interactive table.\"\n",
              "            style=\"display:none;\">\n",
              "\n",
              "  <svg xmlns=\"http://www.w3.org/2000/svg\" height=\"24px\" viewBox=\"0 -960 960 960\">\n",
              "    <path d=\"M120-120v-720h720v720H120Zm60-500h600v-160H180v160Zm220 220h160v-160H400v160Zm0 220h160v-160H400v160ZM180-400h160v-160H180v160Zm440 0h160v-160H620v160ZM180-180h160v-160H180v160Zm440 0h160v-160H620v160Z\"/>\n",
              "  </svg>\n",
              "    </button>\n",
              "\n",
              "  <style>\n",
              "    .colab-df-container {\n",
              "      display:flex;\n",
              "      gap: 12px;\n",
              "    }\n",
              "\n",
              "    .colab-df-convert {\n",
              "      background-color: #E8F0FE;\n",
              "      border: none;\n",
              "      border-radius: 50%;\n",
              "      cursor: pointer;\n",
              "      display: none;\n",
              "      fill: #1967D2;\n",
              "      height: 32px;\n",
              "      padding: 0 0 0 0;\n",
              "      width: 32px;\n",
              "    }\n",
              "\n",
              "    .colab-df-convert:hover {\n",
              "      background-color: #E2EBFA;\n",
              "      box-shadow: 0px 1px 2px rgba(60, 64, 67, 0.3), 0px 1px 3px 1px rgba(60, 64, 67, 0.15);\n",
              "      fill: #174EA6;\n",
              "    }\n",
              "\n",
              "    .colab-df-buttons div {\n",
              "      margin-bottom: 4px;\n",
              "    }\n",
              "\n",
              "    [theme=dark] .colab-df-convert {\n",
              "      background-color: #3B4455;\n",
              "      fill: #D2E3FC;\n",
              "    }\n",
              "\n",
              "    [theme=dark] .colab-df-convert:hover {\n",
              "      background-color: #434B5C;\n",
              "      box-shadow: 0px 1px 3px 1px rgba(0, 0, 0, 0.15);\n",
              "      filter: drop-shadow(0px 1px 2px rgba(0, 0, 0, 0.3));\n",
              "      fill: #FFFFFF;\n",
              "    }\n",
              "  </style>\n",
              "\n",
              "    <script>\n",
              "      const buttonEl =\n",
              "        document.querySelector('#df-7f4d7e17-5a7d-4c81-9623-75c01d05f496 button.colab-df-convert');\n",
              "      buttonEl.style.display =\n",
              "        google.colab.kernel.accessAllowed ? 'block' : 'none';\n",
              "\n",
              "      async function convertToInteractive(key) {\n",
              "        const element = document.querySelector('#df-7f4d7e17-5a7d-4c81-9623-75c01d05f496');\n",
              "        const dataTable =\n",
              "          await google.colab.kernel.invokeFunction('convertToInteractive',\n",
              "                                                    [key], {});\n",
              "        if (!dataTable) return;\n",
              "\n",
              "        const docLinkHtml = 'Like what you see? Visit the ' +\n",
              "          '<a target=\"_blank\" href=https://colab.research.google.com/notebooks/data_table.ipynb>data table notebook</a>'\n",
              "          + ' to learn more about interactive tables.';\n",
              "        element.innerHTML = '';\n",
              "        dataTable['output_type'] = 'display_data';\n",
              "        await google.colab.output.renderOutput(dataTable, element);\n",
              "        const docLink = document.createElement('div');\n",
              "        docLink.innerHTML = docLinkHtml;\n",
              "        element.appendChild(docLink);\n",
              "      }\n",
              "    </script>\n",
              "  </div>\n",
              "\n",
              "\n",
              "<div id=\"df-0d2904f6-20c9-4a34-9ee8-9c0e09c98dd7\">\n",
              "  <button class=\"colab-df-quickchart\" onclick=\"quickchart('df-0d2904f6-20c9-4a34-9ee8-9c0e09c98dd7')\"\n",
              "            title=\"Suggest charts\"\n",
              "            style=\"display:none;\">\n",
              "\n",
              "<svg xmlns=\"http://www.w3.org/2000/svg\" height=\"24px\"viewBox=\"0 0 24 24\"\n",
              "     width=\"24px\">\n",
              "    <g>\n",
              "        <path d=\"M19 3H5c-1.1 0-2 .9-2 2v14c0 1.1.9 2 2 2h14c1.1 0 2-.9 2-2V5c0-1.1-.9-2-2-2zM9 17H7v-7h2v7zm4 0h-2V7h2v10zm4 0h-2v-4h2v4z\"/>\n",
              "    </g>\n",
              "</svg>\n",
              "  </button>\n",
              "\n",
              "<style>\n",
              "  .colab-df-quickchart {\n",
              "      --bg-color: #E8F0FE;\n",
              "      --fill-color: #1967D2;\n",
              "      --hover-bg-color: #E2EBFA;\n",
              "      --hover-fill-color: #174EA6;\n",
              "      --disabled-fill-color: #AAA;\n",
              "      --disabled-bg-color: #DDD;\n",
              "  }\n",
              "\n",
              "  [theme=dark] .colab-df-quickchart {\n",
              "      --bg-color: #3B4455;\n",
              "      --fill-color: #D2E3FC;\n",
              "      --hover-bg-color: #434B5C;\n",
              "      --hover-fill-color: #FFFFFF;\n",
              "      --disabled-bg-color: #3B4455;\n",
              "      --disabled-fill-color: #666;\n",
              "  }\n",
              "\n",
              "  .colab-df-quickchart {\n",
              "    background-color: var(--bg-color);\n",
              "    border: none;\n",
              "    border-radius: 50%;\n",
              "    cursor: pointer;\n",
              "    display: none;\n",
              "    fill: var(--fill-color);\n",
              "    height: 32px;\n",
              "    padding: 0;\n",
              "    width: 32px;\n",
              "  }\n",
              "\n",
              "  .colab-df-quickchart:hover {\n",
              "    background-color: var(--hover-bg-color);\n",
              "    box-shadow: 0 1px 2px rgba(60, 64, 67, 0.3), 0 1px 3px 1px rgba(60, 64, 67, 0.15);\n",
              "    fill: var(--button-hover-fill-color);\n",
              "  }\n",
              "\n",
              "  .colab-df-quickchart-complete:disabled,\n",
              "  .colab-df-quickchart-complete:disabled:hover {\n",
              "    background-color: var(--disabled-bg-color);\n",
              "    fill: var(--disabled-fill-color);\n",
              "    box-shadow: none;\n",
              "  }\n",
              "\n",
              "  .colab-df-spinner {\n",
              "    border: 2px solid var(--fill-color);\n",
              "    border-color: transparent;\n",
              "    border-bottom-color: var(--fill-color);\n",
              "    animation:\n",
              "      spin 1s steps(1) infinite;\n",
              "  }\n",
              "\n",
              "  @keyframes spin {\n",
              "    0% {\n",
              "      border-color: transparent;\n",
              "      border-bottom-color: var(--fill-color);\n",
              "      border-left-color: var(--fill-color);\n",
              "    }\n",
              "    20% {\n",
              "      border-color: transparent;\n",
              "      border-left-color: var(--fill-color);\n",
              "      border-top-color: var(--fill-color);\n",
              "    }\n",
              "    30% {\n",
              "      border-color: transparent;\n",
              "      border-left-color: var(--fill-color);\n",
              "      border-top-color: var(--fill-color);\n",
              "      border-right-color: var(--fill-color);\n",
              "    }\n",
              "    40% {\n",
              "      border-color: transparent;\n",
              "      border-right-color: var(--fill-color);\n",
              "      border-top-color: var(--fill-color);\n",
              "    }\n",
              "    60% {\n",
              "      border-color: transparent;\n",
              "      border-right-color: var(--fill-color);\n",
              "    }\n",
              "    80% {\n",
              "      border-color: transparent;\n",
              "      border-right-color: var(--fill-color);\n",
              "      border-bottom-color: var(--fill-color);\n",
              "    }\n",
              "    90% {\n",
              "      border-color: transparent;\n",
              "      border-bottom-color: var(--fill-color);\n",
              "    }\n",
              "  }\n",
              "</style>\n",
              "\n",
              "  <script>\n",
              "    async function quickchart(key) {\n",
              "      const quickchartButtonEl =\n",
              "        document.querySelector('#' + key + ' button');\n",
              "      quickchartButtonEl.disabled = true;  // To prevent multiple clicks.\n",
              "      quickchartButtonEl.classList.add('colab-df-spinner');\n",
              "      try {\n",
              "        const charts = await google.colab.kernel.invokeFunction(\n",
              "            'suggestCharts', [key], {});\n",
              "      } catch (error) {\n",
              "        console.error('Error during call to suggestCharts:', error);\n",
              "      }\n",
              "      quickchartButtonEl.classList.remove('colab-df-spinner');\n",
              "      quickchartButtonEl.classList.add('colab-df-quickchart-complete');\n",
              "    }\n",
              "    (() => {\n",
              "      let quickchartButtonEl =\n",
              "        document.querySelector('#df-0d2904f6-20c9-4a34-9ee8-9c0e09c98dd7 button');\n",
              "      quickchartButtonEl.style.display =\n",
              "        google.colab.kernel.accessAllowed ? 'block' : 'none';\n",
              "    })();\n",
              "  </script>\n",
              "</div>\n",
              "\n",
              "    </div>\n",
              "  </div>\n"
            ],
            "application/vnd.google.colaboratory.intrinsic+json": {
              "type": "dataframe",
              "summary": "{\n  \"name\": \")\",\n  \"rows\": 27,\n  \"fields\": [\n    {\n      \"column\": \"uf_escola\",\n      \"properties\": {\n        \"dtype\": \"string\",\n        \"num_unique_values\": 27,\n        \"samples\": [\n          \"GO\",\n          \"MT\",\n          \"RN\"\n        ],\n        \"semantic_type\": \"\",\n        \"description\": \"\"\n      }\n    },\n    {\n      \"column\": \"media_estado\",\n      \"properties\": {\n        \"dtype\": \"number\",\n        \"std\": 18.83973722150865,\n        \"min\": 484.08,\n        \"max\": 542.84,\n        \"num_unique_values\": 27,\n        \"samples\": [\n          528.88,\n          511.19,\n          526.97\n        ],\n        \"semantic_type\": \"\",\n        \"description\": \"\"\n      }\n    }\n  ]\n}"
            }
          },
          "metadata": {},
          "execution_count": 150
        }
      ]
    },
    {
      "cell_type": "code",
      "source": [
        "enem_2019.show()"
      ],
      "metadata": {
        "colab": {
          "base_uri": "https://localhost:8080/"
        },
        "id": "jfp3AY06mVm8",
        "outputId": "f279055d-6d8e-4dac-d927-39ee3df31574"
      },
      "execution_count": 151,
      "outputs": [
        {
          "output_type": "stream",
          "name": "stdout",
          "text": [
            "+------------+---------+------------+------+--------+--------------------+-----------+---------+---------+---------------+---------------+--------------------+--------------+--------------+----------------+------------+---------+----------+\n",
            "|   inscricao|ano_prova|faixa_etaria|genero|cor_raca|       nacionalidade|tipo_escola|treineiro|uf_escola|dependencia_esc|localizacao_esc|       municipio_esc|n_ciencias_nat|n_ciencias_hum|n_linguagens_cod|n_matematica|n_redacao|nota_final|\n",
            "+------------+---------+------------+------+--------+--------------------+-----------+---------+---------+---------------+---------------+--------------------+--------------+--------------+----------------+------------+---------+----------+\n",
            "|190001867757|     2019|          17|     F|  BRANCA|       BRASILEIRO(A)|    PRIVADA|      NAO|       PR|            N/I|         URBANO|           Apucarana|         618.2|         744.7|           636.3|       713.7|      900|    722.58|\n",
            "|190001692704|     2019|          18|     F|  BRANCA|       BRASILEIRO(A)|    PUBLICA|      NAO|       RS|      MUNICIPAL|         URBANO|            Alvorada|         430.4|         466.8|           515.9|       394.1|      580|    477.44|\n",
            "|190001595660|     2019|          17|     F|   PRETA|       BRASILEIRO(A)|    PUBLICA|      NAO|       SP|      MUNICIPAL|         URBANO|     Itaquaquecetuba|         371.8|         501.4|           518.6|       442.0|      660|    498.76|\n",
            "|190001421552|     2019|          17|     M|   PRETA|       BRASILEIRO(A)|    PUBLICA|      NAO|       BA|      MUNICIPAL|         URBANO|    Lauro de Freitas|         567.3|         584.1|           595.8|       704.5|      620|    614.34|\n",
            "|190001480443|     2019|          18|     M|   PARDA|BRASILEIRO, NASCI...|    PUBLICA|      NAO|       PB|      MUNICIPAL|         URBANO|          Santa Rita|         373.2|         409.6|           469.5|       379.1|      480|    422.28|\n",
            "|190001082475|     2019|          17|     F|   PARDA|       BRASILEIRO(A)|    PUBLICA|      NAO|       AM|      MUNICIPAL|         URBANO|              Manaus|         385.8|         436.3|           393.8|       370.0|      260|    369.18|\n",
            "|190002037440|     2019|          17|     M|   PARDA|       BRASILEIRO(A)|    PUBLICA|      NAO|       DF|      MUNICIPAL|         URBANO|            Bras�lia|         389.7|         431.1|           482.0|       529.7|      560|    478.50|\n",
            "|190001121527|     2019|          17|     F|  BRANCA|       BRASILEIRO(A)|    PUBLICA|      NAO|       PI|        FEDERAL|         URBANO|            Parna�ba|         427.6|         548.8|           587.2|       699.3|      820|    616.58|\n",
            "|190001042836|     2019|          17|     F|   PRETA|       BRASILEIRO(A)|    PUBLICA|      NAO|       PA|      MUNICIPAL|         URBANO|               Bel�m|         510.9|         585.4|           578.4|       605.2|      880|    631.98|\n",
            "|190001421560|     2019|          19|     M|   PARDA|       BRASILEIRO(A)|    PUBLICA|      NAO|       BA|      MUNICIPAL|         URBANO|S�o Sebasti�o do ...|         361.2|         499.0|           403.5|       392.5|      560|    443.24|\n",
            "|190001121528|     2019|          17|     F|   PARDA|       BRASILEIRO(A)|    PUBLICA|      NAO|       PI|      MUNICIPAL|         URBANO|            Piripiri|         556.8|         487.0|           571.8|       578.5|      800|    598.82|\n",
            "|190001595672|     2019|          18|     M|  BRANCA|       BRASILEIRO(A)|    PUBLICA|      NAO|       SP|      MUNICIPAL|         URBANO|              Araras|         537.0|         585.3|           590.1|       661.4|      540|    582.76|\n",
            "|190001867760|     2019|          18|     M|   PARDA|       BRASILEIRO(A)|    PUBLICA|      NAO|       PR|      MUNICIPAL|         URBANO|        Campo Mour�o|         523.2|         469.3|           508.4|       679.4|      640|    564.06|\n",
            "|190001595675|     2019|          17|     F|  BRANCA|       BRASILEIRO(A)|    PUBLICA|      NAO|       SP|      MUNICIPAL|         URBANO|             Mar�lia|         423.9|         500.4|           472.3|       503.9|      620|    504.10|\n",
            "|190001237815|     2019|          17|     F|  BRANCA|       BRASILEIRO(A)|    PUBLICA|      NAO|       MG|      MUNICIPAL|         URBANO|             Extrema|         624.5|         636.9|           635.8|       698.7|      800|    679.18|\n",
            "|190001925229|     2019|          18|     M|   PARDA|       BRASILEIRO(A)|    PUBLICA|      NAO|       CE|      MUNICIPAL|         URBANO|           Fortaleza|         416.3|         489.4|           501.7|       394.4|      720|    504.36|\n",
            "|190001517230|     2019|          18|     F|   PARDA|       BRASILEIRO(A)|    PUBLICA|      NAO|       RJ|      MUNICIPAL|         URBANO|      Angra dos Reis|         402.9|         509.7|           534.2|       451.9|      500|    479.74|\n",
            "|190001595676|     2019|          17|     F|  BRANCA|       BRASILEIRO(A)|    PUBLICA|      NAO|       SP|      MUNICIPAL|         URBANO|           S�o Paulo|         565.5|         590.4|           600.0|       687.0|      940|    676.58|\n",
            "|190001480447|     2019|          18|     F|     N/I|       BRASILEIRO(A)|    PUBLICA|      NAO|       PB|      MUNICIPAL|         URBANO|         Jo�o Pessoa|         419.5|         540.9|           495.8|       444.6|      480|    476.16|\n",
            "|190001237818|     2019|          19|     M|   PRETA|       BRASILEIRO(A)|    PUBLICA|      NAO|       MG|      MUNICIPAL|         URBANO|      Belo Horizonte|         421.6|         381.0|           463.0|       449.0|      420|    426.92|\n",
            "+------------+---------+------------+------+--------+--------------------+-----------+---------+---------+---------------+---------------+--------------------+--------------+--------------+----------------+------------+---------+----------+\n",
            "only showing top 20 rows\n",
            "\n"
          ]
        }
      ]
    },
    {
      "cell_type": "code",
      "source": [
        "spark.sql(\n",
        "\"\"\"\n",
        "SELECT A.municipio_esc,\n",
        "COUNT(inscricao) AS total_inscricoes,\n",
        "ROUND(AVG(nota_final), 2) as media_nota\n",
        "FROM v_enem_2019 AS A\n",
        "GROUP BY municipio_esc\n",
        "ORDER BY total_inscricoes DESC, media_nota DESC\n",
        "\"\"\"\n",
        ").toPandas()"
      ],
      "metadata": {
        "colab": {
          "base_uri": "https://localhost:8080/",
          "height": 424
        },
        "id": "0Zq1aokcYp7b",
        "outputId": "e5fa69b6-5437-4132-9110-fb5c78a21b5e"
      },
      "execution_count": 152,
      "outputs": [
        {
          "output_type": "execute_result",
          "data": {
            "text/plain": [
              "            municipio_esc  total_inscricoes  media_nota\n",
              "0               S�o Paulo             41332      542.73\n",
              "1          Rio de Janeiro             23575      561.74\n",
              "2               Fortaleza             22659      523.71\n",
              "3                Bras�lia             18145      542.97\n",
              "4                  Manaus             12909      498.41\n",
              "...                   ...               ...         ...\n",
              "1687         Porto Walter                19      489.35\n",
              "1688             Canutama                19      463.26\n",
              "1689  Fernando de Noronha                10      519.08\n",
              "1690  Santa Rosa do Purus                 5      482.14\n",
              "1691               Bonfim                 3      457.45\n",
              "\n",
              "[1692 rows x 3 columns]"
            ],
            "text/html": [
              "\n",
              "  <div id=\"df-7676c82d-2f39-436b-a2a1-5999fc799576\" class=\"colab-df-container\">\n",
              "    <div>\n",
              "<style scoped>\n",
              "    .dataframe tbody tr th:only-of-type {\n",
              "        vertical-align: middle;\n",
              "    }\n",
              "\n",
              "    .dataframe tbody tr th {\n",
              "        vertical-align: top;\n",
              "    }\n",
              "\n",
              "    .dataframe thead th {\n",
              "        text-align: right;\n",
              "    }\n",
              "</style>\n",
              "<table border=\"1\" class=\"dataframe\">\n",
              "  <thead>\n",
              "    <tr style=\"text-align: right;\">\n",
              "      <th></th>\n",
              "      <th>municipio_esc</th>\n",
              "      <th>total_inscricoes</th>\n",
              "      <th>media_nota</th>\n",
              "    </tr>\n",
              "  </thead>\n",
              "  <tbody>\n",
              "    <tr>\n",
              "      <th>0</th>\n",
              "      <td>S�o Paulo</td>\n",
              "      <td>41332</td>\n",
              "      <td>542.73</td>\n",
              "    </tr>\n",
              "    <tr>\n",
              "      <th>1</th>\n",
              "      <td>Rio de Janeiro</td>\n",
              "      <td>23575</td>\n",
              "      <td>561.74</td>\n",
              "    </tr>\n",
              "    <tr>\n",
              "      <th>2</th>\n",
              "      <td>Fortaleza</td>\n",
              "      <td>22659</td>\n",
              "      <td>523.71</td>\n",
              "    </tr>\n",
              "    <tr>\n",
              "      <th>3</th>\n",
              "      <td>Bras�lia</td>\n",
              "      <td>18145</td>\n",
              "      <td>542.97</td>\n",
              "    </tr>\n",
              "    <tr>\n",
              "      <th>4</th>\n",
              "      <td>Manaus</td>\n",
              "      <td>12909</td>\n",
              "      <td>498.41</td>\n",
              "    </tr>\n",
              "    <tr>\n",
              "      <th>...</th>\n",
              "      <td>...</td>\n",
              "      <td>...</td>\n",
              "      <td>...</td>\n",
              "    </tr>\n",
              "    <tr>\n",
              "      <th>1687</th>\n",
              "      <td>Porto Walter</td>\n",
              "      <td>19</td>\n",
              "      <td>489.35</td>\n",
              "    </tr>\n",
              "    <tr>\n",
              "      <th>1688</th>\n",
              "      <td>Canutama</td>\n",
              "      <td>19</td>\n",
              "      <td>463.26</td>\n",
              "    </tr>\n",
              "    <tr>\n",
              "      <th>1689</th>\n",
              "      <td>Fernando de Noronha</td>\n",
              "      <td>10</td>\n",
              "      <td>519.08</td>\n",
              "    </tr>\n",
              "    <tr>\n",
              "      <th>1690</th>\n",
              "      <td>Santa Rosa do Purus</td>\n",
              "      <td>5</td>\n",
              "      <td>482.14</td>\n",
              "    </tr>\n",
              "    <tr>\n",
              "      <th>1691</th>\n",
              "      <td>Bonfim</td>\n",
              "      <td>3</td>\n",
              "      <td>457.45</td>\n",
              "    </tr>\n",
              "  </tbody>\n",
              "</table>\n",
              "<p>1692 rows × 3 columns</p>\n",
              "</div>\n",
              "    <div class=\"colab-df-buttons\">\n",
              "\n",
              "  <div class=\"colab-df-container\">\n",
              "    <button class=\"colab-df-convert\" onclick=\"convertToInteractive('df-7676c82d-2f39-436b-a2a1-5999fc799576')\"\n",
              "            title=\"Convert this dataframe to an interactive table.\"\n",
              "            style=\"display:none;\">\n",
              "\n",
              "  <svg xmlns=\"http://www.w3.org/2000/svg\" height=\"24px\" viewBox=\"0 -960 960 960\">\n",
              "    <path d=\"M120-120v-720h720v720H120Zm60-500h600v-160H180v160Zm220 220h160v-160H400v160Zm0 220h160v-160H400v160ZM180-400h160v-160H180v160Zm440 0h160v-160H620v160ZM180-180h160v-160H180v160Zm440 0h160v-160H620v160Z\"/>\n",
              "  </svg>\n",
              "    </button>\n",
              "\n",
              "  <style>\n",
              "    .colab-df-container {\n",
              "      display:flex;\n",
              "      gap: 12px;\n",
              "    }\n",
              "\n",
              "    .colab-df-convert {\n",
              "      background-color: #E8F0FE;\n",
              "      border: none;\n",
              "      border-radius: 50%;\n",
              "      cursor: pointer;\n",
              "      display: none;\n",
              "      fill: #1967D2;\n",
              "      height: 32px;\n",
              "      padding: 0 0 0 0;\n",
              "      width: 32px;\n",
              "    }\n",
              "\n",
              "    .colab-df-convert:hover {\n",
              "      background-color: #E2EBFA;\n",
              "      box-shadow: 0px 1px 2px rgba(60, 64, 67, 0.3), 0px 1px 3px 1px rgba(60, 64, 67, 0.15);\n",
              "      fill: #174EA6;\n",
              "    }\n",
              "\n",
              "    .colab-df-buttons div {\n",
              "      margin-bottom: 4px;\n",
              "    }\n",
              "\n",
              "    [theme=dark] .colab-df-convert {\n",
              "      background-color: #3B4455;\n",
              "      fill: #D2E3FC;\n",
              "    }\n",
              "\n",
              "    [theme=dark] .colab-df-convert:hover {\n",
              "      background-color: #434B5C;\n",
              "      box-shadow: 0px 1px 3px 1px rgba(0, 0, 0, 0.15);\n",
              "      filter: drop-shadow(0px 1px 2px rgba(0, 0, 0, 0.3));\n",
              "      fill: #FFFFFF;\n",
              "    }\n",
              "  </style>\n",
              "\n",
              "    <script>\n",
              "      const buttonEl =\n",
              "        document.querySelector('#df-7676c82d-2f39-436b-a2a1-5999fc799576 button.colab-df-convert');\n",
              "      buttonEl.style.display =\n",
              "        google.colab.kernel.accessAllowed ? 'block' : 'none';\n",
              "\n",
              "      async function convertToInteractive(key) {\n",
              "        const element = document.querySelector('#df-7676c82d-2f39-436b-a2a1-5999fc799576');\n",
              "        const dataTable =\n",
              "          await google.colab.kernel.invokeFunction('convertToInteractive',\n",
              "                                                    [key], {});\n",
              "        if (!dataTable) return;\n",
              "\n",
              "        const docLinkHtml = 'Like what you see? Visit the ' +\n",
              "          '<a target=\"_blank\" href=https://colab.research.google.com/notebooks/data_table.ipynb>data table notebook</a>'\n",
              "          + ' to learn more about interactive tables.';\n",
              "        element.innerHTML = '';\n",
              "        dataTable['output_type'] = 'display_data';\n",
              "        await google.colab.output.renderOutput(dataTable, element);\n",
              "        const docLink = document.createElement('div');\n",
              "        docLink.innerHTML = docLinkHtml;\n",
              "        element.appendChild(docLink);\n",
              "      }\n",
              "    </script>\n",
              "  </div>\n",
              "\n",
              "\n",
              "<div id=\"df-bc12c429-bb91-4212-b8be-2cbf6e8d33de\">\n",
              "  <button class=\"colab-df-quickchart\" onclick=\"quickchart('df-bc12c429-bb91-4212-b8be-2cbf6e8d33de')\"\n",
              "            title=\"Suggest charts\"\n",
              "            style=\"display:none;\">\n",
              "\n",
              "<svg xmlns=\"http://www.w3.org/2000/svg\" height=\"24px\"viewBox=\"0 0 24 24\"\n",
              "     width=\"24px\">\n",
              "    <g>\n",
              "        <path d=\"M19 3H5c-1.1 0-2 .9-2 2v14c0 1.1.9 2 2 2h14c1.1 0 2-.9 2-2V5c0-1.1-.9-2-2-2zM9 17H7v-7h2v7zm4 0h-2V7h2v10zm4 0h-2v-4h2v4z\"/>\n",
              "    </g>\n",
              "</svg>\n",
              "  </button>\n",
              "\n",
              "<style>\n",
              "  .colab-df-quickchart {\n",
              "      --bg-color: #E8F0FE;\n",
              "      --fill-color: #1967D2;\n",
              "      --hover-bg-color: #E2EBFA;\n",
              "      --hover-fill-color: #174EA6;\n",
              "      --disabled-fill-color: #AAA;\n",
              "      --disabled-bg-color: #DDD;\n",
              "  }\n",
              "\n",
              "  [theme=dark] .colab-df-quickchart {\n",
              "      --bg-color: #3B4455;\n",
              "      --fill-color: #D2E3FC;\n",
              "      --hover-bg-color: #434B5C;\n",
              "      --hover-fill-color: #FFFFFF;\n",
              "      --disabled-bg-color: #3B4455;\n",
              "      --disabled-fill-color: #666;\n",
              "  }\n",
              "\n",
              "  .colab-df-quickchart {\n",
              "    background-color: var(--bg-color);\n",
              "    border: none;\n",
              "    border-radius: 50%;\n",
              "    cursor: pointer;\n",
              "    display: none;\n",
              "    fill: var(--fill-color);\n",
              "    height: 32px;\n",
              "    padding: 0;\n",
              "    width: 32px;\n",
              "  }\n",
              "\n",
              "  .colab-df-quickchart:hover {\n",
              "    background-color: var(--hover-bg-color);\n",
              "    box-shadow: 0 1px 2px rgba(60, 64, 67, 0.3), 0 1px 3px 1px rgba(60, 64, 67, 0.15);\n",
              "    fill: var(--button-hover-fill-color);\n",
              "  }\n",
              "\n",
              "  .colab-df-quickchart-complete:disabled,\n",
              "  .colab-df-quickchart-complete:disabled:hover {\n",
              "    background-color: var(--disabled-bg-color);\n",
              "    fill: var(--disabled-fill-color);\n",
              "    box-shadow: none;\n",
              "  }\n",
              "\n",
              "  .colab-df-spinner {\n",
              "    border: 2px solid var(--fill-color);\n",
              "    border-color: transparent;\n",
              "    border-bottom-color: var(--fill-color);\n",
              "    animation:\n",
              "      spin 1s steps(1) infinite;\n",
              "  }\n",
              "\n",
              "  @keyframes spin {\n",
              "    0% {\n",
              "      border-color: transparent;\n",
              "      border-bottom-color: var(--fill-color);\n",
              "      border-left-color: var(--fill-color);\n",
              "    }\n",
              "    20% {\n",
              "      border-color: transparent;\n",
              "      border-left-color: var(--fill-color);\n",
              "      border-top-color: var(--fill-color);\n",
              "    }\n",
              "    30% {\n",
              "      border-color: transparent;\n",
              "      border-left-color: var(--fill-color);\n",
              "      border-top-color: var(--fill-color);\n",
              "      border-right-color: var(--fill-color);\n",
              "    }\n",
              "    40% {\n",
              "      border-color: transparent;\n",
              "      border-right-color: var(--fill-color);\n",
              "      border-top-color: var(--fill-color);\n",
              "    }\n",
              "    60% {\n",
              "      border-color: transparent;\n",
              "      border-right-color: var(--fill-color);\n",
              "    }\n",
              "    80% {\n",
              "      border-color: transparent;\n",
              "      border-right-color: var(--fill-color);\n",
              "      border-bottom-color: var(--fill-color);\n",
              "    }\n",
              "    90% {\n",
              "      border-color: transparent;\n",
              "      border-bottom-color: var(--fill-color);\n",
              "    }\n",
              "  }\n",
              "</style>\n",
              "\n",
              "  <script>\n",
              "    async function quickchart(key) {\n",
              "      const quickchartButtonEl =\n",
              "        document.querySelector('#' + key + ' button');\n",
              "      quickchartButtonEl.disabled = true;  // To prevent multiple clicks.\n",
              "      quickchartButtonEl.classList.add('colab-df-spinner');\n",
              "      try {\n",
              "        const charts = await google.colab.kernel.invokeFunction(\n",
              "            'suggestCharts', [key], {});\n",
              "      } catch (error) {\n",
              "        console.error('Error during call to suggestCharts:', error);\n",
              "      }\n",
              "      quickchartButtonEl.classList.remove('colab-df-spinner');\n",
              "      quickchartButtonEl.classList.add('colab-df-quickchart-complete');\n",
              "    }\n",
              "    (() => {\n",
              "      let quickchartButtonEl =\n",
              "        document.querySelector('#df-bc12c429-bb91-4212-b8be-2cbf6e8d33de button');\n",
              "      quickchartButtonEl.style.display =\n",
              "        google.colab.kernel.accessAllowed ? 'block' : 'none';\n",
              "    })();\n",
              "  </script>\n",
              "</div>\n",
              "\n",
              "    </div>\n",
              "  </div>\n"
            ],
            "application/vnd.google.colaboratory.intrinsic+json": {
              "type": "dataframe",
              "summary": "{\n  \"name\": \")\",\n  \"rows\": 1692,\n  \"fields\": [\n    {\n      \"column\": \"municipio_esc\",\n      \"properties\": {\n        \"dtype\": \"string\",\n        \"num_unique_values\": 1692,\n        \"samples\": [\n          \"Miracema do Tocantins\",\n          \"Pl\\ufffdcido de Castro\",\n          \"Lapa\"\n        ],\n        \"semantic_type\": \"\",\n        \"description\": \"\"\n      }\n    },\n    {\n      \"column\": \"total_inscricoes\",\n      \"properties\": {\n        \"dtype\": \"number\",\n        \"std\": 1618,\n        \"min\": 3,\n        \"max\": 41332,\n        \"num_unique_values\": 789,\n        \"samples\": [\n          307,\n          2765,\n          776\n        ],\n        \"semantic_type\": \"\",\n        \"description\": \"\"\n      }\n    },\n    {\n      \"column\": \"media_nota\",\n      \"properties\": {\n        \"dtype\": \"number\",\n        \"std\": 28.557328360951885,\n        \"min\": 412.85,\n        \"max\": 581.32,\n        \"num_unique_values\": 1558,\n        \"samples\": [\n          484.58,\n          502.87,\n          511.52\n        ],\n        \"semantic_type\": \"\",\n        \"description\": \"\"\n      }\n    }\n  ]\n}"
            }
          },
          "metadata": {},
          "execution_count": 152
        }
      ]
    },
    {
      "cell_type": "code",
      "source": [
        "spark.sql(\n",
        "\"\"\"\n",
        "SELECT A.uf_escola,\n",
        "COUNT(inscricao) AS total_inscricoes,\n",
        "ROUND(AVG(nota_final), 2) as media_nota\n",
        "FROM v_enem_2019 AS A\n",
        "GROUP BY uf_escola\n",
        "ORDER BY total_inscricoes DESC, media_nota DESC\n",
        "\"\"\"\n",
        ").toPandas()"
      ],
      "metadata": {
        "colab": {
          "base_uri": "https://localhost:8080/",
          "height": 896
        },
        "id": "1grud-4So2YZ",
        "outputId": "0a23c003-b2b2-437a-a19d-58452cbca9e8"
      },
      "execution_count": 153,
      "outputs": [
        {
          "output_type": "execute_result",
          "data": {
            "text/plain": [
              "   uf_escola  total_inscricoes  media_nota\n",
              "0         SP            175880      538.54\n",
              "1         MG             90767      540.90\n",
              "2         CE             86267      494.21\n",
              "3         RJ             60938      542.60\n",
              "4         BA             58818      507.92\n",
              "5         PE             50617      511.08\n",
              "6         PR             42171      533.68\n",
              "7         PA             39039      500.12\n",
              "8         RS             38669      541.38\n",
              "9         MA             35959      484.08\n",
              "10        GO             30178      528.88\n",
              "11        SC             28118      539.17\n",
              "12        PB             22931      515.23\n",
              "13        ES             21444      537.31\n",
              "14        PI             20704      507.26\n",
              "15        AM             19795      486.38\n",
              "16        DF             18484      542.84\n",
              "17        RN             17634      526.97\n",
              "18        MT             14850      511.19\n",
              "19        AL             14632      500.26\n",
              "20        MS             12966      521.43\n",
              "21        SE             11600      518.65\n",
              "22        RO              9461      504.46\n",
              "23        TO              7669      500.11\n",
              "24        AP              5061      491.57\n",
              "25        AC              4538      501.45\n",
              "26        RR              1736      503.87"
            ],
            "text/html": [
              "\n",
              "  <div id=\"df-b242aeb3-2273-40df-adb7-881ea58639bf\" class=\"colab-df-container\">\n",
              "    <div>\n",
              "<style scoped>\n",
              "    .dataframe tbody tr th:only-of-type {\n",
              "        vertical-align: middle;\n",
              "    }\n",
              "\n",
              "    .dataframe tbody tr th {\n",
              "        vertical-align: top;\n",
              "    }\n",
              "\n",
              "    .dataframe thead th {\n",
              "        text-align: right;\n",
              "    }\n",
              "</style>\n",
              "<table border=\"1\" class=\"dataframe\">\n",
              "  <thead>\n",
              "    <tr style=\"text-align: right;\">\n",
              "      <th></th>\n",
              "      <th>uf_escola</th>\n",
              "      <th>total_inscricoes</th>\n",
              "      <th>media_nota</th>\n",
              "    </tr>\n",
              "  </thead>\n",
              "  <tbody>\n",
              "    <tr>\n",
              "      <th>0</th>\n",
              "      <td>SP</td>\n",
              "      <td>175880</td>\n",
              "      <td>538.54</td>\n",
              "    </tr>\n",
              "    <tr>\n",
              "      <th>1</th>\n",
              "      <td>MG</td>\n",
              "      <td>90767</td>\n",
              "      <td>540.90</td>\n",
              "    </tr>\n",
              "    <tr>\n",
              "      <th>2</th>\n",
              "      <td>CE</td>\n",
              "      <td>86267</td>\n",
              "      <td>494.21</td>\n",
              "    </tr>\n",
              "    <tr>\n",
              "      <th>3</th>\n",
              "      <td>RJ</td>\n",
              "      <td>60938</td>\n",
              "      <td>542.60</td>\n",
              "    </tr>\n",
              "    <tr>\n",
              "      <th>4</th>\n",
              "      <td>BA</td>\n",
              "      <td>58818</td>\n",
              "      <td>507.92</td>\n",
              "    </tr>\n",
              "    <tr>\n",
              "      <th>5</th>\n",
              "      <td>PE</td>\n",
              "      <td>50617</td>\n",
              "      <td>511.08</td>\n",
              "    </tr>\n",
              "    <tr>\n",
              "      <th>6</th>\n",
              "      <td>PR</td>\n",
              "      <td>42171</td>\n",
              "      <td>533.68</td>\n",
              "    </tr>\n",
              "    <tr>\n",
              "      <th>7</th>\n",
              "      <td>PA</td>\n",
              "      <td>39039</td>\n",
              "      <td>500.12</td>\n",
              "    </tr>\n",
              "    <tr>\n",
              "      <th>8</th>\n",
              "      <td>RS</td>\n",
              "      <td>38669</td>\n",
              "      <td>541.38</td>\n",
              "    </tr>\n",
              "    <tr>\n",
              "      <th>9</th>\n",
              "      <td>MA</td>\n",
              "      <td>35959</td>\n",
              "      <td>484.08</td>\n",
              "    </tr>\n",
              "    <tr>\n",
              "      <th>10</th>\n",
              "      <td>GO</td>\n",
              "      <td>30178</td>\n",
              "      <td>528.88</td>\n",
              "    </tr>\n",
              "    <tr>\n",
              "      <th>11</th>\n",
              "      <td>SC</td>\n",
              "      <td>28118</td>\n",
              "      <td>539.17</td>\n",
              "    </tr>\n",
              "    <tr>\n",
              "      <th>12</th>\n",
              "      <td>PB</td>\n",
              "      <td>22931</td>\n",
              "      <td>515.23</td>\n",
              "    </tr>\n",
              "    <tr>\n",
              "      <th>13</th>\n",
              "      <td>ES</td>\n",
              "      <td>21444</td>\n",
              "      <td>537.31</td>\n",
              "    </tr>\n",
              "    <tr>\n",
              "      <th>14</th>\n",
              "      <td>PI</td>\n",
              "      <td>20704</td>\n",
              "      <td>507.26</td>\n",
              "    </tr>\n",
              "    <tr>\n",
              "      <th>15</th>\n",
              "      <td>AM</td>\n",
              "      <td>19795</td>\n",
              "      <td>486.38</td>\n",
              "    </tr>\n",
              "    <tr>\n",
              "      <th>16</th>\n",
              "      <td>DF</td>\n",
              "      <td>18484</td>\n",
              "      <td>542.84</td>\n",
              "    </tr>\n",
              "    <tr>\n",
              "      <th>17</th>\n",
              "      <td>RN</td>\n",
              "      <td>17634</td>\n",
              "      <td>526.97</td>\n",
              "    </tr>\n",
              "    <tr>\n",
              "      <th>18</th>\n",
              "      <td>MT</td>\n",
              "      <td>14850</td>\n",
              "      <td>511.19</td>\n",
              "    </tr>\n",
              "    <tr>\n",
              "      <th>19</th>\n",
              "      <td>AL</td>\n",
              "      <td>14632</td>\n",
              "      <td>500.26</td>\n",
              "    </tr>\n",
              "    <tr>\n",
              "      <th>20</th>\n",
              "      <td>MS</td>\n",
              "      <td>12966</td>\n",
              "      <td>521.43</td>\n",
              "    </tr>\n",
              "    <tr>\n",
              "      <th>21</th>\n",
              "      <td>SE</td>\n",
              "      <td>11600</td>\n",
              "      <td>518.65</td>\n",
              "    </tr>\n",
              "    <tr>\n",
              "      <th>22</th>\n",
              "      <td>RO</td>\n",
              "      <td>9461</td>\n",
              "      <td>504.46</td>\n",
              "    </tr>\n",
              "    <tr>\n",
              "      <th>23</th>\n",
              "      <td>TO</td>\n",
              "      <td>7669</td>\n",
              "      <td>500.11</td>\n",
              "    </tr>\n",
              "    <tr>\n",
              "      <th>24</th>\n",
              "      <td>AP</td>\n",
              "      <td>5061</td>\n",
              "      <td>491.57</td>\n",
              "    </tr>\n",
              "    <tr>\n",
              "      <th>25</th>\n",
              "      <td>AC</td>\n",
              "      <td>4538</td>\n",
              "      <td>501.45</td>\n",
              "    </tr>\n",
              "    <tr>\n",
              "      <th>26</th>\n",
              "      <td>RR</td>\n",
              "      <td>1736</td>\n",
              "      <td>503.87</td>\n",
              "    </tr>\n",
              "  </tbody>\n",
              "</table>\n",
              "</div>\n",
              "    <div class=\"colab-df-buttons\">\n",
              "\n",
              "  <div class=\"colab-df-container\">\n",
              "    <button class=\"colab-df-convert\" onclick=\"convertToInteractive('df-b242aeb3-2273-40df-adb7-881ea58639bf')\"\n",
              "            title=\"Convert this dataframe to an interactive table.\"\n",
              "            style=\"display:none;\">\n",
              "\n",
              "  <svg xmlns=\"http://www.w3.org/2000/svg\" height=\"24px\" viewBox=\"0 -960 960 960\">\n",
              "    <path d=\"M120-120v-720h720v720H120Zm60-500h600v-160H180v160Zm220 220h160v-160H400v160Zm0 220h160v-160H400v160ZM180-400h160v-160H180v160Zm440 0h160v-160H620v160ZM180-180h160v-160H180v160Zm440 0h160v-160H620v160Z\"/>\n",
              "  </svg>\n",
              "    </button>\n",
              "\n",
              "  <style>\n",
              "    .colab-df-container {\n",
              "      display:flex;\n",
              "      gap: 12px;\n",
              "    }\n",
              "\n",
              "    .colab-df-convert {\n",
              "      background-color: #E8F0FE;\n",
              "      border: none;\n",
              "      border-radius: 50%;\n",
              "      cursor: pointer;\n",
              "      display: none;\n",
              "      fill: #1967D2;\n",
              "      height: 32px;\n",
              "      padding: 0 0 0 0;\n",
              "      width: 32px;\n",
              "    }\n",
              "\n",
              "    .colab-df-convert:hover {\n",
              "      background-color: #E2EBFA;\n",
              "      box-shadow: 0px 1px 2px rgba(60, 64, 67, 0.3), 0px 1px 3px 1px rgba(60, 64, 67, 0.15);\n",
              "      fill: #174EA6;\n",
              "    }\n",
              "\n",
              "    .colab-df-buttons div {\n",
              "      margin-bottom: 4px;\n",
              "    }\n",
              "\n",
              "    [theme=dark] .colab-df-convert {\n",
              "      background-color: #3B4455;\n",
              "      fill: #D2E3FC;\n",
              "    }\n",
              "\n",
              "    [theme=dark] .colab-df-convert:hover {\n",
              "      background-color: #434B5C;\n",
              "      box-shadow: 0px 1px 3px 1px rgba(0, 0, 0, 0.15);\n",
              "      filter: drop-shadow(0px 1px 2px rgba(0, 0, 0, 0.3));\n",
              "      fill: #FFFFFF;\n",
              "    }\n",
              "  </style>\n",
              "\n",
              "    <script>\n",
              "      const buttonEl =\n",
              "        document.querySelector('#df-b242aeb3-2273-40df-adb7-881ea58639bf button.colab-df-convert');\n",
              "      buttonEl.style.display =\n",
              "        google.colab.kernel.accessAllowed ? 'block' : 'none';\n",
              "\n",
              "      async function convertToInteractive(key) {\n",
              "        const element = document.querySelector('#df-b242aeb3-2273-40df-adb7-881ea58639bf');\n",
              "        const dataTable =\n",
              "          await google.colab.kernel.invokeFunction('convertToInteractive',\n",
              "                                                    [key], {});\n",
              "        if (!dataTable) return;\n",
              "\n",
              "        const docLinkHtml = 'Like what you see? Visit the ' +\n",
              "          '<a target=\"_blank\" href=https://colab.research.google.com/notebooks/data_table.ipynb>data table notebook</a>'\n",
              "          + ' to learn more about interactive tables.';\n",
              "        element.innerHTML = '';\n",
              "        dataTable['output_type'] = 'display_data';\n",
              "        await google.colab.output.renderOutput(dataTable, element);\n",
              "        const docLink = document.createElement('div');\n",
              "        docLink.innerHTML = docLinkHtml;\n",
              "        element.appendChild(docLink);\n",
              "      }\n",
              "    </script>\n",
              "  </div>\n",
              "\n",
              "\n",
              "<div id=\"df-335ed772-ead3-4f66-862e-15015f66d46b\">\n",
              "  <button class=\"colab-df-quickchart\" onclick=\"quickchart('df-335ed772-ead3-4f66-862e-15015f66d46b')\"\n",
              "            title=\"Suggest charts\"\n",
              "            style=\"display:none;\">\n",
              "\n",
              "<svg xmlns=\"http://www.w3.org/2000/svg\" height=\"24px\"viewBox=\"0 0 24 24\"\n",
              "     width=\"24px\">\n",
              "    <g>\n",
              "        <path d=\"M19 3H5c-1.1 0-2 .9-2 2v14c0 1.1.9 2 2 2h14c1.1 0 2-.9 2-2V5c0-1.1-.9-2-2-2zM9 17H7v-7h2v7zm4 0h-2V7h2v10zm4 0h-2v-4h2v4z\"/>\n",
              "    </g>\n",
              "</svg>\n",
              "  </button>\n",
              "\n",
              "<style>\n",
              "  .colab-df-quickchart {\n",
              "      --bg-color: #E8F0FE;\n",
              "      --fill-color: #1967D2;\n",
              "      --hover-bg-color: #E2EBFA;\n",
              "      --hover-fill-color: #174EA6;\n",
              "      --disabled-fill-color: #AAA;\n",
              "      --disabled-bg-color: #DDD;\n",
              "  }\n",
              "\n",
              "  [theme=dark] .colab-df-quickchart {\n",
              "      --bg-color: #3B4455;\n",
              "      --fill-color: #D2E3FC;\n",
              "      --hover-bg-color: #434B5C;\n",
              "      --hover-fill-color: #FFFFFF;\n",
              "      --disabled-bg-color: #3B4455;\n",
              "      --disabled-fill-color: #666;\n",
              "  }\n",
              "\n",
              "  .colab-df-quickchart {\n",
              "    background-color: var(--bg-color);\n",
              "    border: none;\n",
              "    border-radius: 50%;\n",
              "    cursor: pointer;\n",
              "    display: none;\n",
              "    fill: var(--fill-color);\n",
              "    height: 32px;\n",
              "    padding: 0;\n",
              "    width: 32px;\n",
              "  }\n",
              "\n",
              "  .colab-df-quickchart:hover {\n",
              "    background-color: var(--hover-bg-color);\n",
              "    box-shadow: 0 1px 2px rgba(60, 64, 67, 0.3), 0 1px 3px 1px rgba(60, 64, 67, 0.15);\n",
              "    fill: var(--button-hover-fill-color);\n",
              "  }\n",
              "\n",
              "  .colab-df-quickchart-complete:disabled,\n",
              "  .colab-df-quickchart-complete:disabled:hover {\n",
              "    background-color: var(--disabled-bg-color);\n",
              "    fill: var(--disabled-fill-color);\n",
              "    box-shadow: none;\n",
              "  }\n",
              "\n",
              "  .colab-df-spinner {\n",
              "    border: 2px solid var(--fill-color);\n",
              "    border-color: transparent;\n",
              "    border-bottom-color: var(--fill-color);\n",
              "    animation:\n",
              "      spin 1s steps(1) infinite;\n",
              "  }\n",
              "\n",
              "  @keyframes spin {\n",
              "    0% {\n",
              "      border-color: transparent;\n",
              "      border-bottom-color: var(--fill-color);\n",
              "      border-left-color: var(--fill-color);\n",
              "    }\n",
              "    20% {\n",
              "      border-color: transparent;\n",
              "      border-left-color: var(--fill-color);\n",
              "      border-top-color: var(--fill-color);\n",
              "    }\n",
              "    30% {\n",
              "      border-color: transparent;\n",
              "      border-left-color: var(--fill-color);\n",
              "      border-top-color: var(--fill-color);\n",
              "      border-right-color: var(--fill-color);\n",
              "    }\n",
              "    40% {\n",
              "      border-color: transparent;\n",
              "      border-right-color: var(--fill-color);\n",
              "      border-top-color: var(--fill-color);\n",
              "    }\n",
              "    60% {\n",
              "      border-color: transparent;\n",
              "      border-right-color: var(--fill-color);\n",
              "    }\n",
              "    80% {\n",
              "      border-color: transparent;\n",
              "      border-right-color: var(--fill-color);\n",
              "      border-bottom-color: var(--fill-color);\n",
              "    }\n",
              "    90% {\n",
              "      border-color: transparent;\n",
              "      border-bottom-color: var(--fill-color);\n",
              "    }\n",
              "  }\n",
              "</style>\n",
              "\n",
              "  <script>\n",
              "    async function quickchart(key) {\n",
              "      const quickchartButtonEl =\n",
              "        document.querySelector('#' + key + ' button');\n",
              "      quickchartButtonEl.disabled = true;  // To prevent multiple clicks.\n",
              "      quickchartButtonEl.classList.add('colab-df-spinner');\n",
              "      try {\n",
              "        const charts = await google.colab.kernel.invokeFunction(\n",
              "            'suggestCharts', [key], {});\n",
              "      } catch (error) {\n",
              "        console.error('Error during call to suggestCharts:', error);\n",
              "      }\n",
              "      quickchartButtonEl.classList.remove('colab-df-spinner');\n",
              "      quickchartButtonEl.classList.add('colab-df-quickchart-complete');\n",
              "    }\n",
              "    (() => {\n",
              "      let quickchartButtonEl =\n",
              "        document.querySelector('#df-335ed772-ead3-4f66-862e-15015f66d46b button');\n",
              "      quickchartButtonEl.style.display =\n",
              "        google.colab.kernel.accessAllowed ? 'block' : 'none';\n",
              "    })();\n",
              "  </script>\n",
              "</div>\n",
              "\n",
              "    </div>\n",
              "  </div>\n"
            ],
            "application/vnd.google.colaboratory.intrinsic+json": {
              "type": "dataframe",
              "summary": "{\n  \"name\": \")\",\n  \"rows\": 27,\n  \"fields\": [\n    {\n      \"column\": \"uf_escola\",\n      \"properties\": {\n        \"dtype\": \"string\",\n        \"num_unique_values\": 27,\n        \"samples\": [\n          \"RS\",\n          \"ES\",\n          \"MA\"\n        ],\n        \"semantic_type\": \"\",\n        \"description\": \"\"\n      }\n    },\n    {\n      \"column\": \"total_inscricoes\",\n      \"properties\": {\n        \"dtype\": \"number\",\n        \"std\": 36555,\n        \"min\": 1736,\n        \"max\": 175880,\n        \"num_unique_values\": 27,\n        \"samples\": [\n          38669,\n          21444,\n          35959\n        ],\n        \"semantic_type\": \"\",\n        \"description\": \"\"\n      }\n    },\n    {\n      \"column\": \"media_nota\",\n      \"properties\": {\n        \"dtype\": \"number\",\n        \"std\": 18.83973722150865,\n        \"min\": 484.08,\n        \"max\": 542.84,\n        \"num_unique_values\": 27,\n        \"samples\": [\n          541.38,\n          537.31,\n          484.08\n        ],\n        \"semantic_type\": \"\",\n        \"description\": \"\"\n      }\n    }\n  ]\n}"
            }
          },
          "metadata": {},
          "execution_count": 153
        }
      ]
    },
    {
      "cell_type": "code",
      "source": [
        "spark.sql(\n",
        "    \"\"\"\n",
        "    SELECT A.cor_raca,\n",
        "           COUNT(A.inscricao) AS total_inscricoes,\n",
        "           ROUND(AVG(nota_final), 2) as media_final\n",
        "    FROM v_enem_2019 AS A\n",
        "    GROUP BY A.cor_raca\n",
        "    ORDER BY total_inscricoes DESC\n",
        "    \"\"\"\n",
        ").toPandas()"
      ],
      "metadata": {
        "colab": {
          "base_uri": "https://localhost:8080/",
          "height": 238
        },
        "id": "19iF4Bi_nNSE",
        "outputId": "3a06d0ae-4305-4896-8bbc-3ddab4c5d3ce"
      },
      "execution_count": 154,
      "outputs": [
        {
          "output_type": "execute_result",
          "data": {
            "text/plain": [
              "   cor_raca  total_inscricoes  media_final\n",
              "0     PARDA            426456       505.25\n",
              "1    BRANCA            362858       549.57\n",
              "2     PRETA            105626       502.04\n",
              "3   AMARELA             21131       520.92\n",
              "4       N/I             19275       512.64\n",
              "5  INDIGENA              5580       479.79"
            ],
            "text/html": [
              "\n",
              "  <div id=\"df-799e3f6f-075a-492a-8722-32816adeda29\" class=\"colab-df-container\">\n",
              "    <div>\n",
              "<style scoped>\n",
              "    .dataframe tbody tr th:only-of-type {\n",
              "        vertical-align: middle;\n",
              "    }\n",
              "\n",
              "    .dataframe tbody tr th {\n",
              "        vertical-align: top;\n",
              "    }\n",
              "\n",
              "    .dataframe thead th {\n",
              "        text-align: right;\n",
              "    }\n",
              "</style>\n",
              "<table border=\"1\" class=\"dataframe\">\n",
              "  <thead>\n",
              "    <tr style=\"text-align: right;\">\n",
              "      <th></th>\n",
              "      <th>cor_raca</th>\n",
              "      <th>total_inscricoes</th>\n",
              "      <th>media_final</th>\n",
              "    </tr>\n",
              "  </thead>\n",
              "  <tbody>\n",
              "    <tr>\n",
              "      <th>0</th>\n",
              "      <td>PARDA</td>\n",
              "      <td>426456</td>\n",
              "      <td>505.25</td>\n",
              "    </tr>\n",
              "    <tr>\n",
              "      <th>1</th>\n",
              "      <td>BRANCA</td>\n",
              "      <td>362858</td>\n",
              "      <td>549.57</td>\n",
              "    </tr>\n",
              "    <tr>\n",
              "      <th>2</th>\n",
              "      <td>PRETA</td>\n",
              "      <td>105626</td>\n",
              "      <td>502.04</td>\n",
              "    </tr>\n",
              "    <tr>\n",
              "      <th>3</th>\n",
              "      <td>AMARELA</td>\n",
              "      <td>21131</td>\n",
              "      <td>520.92</td>\n",
              "    </tr>\n",
              "    <tr>\n",
              "      <th>4</th>\n",
              "      <td>N/I</td>\n",
              "      <td>19275</td>\n",
              "      <td>512.64</td>\n",
              "    </tr>\n",
              "    <tr>\n",
              "      <th>5</th>\n",
              "      <td>INDIGENA</td>\n",
              "      <td>5580</td>\n",
              "      <td>479.79</td>\n",
              "    </tr>\n",
              "  </tbody>\n",
              "</table>\n",
              "</div>\n",
              "    <div class=\"colab-df-buttons\">\n",
              "\n",
              "  <div class=\"colab-df-container\">\n",
              "    <button class=\"colab-df-convert\" onclick=\"convertToInteractive('df-799e3f6f-075a-492a-8722-32816adeda29')\"\n",
              "            title=\"Convert this dataframe to an interactive table.\"\n",
              "            style=\"display:none;\">\n",
              "\n",
              "  <svg xmlns=\"http://www.w3.org/2000/svg\" height=\"24px\" viewBox=\"0 -960 960 960\">\n",
              "    <path d=\"M120-120v-720h720v720H120Zm60-500h600v-160H180v160Zm220 220h160v-160H400v160Zm0 220h160v-160H400v160ZM180-400h160v-160H180v160Zm440 0h160v-160H620v160ZM180-180h160v-160H180v160Zm440 0h160v-160H620v160Z\"/>\n",
              "  </svg>\n",
              "    </button>\n",
              "\n",
              "  <style>\n",
              "    .colab-df-container {\n",
              "      display:flex;\n",
              "      gap: 12px;\n",
              "    }\n",
              "\n",
              "    .colab-df-convert {\n",
              "      background-color: #E8F0FE;\n",
              "      border: none;\n",
              "      border-radius: 50%;\n",
              "      cursor: pointer;\n",
              "      display: none;\n",
              "      fill: #1967D2;\n",
              "      height: 32px;\n",
              "      padding: 0 0 0 0;\n",
              "      width: 32px;\n",
              "    }\n",
              "\n",
              "    .colab-df-convert:hover {\n",
              "      background-color: #E2EBFA;\n",
              "      box-shadow: 0px 1px 2px rgba(60, 64, 67, 0.3), 0px 1px 3px 1px rgba(60, 64, 67, 0.15);\n",
              "      fill: #174EA6;\n",
              "    }\n",
              "\n",
              "    .colab-df-buttons div {\n",
              "      margin-bottom: 4px;\n",
              "    }\n",
              "\n",
              "    [theme=dark] .colab-df-convert {\n",
              "      background-color: #3B4455;\n",
              "      fill: #D2E3FC;\n",
              "    }\n",
              "\n",
              "    [theme=dark] .colab-df-convert:hover {\n",
              "      background-color: #434B5C;\n",
              "      box-shadow: 0px 1px 3px 1px rgba(0, 0, 0, 0.15);\n",
              "      filter: drop-shadow(0px 1px 2px rgba(0, 0, 0, 0.3));\n",
              "      fill: #FFFFFF;\n",
              "    }\n",
              "  </style>\n",
              "\n",
              "    <script>\n",
              "      const buttonEl =\n",
              "        document.querySelector('#df-799e3f6f-075a-492a-8722-32816adeda29 button.colab-df-convert');\n",
              "      buttonEl.style.display =\n",
              "        google.colab.kernel.accessAllowed ? 'block' : 'none';\n",
              "\n",
              "      async function convertToInteractive(key) {\n",
              "        const element = document.querySelector('#df-799e3f6f-075a-492a-8722-32816adeda29');\n",
              "        const dataTable =\n",
              "          await google.colab.kernel.invokeFunction('convertToInteractive',\n",
              "                                                    [key], {});\n",
              "        if (!dataTable) return;\n",
              "\n",
              "        const docLinkHtml = 'Like what you see? Visit the ' +\n",
              "          '<a target=\"_blank\" href=https://colab.research.google.com/notebooks/data_table.ipynb>data table notebook</a>'\n",
              "          + ' to learn more about interactive tables.';\n",
              "        element.innerHTML = '';\n",
              "        dataTable['output_type'] = 'display_data';\n",
              "        await google.colab.output.renderOutput(dataTable, element);\n",
              "        const docLink = document.createElement('div');\n",
              "        docLink.innerHTML = docLinkHtml;\n",
              "        element.appendChild(docLink);\n",
              "      }\n",
              "    </script>\n",
              "  </div>\n",
              "\n",
              "\n",
              "<div id=\"df-d1bb6f7e-6f33-42a8-ad7c-ab55d8a76440\">\n",
              "  <button class=\"colab-df-quickchart\" onclick=\"quickchart('df-d1bb6f7e-6f33-42a8-ad7c-ab55d8a76440')\"\n",
              "            title=\"Suggest charts\"\n",
              "            style=\"display:none;\">\n",
              "\n",
              "<svg xmlns=\"http://www.w3.org/2000/svg\" height=\"24px\"viewBox=\"0 0 24 24\"\n",
              "     width=\"24px\">\n",
              "    <g>\n",
              "        <path d=\"M19 3H5c-1.1 0-2 .9-2 2v14c0 1.1.9 2 2 2h14c1.1 0 2-.9 2-2V5c0-1.1-.9-2-2-2zM9 17H7v-7h2v7zm4 0h-2V7h2v10zm4 0h-2v-4h2v4z\"/>\n",
              "    </g>\n",
              "</svg>\n",
              "  </button>\n",
              "\n",
              "<style>\n",
              "  .colab-df-quickchart {\n",
              "      --bg-color: #E8F0FE;\n",
              "      --fill-color: #1967D2;\n",
              "      --hover-bg-color: #E2EBFA;\n",
              "      --hover-fill-color: #174EA6;\n",
              "      --disabled-fill-color: #AAA;\n",
              "      --disabled-bg-color: #DDD;\n",
              "  }\n",
              "\n",
              "  [theme=dark] .colab-df-quickchart {\n",
              "      --bg-color: #3B4455;\n",
              "      --fill-color: #D2E3FC;\n",
              "      --hover-bg-color: #434B5C;\n",
              "      --hover-fill-color: #FFFFFF;\n",
              "      --disabled-bg-color: #3B4455;\n",
              "      --disabled-fill-color: #666;\n",
              "  }\n",
              "\n",
              "  .colab-df-quickchart {\n",
              "    background-color: var(--bg-color);\n",
              "    border: none;\n",
              "    border-radius: 50%;\n",
              "    cursor: pointer;\n",
              "    display: none;\n",
              "    fill: var(--fill-color);\n",
              "    height: 32px;\n",
              "    padding: 0;\n",
              "    width: 32px;\n",
              "  }\n",
              "\n",
              "  .colab-df-quickchart:hover {\n",
              "    background-color: var(--hover-bg-color);\n",
              "    box-shadow: 0 1px 2px rgba(60, 64, 67, 0.3), 0 1px 3px 1px rgba(60, 64, 67, 0.15);\n",
              "    fill: var(--button-hover-fill-color);\n",
              "  }\n",
              "\n",
              "  .colab-df-quickchart-complete:disabled,\n",
              "  .colab-df-quickchart-complete:disabled:hover {\n",
              "    background-color: var(--disabled-bg-color);\n",
              "    fill: var(--disabled-fill-color);\n",
              "    box-shadow: none;\n",
              "  }\n",
              "\n",
              "  .colab-df-spinner {\n",
              "    border: 2px solid var(--fill-color);\n",
              "    border-color: transparent;\n",
              "    border-bottom-color: var(--fill-color);\n",
              "    animation:\n",
              "      spin 1s steps(1) infinite;\n",
              "  }\n",
              "\n",
              "  @keyframes spin {\n",
              "    0% {\n",
              "      border-color: transparent;\n",
              "      border-bottom-color: var(--fill-color);\n",
              "      border-left-color: var(--fill-color);\n",
              "    }\n",
              "    20% {\n",
              "      border-color: transparent;\n",
              "      border-left-color: var(--fill-color);\n",
              "      border-top-color: var(--fill-color);\n",
              "    }\n",
              "    30% {\n",
              "      border-color: transparent;\n",
              "      border-left-color: var(--fill-color);\n",
              "      border-top-color: var(--fill-color);\n",
              "      border-right-color: var(--fill-color);\n",
              "    }\n",
              "    40% {\n",
              "      border-color: transparent;\n",
              "      border-right-color: var(--fill-color);\n",
              "      border-top-color: var(--fill-color);\n",
              "    }\n",
              "    60% {\n",
              "      border-color: transparent;\n",
              "      border-right-color: var(--fill-color);\n",
              "    }\n",
              "    80% {\n",
              "      border-color: transparent;\n",
              "      border-right-color: var(--fill-color);\n",
              "      border-bottom-color: var(--fill-color);\n",
              "    }\n",
              "    90% {\n",
              "      border-color: transparent;\n",
              "      border-bottom-color: var(--fill-color);\n",
              "    }\n",
              "  }\n",
              "</style>\n",
              "\n",
              "  <script>\n",
              "    async function quickchart(key) {\n",
              "      const quickchartButtonEl =\n",
              "        document.querySelector('#' + key + ' button');\n",
              "      quickchartButtonEl.disabled = true;  // To prevent multiple clicks.\n",
              "      quickchartButtonEl.classList.add('colab-df-spinner');\n",
              "      try {\n",
              "        const charts = await google.colab.kernel.invokeFunction(\n",
              "            'suggestCharts', [key], {});\n",
              "      } catch (error) {\n",
              "        console.error('Error during call to suggestCharts:', error);\n",
              "      }\n",
              "      quickchartButtonEl.classList.remove('colab-df-spinner');\n",
              "      quickchartButtonEl.classList.add('colab-df-quickchart-complete');\n",
              "    }\n",
              "    (() => {\n",
              "      let quickchartButtonEl =\n",
              "        document.querySelector('#df-d1bb6f7e-6f33-42a8-ad7c-ab55d8a76440 button');\n",
              "      quickchartButtonEl.style.display =\n",
              "        google.colab.kernel.accessAllowed ? 'block' : 'none';\n",
              "    })();\n",
              "  </script>\n",
              "</div>\n",
              "\n",
              "    </div>\n",
              "  </div>\n"
            ],
            "application/vnd.google.colaboratory.intrinsic+json": {
              "type": "dataframe",
              "summary": "{\n  \"name\": \")\",\n  \"rows\": 6,\n  \"fields\": [\n    {\n      \"column\": \"cor_raca\",\n      \"properties\": {\n        \"dtype\": \"string\",\n        \"num_unique_values\": 6,\n        \"samples\": [\n          \"PARDA\",\n          \"BRANCA\",\n          \"INDIGENA\"\n        ],\n        \"semantic_type\": \"\",\n        \"description\": \"\"\n      }\n    },\n    {\n      \"column\": \"total_inscricoes\",\n      \"properties\": {\n        \"dtype\": \"number\",\n        \"std\": 188668,\n        \"min\": 5580,\n        \"max\": 426456,\n        \"num_unique_values\": 6,\n        \"samples\": [\n          426456,\n          362858,\n          5580\n        ],\n        \"semantic_type\": \"\",\n        \"description\": \"\"\n      }\n    },\n    {\n      \"column\": \"media_final\",\n      \"properties\": {\n        \"dtype\": \"number\",\n        \"std\": 23.122262360475606,\n        \"min\": 479.79,\n        \"max\": 549.57,\n        \"num_unique_values\": 6,\n        \"samples\": [\n          505.25,\n          549.57,\n          479.79\n        ],\n        \"semantic_type\": \"\",\n        \"description\": \"\"\n      }\n    }\n  ]\n}"
            }
          },
          "metadata": {},
          "execution_count": 154
        }
      ]
    },
    {
      "cell_type": "code",
      "source": [
        "spark.sql(\n",
        "    \"\"\"\n",
        "SELECT A.inscricao AS numero_inscricao,\n",
        "       A.municipio_esc AS municipio,\n",
        "       A.n_ciencias_nat AS ciencias_naturais,\n",
        "       A.n_ciencias_hum AS ciencias_humanas,\n",
        "       A.n_linguagens_cod AS linguagens_codigos,\n",
        "       A.n_matematica AS matematica,\n",
        "       A.n_redacao AS redacao,\n",
        "       A.nota_final\n",
        "FROM v_enem_2019 AS A\n",
        "WHERE nota_final > 100\n",
        "ORDER BY nota_final DESC\n",
        "    \"\"\"\n",
        ").toPandas()"
      ],
      "metadata": {
        "colab": {
          "base_uri": "https://localhost:8080/",
          "height": 424
        },
        "id": "G0sbAtBwprMz",
        "outputId": "592cd089-ccbc-4a5b-8e10-26e8b9a9d7a0"
      },
      "execution_count": 155,
      "outputs": [
        {
          "output_type": "execute_result",
          "data": {
            "text/plain": [
              "        numero_inscricao          municipio  ciencias_naturais  \\\n",
              "0           190003517496     Belo Horizonte              772.3   \n",
              "1           190002821921       Pouso Alegre              842.8   \n",
              "2           190001099380           Teresina              843.2   \n",
              "3           190002879782            Goi�nia              813.1   \n",
              "4           190004127950            Goi�nia              829.4   \n",
              "...                  ...                ...                ...   \n",
              "940917      190001158964    Quiterian�polis              363.3   \n",
              "940918      190003014626             Cuiab�              404.3   \n",
              "940919      190001366880             Recife              384.5   \n",
              "940920      190003609385  Juazeiro do Norte                0.0   \n",
              "940921      190002780590          Maracana�                0.0   \n",
              "\n",
              "        ciencias_humanas  linguagens_codigos  matematica  redacao nota_final  \n",
              "0                  768.3               749.3       984.2      980     850.82  \n",
              "1                  733.4               690.9       984.2      980     846.26  \n",
              "2                  789.9               627.7       984.2      980     845.00  \n",
              "3                  767.4               738.6       914.4      980     842.70  \n",
              "4                  752.1               657.1       984.2      980     840.56  \n",
              "...                  ...                 ...         ...      ...        ...  \n",
              "940917               0.0                 0.0       376.0        0     147.86  \n",
              "940918               0.0               322.0         0.0        0     145.26  \n",
              "940919               0.0               324.0         0.0        0     141.70  \n",
              "940920               0.0                 0.0         0.0      620     124.00  \n",
              "940921               0.0               513.5         0.0        0     102.70  \n",
              "\n",
              "[940922 rows x 8 columns]"
            ],
            "text/html": [
              "\n",
              "  <div id=\"df-b7061071-6f48-4e67-a9a8-be8f57b72a27\" class=\"colab-df-container\">\n",
              "    <div>\n",
              "<style scoped>\n",
              "    .dataframe tbody tr th:only-of-type {\n",
              "        vertical-align: middle;\n",
              "    }\n",
              "\n",
              "    .dataframe tbody tr th {\n",
              "        vertical-align: top;\n",
              "    }\n",
              "\n",
              "    .dataframe thead th {\n",
              "        text-align: right;\n",
              "    }\n",
              "</style>\n",
              "<table border=\"1\" class=\"dataframe\">\n",
              "  <thead>\n",
              "    <tr style=\"text-align: right;\">\n",
              "      <th></th>\n",
              "      <th>numero_inscricao</th>\n",
              "      <th>municipio</th>\n",
              "      <th>ciencias_naturais</th>\n",
              "      <th>ciencias_humanas</th>\n",
              "      <th>linguagens_codigos</th>\n",
              "      <th>matematica</th>\n",
              "      <th>redacao</th>\n",
              "      <th>nota_final</th>\n",
              "    </tr>\n",
              "  </thead>\n",
              "  <tbody>\n",
              "    <tr>\n",
              "      <th>0</th>\n",
              "      <td>190003517496</td>\n",
              "      <td>Belo Horizonte</td>\n",
              "      <td>772.3</td>\n",
              "      <td>768.3</td>\n",
              "      <td>749.3</td>\n",
              "      <td>984.2</td>\n",
              "      <td>980</td>\n",
              "      <td>850.82</td>\n",
              "    </tr>\n",
              "    <tr>\n",
              "      <th>1</th>\n",
              "      <td>190002821921</td>\n",
              "      <td>Pouso Alegre</td>\n",
              "      <td>842.8</td>\n",
              "      <td>733.4</td>\n",
              "      <td>690.9</td>\n",
              "      <td>984.2</td>\n",
              "      <td>980</td>\n",
              "      <td>846.26</td>\n",
              "    </tr>\n",
              "    <tr>\n",
              "      <th>2</th>\n",
              "      <td>190001099380</td>\n",
              "      <td>Teresina</td>\n",
              "      <td>843.2</td>\n",
              "      <td>789.9</td>\n",
              "      <td>627.7</td>\n",
              "      <td>984.2</td>\n",
              "      <td>980</td>\n",
              "      <td>845.00</td>\n",
              "    </tr>\n",
              "    <tr>\n",
              "      <th>3</th>\n",
              "      <td>190002879782</td>\n",
              "      <td>Goi�nia</td>\n",
              "      <td>813.1</td>\n",
              "      <td>767.4</td>\n",
              "      <td>738.6</td>\n",
              "      <td>914.4</td>\n",
              "      <td>980</td>\n",
              "      <td>842.70</td>\n",
              "    </tr>\n",
              "    <tr>\n",
              "      <th>4</th>\n",
              "      <td>190004127950</td>\n",
              "      <td>Goi�nia</td>\n",
              "      <td>829.4</td>\n",
              "      <td>752.1</td>\n",
              "      <td>657.1</td>\n",
              "      <td>984.2</td>\n",
              "      <td>980</td>\n",
              "      <td>840.56</td>\n",
              "    </tr>\n",
              "    <tr>\n",
              "      <th>...</th>\n",
              "      <td>...</td>\n",
              "      <td>...</td>\n",
              "      <td>...</td>\n",
              "      <td>...</td>\n",
              "      <td>...</td>\n",
              "      <td>...</td>\n",
              "      <td>...</td>\n",
              "      <td>...</td>\n",
              "    </tr>\n",
              "    <tr>\n",
              "      <th>940917</th>\n",
              "      <td>190001158964</td>\n",
              "      <td>Quiterian�polis</td>\n",
              "      <td>363.3</td>\n",
              "      <td>0.0</td>\n",
              "      <td>0.0</td>\n",
              "      <td>376.0</td>\n",
              "      <td>0</td>\n",
              "      <td>147.86</td>\n",
              "    </tr>\n",
              "    <tr>\n",
              "      <th>940918</th>\n",
              "      <td>190003014626</td>\n",
              "      <td>Cuiab�</td>\n",
              "      <td>404.3</td>\n",
              "      <td>0.0</td>\n",
              "      <td>322.0</td>\n",
              "      <td>0.0</td>\n",
              "      <td>0</td>\n",
              "      <td>145.26</td>\n",
              "    </tr>\n",
              "    <tr>\n",
              "      <th>940919</th>\n",
              "      <td>190001366880</td>\n",
              "      <td>Recife</td>\n",
              "      <td>384.5</td>\n",
              "      <td>0.0</td>\n",
              "      <td>324.0</td>\n",
              "      <td>0.0</td>\n",
              "      <td>0</td>\n",
              "      <td>141.70</td>\n",
              "    </tr>\n",
              "    <tr>\n",
              "      <th>940920</th>\n",
              "      <td>190003609385</td>\n",
              "      <td>Juazeiro do Norte</td>\n",
              "      <td>0.0</td>\n",
              "      <td>0.0</td>\n",
              "      <td>0.0</td>\n",
              "      <td>0.0</td>\n",
              "      <td>620</td>\n",
              "      <td>124.00</td>\n",
              "    </tr>\n",
              "    <tr>\n",
              "      <th>940921</th>\n",
              "      <td>190002780590</td>\n",
              "      <td>Maracana�</td>\n",
              "      <td>0.0</td>\n",
              "      <td>0.0</td>\n",
              "      <td>513.5</td>\n",
              "      <td>0.0</td>\n",
              "      <td>0</td>\n",
              "      <td>102.70</td>\n",
              "    </tr>\n",
              "  </tbody>\n",
              "</table>\n",
              "<p>940922 rows × 8 columns</p>\n",
              "</div>\n",
              "    <div class=\"colab-df-buttons\">\n",
              "\n",
              "  <div class=\"colab-df-container\">\n",
              "    <button class=\"colab-df-convert\" onclick=\"convertToInteractive('df-b7061071-6f48-4e67-a9a8-be8f57b72a27')\"\n",
              "            title=\"Convert this dataframe to an interactive table.\"\n",
              "            style=\"display:none;\">\n",
              "\n",
              "  <svg xmlns=\"http://www.w3.org/2000/svg\" height=\"24px\" viewBox=\"0 -960 960 960\">\n",
              "    <path d=\"M120-120v-720h720v720H120Zm60-500h600v-160H180v160Zm220 220h160v-160H400v160Zm0 220h160v-160H400v160ZM180-400h160v-160H180v160Zm440 0h160v-160H620v160ZM180-180h160v-160H180v160Zm440 0h160v-160H620v160Z\"/>\n",
              "  </svg>\n",
              "    </button>\n",
              "\n",
              "  <style>\n",
              "    .colab-df-container {\n",
              "      display:flex;\n",
              "      gap: 12px;\n",
              "    }\n",
              "\n",
              "    .colab-df-convert {\n",
              "      background-color: #E8F0FE;\n",
              "      border: none;\n",
              "      border-radius: 50%;\n",
              "      cursor: pointer;\n",
              "      display: none;\n",
              "      fill: #1967D2;\n",
              "      height: 32px;\n",
              "      padding: 0 0 0 0;\n",
              "      width: 32px;\n",
              "    }\n",
              "\n",
              "    .colab-df-convert:hover {\n",
              "      background-color: #E2EBFA;\n",
              "      box-shadow: 0px 1px 2px rgba(60, 64, 67, 0.3), 0px 1px 3px 1px rgba(60, 64, 67, 0.15);\n",
              "      fill: #174EA6;\n",
              "    }\n",
              "\n",
              "    .colab-df-buttons div {\n",
              "      margin-bottom: 4px;\n",
              "    }\n",
              "\n",
              "    [theme=dark] .colab-df-convert {\n",
              "      background-color: #3B4455;\n",
              "      fill: #D2E3FC;\n",
              "    }\n",
              "\n",
              "    [theme=dark] .colab-df-convert:hover {\n",
              "      background-color: #434B5C;\n",
              "      box-shadow: 0px 1px 3px 1px rgba(0, 0, 0, 0.15);\n",
              "      filter: drop-shadow(0px 1px 2px rgba(0, 0, 0, 0.3));\n",
              "      fill: #FFFFFF;\n",
              "    }\n",
              "  </style>\n",
              "\n",
              "    <script>\n",
              "      const buttonEl =\n",
              "        document.querySelector('#df-b7061071-6f48-4e67-a9a8-be8f57b72a27 button.colab-df-convert');\n",
              "      buttonEl.style.display =\n",
              "        google.colab.kernel.accessAllowed ? 'block' : 'none';\n",
              "\n",
              "      async function convertToInteractive(key) {\n",
              "        const element = document.querySelector('#df-b7061071-6f48-4e67-a9a8-be8f57b72a27');\n",
              "        const dataTable =\n",
              "          await google.colab.kernel.invokeFunction('convertToInteractive',\n",
              "                                                    [key], {});\n",
              "        if (!dataTable) return;\n",
              "\n",
              "        const docLinkHtml = 'Like what you see? Visit the ' +\n",
              "          '<a target=\"_blank\" href=https://colab.research.google.com/notebooks/data_table.ipynb>data table notebook</a>'\n",
              "          + ' to learn more about interactive tables.';\n",
              "        element.innerHTML = '';\n",
              "        dataTable['output_type'] = 'display_data';\n",
              "        await google.colab.output.renderOutput(dataTable, element);\n",
              "        const docLink = document.createElement('div');\n",
              "        docLink.innerHTML = docLinkHtml;\n",
              "        element.appendChild(docLink);\n",
              "      }\n",
              "    </script>\n",
              "  </div>\n",
              "\n",
              "\n",
              "<div id=\"df-7bbd841e-c08c-4b94-88c1-d21a29982b60\">\n",
              "  <button class=\"colab-df-quickchart\" onclick=\"quickchart('df-7bbd841e-c08c-4b94-88c1-d21a29982b60')\"\n",
              "            title=\"Suggest charts\"\n",
              "            style=\"display:none;\">\n",
              "\n",
              "<svg xmlns=\"http://www.w3.org/2000/svg\" height=\"24px\"viewBox=\"0 0 24 24\"\n",
              "     width=\"24px\">\n",
              "    <g>\n",
              "        <path d=\"M19 3H5c-1.1 0-2 .9-2 2v14c0 1.1.9 2 2 2h14c1.1 0 2-.9 2-2V5c0-1.1-.9-2-2-2zM9 17H7v-7h2v7zm4 0h-2V7h2v10zm4 0h-2v-4h2v4z\"/>\n",
              "    </g>\n",
              "</svg>\n",
              "  </button>\n",
              "\n",
              "<style>\n",
              "  .colab-df-quickchart {\n",
              "      --bg-color: #E8F0FE;\n",
              "      --fill-color: #1967D2;\n",
              "      --hover-bg-color: #E2EBFA;\n",
              "      --hover-fill-color: #174EA6;\n",
              "      --disabled-fill-color: #AAA;\n",
              "      --disabled-bg-color: #DDD;\n",
              "  }\n",
              "\n",
              "  [theme=dark] .colab-df-quickchart {\n",
              "      --bg-color: #3B4455;\n",
              "      --fill-color: #D2E3FC;\n",
              "      --hover-bg-color: #434B5C;\n",
              "      --hover-fill-color: #FFFFFF;\n",
              "      --disabled-bg-color: #3B4455;\n",
              "      --disabled-fill-color: #666;\n",
              "  }\n",
              "\n",
              "  .colab-df-quickchart {\n",
              "    background-color: var(--bg-color);\n",
              "    border: none;\n",
              "    border-radius: 50%;\n",
              "    cursor: pointer;\n",
              "    display: none;\n",
              "    fill: var(--fill-color);\n",
              "    height: 32px;\n",
              "    padding: 0;\n",
              "    width: 32px;\n",
              "  }\n",
              "\n",
              "  .colab-df-quickchart:hover {\n",
              "    background-color: var(--hover-bg-color);\n",
              "    box-shadow: 0 1px 2px rgba(60, 64, 67, 0.3), 0 1px 3px 1px rgba(60, 64, 67, 0.15);\n",
              "    fill: var(--button-hover-fill-color);\n",
              "  }\n",
              "\n",
              "  .colab-df-quickchart-complete:disabled,\n",
              "  .colab-df-quickchart-complete:disabled:hover {\n",
              "    background-color: var(--disabled-bg-color);\n",
              "    fill: var(--disabled-fill-color);\n",
              "    box-shadow: none;\n",
              "  }\n",
              "\n",
              "  .colab-df-spinner {\n",
              "    border: 2px solid var(--fill-color);\n",
              "    border-color: transparent;\n",
              "    border-bottom-color: var(--fill-color);\n",
              "    animation:\n",
              "      spin 1s steps(1) infinite;\n",
              "  }\n",
              "\n",
              "  @keyframes spin {\n",
              "    0% {\n",
              "      border-color: transparent;\n",
              "      border-bottom-color: var(--fill-color);\n",
              "      border-left-color: var(--fill-color);\n",
              "    }\n",
              "    20% {\n",
              "      border-color: transparent;\n",
              "      border-left-color: var(--fill-color);\n",
              "      border-top-color: var(--fill-color);\n",
              "    }\n",
              "    30% {\n",
              "      border-color: transparent;\n",
              "      border-left-color: var(--fill-color);\n",
              "      border-top-color: var(--fill-color);\n",
              "      border-right-color: var(--fill-color);\n",
              "    }\n",
              "    40% {\n",
              "      border-color: transparent;\n",
              "      border-right-color: var(--fill-color);\n",
              "      border-top-color: var(--fill-color);\n",
              "    }\n",
              "    60% {\n",
              "      border-color: transparent;\n",
              "      border-right-color: var(--fill-color);\n",
              "    }\n",
              "    80% {\n",
              "      border-color: transparent;\n",
              "      border-right-color: var(--fill-color);\n",
              "      border-bottom-color: var(--fill-color);\n",
              "    }\n",
              "    90% {\n",
              "      border-color: transparent;\n",
              "      border-bottom-color: var(--fill-color);\n",
              "    }\n",
              "  }\n",
              "</style>\n",
              "\n",
              "  <script>\n",
              "    async function quickchart(key) {\n",
              "      const quickchartButtonEl =\n",
              "        document.querySelector('#' + key + ' button');\n",
              "      quickchartButtonEl.disabled = true;  // To prevent multiple clicks.\n",
              "      quickchartButtonEl.classList.add('colab-df-spinner');\n",
              "      try {\n",
              "        const charts = await google.colab.kernel.invokeFunction(\n",
              "            'suggestCharts', [key], {});\n",
              "      } catch (error) {\n",
              "        console.error('Error during call to suggestCharts:', error);\n",
              "      }\n",
              "      quickchartButtonEl.classList.remove('colab-df-spinner');\n",
              "      quickchartButtonEl.classList.add('colab-df-quickchart-complete');\n",
              "    }\n",
              "    (() => {\n",
              "      let quickchartButtonEl =\n",
              "        document.querySelector('#df-7bbd841e-c08c-4b94-88c1-d21a29982b60 button');\n",
              "      quickchartButtonEl.style.display =\n",
              "        google.colab.kernel.accessAllowed ? 'block' : 'none';\n",
              "    })();\n",
              "  </script>\n",
              "</div>\n",
              "\n",
              "    </div>\n",
              "  </div>\n"
            ],
            "application/vnd.google.colaboratory.intrinsic+json": {
              "type": "dataframe"
            }
          },
          "metadata": {},
          "execution_count": 155
        }
      ]
    },
    {
      "cell_type": "markdown",
      "source": [
        "---\n",
        "\n",
        "\n",
        "\n",
        "\n",
        "\n",
        "**Importando e iniciando tratamento de dados Data Frame enem_2020**\n",
        "\n",
        "---\n",
        "\n",
        "\n"
      ],
      "metadata": {
        "id": "vE83q4a_v_7j"
      }
    },
    {
      "cell_type": "code",
      "source": [
        "# Importando a base de dados do enem de 2020\n",
        "url = \"/content/drive/MyDrive/BasesSpark/enem/enem_2020/DADOS/MICRODADOS*\"\n",
        "enem_2020 =spark.read.csv(\n",
        "    url,\n",
        "    header=True,\n",
        "    inferSchema=True,\n",
        "    encoding= \"UTF-8\",\n",
        "    sep=\";\"\n",
        ")"
      ],
      "metadata": {
        "id": "gJV-muDEsw-0"
      },
      "execution_count": 156,
      "outputs": []
    },
    {
      "cell_type": "code",
      "source": [
        "enem_2020.show()"
      ],
      "metadata": {
        "colab": {
          "base_uri": "https://localhost:8080/"
        },
        "id": "RNrzoBeswXFw",
        "outputId": "cf266d10-8029-452e-fe3d-4cf5db0bf713"
      },
      "execution_count": 157,
      "outputs": [
        {
          "output_type": "stream",
          "name": "stdout",
          "text": [
            "+------------+------+---------------+-------+---------------+-----------+----------------+---------------+---------------+---------+---------+------------+----------------+-------------------+---------+---------+----------------------+------------------+---------------+------------------+--------------------+-----------+-----------+--------------+--------------+--------------+--------------+-----------+-----------+-----------+-----------+----------+----------+----------+----------+--------------------+--------------------+--------------------+--------------------+---------+--------------------+--------------------+--------------------+--------------------+-----------------+-------------+-------------+-------------+-------------+-------------+---------------+----+----+----+----+----+----+----+----+----+----+----+----+----+----+----+----+----+----+----+----+----+----+----+----+----+\n",
            "|NU_INSCRICAO|NU_ANO|TP_FAIXA_ETARIA|TP_SEXO|TP_ESTADO_CIVIL|TP_COR_RACA|TP_NACIONALIDADE|TP_ST_CONCLUSAO|TP_ANO_CONCLUIU|TP_ESCOLA|TP_ENSINO|IN_TREINEIRO|CO_MUNICIPIO_ESC|   NO_MUNICIPIO_ESC|CO_UF_ESC|SG_UF_ESC|TP_DEPENDENCIA_ADM_ESC|TP_LOCALIZACAO_ESC|TP_SIT_FUNC_ESC|CO_MUNICIPIO_PROVA|  NO_MUNICIPIO_PROVA|CO_UF_PROVA|SG_UF_PROVA|TP_PRESENCA_CN|TP_PRESENCA_CH|TP_PRESENCA_LC|TP_PRESENCA_MT|CO_PROVA_CN|CO_PROVA_CH|CO_PROVA_LC|CO_PROVA_MT|NU_NOTA_CN|NU_NOTA_CH|NU_NOTA_LC|NU_NOTA_MT|     TX_RESPOSTAS_CN|     TX_RESPOSTAS_CH|     TX_RESPOSTAS_LC|     TX_RESPOSTAS_MT|TP_LINGUA|      TX_GABARITO_CN|      TX_GABARITO_CH|      TX_GABARITO_LC|      TX_GABARITO_MT|TP_STATUS_REDACAO|NU_NOTA_COMP1|NU_NOTA_COMP2|NU_NOTA_COMP3|NU_NOTA_COMP4|NU_NOTA_COMP5|NU_NOTA_REDACAO|Q001|Q002|Q003|Q004|Q005|Q006|Q007|Q008|Q009|Q010|Q011|Q012|Q013|Q014|Q015|Q016|Q017|Q018|Q019|Q020|Q021|Q022|Q023|Q024|Q025|\n",
            "+------------+------+---------------+-------+---------------+-----------+----------------+---------------+---------------+---------+---------+------------+----------------+-------------------+---------+---------+----------------------+------------------+---------------+------------------+--------------------+-----------+-----------+--------------+--------------+--------------+--------------+-----------+-----------+-----------+-----------+----------+----------+----------+----------+--------------------+--------------------+--------------------+--------------------+---------+--------------------+--------------------+--------------------+--------------------+-----------------+-------------+-------------+-------------+-------------+-------------+---------------+----+----+----+----+----+----+----+----+----+----+----+----+----+----+----+----+----+----+----+----+----+----+----+----+----+\n",
            "|200006271946|  2020|             11|      F|              1|          2|               1|              1|             11|        1|     NULL|           0|            NULL|               NULL|     NULL|     NULL|                  NULL|              NULL|           NULL|           1501402|               Bel�m|         15|         PA|             0|             0|             0|             0|       NULL|       NULL|       NULL|       NULL|      NULL|      NULL|      NULL|      NULL|                NULL|                NULL|                NULL|                NULL|        1|                NULL|                NULL|                NULL|                NULL|             NULL|         NULL|         NULL|         NULL|         NULL|         NULL|           NULL|NULL|NULL|NULL|NULL|NULL|NULL|NULL|NULL|NULL|NULL|NULL|NULL|NULL|NULL|NULL|NULL|NULL|NULL|NULL|NULL|NULL|NULL|NULL|NULL|NULL|\n",
            "|200001195856|  2020|             11|      M|              2|          3|               1|              1|             11|        1|     NULL|           0|            NULL|               NULL|     NULL|     NULL|                  NULL|              NULL|           NULL|           2408102|               Natal|         24|         RN|             1|             1|             1|             1|        702|        689|        693|        698|     604.1|     661.7|     595.3|     711.3|BCBDBDCCCDBDDBADE...|BCAECABCDCEBDBBBD...|99999CADDEDADBAAB...|EBEBDEDAECBADCADD...|        1|ABBACBCCCDDDDBAEE...|BCEECDBCCDEBDBBBB...|99999CBDDEDBDBACE...|BBEADECAECBBXCEBA...|                1|          120|          120|          120|          120|          100|            580|NULL|NULL|NULL|NULL|NULL|NULL|NULL|NULL|NULL|NULL|NULL|NULL|NULL|NULL|NULL|NULL|NULL|NULL|NULL|NULL|NULL|NULL|NULL|NULL|NULL|\n",
            "|200001943954|  2020|              4|      F|              2|          3|               2|              2|              0|        2|        1|           0|         2927408|           Salvador|       29|       BA|                     2|                 1|              1|           2927408|            Salvador|         29|         BA|             0|             0|             0|             0|       NULL|       NULL|       NULL|       NULL|      NULL|      NULL|      NULL|      NULL|                NULL|                NULL|                NULL|                NULL|        0|                NULL|                NULL|                NULL|                NULL|             NULL|         NULL|         NULL|         NULL|         NULL|         NULL|           NULL|   B|   C|   A|   D|   3|   B|   A|   B|   A|   A|   A|   B|   A|   B|   A|   B|   A|   A|   B|   A|   A|   A|   A|   A|   A|\n",
            "|200001908998|  2020|              2|      M|              1|          3|               1|              2|              0|        2|        1|           0|         3547304|Santana de Parna�ba|       35|       SP|                     3|                 1|              1|           3547304| Santana de Parna�ba|         35|         SP|             1|             1|             1|             1|        700|        688|        692|        696|     620.8|     675.0|     624.2|     759.4|EBEDCCCDCBDBAECAE...|DABCCACCBCCDCADBD...|DCEAB99999AADAECC...|CBDBDCCDDEECBAABB...|        0|BDECCACBEBDEAEDAE...|DABCCAECBABECADBD...|DCEAD99999AADACCC...|EBDBXCCDAEECBAABA...|                1|          140|          200|          140|          120|          160|            760|NULL|NULL|NULL|NULL|NULL|NULL|NULL|NULL|NULL|NULL|NULL|NULL|NULL|NULL|NULL|NULL|NULL|NULL|NULL|NULL|NULL|NULL|NULL|NULL|NULL|\n",
            "|200001634757|  2020|              4|      F|              1|          3|               2|              1|              1|        1|     NULL|           0|            NULL|               NULL|     NULL|     NULL|                  NULL|              NULL|           NULL|           3121605|          Diamantina|         31|         MG|             0|             0|             0|             0|       NULL|       NULL|       NULL|       NULL|      NULL|      NULL|      NULL|      NULL|                NULL|                NULL|                NULL|                NULL|        1|                NULL|                NULL|                NULL|                NULL|             NULL|         NULL|         NULL|         NULL|         NULL|         NULL|           NULL|   B|   G|   B|   B|   3|   B|   A|   B|   D|   A|   A|   B|   A|   B|   A|   A|   A|   A|   B|   A|   B|   B|   A|   A|   B|\n",
            "|200003132410|  2020|              3|      F|              1|          3|               1|              1|              1|        1|     NULL|           0|            NULL|               NULL|     NULL|     NULL|                  NULL|              NULL|           NULL|           4305207|         Cerro Largo|         43|         RS|             1|             1|             1|             1|        598|        567|        577|        588|     498.1|     604.7|     505.4|     526.7|CABBEEACAEBEBCCDA...|ACEBBDDCADDAACEEA...|99999CBECEBEDBEEC...|BADCAAAEEDBEDBACE...|        1|CEDBDDDCACCBDAEBA...|DABCBDDDAEDBECECB...|AAEDCACEEECEAACBA...|AEBCCXCCCACCDABCC...|                1|          140|          120|          140|          140|          160|            700|   C|   B|   C|   B|   5|   C|   A|   B|   E|   A|   A|   B|   A|   A|   A|   B|   A|   A|   B|   B|   A|   D|   A|   B|   B|\n",
            "|200001379770|  2020|              9|      M|              1|          3|               1|              1|              6|        1|     NULL|           0|            NULL|               NULL|     NULL|     NULL|                  NULL|              NULL|           NULL|           2611606|              Recife|         26|         PE|             0|             0|             0|             0|       NULL|       NULL|       NULL|       NULL|      NULL|      NULL|      NULL|      NULL|                NULL|                NULL|                NULL|                NULL|        0|                NULL|                NULL|                NULL|                NULL|             NULL|         NULL|         NULL|         NULL|         NULL|         NULL|           NULL|NULL|NULL|NULL|NULL|NULL|NULL|NULL|NULL|NULL|NULL|NULL|NULL|NULL|NULL|NULL|NULL|NULL|NULL|NULL|NULL|NULL|NULL|NULL|NULL|NULL|\n",
            "|200001334237|  2020|              4|      M|              1|          1|               1|              1|              1|        1|     NULL|           0|            NULL|               NULL|     NULL|     NULL|                  NULL|              NULL|           NULL|           3550308|           S�o Paulo|         35|         SP|             1|             1|             1|             1|        699|        687|        691|        695|     604.6|     604.8|     562.1|     753.2|CECACBBCADACADDEE...|EAADABBEABCADDBAA...|CADDE99999AEEADBA...|BABADDBDAEBAEBBBE...|        0|DEAAECBBCDCBAEBEE...|EAAADBBEDBDACDBCC...|CADDE99999DEBBBBB...|BABBDABAEEBACBACD...|                1|          140|          120|          120|          120|          100|            600|NULL|NULL|NULL|NULL|NULL|NULL|NULL|NULL|NULL|NULL|NULL|NULL|NULL|NULL|NULL|NULL|NULL|NULL|NULL|NULL|NULL|NULL|NULL|NULL|NULL|\n",
            "|200006762554|  2020|              5|      F|              2|          3|               1|              1|              3|        1|     NULL|           0|            NULL|               NULL|     NULL|     NULL|                  NULL|              NULL|           NULL|           2507507|         Jo�o Pessoa|         25|         PB|             1|             1|             1|             1|        598|        567|        577|        588|     439.7|     383.5|     486.2|     448.5|DABCDCAEDEDCBEDCD...|ECCAEAEACDDABCBDA...|99999DDCBBABECCAC...|EEDCCEACEBAAAADCD...|        1|CEDBDDDCACCBDAEBA...|DABCBDDDAEDBECECB...|AAEDCACEEECEAACBA...|AEBCCXCCCACCDABCC...|                1|          120|          120|          120|          140|          100|            600|   B|   C|   C|   B|   2|   B|   A|   B|   C|   A|   A|   B|   A|   B|   A|   A|   A|   A|   B|   A|   A|   C|   A|   A|   A|\n",
            "|200005146210|  2020|              2|      M|              1|          2|               1|              2|              0|        2|        1|           0|            NULL|               NULL|     NULL|     NULL|                  NULL|              NULL|           NULL|           2304400|           Fortaleza|         23|         CE|             0|             0|             0|             0|       NULL|       NULL|       NULL|       NULL|      NULL|      NULL|      NULL|      NULL|                NULL|                NULL|                NULL|                NULL|        0|                NULL|                NULL|                NULL|                NULL|             NULL|         NULL|         NULL|         NULL|         NULL|         NULL|           NULL|   A|   A|   B|   A|   4|   B|   A|   B|   B|   A|   A|   B|   A|   A|   A|   A|   A|   A|   B|   A|   A|   A|   A|   A|   B|\n",
            "|200004902048|  2020|              6|      M|              1|          1|               1|              1|              3|        1|     NULL|           0|            NULL|               NULL|     NULL|     NULL|                  NULL|              NULL|           NULL|           3550308|           S�o Paulo|         35|         SP|             0|             0|             0|             0|       NULL|       NULL|       NULL|       NULL|      NULL|      NULL|      NULL|      NULL|                NULL|                NULL|                NULL|                NULL|        0|                NULL|                NULL|                NULL|                NULL|             NULL|         NULL|         NULL|         NULL|         NULL|         NULL|           NULL|   B|   B|   B|   B|   7|   B|   A|   B|   C|   A|   A|   B|   A|   A|   A|   B|   A|   A|   B|   A|   A|   C|   B|   B|   B|\n",
            "|200006138472|  2020|              7|      M|              1|          1|               1|              1|              0|        1|     NULL|           0|            NULL|               NULL|     NULL|     NULL|                  NULL|              NULL|           NULL|           2910727|           Eun�polis|         29|         BA|             1|             1|             1|             1|        598|        567|        577|        588|     491.1|     631.4|     627.9|     546.5|BAEACEDBACDDEDECE...|CDEABDDDABDBEABCA...|AACDC99999ABDBEDA...|EBCDBEBABDBBDABCB...|        0|CEDBDDDCACCBDAEBA...|DABCBDDDAEDBECECB...|AAEDCACEEECEAACBA...|AEBCCXCCCACCDABCC...|                1|          140|          120|          140|          120|          120|            640|   B|   C|   C|   B|   5|   B|   A|   B|   C|   A|   A|   B|   A|   A|   A|   A|   B|   A|   B|   A|   A|   C|   A|   B|   B|\n",
            "|200005613689|  2020|              3|      F|              1|          3|               1|              1|              1|        1|     NULL|           0|            NULL|               NULL|     NULL|     NULL|                  NULL|              NULL|           NULL|           5008305|         Tr�s Lagoas|         50|         MS|             0|             0|             0|             0|       NULL|       NULL|       NULL|       NULL|      NULL|      NULL|      NULL|      NULL|                NULL|                NULL|                NULL|                NULL|        0|                NULL|                NULL|                NULL|                NULL|             NULL|         NULL|         NULL|         NULL|         NULL|         NULL|           NULL|   D|   E|   A|   A|   3|   B|   A|   B|   C|   A|   A|   B|   A|   A|   A|   A|   A|   A|   A|   A|   A|   C|   A|   A|   A|\n",
            "|200004833505|  2020|             11|      F|              2|          2|               1|              1|             12|        1|     NULL|           0|            NULL|               NULL|     NULL|     NULL|                  NULL|              NULL|           NULL|           3547809|         Santo Andr�|         35|         SP|             0|             0|             0|             0|       NULL|       NULL|       NULL|       NULL|      NULL|      NULL|      NULL|      NULL|                NULL|                NULL|                NULL|                NULL|        1|                NULL|                NULL|                NULL|                NULL|             NULL|         NULL|         NULL|         NULL|         NULL|         NULL|           NULL|NULL|NULL|NULL|NULL|NULL|NULL|NULL|NULL|NULL|NULL|NULL|NULL|NULL|NULL|NULL|NULL|NULL|NULL|NULL|NULL|NULL|NULL|NULL|NULL|NULL|\n",
            "|200004570764|  2020|             11|      M|              1|          2|               1|              1|              0|        1|     NULL|           0|            NULL|               NULL|     NULL|     NULL|                  NULL|              NULL|           NULL|           2604007|             Carpina|         26|         PE|             0|             0|             0|             0|       NULL|       NULL|       NULL|       NULL|      NULL|      NULL|      NULL|      NULL|                NULL|                NULL|                NULL|                NULL|        1|                NULL|                NULL|                NULL|                NULL|             NULL|         NULL|         NULL|         NULL|         NULL|         NULL|           NULL|   H|   B|   F|   B|   3|   B|   A|   C|   D|   A|   A|   B|   A|   A|   A|   A|   A|   A|   B|   A|   A|   B|   A|   B|   B|\n",
            "|200001071590|  2020|              5|      F|              1|          3|               1|              1|              0|        1|     NULL|           0|            NULL|               NULL|     NULL|     NULL|                  NULL|              NULL|           NULL|           2800308|             Aracaju|         28|         SE|             0|             0|             0|             0|       NULL|       NULL|       NULL|       NULL|      NULL|      NULL|      NULL|      NULL|                NULL|                NULL|                NULL|                NULL|        1|                NULL|                NULL|                NULL|                NULL|             NULL|         NULL|         NULL|         NULL|         NULL|         NULL|           NULL|NULL|NULL|NULL|NULL|NULL|NULL|NULL|NULL|NULL|NULL|NULL|NULL|NULL|NULL|NULL|NULL|NULL|NULL|NULL|NULL|NULL|NULL|NULL|NULL|NULL|\n",
            "|200001934470|  2020|              7|      F|              1|          3|               1|              1|              4|        1|     NULL|           0|            NULL|               NULL|     NULL|     NULL|                  NULL|              NULL|           NULL|           2933307|Vit�ria da Conquista|         29|         BA|             0|             0|             0|             0|       NULL|       NULL|       NULL|       NULL|      NULL|      NULL|      NULL|      NULL|                NULL|                NULL|                NULL|                NULL|        1|                NULL|                NULL|                NULL|                NULL|             NULL|         NULL|         NULL|         NULL|         NULL|         NULL|           NULL|   A|   B|   F|   F|   3|   B|   A|   B|   C|   A|   A|   B|   B|   A|   A|   A|   A|   A|   B|   A|   A|   C|   A|   B|   B|\n",
            "|200006066678|  2020|              4|      M|              1|          1|               1|              1|              1|        1|     NULL|           0|            NULL|               NULL|     NULL|     NULL|                  NULL|              NULL|           NULL|           4106902|            Curitiba|         41|         PR|             0|             0|             0|             0|       NULL|       NULL|       NULL|       NULL|      NULL|      NULL|      NULL|      NULL|                NULL|                NULL|                NULL|                NULL|        0|                NULL|                NULL|                NULL|                NULL|             NULL|         NULL|         NULL|         NULL|         NULL|         NULL|           NULL|NULL|NULL|NULL|NULL|NULL|NULL|NULL|NULL|NULL|NULL|NULL|NULL|NULL|NULL|NULL|NULL|NULL|NULL|NULL|NULL|NULL|NULL|NULL|NULL|NULL|\n",
            "|200003343448|  2020|              7|      F|              1|          3|               1|              1|              3|        1|     NULL|           0|            NULL|               NULL|     NULL|     NULL|                  NULL|              NULL|           NULL|           2704302|              Macei�|         27|         AL|             1|             1|             1|             1|        597|        569|        580|        587|     422.4|     488.1|     559.1|     420.3|BDCEDABCECACBDCBB...|CAEADAEEDEDBDDCAB...|CADAA99999ABCBEBD...|BBCCDBEADABBE*CED...|        0|DDBACBDDDECDAEDCC...|DECCADEBDECBBECDD...|DCEAAEEEACAACBBEB...|DABCCAEDBBCCCABCA...|                1|          140|          180|          140|          160|          180|            800|   C|   C|   C|   B|   2|   B|   A|   B|   C|   A|   A|   B|   A|   A|   A|   A|   A|   A|   B|   B|   A|   C|   A|   B|   B|\n",
            "|200005966328|  2020|             13|      M|              1|          2|               1|              1|              0|        1|     NULL|           0|            NULL|               NULL|     NULL|     NULL|                  NULL|              NULL|           NULL|           1501402|               Bel�m|         15|         PA|             1|             1|             1|             1|        600|        570|        579|        589|     486.0|     503.3|     439.8|     405.6|DBEBBBCCDCBCAEBAE...|BABAEABBEDBDCDBBE...|99999EAADBDAABCBD...|BBAADDCCEABAAEBBA...|        1|DCDXDCCAEBADCBAAE...|BDDBECECBACDBDEEB...|AACDEEEECADBBCAAA...|BAECDBBXCCCBDBACC...|                1|          100|          100|          120|          100|           80|            500|   C|   D|   C|   C|   5|   D|   A|   C|   C|   A|   A|   B|   A|   A|   A|   A|   A|   A|   B|   B|   A|   C|   A|   A|   A|\n",
            "+------------+------+---------------+-------+---------------+-----------+----------------+---------------+---------------+---------+---------+------------+----------------+-------------------+---------+---------+----------------------+------------------+---------------+------------------+--------------------+-----------+-----------+--------------+--------------+--------------+--------------+-----------+-----------+-----------+-----------+----------+----------+----------+----------+--------------------+--------------------+--------------------+--------------------+---------+--------------------+--------------------+--------------------+--------------------+-----------------+-------------+-------------+-------------+-------------+-------------+---------------+----+----+----+----+----+----+----+----+----+----+----+----+----+----+----+----+----+----+----+----+----+----+----+----+----+\n",
            "only showing top 20 rows\n",
            "\n"
          ]
        }
      ]
    },
    {
      "cell_type": "code",
      "source": [
        "enem_2020.printSchema()"
      ],
      "metadata": {
        "id": "Ivl-rSuQzlWF",
        "colab": {
          "base_uri": "https://localhost:8080/"
        },
        "outputId": "77529795-ed7e-461e-de88-bdf7d746a138"
      },
      "execution_count": 158,
      "outputs": [
        {
          "output_type": "stream",
          "name": "stdout",
          "text": [
            "root\n",
            " |-- NU_INSCRICAO: long (nullable = true)\n",
            " |-- NU_ANO: integer (nullable = true)\n",
            " |-- TP_FAIXA_ETARIA: integer (nullable = true)\n",
            " |-- TP_SEXO: string (nullable = true)\n",
            " |-- TP_ESTADO_CIVIL: integer (nullable = true)\n",
            " |-- TP_COR_RACA: integer (nullable = true)\n",
            " |-- TP_NACIONALIDADE: integer (nullable = true)\n",
            " |-- TP_ST_CONCLUSAO: integer (nullable = true)\n",
            " |-- TP_ANO_CONCLUIU: integer (nullable = true)\n",
            " |-- TP_ESCOLA: integer (nullable = true)\n",
            " |-- TP_ENSINO: integer (nullable = true)\n",
            " |-- IN_TREINEIRO: integer (nullable = true)\n",
            " |-- CO_MUNICIPIO_ESC: integer (nullable = true)\n",
            " |-- NO_MUNICIPIO_ESC: string (nullable = true)\n",
            " |-- CO_UF_ESC: integer (nullable = true)\n",
            " |-- SG_UF_ESC: string (nullable = true)\n",
            " |-- TP_DEPENDENCIA_ADM_ESC: integer (nullable = true)\n",
            " |-- TP_LOCALIZACAO_ESC: integer (nullable = true)\n",
            " |-- TP_SIT_FUNC_ESC: integer (nullable = true)\n",
            " |-- CO_MUNICIPIO_PROVA: integer (nullable = true)\n",
            " |-- NO_MUNICIPIO_PROVA: string (nullable = true)\n",
            " |-- CO_UF_PROVA: integer (nullable = true)\n",
            " |-- SG_UF_PROVA: string (nullable = true)\n",
            " |-- TP_PRESENCA_CN: integer (nullable = true)\n",
            " |-- TP_PRESENCA_CH: integer (nullable = true)\n",
            " |-- TP_PRESENCA_LC: integer (nullable = true)\n",
            " |-- TP_PRESENCA_MT: integer (nullable = true)\n",
            " |-- CO_PROVA_CN: integer (nullable = true)\n",
            " |-- CO_PROVA_CH: integer (nullable = true)\n",
            " |-- CO_PROVA_LC: integer (nullable = true)\n",
            " |-- CO_PROVA_MT: integer (nullable = true)\n",
            " |-- NU_NOTA_CN: double (nullable = true)\n",
            " |-- NU_NOTA_CH: double (nullable = true)\n",
            " |-- NU_NOTA_LC: double (nullable = true)\n",
            " |-- NU_NOTA_MT: double (nullable = true)\n",
            " |-- TX_RESPOSTAS_CN: string (nullable = true)\n",
            " |-- TX_RESPOSTAS_CH: string (nullable = true)\n",
            " |-- TX_RESPOSTAS_LC: string (nullable = true)\n",
            " |-- TX_RESPOSTAS_MT: string (nullable = true)\n",
            " |-- TP_LINGUA: integer (nullable = true)\n",
            " |-- TX_GABARITO_CN: string (nullable = true)\n",
            " |-- TX_GABARITO_CH: string (nullable = true)\n",
            " |-- TX_GABARITO_LC: string (nullable = true)\n",
            " |-- TX_GABARITO_MT: string (nullable = true)\n",
            " |-- TP_STATUS_REDACAO: integer (nullable = true)\n",
            " |-- NU_NOTA_COMP1: integer (nullable = true)\n",
            " |-- NU_NOTA_COMP2: integer (nullable = true)\n",
            " |-- NU_NOTA_COMP3: integer (nullable = true)\n",
            " |-- NU_NOTA_COMP4: integer (nullable = true)\n",
            " |-- NU_NOTA_COMP5: integer (nullable = true)\n",
            " |-- NU_NOTA_REDACAO: integer (nullable = true)\n",
            " |-- Q001: string (nullable = true)\n",
            " |-- Q002: string (nullable = true)\n",
            " |-- Q003: string (nullable = true)\n",
            " |-- Q004: string (nullable = true)\n",
            " |-- Q005: integer (nullable = true)\n",
            " |-- Q006: string (nullable = true)\n",
            " |-- Q007: string (nullable = true)\n",
            " |-- Q008: string (nullable = true)\n",
            " |-- Q009: string (nullable = true)\n",
            " |-- Q010: string (nullable = true)\n",
            " |-- Q011: string (nullable = true)\n",
            " |-- Q012: string (nullable = true)\n",
            " |-- Q013: string (nullable = true)\n",
            " |-- Q014: string (nullable = true)\n",
            " |-- Q015: string (nullable = true)\n",
            " |-- Q016: string (nullable = true)\n",
            " |-- Q017: string (nullable = true)\n",
            " |-- Q018: string (nullable = true)\n",
            " |-- Q019: string (nullable = true)\n",
            " |-- Q020: string (nullable = true)\n",
            " |-- Q021: string (nullable = true)\n",
            " |-- Q022: string (nullable = true)\n",
            " |-- Q023: string (nullable = true)\n",
            " |-- Q024: string (nullable = true)\n",
            " |-- Q025: string (nullable = true)\n",
            "\n"
          ]
        }
      ]
    },
    {
      "cell_type": "code",
      "source": [
        "enem_2020.count()"
      ],
      "metadata": {
        "colab": {
          "base_uri": "https://localhost:8080/"
        },
        "id": "rfub0W8QBZn_",
        "outputId": "6f0fcf0e-436d-4a63-9269-dd09fbb9bdbd"
      },
      "execution_count": 159,
      "outputs": [
        {
          "output_type": "execute_result",
          "data": {
            "text/plain": [
              "5783109"
            ]
          },
          "metadata": {},
          "execution_count": 159
        }
      ]
    },
    {
      "cell_type": "code",
      "source": [
        "# Filtrando alunos que estiveram presentes em todos os dias de prova, que nao concluiram ou irão concluir o ensino medio\n",
        "enem_2020.where(\n",
        "    \"TP_FAIXA_ETARIA <= 10 and TP_PRESENCA_CN like '1' and TP_PRESENCA_CH like '1' and TP_PRESENCA_LC like '1' and TP_PRESENCA_MT like '1' and TP_ST_CONCLUSAO like '2' or TP_ST_CONCLUSAO like '3'\"\n",
        ").show()"
      ],
      "metadata": {
        "colab": {
          "base_uri": "https://localhost:8080/"
        },
        "id": "WdotAgYjBemu",
        "outputId": "cafdce76-07ee-4425-9cd7-ca95ae4edf4c"
      },
      "execution_count": 160,
      "outputs": [
        {
          "output_type": "stream",
          "name": "stdout",
          "text": [
            "+------------+------+---------------+-------+---------------+-----------+----------------+---------------+---------------+---------+---------+------------+----------------+-------------------+---------+---------+----------------------+------------------+---------------+------------------+-------------------+-----------+-----------+--------------+--------------+--------------+--------------+-----------+-----------+-----------+-----------+----------+----------+----------+----------+--------------------+--------------------+--------------------+--------------------+---------+--------------------+--------------------+--------------------+--------------------+-----------------+-------------+-------------+-------------+-------------+-------------+---------------+----+----+----+----+----+----+----+----+----+----+----+----+----+----+----+----+----+----+----+----+----+----+----+----+----+\n",
            "|NU_INSCRICAO|NU_ANO|TP_FAIXA_ETARIA|TP_SEXO|TP_ESTADO_CIVIL|TP_COR_RACA|TP_NACIONALIDADE|TP_ST_CONCLUSAO|TP_ANO_CONCLUIU|TP_ESCOLA|TP_ENSINO|IN_TREINEIRO|CO_MUNICIPIO_ESC|   NO_MUNICIPIO_ESC|CO_UF_ESC|SG_UF_ESC|TP_DEPENDENCIA_ADM_ESC|TP_LOCALIZACAO_ESC|TP_SIT_FUNC_ESC|CO_MUNICIPIO_PROVA| NO_MUNICIPIO_PROVA|CO_UF_PROVA|SG_UF_PROVA|TP_PRESENCA_CN|TP_PRESENCA_CH|TP_PRESENCA_LC|TP_PRESENCA_MT|CO_PROVA_CN|CO_PROVA_CH|CO_PROVA_LC|CO_PROVA_MT|NU_NOTA_CN|NU_NOTA_CH|NU_NOTA_LC|NU_NOTA_MT|     TX_RESPOSTAS_CN|     TX_RESPOSTAS_CH|     TX_RESPOSTAS_LC|     TX_RESPOSTAS_MT|TP_LINGUA|      TX_GABARITO_CN|      TX_GABARITO_CH|      TX_GABARITO_LC|      TX_GABARITO_MT|TP_STATUS_REDACAO|NU_NOTA_COMP1|NU_NOTA_COMP2|NU_NOTA_COMP3|NU_NOTA_COMP4|NU_NOTA_COMP5|NU_NOTA_REDACAO|Q001|Q002|Q003|Q004|Q005|Q006|Q007|Q008|Q009|Q010|Q011|Q012|Q013|Q014|Q015|Q016|Q017|Q018|Q019|Q020|Q021|Q022|Q023|Q024|Q025|\n",
            "+------------+------+---------------+-------+---------------+-----------+----------------+---------------+---------------+---------+---------+------------+----------------+-------------------+---------+---------+----------------------+------------------+---------------+------------------+-------------------+-----------+-----------+--------------+--------------+--------------+--------------+-----------+-----------+-----------+-----------+----------+----------+----------+----------+--------------------+--------------------+--------------------+--------------------+---------+--------------------+--------------------+--------------------+--------------------+-----------------+-------------+-------------+-------------+-------------+-------------+---------------+----+----+----+----+----+----+----+----+----+----+----+----+----+----+----+----+----+----+----+----+----+----+----+----+----+\n",
            "|200001908998|  2020|              2|      M|              1|          3|               1|              2|              0|        2|        1|           0|         3547304|Santana de Parna�ba|       35|       SP|                     3|                 1|              1|           3547304|Santana de Parna�ba|         35|         SP|             1|             1|             1|             1|        700|        688|        692|        696|     620.8|     675.0|     624.2|     759.4|EBEDCCCDCBDBAECAE...|DABCCACCBCCDCADBD...|DCEAB99999AADAECC...|CBDBDCCDDEECBAABB...|        0|BDECCACBEBDEAEDAE...|DABCCAECBABECADBD...|DCEAD99999AADACCC...|EBDBXCCDAEECBAABA...|                1|          140|          200|          140|          120|          160|            760|NULL|NULL|NULL|NULL|NULL|NULL|NULL|NULL|NULL|NULL|NULL|NULL|NULL|NULL|NULL|NULL|NULL|NULL|NULL|NULL|NULL|NULL|NULL|NULL|NULL|\n",
            "|200005550767|  2020|              2|      F|              1|          1|               1|              3|              0|        1|     NULL|           1|            NULL|               NULL|     NULL|     NULL|                  NULL|              NULL|           NULL|           3550308|          S�o Paulo|         35|         SP|             0|             0|             0|             0|       NULL|       NULL|       NULL|       NULL|      NULL|      NULL|      NULL|      NULL|                NULL|                NULL|                NULL|                NULL|        0|                NULL|                NULL|                NULL|                NULL|             NULL|         NULL|         NULL|         NULL|         NULL|         NULL|           NULL|   E|   E|   B|   B|   3|   D|   A|   B|   C|   B|   A|   B|   B|   B|   A|   B|   A|   B|   D|   A|   B|   D|   B|   B|   B|\n",
            "|200003209996|  2020|              3|      F|              1|          3|               1|              2|              0|        2|        1|           0|         1302009|         Itapiranga|       13|       AM|                     2|                 1|              1|           1304005|             Silves|         13|         AM|             1|             1|             1|             1|        677|        649|        660|        667|     486.9|     509.7|     532.3|     433.9|DDAAADBCBAADDDBDC...|CBEEDBEBBEDBCDCDC...|99999DDADDDDEBBCA...|CBEEDDABDCBDDAACA...|        1|DBDACXDBEAAADECEC...|CDEEAEDCDEDCDDBDB...|EEABEEDADDDDCEBEB...|CDBEAAECBADABCCAE...|                1|          120|          120|          120|          140|          120|            620|   E|   E|   A|   A|   4|   B|   A|   B|   C|   A|   B|   B|   A|   A|   A|   A|   A|   A|   B|   A|   B|   D|   B|   A|   A|\n",
            "|200005867610|  2020|              2|      F|              0|          0|               1|              3|              0|        1|     NULL|           1|            NULL|               NULL|     NULL|     NULL|                  NULL|              NULL|           NULL|           2805703|            Propri�|         28|         SE|             1|             1|             1|             1|        600|        570|        579|        589|     503.4|     448.4|     432.7|     397.0|ABEECEBBEDAEBBAAD...|ACDECBCBACDEDDADB...|DACEC99999DACACED...|CDCEBEABCEBCEDBDD...|        0|DCDXDCCAEBADCBAAE...|BDDBECECBACDBDEEB...|AACDEEEECADBBCAAA...|BAECDBBXCCCBDBACC...|                1|          100|          120|          120|          100|           60|            500|   B|   D|   B|   B|   3|   B|   A|   B|   B|   A|   A|   A|   A|   A|   A|   A|   A|   A|   A|   A|   A|   B|   A|   A|   A|\n",
            "|200001141912|  2020|              2|      M|              3|          3|               1|              2|              0|        2|        1|           0|            NULL|               NULL|     NULL|     NULL|                  NULL|              NULL|           NULL|           3550308|          S�o Paulo|         35|         SP|             1|             1|             1|             1|        597|        569|        580|        587|     439.6|     395.6|     505.7|     339.2|DDDCAAEBBCACACCCC...|ADABADCCAECACEBAC...|ACCEA99999BACABDA...|CECDACBDADBACBDAE...|        0|DDBACBDDDECDAEDCC...|DECCADEBDECBBECDD...|DCEAAEEEACAACBBEB...|DABCCAEDBBCCCABCA...|                1|           60|           40|           40|          100|           40|            280|   D|   E|   C|   B|   4|   C|   A|   B|   C|   B|   A|   B|   B|   B|   A|   B|   A|   A|   C|   A|   A|   D|   A|   A|   B|\n",
            "|200002437786|  2020|              3|      F|              1|          3|               1|              2|              0|        2|        1|           0|            NULL|               NULL|     NULL|     NULL|                  NULL|              NULL|           NULL|           3154606| Ribeir�o das Neves|         31|         MG|             1|             1|             1|             1|        598|        567|        577|        588|     482.8|     384.4|     514.6|     536.4|EAEECBAABCABDCDBA...|ACCEAEAECEBDABEAA...|CAECB99999AEEBECD...|DABDACBCABCCEACCC...|        0|CEDBDDDCACCBDAEBA...|DABCBDDDAEDBECECB...|AAEDCACEEECEAACBA...|AEBCCXCCCACCDABCC...|                1|          160|          200|          180|          200|          200|            940|   E|   E|   C|   B|   4|   B|   A|   B|   C|   A|   A|   B|   A|   A|   A|   A|   A|   A|   B|   A|   A|   C|   A|   B|   B|\n",
            "|200003350911|  2020|              3|      F|              1|          3|               1|              2|              0|        2|        1|           0|         2207009|             Oeiras|       22|       PI|                     1|                 1|              1|           2207009|             Oeiras|         22|         PI|             1|             1|             1|             1|        598|        567|        577|        588|     516.8|     565.7|     567.7|     384.2|DAEEADCEECBDABEDD...|EBCABBDDADDACCECA...|DAECC99999AADBDBC...|DBADABDECBDDAADBC...|        0|CEDBDDDCACCBDAEBA...|DABCBDDDAEDBECECB...|AAEDCACEEECEAACBA...|AEBCCXCCCACCDABCC...|                1|          140|          180|          160|          200|          200|            880|   A|   C|   A|   A|   3|   B|   A|   B|   C|   A|   B|   B|   A|   A|   A|   A|   A|   A|   A|   A|   A|   C|   A|   A|   A|\n",
            "|200003047925|  2020|              2|      M|              1|          3|               1|              3|              0|        1|     NULL|           1|            NULL|               NULL|     NULL|     NULL|                  NULL|              NULL|           NULL|           2408102|              Natal|         24|         RN|             0|             0|             0|             0|       NULL|       NULL|       NULL|       NULL|      NULL|      NULL|      NULL|      NULL|                NULL|                NULL|                NULL|                NULL|        1|                NULL|                NULL|                NULL|                NULL|             NULL|         NULL|         NULL|         NULL|         NULL|         NULL|           NULL|   B|   B|   F|   F|   4|   B|   A|   B|   C|   A|   A|   B|   A|   B|   B|   B|   A|   A|   B|   A|   A|   E|   A|   A|   B|\n",
            "|200004884707|  2020|              3|      M|              1|          3|               1|              2|              0|        2|        1|           0|            NULL|               NULL|     NULL|     NULL|                  NULL|              NULL|           NULL|           2604106|            Caruaru|         26|         PE|             1|             1|             1|             1|        600|        570|        579|        589|     425.4|     568.0|     585.5|     615.1|ABBABCBDECCEBAEBB...|BADAEEECADEAAEEAC...|AABAD99999DBACDCB...|BDBCBBBDAEBEABDCA...|        0|DCDXDCCAEBADCBAAE...|BDDBECECBACDBDEEB...|AACDEEEECADBBCAAA...|BAECDBBXCCCBDBACC...|                1|          180|          180|          140|          180|          200|            880|   D|   C|   A|   A|   4|   B|   A|   B|   B|   A|   A|   A|   A|   A|   A|   A|   A|   A|   B|   A|   A|   A|   A|   A|   A|\n",
            "|200005725669|  2020|              2|      F|              1|          3|               1|              2|              0|        2|        1|           0|         5108402|      V�rzea Grande|       51|       MT|                     2|                 1|              1|           5108402|      V�rzea Grande|         51|         MT|             1|             1|             1|             1|        598|        567|        577|        588|     467.5|     518.8|     541.0|     404.6|EACBDACEAEACEBEDA...|DABDBECEADAAECBDA...|99999ACECEAACECEE...|ABEDDABDACBAEACDC...|        1|CEDBDDDCACCBDAEBA...|DABCBDDDAEDBECECB...|AAEDCACEEECEAACBA...|AEBCCXCCCACCDABCC...|                1|          100|          120|          120|          140|          120|            600|   C|   E|   C|   B|   6|   B|   B|   C|   C|   A|   B|   B|   B|   B|   A|   A|   A|   A|   B|   A|   B|   E|   A|   A|   A|\n",
            "|200004043002|  2020|              3|      M|              1|          2|               1|              2|              0|        3|        1|           0|            NULL|               NULL|     NULL|     NULL|                  NULL|              NULL|           NULL|           3550308|          S�o Paulo|         35|         SP|             1|             1|             1|             1|        597|        569|        580|        587|     530.9|     631.1|     601.8|     634.6|DCCBDEBBCDDDBDCED...|AEAAACECDACBCECDD...|ACDAA99999ABECBDB...|AADCCCEDADBCCEDCC...|        0|DDBACBDDDECDAEDCC...|DECCADEBDECBBECDD...|DCEAAEEEACAACBBEB...|DABCCAEDBBCCCABCA...|                1|          120|          120|          160|          140|          160|            700|   F|   E|   F|   F|   3|   D|   A|   C|   D|   A|   A|   B|   B|   B|   A|   B|   A|   A|   B|   A|   A|   D|   B|   A|   B|\n",
            "|200004462096|  2020|              2|      F|              1|          1|               1|              2|              0|        2|        1|           0|         3513603|              Cunha|       35|       SP|                     2|                 1|              1|           3518404|      Guaratinguet�|         35|         SP|             1|             1|             1|             1|        598|        567|        577|        588|     578.4|     681.1|     638.2|     669.8|CAABECCCBCDBEDECE...|DDCCBDEDADDACCECA...|99999ACEEEABDBCBB...|ABCBDBCEADCBAACCB...|        1|CEDBDDDCACCBDAEBA...|DABCBDDDAEDBECECB...|AAEDCACEEECEAACBA...|AEBCCXCCCACCDABCC...|                1|          160|          120|          180|          180|          180|            820|   B|   C|   C|   A|   3|   C|   A|   B|   B|   B|   B|   B|   B|   B|   A|   B|   A|   A|   B|   B|   A|   C|   A|   B|   B|\n",
            "|200006077840|  2020|              3|      F|              1|          3|               1|              3|              0|        1|     NULL|           1|            NULL|               NULL|     NULL|     NULL|                  NULL|              NULL|           NULL|           4303509|            Camaqu�|         43|         RS|             1|             1|             1|             1|        598|        567|        577|        588|     447.3|     565.0|     557.3|     359.4|CAEBCCEDBCBDEDCCD...|BDAABDDBAA.BCEEEB...|DEDBC99999CCAB*BB...|DBACDBCEAEBBBBCBB...|        0|CEDBDDDCACCBDAEBA...|DABCBDDDAEDBECECB...|AAEDCACEEECEAACBA...|AEBCCXCCCACCDABCC...|                1|          140|          120|          120|          100|          120|            600|   E|   D|   D|   D|   3|   D|   A|   B|   C|   B|   A|   B|   B|   A|   B|   B|   A|   A|   B|   A|   A|   C|   B|   B|   B|\n",
            "|200002727241|  2020|              4|      M|              1|          2|               1|              2|              0|        2|        1|           0|         3302007|            Itagua�|       33|       RJ|                     1|                 1|              1|           3302007|            Itagua�|         33|         RJ|             1|             1|             1|             1|        597|        569|        580|        587|     606.3|     659.8|     607.1|     743.0|DDBACEDBDECEAEBDB...|DECAABEBDECBAECDD...|ECDAA99999DABCBEB...|BADCEBEDABCCCABED...|        0|DDBACBDDDECDAEDCC...|DECCADEBDECBBECDD...|DCEAAEEEACAACBBEB...|DABCCAEDBBCCCABCA...|                1|          160|          200|          160|          200|          200|            920|   E|   E|   C|   C|   4|   F|   A|   B|   C|   B|   A|   B|   B|   B|   B|   B|   A|   B|   C|   B|   B|   D|   A|   C|   B|\n",
            "|200004954618|  2020|              2|      M|              1|          3|               1|              2|              0|        2|        1|           0|            NULL|               NULL|     NULL|     NULL|                  NULL|              NULL|           NULL|           2929255|        S�o Gabriel|         29|         BA|             1|             1|             1|             1|        599|        568|        578|        590|     477.7|     589.8|     536.7|     516.7|AAECAADAAECDCECBE...|ABCCACCBEDAABBDCC...|DCDED99999AEBDEED...|BEEACBDCCECAAABEB...|        0|CBDDDDCAAECEDDCED...|BDECBCCDEDDAEBDCD...|CDEAACAEEEBEBADAD...|CABCAACCACDABEEEB...|                1|          120|          120|          120|          140|          120|            620|   C|   E|   C|   B|   2|   B|   A|   B|   C|   A|   A|   B|   B|   A|   A|   A|   A|   A|   B|   A|   A|   C|   A|   B|   B|\n",
            "|200002347958|  2020|              1|      M|              1|          3|               1|              3|              0|        1|     NULL|           1|            NULL|               NULL|     NULL|     NULL|                  NULL|              NULL|           NULL|           5208707|            Goi�nia|         52|         GO|             1|             1|             1|             1|        598|        567|        577|        588|     484.1|     699.2|     638.1|     671.5|CACECCDABCEDECEED...|DABCBDDCADDCEEECB...|AADDE99999CECACEA...|AEBAEECCADCACABCB...|        0|CEDBDDDCACCBDAEBA...|DABCBDDDAEDBECECB...|AAEDCACEEECEAACBA...|AEBCCXCCCACCDABCC...|                1|          120|          140|          140|          160|          120|            680|   E|   E|   D|   B|   5|   B|   A|   C|   D|   B|   B|   B|   A|   B|   A|   B|   A|   A|   B|   A|   A|   E|   A|   D|   B|\n",
            "|200004311829|  2020|              3|      F|              1|          2|               1|              2|              0|        2|        1|           0|            NULL|               NULL|     NULL|     NULL|                  NULL|              NULL|           NULL|           3128006|           Guanh�es|         31|         MG|             1|             1|             1|             1|        600|        570|        579|        589|     411.0|     415.5|     491.7|     491.1|DACDCDBDACEBECDCA...|BADCBCEAEDDBABDAB...|99999ACEDBDBABCBD...|BBDEBDCEAEBEDEACD...|        1|DCDXDCCAEBADCBAAE...|BDDBECECBACDBDEEB...|AACDEEEECADBBCAAA...|BAECDBBXCCCBDBACC...|                1|          140|          160|          160|          140|          120|            720|   D|   B|   C|   B|   3|   B|   A|   B|   C|   A|   A|   B|   A|   B|   A|   A|   A|   A|   B|   A|   A|   D|   A|   A|   A|\n",
            "|200002597919|  2020|              3|      M|              1|          3|               1|              2|              0|        2|        1|           0|            NULL|               NULL|     NULL|     NULL|                  NULL|              NULL|           NULL|           1502400|          Castanhal|         15|         PA|             1|             1|             1|             1|        599|        568|        578|        590|     555.8|     525.5|     493.4|     354.4|ABDDDACABACCBDDEC...|EADCDAEDEEAAABACB...|99999DCEDAAABAECD...|BCBEDDDAEBBBCBBDD...|        1|CBDDDDCAAECEDDCED...|BDECBCCDEDDAEBDCD...|CDEAACAEEEBEBADAD...|CABCAACCACDABEEEB...|                1|          120|          120|          100|          120|           40|            500|   A|   A|   A|   A|   4|   B|   A|   B|   C|   A|   A|   B|   A|   A|   A|   A|   A|   A|   B|   A|   A|   C|   A|   A|   A|\n",
            "|200001051933|  2020|              1|      F|              1|          3|               1|              3|              0|        1|     NULL|           1|            NULL|               NULL|     NULL|     NULL|                  NULL|              NULL|           NULL|           2100055|         A�ail�ndia|         21|         MA|             1|             1|             1|             1|        599|        568|        578|        590|     443.9|     474.4|     445.2|     443.9|CEBDECCDCDBECACAE...|ACDCAAAEEDAAADDEA...|ACDEC99999AECDEAD...|DBAAECBABBAACDAAB...|        0|CBDDDDCAAECEDDCED...|BDECBCCDEDDAEBDCD...|CDEAACAEEEBEBADAD...|CABCAACCACDABEEEB...|                1|          120|           40|           40|          120|           60|            380|   E|   E|   A|   A|   4|   B|   A|   B|   C|   A|   A|   B|   A|   A|   A|   A|   A|   A|   B|   A|   A|   B|   A|   A|   A|\n",
            "|200005503430|  2020|              2|      F|              1|          3|               1|              2|              0|        2|        1|           0|            NULL|               NULL|     NULL|     NULL|                  NULL|              NULL|           NULL|           2800308|            Aracaju|         28|         SE|             1|             1|             1|             1|        600|        570|        579|        589|     441.0|     376.3|     481.5|     408.5|DBEABABCCADCEEDBE...|BECAACCABDDBDAADE...|99999BAAEDDDABBCA...|BCBAEACAAEAAEADEB...|        1|DCDXDCCAEBADCBAAE...|BDDBECECBACDBDEEB...|AACDEEEECADBBCAAA...|BAECDBBXCCCBDBACC...|                1|          120|           40|           40|          120|           40|            360|   E|   E|   B|   B|   4|   B|   A|   B|   C|   A|   A|   B|   A|   A|   A|   A|   A|   A|   B|   A|   A|   C|   A|   A|   B|\n",
            "+------------+------+---------------+-------+---------------+-----------+----------------+---------------+---------------+---------+---------+------------+----------------+-------------------+---------+---------+----------------------+------------------+---------------+------------------+-------------------+-----------+-----------+--------------+--------------+--------------+--------------+-----------+-----------+-----------+-----------+----------+----------+----------+----------+--------------------+--------------------+--------------------+--------------------+---------+--------------------+--------------------+--------------------+--------------------+-----------------+-------------+-------------+-------------+-------------+-------------+---------------+----+----+----+----+----+----+----+----+----+----+----+----+----+----+----+----+----+----+----+----+----+----+----+----+----+\n",
            "only showing top 20 rows\n",
            "\n"
          ]
        }
      ]
    },
    {
      "cell_type": "code",
      "source": [
        "enem_2020 =enem_2020.where(\n",
        "    \"TP_FAIXA_ETARIA <= 10 and TP_PRESENCA_CN like '1' and TP_PRESENCA_CH like '1' and TP_PRESENCA_LC like '1' and TP_PRESENCA_MT like '1' and TP_ST_CONCLUSAO like '2' or TP_ST_CONCLUSAO like '3'\"\n",
        ")"
      ],
      "metadata": {
        "id": "N6C-kELMB7IW"
      },
      "execution_count": 161,
      "outputs": []
    },
    {
      "cell_type": "code",
      "source": [
        "# Removendo notas nulas:\n",
        "enem_2020.dropna(how='any',subset=[\"NU_NOTA_CN\",\n",
        "                                   \"NU_NOTA_CH\",\n",
        "                                   \"NU_NOTA_LC\",\n",
        "                                   \"NU_NOTA_MT\",\n",
        "                                   \"NU_NOTA_REDACAO\"]).show()"
      ],
      "metadata": {
        "colab": {
          "base_uri": "https://localhost:8080/"
        },
        "id": "PYELIbxhBmof",
        "outputId": "e3e3ffe2-a333-4e82-e1d0-ccb6532cb4f5"
      },
      "execution_count": 162,
      "outputs": [
        {
          "output_type": "stream",
          "name": "stdout",
          "text": [
            "+------------+------+---------------+-------+---------------+-----------+----------------+---------------+---------------+---------+---------+------------+----------------+-------------------+---------+---------+----------------------+------------------+---------------+------------------+-------------------+-----------+-----------+--------------+--------------+--------------+--------------+-----------+-----------+-----------+-----------+----------+----------+----------+----------+--------------------+--------------------+--------------------+--------------------+---------+--------------------+--------------------+--------------------+--------------------+-----------------+-------------+-------------+-------------+-------------+-------------+---------------+----+----+----+----+----+----+----+----+----+----+----+----+----+----+----+----+----+----+----+----+----+----+----+----+----+\n",
            "|NU_INSCRICAO|NU_ANO|TP_FAIXA_ETARIA|TP_SEXO|TP_ESTADO_CIVIL|TP_COR_RACA|TP_NACIONALIDADE|TP_ST_CONCLUSAO|TP_ANO_CONCLUIU|TP_ESCOLA|TP_ENSINO|IN_TREINEIRO|CO_MUNICIPIO_ESC|   NO_MUNICIPIO_ESC|CO_UF_ESC|SG_UF_ESC|TP_DEPENDENCIA_ADM_ESC|TP_LOCALIZACAO_ESC|TP_SIT_FUNC_ESC|CO_MUNICIPIO_PROVA| NO_MUNICIPIO_PROVA|CO_UF_PROVA|SG_UF_PROVA|TP_PRESENCA_CN|TP_PRESENCA_CH|TP_PRESENCA_LC|TP_PRESENCA_MT|CO_PROVA_CN|CO_PROVA_CH|CO_PROVA_LC|CO_PROVA_MT|NU_NOTA_CN|NU_NOTA_CH|NU_NOTA_LC|NU_NOTA_MT|     TX_RESPOSTAS_CN|     TX_RESPOSTAS_CH|     TX_RESPOSTAS_LC|     TX_RESPOSTAS_MT|TP_LINGUA|      TX_GABARITO_CN|      TX_GABARITO_CH|      TX_GABARITO_LC|      TX_GABARITO_MT|TP_STATUS_REDACAO|NU_NOTA_COMP1|NU_NOTA_COMP2|NU_NOTA_COMP3|NU_NOTA_COMP4|NU_NOTA_COMP5|NU_NOTA_REDACAO|Q001|Q002|Q003|Q004|Q005|Q006|Q007|Q008|Q009|Q010|Q011|Q012|Q013|Q014|Q015|Q016|Q017|Q018|Q019|Q020|Q021|Q022|Q023|Q024|Q025|\n",
            "+------------+------+---------------+-------+---------------+-----------+----------------+---------------+---------------+---------+---------+------------+----------------+-------------------+---------+---------+----------------------+------------------+---------------+------------------+-------------------+-----------+-----------+--------------+--------------+--------------+--------------+-----------+-----------+-----------+-----------+----------+----------+----------+----------+--------------------+--------------------+--------------------+--------------------+---------+--------------------+--------------------+--------------------+--------------------+-----------------+-------------+-------------+-------------+-------------+-------------+---------------+----+----+----+----+----+----+----+----+----+----+----+----+----+----+----+----+----+----+----+----+----+----+----+----+----+\n",
            "|200001908998|  2020|              2|      M|              1|          3|               1|              2|              0|        2|        1|           0|         3547304|Santana de Parna�ba|       35|       SP|                     3|                 1|              1|           3547304|Santana de Parna�ba|         35|         SP|             1|             1|             1|             1|        700|        688|        692|        696|     620.8|     675.0|     624.2|     759.4|EBEDCCCDCBDBAECAE...|DABCCACCBCCDCADBD...|DCEAB99999AADAECC...|CBDBDCCDDEECBAABB...|        0|BDECCACBEBDEAEDAE...|DABCCAECBABECADBD...|DCEAD99999AADACCC...|EBDBXCCDAEECBAABA...|                1|          140|          200|          140|          120|          160|            760|NULL|NULL|NULL|NULL|NULL|NULL|NULL|NULL|NULL|NULL|NULL|NULL|NULL|NULL|NULL|NULL|NULL|NULL|NULL|NULL|NULL|NULL|NULL|NULL|NULL|\n",
            "|200003209996|  2020|              3|      F|              1|          3|               1|              2|              0|        2|        1|           0|         1302009|         Itapiranga|       13|       AM|                     2|                 1|              1|           1304005|             Silves|         13|         AM|             1|             1|             1|             1|        677|        649|        660|        667|     486.9|     509.7|     532.3|     433.9|DDAAADBCBAADDDBDC...|CBEEDBEBBEDBCDCDC...|99999DDADDDDEBBCA...|CBEEDDABDCBDDAACA...|        1|DBDACXDBEAAADECEC...|CDEEAEDCDEDCDDBDB...|EEABEEDADDDDCEBEB...|CDBEAAECBADABCCAE...|                1|          120|          120|          120|          140|          120|            620|   E|   E|   A|   A|   4|   B|   A|   B|   C|   A|   B|   B|   A|   A|   A|   A|   A|   A|   B|   A|   B|   D|   B|   A|   A|\n",
            "|200005867610|  2020|              2|      F|              0|          0|               1|              3|              0|        1|     NULL|           1|            NULL|               NULL|     NULL|     NULL|                  NULL|              NULL|           NULL|           2805703|            Propri�|         28|         SE|             1|             1|             1|             1|        600|        570|        579|        589|     503.4|     448.4|     432.7|     397.0|ABEECEBBEDAEBBAAD...|ACDECBCBACDEDDADB...|DACEC99999DACACED...|CDCEBEABCEBCEDBDD...|        0|DCDXDCCAEBADCBAAE...|BDDBECECBACDBDEEB...|AACDEEEECADBBCAAA...|BAECDBBXCCCBDBACC...|                1|          100|          120|          120|          100|           60|            500|   B|   D|   B|   B|   3|   B|   A|   B|   B|   A|   A|   A|   A|   A|   A|   A|   A|   A|   A|   A|   A|   B|   A|   A|   A|\n",
            "|200001141912|  2020|              2|      M|              3|          3|               1|              2|              0|        2|        1|           0|            NULL|               NULL|     NULL|     NULL|                  NULL|              NULL|           NULL|           3550308|          S�o Paulo|         35|         SP|             1|             1|             1|             1|        597|        569|        580|        587|     439.6|     395.6|     505.7|     339.2|DDDCAAEBBCACACCCC...|ADABADCCAECACEBAC...|ACCEA99999BACABDA...|CECDACBDADBACBDAE...|        0|DDBACBDDDECDAEDCC...|DECCADEBDECBBECDD...|DCEAAEEEACAACBBEB...|DABCCAEDBBCCCABCA...|                1|           60|           40|           40|          100|           40|            280|   D|   E|   C|   B|   4|   C|   A|   B|   C|   B|   A|   B|   B|   B|   A|   B|   A|   A|   C|   A|   A|   D|   A|   A|   B|\n",
            "|200002437786|  2020|              3|      F|              1|          3|               1|              2|              0|        2|        1|           0|            NULL|               NULL|     NULL|     NULL|                  NULL|              NULL|           NULL|           3154606| Ribeir�o das Neves|         31|         MG|             1|             1|             1|             1|        598|        567|        577|        588|     482.8|     384.4|     514.6|     536.4|EAEECBAABCABDCDBA...|ACCEAEAECEBDABEAA...|CAECB99999AEEBECD...|DABDACBCABCCEACCC...|        0|CEDBDDDCACCBDAEBA...|DABCBDDDAEDBECECB...|AAEDCACEEECEAACBA...|AEBCCXCCCACCDABCC...|                1|          160|          200|          180|          200|          200|            940|   E|   E|   C|   B|   4|   B|   A|   B|   C|   A|   A|   B|   A|   A|   A|   A|   A|   A|   B|   A|   A|   C|   A|   B|   B|\n",
            "|200003350911|  2020|              3|      F|              1|          3|               1|              2|              0|        2|        1|           0|         2207009|             Oeiras|       22|       PI|                     1|                 1|              1|           2207009|             Oeiras|         22|         PI|             1|             1|             1|             1|        598|        567|        577|        588|     516.8|     565.7|     567.7|     384.2|DAEEADCEECBDABEDD...|EBCABBDDADDACCECA...|DAECC99999AADBDBC...|DBADABDECBDDAADBC...|        0|CEDBDDDCACCBDAEBA...|DABCBDDDAEDBECECB...|AAEDCACEEECEAACBA...|AEBCCXCCCACCDABCC...|                1|          140|          180|          160|          200|          200|            880|   A|   C|   A|   A|   3|   B|   A|   B|   C|   A|   B|   B|   A|   A|   A|   A|   A|   A|   A|   A|   A|   C|   A|   A|   A|\n",
            "|200004884707|  2020|              3|      M|              1|          3|               1|              2|              0|        2|        1|           0|            NULL|               NULL|     NULL|     NULL|                  NULL|              NULL|           NULL|           2604106|            Caruaru|         26|         PE|             1|             1|             1|             1|        600|        570|        579|        589|     425.4|     568.0|     585.5|     615.1|ABBABCBDECCEBAEBB...|BADAEEECADEAAEEAC...|AABAD99999DBACDCB...|BDBCBBBDAEBEABDCA...|        0|DCDXDCCAEBADCBAAE...|BDDBECECBACDBDEEB...|AACDEEEECADBBCAAA...|BAECDBBXCCCBDBACC...|                1|          180|          180|          140|          180|          200|            880|   D|   C|   A|   A|   4|   B|   A|   B|   B|   A|   A|   A|   A|   A|   A|   A|   A|   A|   B|   A|   A|   A|   A|   A|   A|\n",
            "|200005725669|  2020|              2|      F|              1|          3|               1|              2|              0|        2|        1|           0|         5108402|      V�rzea Grande|       51|       MT|                     2|                 1|              1|           5108402|      V�rzea Grande|         51|         MT|             1|             1|             1|             1|        598|        567|        577|        588|     467.5|     518.8|     541.0|     404.6|EACBDACEAEACEBEDA...|DABDBECEADAAECBDA...|99999ACECEAACECEE...|ABEDDABDACBAEACDC...|        1|CEDBDDDCACCBDAEBA...|DABCBDDDAEDBECECB...|AAEDCACEEECEAACBA...|AEBCCXCCCACCDABCC...|                1|          100|          120|          120|          140|          120|            600|   C|   E|   C|   B|   6|   B|   B|   C|   C|   A|   B|   B|   B|   B|   A|   A|   A|   A|   B|   A|   B|   E|   A|   A|   A|\n",
            "|200004043002|  2020|              3|      M|              1|          2|               1|              2|              0|        3|        1|           0|            NULL|               NULL|     NULL|     NULL|                  NULL|              NULL|           NULL|           3550308|          S�o Paulo|         35|         SP|             1|             1|             1|             1|        597|        569|        580|        587|     530.9|     631.1|     601.8|     634.6|DCCBDEBBCDDDBDCED...|AEAAACECDACBCECDD...|ACDAA99999ABECBDB...|AADCCCEDADBCCEDCC...|        0|DDBACBDDDECDAEDCC...|DECCADEBDECBBECDD...|DCEAAEEEACAACBBEB...|DABCCAEDBBCCCABCA...|                1|          120|          120|          160|          140|          160|            700|   F|   E|   F|   F|   3|   D|   A|   C|   D|   A|   A|   B|   B|   B|   A|   B|   A|   A|   B|   A|   A|   D|   B|   A|   B|\n",
            "|200004462096|  2020|              2|      F|              1|          1|               1|              2|              0|        2|        1|           0|         3513603|              Cunha|       35|       SP|                     2|                 1|              1|           3518404|      Guaratinguet�|         35|         SP|             1|             1|             1|             1|        598|        567|        577|        588|     578.4|     681.1|     638.2|     669.8|CAABECCCBCDBEDECE...|DDCCBDEDADDACCECA...|99999ACEEEABDBCBB...|ABCBDBCEADCBAACCB...|        1|CEDBDDDCACCBDAEBA...|DABCBDDDAEDBECECB...|AAEDCACEEECEAACBA...|AEBCCXCCCACCDABCC...|                1|          160|          120|          180|          180|          180|            820|   B|   C|   C|   A|   3|   C|   A|   B|   B|   B|   B|   B|   B|   B|   A|   B|   A|   A|   B|   B|   A|   C|   A|   B|   B|\n",
            "|200006077840|  2020|              3|      F|              1|          3|               1|              3|              0|        1|     NULL|           1|            NULL|               NULL|     NULL|     NULL|                  NULL|              NULL|           NULL|           4303509|            Camaqu�|         43|         RS|             1|             1|             1|             1|        598|        567|        577|        588|     447.3|     565.0|     557.3|     359.4|CAEBCCEDBCBDEDCCD...|BDAABDDBAA.BCEEEB...|DEDBC99999CCAB*BB...|DBACDBCEAEBBBBCBB...|        0|CEDBDDDCACCBDAEBA...|DABCBDDDAEDBECECB...|AAEDCACEEECEAACBA...|AEBCCXCCCACCDABCC...|                1|          140|          120|          120|          100|          120|            600|   E|   D|   D|   D|   3|   D|   A|   B|   C|   B|   A|   B|   B|   A|   B|   B|   A|   A|   B|   A|   A|   C|   B|   B|   B|\n",
            "|200002727241|  2020|              4|      M|              1|          2|               1|              2|              0|        2|        1|           0|         3302007|            Itagua�|       33|       RJ|                     1|                 1|              1|           3302007|            Itagua�|         33|         RJ|             1|             1|             1|             1|        597|        569|        580|        587|     606.3|     659.8|     607.1|     743.0|DDBACEDBDECEAEBDB...|DECAABEBDECBAECDD...|ECDAA99999DABCBEB...|BADCEBEDABCCCABED...|        0|DDBACBDDDECDAEDCC...|DECCADEBDECBBECDD...|DCEAAEEEACAACBBEB...|DABCCAEDBBCCCABCA...|                1|          160|          200|          160|          200|          200|            920|   E|   E|   C|   C|   4|   F|   A|   B|   C|   B|   A|   B|   B|   B|   B|   B|   A|   B|   C|   B|   B|   D|   A|   C|   B|\n",
            "|200004954618|  2020|              2|      M|              1|          3|               1|              2|              0|        2|        1|           0|            NULL|               NULL|     NULL|     NULL|                  NULL|              NULL|           NULL|           2929255|        S�o Gabriel|         29|         BA|             1|             1|             1|             1|        599|        568|        578|        590|     477.7|     589.8|     536.7|     516.7|AAECAADAAECDCECBE...|ABCCACCBEDAABBDCC...|DCDED99999AEBDEED...|BEEACBDCCECAAABEB...|        0|CBDDDDCAAECEDDCED...|BDECBCCDEDDAEBDCD...|CDEAACAEEEBEBADAD...|CABCAACCACDABEEEB...|                1|          120|          120|          120|          140|          120|            620|   C|   E|   C|   B|   2|   B|   A|   B|   C|   A|   A|   B|   B|   A|   A|   A|   A|   A|   B|   A|   A|   C|   A|   B|   B|\n",
            "|200002347958|  2020|              1|      M|              1|          3|               1|              3|              0|        1|     NULL|           1|            NULL|               NULL|     NULL|     NULL|                  NULL|              NULL|           NULL|           5208707|            Goi�nia|         52|         GO|             1|             1|             1|             1|        598|        567|        577|        588|     484.1|     699.2|     638.1|     671.5|CACECCDABCEDECEED...|DABCBDDCADDCEEECB...|AADDE99999CECACEA...|AEBAEECCADCACABCB...|        0|CEDBDDDCACCBDAEBA...|DABCBDDDAEDBECECB...|AAEDCACEEECEAACBA...|AEBCCXCCCACCDABCC...|                1|          120|          140|          140|          160|          120|            680|   E|   E|   D|   B|   5|   B|   A|   C|   D|   B|   B|   B|   A|   B|   A|   B|   A|   A|   B|   A|   A|   E|   A|   D|   B|\n",
            "|200004311829|  2020|              3|      F|              1|          2|               1|              2|              0|        2|        1|           0|            NULL|               NULL|     NULL|     NULL|                  NULL|              NULL|           NULL|           3128006|           Guanh�es|         31|         MG|             1|             1|             1|             1|        600|        570|        579|        589|     411.0|     415.5|     491.7|     491.1|DACDCDBDACEBECDCA...|BADCBCEAEDDBABDAB...|99999ACEDBDBABCBD...|BBDEBDCEAEBEDEACD...|        1|DCDXDCCAEBADCBAAE...|BDDBECECBACDBDEEB...|AACDEEEECADBBCAAA...|BAECDBBXCCCBDBACC...|                1|          140|          160|          160|          140|          120|            720|   D|   B|   C|   B|   3|   B|   A|   B|   C|   A|   A|   B|   A|   B|   A|   A|   A|   A|   B|   A|   A|   D|   A|   A|   A|\n",
            "|200002597919|  2020|              3|      M|              1|          3|               1|              2|              0|        2|        1|           0|            NULL|               NULL|     NULL|     NULL|                  NULL|              NULL|           NULL|           1502400|          Castanhal|         15|         PA|             1|             1|             1|             1|        599|        568|        578|        590|     555.8|     525.5|     493.4|     354.4|ABDDDACABACCBDDEC...|EADCDAEDEEAAABACB...|99999DCEDAAABAECD...|BCBEDDDAEBBBCBBDD...|        1|CBDDDDCAAECEDDCED...|BDECBCCDEDDAEBDCD...|CDEAACAEEEBEBADAD...|CABCAACCACDABEEEB...|                1|          120|          120|          100|          120|           40|            500|   A|   A|   A|   A|   4|   B|   A|   B|   C|   A|   A|   B|   A|   A|   A|   A|   A|   A|   B|   A|   A|   C|   A|   A|   A|\n",
            "|200001051933|  2020|              1|      F|              1|          3|               1|              3|              0|        1|     NULL|           1|            NULL|               NULL|     NULL|     NULL|                  NULL|              NULL|           NULL|           2100055|         A�ail�ndia|         21|         MA|             1|             1|             1|             1|        599|        568|        578|        590|     443.9|     474.4|     445.2|     443.9|CEBDECCDCDBECACAE...|ACDCAAAEEDAAADDEA...|ACDEC99999AECDEAD...|DBAAECBABBAACDAAB...|        0|CBDDDDCAAECEDDCED...|BDECBCCDEDDAEBDCD...|CDEAACAEEEBEBADAD...|CABCAACCACDABEEEB...|                1|          120|           40|           40|          120|           60|            380|   E|   E|   A|   A|   4|   B|   A|   B|   C|   A|   A|   B|   A|   A|   A|   A|   A|   A|   B|   A|   A|   B|   A|   A|   A|\n",
            "|200005503430|  2020|              2|      F|              1|          3|               1|              2|              0|        2|        1|           0|            NULL|               NULL|     NULL|     NULL|                  NULL|              NULL|           NULL|           2800308|            Aracaju|         28|         SE|             1|             1|             1|             1|        600|        570|        579|        589|     441.0|     376.3|     481.5|     408.5|DBEABABCCADCEEDBE...|BECAACCABDDBDAADE...|99999BAAEDDDABBCA...|BCBAEACAAEAAEADEB...|        1|DCDXDCCAEBADCBAAE...|BDDBECECBACDBDEEB...|AACDEEEECADBBCAAA...|BAECDBBXCCCBDBACC...|                1|          120|           40|           40|          120|           40|            360|   E|   E|   B|   B|   4|   B|   A|   B|   C|   A|   A|   B|   A|   A|   A|   A|   A|   A|   B|   A|   A|   C|   A|   A|   B|\n",
            "|200004401981|  2020|              4|      F|              1|          2|               1|              2|              0|        2|        1|           0|            NULL|               NULL|     NULL|     NULL|                  NULL|              NULL|           NULL|           2202901|           Corrente|         22|         PI|             1|             1|             1|             1|        597|        569|        580|        587|     454.6|     575.4|     606.3|     493.9|ECDBBDCCBDDEBDDCE...|BEDDACDBCECAEBCDD...|DCDAA99999CBDBBEA...|BACCCEADABCBDBDEB...|        0|DDBACBDDDECDAEDCC...|DECCADEBDECBBECDD...|DCEAAEEEACAACBBEB...|DABCCAEDBBCCCABCA...|                1|          120|          120|          120|          120|          120|            600|   B|   D|   B|   B|   4|   B|   D|   B|   C|   A|   B|   B|   A|   A|   A|   A|   A|   A|   B|   B|   A|   E|   A|   A|   B|\n",
            "|200005300966|  2020|              4|      M|              1|          2|               1|              2|              0|        2|        1|           0|         2202000|   Buriti dos Lopes|       22|       PI|                     2|                 1|              1|           2202000|   Buriti dos Lopes|         22|         PI|             1|             1|             1|             1|        600|        570|        579|        589|     422.7|     456.0|     521.9|     373.0|AADACEBECDAEBAEEE...|BBDAEBEDADDBAACEB...|99999EEEDADBDCBAB...|BBAECDDEBDAAEBBEE...|        1|DCDXDCCAEBADCBAAE...|BDDBECECBACDBDEEB...|AACDEEEECADBBCAAA...|BAECDBBXCCCBDBACC...|                1|          100|           40|           40|          120|           40|            340|   B|   B|   A|   B|   5|   B|   B|   B|   B|   A|   A|   B|   A|   A|   A|   A|   A|   A|   A|   A|   A|   B|   A|   A|   A|\n",
            "+------------+------+---------------+-------+---------------+-----------+----------------+---------------+---------------+---------+---------+------------+----------------+-------------------+---------+---------+----------------------+------------------+---------------+------------------+-------------------+-----------+-----------+--------------+--------------+--------------+--------------+-----------+-----------+-----------+-----------+----------+----------+----------+----------+--------------------+--------------------+--------------------+--------------------+---------+--------------------+--------------------+--------------------+--------------------+-----------------+-------------+-------------+-------------+-------------+-------------+---------------+----+----+----+----+----+----+----+----+----+----+----+----+----+----+----+----+----+----+----+----+----+----+----+----+----+\n",
            "only showing top 20 rows\n",
            "\n"
          ]
        }
      ]
    },
    {
      "cell_type": "code",
      "source": [
        "# Removendo notas nulas:\n",
        "enem_2020= enem_2020.dropna(how='any',subset=[\"NU_NOTA_CN\",\n",
        "                                   \"NU_NOTA_CH\",\n",
        "                                   \"NU_NOTA_LC\",\n",
        "                                   \"NU_NOTA_MT\",\n",
        "                                   \"NU_NOTA_REDACAO\"])"
      ],
      "metadata": {
        "id": "EoJ5L08xCspW"
      },
      "execution_count": 163,
      "outputs": []
    },
    {
      "cell_type": "code",
      "source": [
        "# Validando a alteração: verificando se existem valores nulos nas colunas especificadas\n",
        "enem_2020.filter((enem_2020[\"NU_NOTA_CN\"].isNull()) |\n",
        "                 (enem_2020[\"NU_NOTA_CH\"].isNull()) |\n",
        "                 (enem_2020[\"NU_NOTA_LC\"].isNull()) |\n",
        "                 (enem_2020[\"NU_NOTA_MT\"].isNull()) |\n",
        "                 (enem_2020[\"NU_NOTA_REDACAO\"].isNull())).show()"
      ],
      "metadata": {
        "colab": {
          "base_uri": "https://localhost:8080/"
        },
        "id": "X-fykFaACxMT",
        "outputId": "7897a815-3418-494b-ade3-5aad475378cc"
      },
      "execution_count": 164,
      "outputs": [
        {
          "output_type": "stream",
          "name": "stdout",
          "text": [
            "+------------+------+---------------+-------+---------------+-----------+----------------+---------------+---------------+---------+---------+------------+----------------+----------------+---------+---------+----------------------+------------------+---------------+------------------+------------------+-----------+-----------+--------------+--------------+--------------+--------------+-----------+-----------+-----------+-----------+----------+----------+----------+----------+---------------+---------------+---------------+---------------+---------+--------------+--------------+--------------+--------------+-----------------+-------------+-------------+-------------+-------------+-------------+---------------+----+----+----+----+----+----+----+----+----+----+----+----+----+----+----+----+----+----+----+----+----+----+----+----+----+\n",
            "|NU_INSCRICAO|NU_ANO|TP_FAIXA_ETARIA|TP_SEXO|TP_ESTADO_CIVIL|TP_COR_RACA|TP_NACIONALIDADE|TP_ST_CONCLUSAO|TP_ANO_CONCLUIU|TP_ESCOLA|TP_ENSINO|IN_TREINEIRO|CO_MUNICIPIO_ESC|NO_MUNICIPIO_ESC|CO_UF_ESC|SG_UF_ESC|TP_DEPENDENCIA_ADM_ESC|TP_LOCALIZACAO_ESC|TP_SIT_FUNC_ESC|CO_MUNICIPIO_PROVA|NO_MUNICIPIO_PROVA|CO_UF_PROVA|SG_UF_PROVA|TP_PRESENCA_CN|TP_PRESENCA_CH|TP_PRESENCA_LC|TP_PRESENCA_MT|CO_PROVA_CN|CO_PROVA_CH|CO_PROVA_LC|CO_PROVA_MT|NU_NOTA_CN|NU_NOTA_CH|NU_NOTA_LC|NU_NOTA_MT|TX_RESPOSTAS_CN|TX_RESPOSTAS_CH|TX_RESPOSTAS_LC|TX_RESPOSTAS_MT|TP_LINGUA|TX_GABARITO_CN|TX_GABARITO_CH|TX_GABARITO_LC|TX_GABARITO_MT|TP_STATUS_REDACAO|NU_NOTA_COMP1|NU_NOTA_COMP2|NU_NOTA_COMP3|NU_NOTA_COMP4|NU_NOTA_COMP5|NU_NOTA_REDACAO|Q001|Q002|Q003|Q004|Q005|Q006|Q007|Q008|Q009|Q010|Q011|Q012|Q013|Q014|Q015|Q016|Q017|Q018|Q019|Q020|Q021|Q022|Q023|Q024|Q025|\n",
            "+------------+------+---------------+-------+---------------+-----------+----------------+---------------+---------------+---------+---------+------------+----------------+----------------+---------+---------+----------------------+------------------+---------------+------------------+------------------+-----------+-----------+--------------+--------------+--------------+--------------+-----------+-----------+-----------+-----------+----------+----------+----------+----------+---------------+---------------+---------------+---------------+---------+--------------+--------------+--------------+--------------+-----------------+-------------+-------------+-------------+-------------+-------------+---------------+----+----+----+----+----+----+----+----+----+----+----+----+----+----+----+----+----+----+----+----+----+----+----+----+----+\n",
            "+------------+------+---------------+-------+---------------+-----------+----------------+---------------+---------------+---------+---------+------------+----------------+----------------+---------+---------+----------------------+------------------+---------------+------------------+------------------+-----------+-----------+--------------+--------------+--------------+--------------+-----------+-----------+-----------+-----------+----------+----------+----------+----------+---------------+---------------+---------------+---------------+---------+--------------+--------------+--------------+--------------+-----------------+-------------+-------------+-------------+-------------+-------------+---------------+----+----+----+----+----+----+----+----+----+----+----+----+----+----+----+----+----+----+----+----+----+----+----+----+----+\n",
            "\n"
          ]
        }
      ]
    },
    {
      "cell_type": "code",
      "source": [
        "# Filtrando colunas que não interessam para esta analise:\n",
        "enem_2020.drop(\"TP_ANO_CONCLUIU\",\n",
        "               \"TP_ST_CONCLUSAO\",\n",
        "               \"CO_MUNICIPIO_ESC\",\n",
        "               \"CO_UF_ESC\",\n",
        "               \"CO_MUNICIPIO_PROVA\",\n",
        "               \"NO_MUNICIPIO_ESC\",\n",
        "               \"TP_SIT_FUNC_ESC\",\n",
        "               \"TP_ENSINO\",\n",
        "               \"TX_RESPOSTAS_CN\",\n",
        "               \"TX_RESPOSTAS_CH\",\n",
        "               \"TX_RESPOSTAS_LC\",\n",
        "               \"TX_RESPOSTAS_MT\",\n",
        "               \"TP_LINGUA\",\n",
        "               \"TX_GABARITO_CN\",\n",
        "               \"TX_GABARITO_CH\",\n",
        "               \"TX_GABARITO_LC\",\n",
        "               \"TX_GABARITO_MT\",\n",
        "               \"TP_STATUS_REDACAO\",\n",
        "               \"NU_NOTA_COMP1\",\n",
        "               \"NU_NOTA_COMP2\",\n",
        "               \"NU_NOTA_COMP3\",\n",
        "               \"NU_NOTA_COMP4\",\n",
        "               \"NU_NOTA_COMP5\",\n",
        "               \"CO_UF_PROVA\",\n",
        "               \"SG_UF_PROVA\",\n",
        "               \"TP_PRESENCA_CN\",\n",
        "               \"TP_PRESENCA_CH\",\n",
        "               \"TP_PRESENCA_LC\",\n",
        "               \"TP_PRESENCA_MT\",\n",
        "               \"CO_PROVA_CN\",\n",
        "               \"CO_PROVA_CH\",\n",
        "               \"CO_PROVA_LC\",\n",
        "               \"CO_PROVA_MT\",\n",
        "               \"Q001\",\n",
        "               \"Q002\",\n",
        "               \"Q003\",\n",
        "               \"Q004\",\n",
        "               \"Q005\",\n",
        "               \"Q006\",\n",
        "               \"Q007\",\n",
        "               \"Q008\",\n",
        "               \"Q009\",\n",
        "               \"Q010\",\n",
        "               \"Q011\",\n",
        "               \"Q012\",\n",
        "               \"Q013\",\n",
        "               \"Q014\",\n",
        "               \"Q015\",\n",
        "               \"Q016\",\n",
        "               \"Q017\",\n",
        "               \"Q018\",\n",
        "               \"Q019\",\n",
        "               \"Q020\",\n",
        "               \"Q021\",\n",
        "               \"Q022\",\n",
        "               \"Q023\",\n",
        "               \"Q024\",\n",
        "               \"Q025\").show()"
      ],
      "metadata": {
        "colab": {
          "base_uri": "https://localhost:8080/"
        },
        "id": "KPYT9Oj2C8xZ",
        "outputId": "de18b5a2-913f-4ca3-9817-6af24c9558e1"
      },
      "execution_count": 165,
      "outputs": [
        {
          "output_type": "stream",
          "name": "stdout",
          "text": [
            "+------------+------+---------------+-------+---------------+-----------+----------------+---------+------------+---------+----------------------+------------------+-------------------+----------+----------+----------+----------+---------------+\n",
            "|NU_INSCRICAO|NU_ANO|TP_FAIXA_ETARIA|TP_SEXO|TP_ESTADO_CIVIL|TP_COR_RACA|TP_NACIONALIDADE|TP_ESCOLA|IN_TREINEIRO|SG_UF_ESC|TP_DEPENDENCIA_ADM_ESC|TP_LOCALIZACAO_ESC| NO_MUNICIPIO_PROVA|NU_NOTA_CN|NU_NOTA_CH|NU_NOTA_LC|NU_NOTA_MT|NU_NOTA_REDACAO|\n",
            "+------------+------+---------------+-------+---------------+-----------+----------------+---------+------------+---------+----------------------+------------------+-------------------+----------+----------+----------+----------+---------------+\n",
            "|200001908998|  2020|              2|      M|              1|          3|               1|        2|           0|       SP|                     3|                 1|Santana de Parna�ba|     620.8|     675.0|     624.2|     759.4|            760|\n",
            "|200003209996|  2020|              3|      F|              1|          3|               1|        2|           0|       AM|                     2|                 1|             Silves|     486.9|     509.7|     532.3|     433.9|            620|\n",
            "|200005867610|  2020|              2|      F|              0|          0|               1|        1|           1|     NULL|                  NULL|              NULL|            Propri�|     503.4|     448.4|     432.7|     397.0|            500|\n",
            "|200001141912|  2020|              2|      M|              3|          3|               1|        2|           0|     NULL|                  NULL|              NULL|          S�o Paulo|     439.6|     395.6|     505.7|     339.2|            280|\n",
            "|200002437786|  2020|              3|      F|              1|          3|               1|        2|           0|     NULL|                  NULL|              NULL| Ribeir�o das Neves|     482.8|     384.4|     514.6|     536.4|            940|\n",
            "|200003350911|  2020|              3|      F|              1|          3|               1|        2|           0|       PI|                     1|                 1|             Oeiras|     516.8|     565.7|     567.7|     384.2|            880|\n",
            "|200004884707|  2020|              3|      M|              1|          3|               1|        2|           0|     NULL|                  NULL|              NULL|            Caruaru|     425.4|     568.0|     585.5|     615.1|            880|\n",
            "|200005725669|  2020|              2|      F|              1|          3|               1|        2|           0|       MT|                     2|                 1|      V�rzea Grande|     467.5|     518.8|     541.0|     404.6|            600|\n",
            "|200004043002|  2020|              3|      M|              1|          2|               1|        3|           0|     NULL|                  NULL|              NULL|          S�o Paulo|     530.9|     631.1|     601.8|     634.6|            700|\n",
            "|200004462096|  2020|              2|      F|              1|          1|               1|        2|           0|       SP|                     2|                 1|      Guaratinguet�|     578.4|     681.1|     638.2|     669.8|            820|\n",
            "|200006077840|  2020|              3|      F|              1|          3|               1|        1|           1|     NULL|                  NULL|              NULL|            Camaqu�|     447.3|     565.0|     557.3|     359.4|            600|\n",
            "|200002727241|  2020|              4|      M|              1|          2|               1|        2|           0|       RJ|                     1|                 1|            Itagua�|     606.3|     659.8|     607.1|     743.0|            920|\n",
            "|200004954618|  2020|              2|      M|              1|          3|               1|        2|           0|     NULL|                  NULL|              NULL|        S�o Gabriel|     477.7|     589.8|     536.7|     516.7|            620|\n",
            "|200002347958|  2020|              1|      M|              1|          3|               1|        1|           1|     NULL|                  NULL|              NULL|            Goi�nia|     484.1|     699.2|     638.1|     671.5|            680|\n",
            "|200004311829|  2020|              3|      F|              1|          2|               1|        2|           0|     NULL|                  NULL|              NULL|           Guanh�es|     411.0|     415.5|     491.7|     491.1|            720|\n",
            "|200002597919|  2020|              3|      M|              1|          3|               1|        2|           0|     NULL|                  NULL|              NULL|          Castanhal|     555.8|     525.5|     493.4|     354.4|            500|\n",
            "|200001051933|  2020|              1|      F|              1|          3|               1|        1|           1|     NULL|                  NULL|              NULL|         A�ail�ndia|     443.9|     474.4|     445.2|     443.9|            380|\n",
            "|200005503430|  2020|              2|      F|              1|          3|               1|        2|           0|     NULL|                  NULL|              NULL|            Aracaju|     441.0|     376.3|     481.5|     408.5|            360|\n",
            "|200004401981|  2020|              4|      F|              1|          2|               1|        2|           0|     NULL|                  NULL|              NULL|           Corrente|     454.6|     575.4|     606.3|     493.9|            600|\n",
            "|200005300966|  2020|              4|      M|              1|          2|               1|        2|           0|       PI|                     2|                 1|   Buriti dos Lopes|     422.7|     456.0|     521.9|     373.0|            340|\n",
            "+------------+------+---------------+-------+---------------+-----------+----------------+---------+------------+---------+----------------------+------------------+-------------------+----------+----------+----------+----------+---------------+\n",
            "only showing top 20 rows\n",
            "\n"
          ]
        }
      ]
    },
    {
      "cell_type": "code",
      "source": [
        "enem_2020 = enem_2020.drop(\n",
        "               \"TP_ANO_CONCLUIU\",\n",
        "               \"TP_ESTADO_CIVIL\",\n",
        "               \"TP_ST_CONCLUSAO\",\n",
        "               \"CO_MUNICIPIO_ESC\",\n",
        "               \"CO_UF_ESC\",\n",
        "               \"CO_MUNICIPIO_PROVA\",\n",
        "               \"NO_MUNICIPIO_ESC\",\n",
        "               \"TP_SIT_FUNC_ESC\",\n",
        "               \"TP_ENSINO\",\n",
        "               \"TX_RESPOSTAS_CN\",\n",
        "               \"TX_RESPOSTAS_CH\",\n",
        "               \"TX_RESPOSTAS_LC\",\n",
        "               \"TX_RESPOSTAS_MT\",\n",
        "               \"TP_LINGUA\",\n",
        "               \"TX_GABARITO_CN\",\n",
        "               \"TX_GABARITO_CH\",\n",
        "               \"TX_GABARITO_LC\",\n",
        "               \"TX_GABARITO_MT\",\n",
        "               \"TP_STATUS_REDACAO\",\n",
        "               \"NU_NOTA_COMP1\",\n",
        "               \"NU_NOTA_COMP2\",\n",
        "               \"NU_NOTA_COMP3\",\n",
        "               \"NU_NOTA_COMP4\",\n",
        "               \"NU_NOTA_COMP5\",\n",
        "               \"CO_UF_PROVA\",\n",
        "               \"SG_UF_PROVA\",\n",
        "               \"TP_PRESENCA_CN\",\n",
        "               \"TP_PRESENCA_CH\",\n",
        "               \"TP_PRESENCA_LC\",\n",
        "               \"TP_PRESENCA_MT\",\n",
        "               \"CO_PROVA_CN\",\n",
        "               \"CO_PROVA_CH\",\n",
        "               \"CO_PROVA_LC\",\n",
        "               \"CO_PROVA_MT\",\n",
        "               \"Q001\",\n",
        "               \"Q002\",\n",
        "               \"Q003\",\n",
        "               \"Q004\",\n",
        "               \"Q005\",\n",
        "               \"Q006\",\n",
        "               \"Q007\",\n",
        "               \"Q008\",\n",
        "               \"Q009\",\n",
        "               \"Q010\",\n",
        "               \"Q011\",\n",
        "               \"Q012\",\n",
        "               \"Q013\",\n",
        "               \"Q014\",\n",
        "               \"Q015\",\n",
        "               \"Q016\",\n",
        "               \"Q017\",\n",
        "               \"Q018\",\n",
        "               \"Q019\",\n",
        "               \"Q020\",\n",
        "               \"Q021\",\n",
        "               \"Q022\",\n",
        "               \"Q023\",\n",
        "               \"Q024\",\n",
        "               \"Q025\")"
      ],
      "metadata": {
        "id": "EDOT3W6EDqG-"
      },
      "execution_count": 179,
      "outputs": []
    },
    {
      "cell_type": "code",
      "source": [
        "enem_2020.show()"
      ],
      "metadata": {
        "colab": {
          "base_uri": "https://localhost:8080/"
        },
        "id": "zDGQf2ULDv2t",
        "outputId": "56946d18-8570-4917-f36c-9fdad1850b0d"
      },
      "execution_count": 180,
      "outputs": [
        {
          "output_type": "stream",
          "name": "stdout",
          "text": [
            "+------------+---------+------------+------+--------+-------------+-----------+---------+---------+---------------+---------------+-------------------+--------------+--------------+----------------+------------+---------+\n",
            "|   inscricao|ano_prova|faixa_etaria|genero|cor_raca|nacionalidade|tipo_escola|treineiro|uf_escola|dependencia_esc|localizacao_esc|      municipio_esc|n_ciencias_nat|n_ciencias_hum|n_linguagens_cod|n_matematica|n_redacao|\n",
            "+------------+---------+------------+------+--------+-------------+-----------+---------+---------+---------------+---------------+-------------------+--------------+--------------+----------------+------------+---------+\n",
            "|200001908998|     2020|          17|     M|   PARDA|            1|          2|        0|       SP|              3|              1|Santana de Parna�ba|         620.8|         675.0|           624.2|       759.4|      760|\n",
            "|200003209996|     2020|          18|     F|   PARDA|            1|          2|        0|       AM|              2|              1|             Silves|         486.9|         509.7|           532.3|       433.9|      620|\n",
            "|200005867610|     2020|          17|     F|     N/I|            1|          1|        1|     NULL|           NULL|           NULL|            Propri�|         503.4|         448.4|           432.7|       397.0|      500|\n",
            "|200001141912|     2020|          17|     M|   PARDA|            1|          2|        0|     NULL|           NULL|           NULL|          S�o Paulo|         439.6|         395.6|           505.7|       339.2|      280|\n",
            "|200002437786|     2020|          18|     F|   PARDA|            1|          2|        0|     NULL|           NULL|           NULL| Ribeir�o das Neves|         482.8|         384.4|           514.6|       536.4|      940|\n",
            "|200003350911|     2020|          18|     F|   PARDA|            1|          2|        0|       PI|              1|              1|             Oeiras|         516.8|         565.7|           567.7|       384.2|      880|\n",
            "|200004884707|     2020|          18|     M|   PARDA|            1|          2|        0|     NULL|           NULL|           NULL|            Caruaru|         425.4|         568.0|           585.5|       615.1|      880|\n",
            "|200005725669|     2020|          17|     F|   PARDA|            1|          2|        0|       MT|              2|              1|      V�rzea Grande|         467.5|         518.8|           541.0|       404.6|      600|\n",
            "|200004043002|     2020|          18|     M|   PRETA|            1|          3|        0|     NULL|           NULL|           NULL|          S�o Paulo|         530.9|         631.1|           601.8|       634.6|      700|\n",
            "|200004462096|     2020|          17|     F|  BRANCA|            1|          2|        0|       SP|              2|              1|      Guaratinguet�|         578.4|         681.1|           638.2|       669.8|      820|\n",
            "|200006077840|     2020|          18|     F|   PARDA|            1|          1|        1|     NULL|           NULL|           NULL|            Camaqu�|         447.3|         565.0|           557.3|       359.4|      600|\n",
            "|200002727241|     2020|          19|     M|   PRETA|            1|          2|        0|       RJ|              1|              1|            Itagua�|         606.3|         659.8|           607.1|       743.0|      920|\n",
            "|200004954618|     2020|          17|     M|   PARDA|            1|          2|        0|     NULL|           NULL|           NULL|        S�o Gabriel|         477.7|         589.8|           536.7|       516.7|      620|\n",
            "|200002347958|     2020|MENOR QUE 17|     M|   PARDA|            1|          1|        1|     NULL|           NULL|           NULL|            Goi�nia|         484.1|         699.2|           638.1|       671.5|      680|\n",
            "|200004311829|     2020|          18|     F|   PRETA|            1|          2|        0|     NULL|           NULL|           NULL|           Guanh�es|         411.0|         415.5|           491.7|       491.1|      720|\n",
            "|200002597919|     2020|          18|     M|   PARDA|            1|          2|        0|     NULL|           NULL|           NULL|          Castanhal|         555.8|         525.5|           493.4|       354.4|      500|\n",
            "|200001051933|     2020|MENOR QUE 17|     F|   PARDA|            1|          1|        1|     NULL|           NULL|           NULL|         A�ail�ndia|         443.9|         474.4|           445.2|       443.9|      380|\n",
            "|200005503430|     2020|          17|     F|   PARDA|            1|          2|        0|     NULL|           NULL|           NULL|            Aracaju|         441.0|         376.3|           481.5|       408.5|      360|\n",
            "|200004401981|     2020|          19|     F|   PRETA|            1|          2|        0|     NULL|           NULL|           NULL|           Corrente|         454.6|         575.4|           606.3|       493.9|      600|\n",
            "|200005300966|     2020|          19|     M|   PRETA|            1|          2|        0|       PI|              2|              1|   Buriti dos Lopes|         422.7|         456.0|           521.9|       373.0|      340|\n",
            "+------------+---------+------------+------+--------+-------------+-----------+---------+---------+---------------+---------------+-------------------+--------------+--------------+----------------+------------+---------+\n",
            "only showing top 20 rows\n",
            "\n"
          ]
        }
      ]
    },
    {
      "cell_type": "code",
      "source": [
        "# Renomenando colunas:\n",
        "enem_2020.withColumnsRenamed({\n",
        "    \"NU_INSCRICAO\":\"inscricao\",\n",
        "    \"NU_ANO\":\"ano_prova\",\n",
        "    \"TP_FAIXA_ETARIA\":\"faixa_etaria\",\n",
        "    \"TP_SEXO\":\"genero\",\n",
        "    \"TP_COR_RACA\":\"cor_raca\",\n",
        "    \"TP_NACIONALIDADE\":\"nacionalidade\",\n",
        "    \"TP_ESCOLA\": \"tipo_escola\",\n",
        "    \"IN_TREINEIRO\": \"treineiro\",\n",
        "    \"SG_UF_ESC\":\"uf_escola\",\n",
        "    \"TP_DEPENDENCIA_ADM_ESC\":\"dependencia_esc\",\n",
        "    \"TP_LOCALIZACAO_ESC\":\"localizacao_esc\",\n",
        "    \"NO_MUNICIPIO_PROVA\":\"municipio_esc\",\n",
        "    \"NU_NOTA_CN\":\"n_ciencias_nat\",\n",
        "    \"NU_NOTA_CH\":\"n_ciencias_hum\",\n",
        "    \"NU_NOTA_LC\":\"n_linguagens_cod\",\n",
        "    \"NU_NOTA_MT\":\"n_matematica\",\n",
        "    \"NU_NOTA_REDACAO\":\"n_redacao\"\n",
        "}).show()"
      ],
      "metadata": {
        "colab": {
          "base_uri": "https://localhost:8080/"
        },
        "id": "XxXBi02qDxit",
        "outputId": "6adbd71e-a189-4419-c0d4-033cf9343cd4"
      },
      "execution_count": 181,
      "outputs": [
        {
          "output_type": "stream",
          "name": "stdout",
          "text": [
            "+------------+---------+------------+------+--------+-------------+-----------+---------+---------+---------------+---------------+-------------------+--------------+--------------+----------------+------------+---------+\n",
            "|   inscricao|ano_prova|faixa_etaria|genero|cor_raca|nacionalidade|tipo_escola|treineiro|uf_escola|dependencia_esc|localizacao_esc|      municipio_esc|n_ciencias_nat|n_ciencias_hum|n_linguagens_cod|n_matematica|n_redacao|\n",
            "+------------+---------+------------+------+--------+-------------+-----------+---------+---------+---------------+---------------+-------------------+--------------+--------------+----------------+------------+---------+\n",
            "|200001908998|     2020|          17|     M|   PARDA|            1|          2|        0|       SP|              3|              1|Santana de Parna�ba|         620.8|         675.0|           624.2|       759.4|      760|\n",
            "|200003209996|     2020|          18|     F|   PARDA|            1|          2|        0|       AM|              2|              1|             Silves|         486.9|         509.7|           532.3|       433.9|      620|\n",
            "|200005867610|     2020|          17|     F|     N/I|            1|          1|        1|     NULL|           NULL|           NULL|            Propri�|         503.4|         448.4|           432.7|       397.0|      500|\n",
            "|200001141912|     2020|          17|     M|   PARDA|            1|          2|        0|     NULL|           NULL|           NULL|          S�o Paulo|         439.6|         395.6|           505.7|       339.2|      280|\n",
            "|200002437786|     2020|          18|     F|   PARDA|            1|          2|        0|     NULL|           NULL|           NULL| Ribeir�o das Neves|         482.8|         384.4|           514.6|       536.4|      940|\n",
            "|200003350911|     2020|          18|     F|   PARDA|            1|          2|        0|       PI|              1|              1|             Oeiras|         516.8|         565.7|           567.7|       384.2|      880|\n",
            "|200004884707|     2020|          18|     M|   PARDA|            1|          2|        0|     NULL|           NULL|           NULL|            Caruaru|         425.4|         568.0|           585.5|       615.1|      880|\n",
            "|200005725669|     2020|          17|     F|   PARDA|            1|          2|        0|       MT|              2|              1|      V�rzea Grande|         467.5|         518.8|           541.0|       404.6|      600|\n",
            "|200004043002|     2020|          18|     M|   PRETA|            1|          3|        0|     NULL|           NULL|           NULL|          S�o Paulo|         530.9|         631.1|           601.8|       634.6|      700|\n",
            "|200004462096|     2020|          17|     F|  BRANCA|            1|          2|        0|       SP|              2|              1|      Guaratinguet�|         578.4|         681.1|           638.2|       669.8|      820|\n",
            "|200006077840|     2020|          18|     F|   PARDA|            1|          1|        1|     NULL|           NULL|           NULL|            Camaqu�|         447.3|         565.0|           557.3|       359.4|      600|\n",
            "|200002727241|     2020|          19|     M|   PRETA|            1|          2|        0|       RJ|              1|              1|            Itagua�|         606.3|         659.8|           607.1|       743.0|      920|\n",
            "|200004954618|     2020|          17|     M|   PARDA|            1|          2|        0|     NULL|           NULL|           NULL|        S�o Gabriel|         477.7|         589.8|           536.7|       516.7|      620|\n",
            "|200002347958|     2020|MENOR QUE 17|     M|   PARDA|            1|          1|        1|     NULL|           NULL|           NULL|            Goi�nia|         484.1|         699.2|           638.1|       671.5|      680|\n",
            "|200004311829|     2020|          18|     F|   PRETA|            1|          2|        0|     NULL|           NULL|           NULL|           Guanh�es|         411.0|         415.5|           491.7|       491.1|      720|\n",
            "|200002597919|     2020|          18|     M|   PARDA|            1|          2|        0|     NULL|           NULL|           NULL|          Castanhal|         555.8|         525.5|           493.4|       354.4|      500|\n",
            "|200001051933|     2020|MENOR QUE 17|     F|   PARDA|            1|          1|        1|     NULL|           NULL|           NULL|         A�ail�ndia|         443.9|         474.4|           445.2|       443.9|      380|\n",
            "|200005503430|     2020|          17|     F|   PARDA|            1|          2|        0|     NULL|           NULL|           NULL|            Aracaju|         441.0|         376.3|           481.5|       408.5|      360|\n",
            "|200004401981|     2020|          19|     F|   PRETA|            1|          2|        0|     NULL|           NULL|           NULL|           Corrente|         454.6|         575.4|           606.3|       493.9|      600|\n",
            "|200005300966|     2020|          19|     M|   PRETA|            1|          2|        0|       PI|              2|              1|   Buriti dos Lopes|         422.7|         456.0|           521.9|       373.0|      340|\n",
            "+------------+---------+------------+------+--------+-------------+-----------+---------+---------+---------------+---------------+-------------------+--------------+--------------+----------------+------------+---------+\n",
            "only showing top 20 rows\n",
            "\n"
          ]
        }
      ]
    },
    {
      "cell_type": "code",
      "source": [
        "# Aplicando alterações\n",
        "enem_2020=enem_2020.withColumnsRenamed({\n",
        "    \"NU_INSCRICAO\":\"inscricao\",\n",
        "    \"NU_ANO\":\"ano_prova\",\n",
        "    \"TP_FAIXA_ETARIA\":\"faixa_etaria\",\n",
        "    \"TP_SEXO\":\"genero\",\n",
        "    \"TP_COR_RACA\":\"cor_raca\",\n",
        "    \"TP_NACIONALIDADE\":\"nacionalidade\",\n",
        "    \"TP_ESCOLA\": \"tipo_escola\",\n",
        "    \"IN_TREINEIRO\": \"treineiro\",\n",
        "    \"SG_UF_ESC\":\"uf_escola\",\n",
        "    \"TP_DEPENDENCIA_ADM_ESC\":\"dependencia_esc\",\n",
        "    \"TP_LOCALIZACAO_ESC\":\"localizacao_esc\",\n",
        "    \"NO_MUNICIPIO_PROVA\":\"municipio_esc\",\n",
        "    \"NU_NOTA_CN\":\"n_ciencias_nat\",\n",
        "    \"NU_NOTA_CH\":\"n_ciencias_hum\",\n",
        "    \"NU_NOTA_LC\":\"n_linguagens_cod\",\n",
        "    \"NU_NOTA_MT\":\"n_matematica\",\n",
        "    \"NU_NOTA_REDACAO\":\"n_redacao\"\n",
        "})"
      ],
      "metadata": {
        "id": "zVECQg_wF2lN"
      },
      "execution_count": 182,
      "outputs": []
    },
    {
      "cell_type": "code",
      "source": [
        "enem_2020.show()"
      ],
      "metadata": {
        "colab": {
          "base_uri": "https://localhost:8080/"
        },
        "id": "6b_6WhFZF8bN",
        "outputId": "ef38cdf0-325e-4488-9ca6-de7868ab1be8"
      },
      "execution_count": 183,
      "outputs": [
        {
          "output_type": "stream",
          "name": "stdout",
          "text": [
            "+------------+---------+------------+------+--------+-------------+-----------+---------+---------+---------------+---------------+-------------------+--------------+--------------+----------------+------------+---------+\n",
            "|   inscricao|ano_prova|faixa_etaria|genero|cor_raca|nacionalidade|tipo_escola|treineiro|uf_escola|dependencia_esc|localizacao_esc|      municipio_esc|n_ciencias_nat|n_ciencias_hum|n_linguagens_cod|n_matematica|n_redacao|\n",
            "+------------+---------+------------+------+--------+-------------+-----------+---------+---------+---------------+---------------+-------------------+--------------+--------------+----------------+------------+---------+\n",
            "|200001908998|     2020|          17|     M|   PARDA|            1|          2|        0|       SP|              3|              1|Santana de Parna�ba|         620.8|         675.0|           624.2|       759.4|      760|\n",
            "|200003209996|     2020|          18|     F|   PARDA|            1|          2|        0|       AM|              2|              1|             Silves|         486.9|         509.7|           532.3|       433.9|      620|\n",
            "|200005867610|     2020|          17|     F|     N/I|            1|          1|        1|     NULL|           NULL|           NULL|            Propri�|         503.4|         448.4|           432.7|       397.0|      500|\n",
            "|200001141912|     2020|          17|     M|   PARDA|            1|          2|        0|     NULL|           NULL|           NULL|          S�o Paulo|         439.6|         395.6|           505.7|       339.2|      280|\n",
            "|200002437786|     2020|          18|     F|   PARDA|            1|          2|        0|     NULL|           NULL|           NULL| Ribeir�o das Neves|         482.8|         384.4|           514.6|       536.4|      940|\n",
            "|200003350911|     2020|          18|     F|   PARDA|            1|          2|        0|       PI|              1|              1|             Oeiras|         516.8|         565.7|           567.7|       384.2|      880|\n",
            "|200004884707|     2020|          18|     M|   PARDA|            1|          2|        0|     NULL|           NULL|           NULL|            Caruaru|         425.4|         568.0|           585.5|       615.1|      880|\n",
            "|200005725669|     2020|          17|     F|   PARDA|            1|          2|        0|       MT|              2|              1|      V�rzea Grande|         467.5|         518.8|           541.0|       404.6|      600|\n",
            "|200004043002|     2020|          18|     M|   PRETA|            1|          3|        0|     NULL|           NULL|           NULL|          S�o Paulo|         530.9|         631.1|           601.8|       634.6|      700|\n",
            "|200004462096|     2020|          17|     F|  BRANCA|            1|          2|        0|       SP|              2|              1|      Guaratinguet�|         578.4|         681.1|           638.2|       669.8|      820|\n",
            "|200006077840|     2020|          18|     F|   PARDA|            1|          1|        1|     NULL|           NULL|           NULL|            Camaqu�|         447.3|         565.0|           557.3|       359.4|      600|\n",
            "|200002727241|     2020|          19|     M|   PRETA|            1|          2|        0|       RJ|              1|              1|            Itagua�|         606.3|         659.8|           607.1|       743.0|      920|\n",
            "|200004954618|     2020|          17|     M|   PARDA|            1|          2|        0|     NULL|           NULL|           NULL|        S�o Gabriel|         477.7|         589.8|           536.7|       516.7|      620|\n",
            "|200002347958|     2020|MENOR QUE 17|     M|   PARDA|            1|          1|        1|     NULL|           NULL|           NULL|            Goi�nia|         484.1|         699.2|           638.1|       671.5|      680|\n",
            "|200004311829|     2020|          18|     F|   PRETA|            1|          2|        0|     NULL|           NULL|           NULL|           Guanh�es|         411.0|         415.5|           491.7|       491.1|      720|\n",
            "|200002597919|     2020|          18|     M|   PARDA|            1|          2|        0|     NULL|           NULL|           NULL|          Castanhal|         555.8|         525.5|           493.4|       354.4|      500|\n",
            "|200001051933|     2020|MENOR QUE 17|     F|   PARDA|            1|          1|        1|     NULL|           NULL|           NULL|         A�ail�ndia|         443.9|         474.4|           445.2|       443.9|      380|\n",
            "|200005503430|     2020|          17|     F|   PARDA|            1|          2|        0|     NULL|           NULL|           NULL|            Aracaju|         441.0|         376.3|           481.5|       408.5|      360|\n",
            "|200004401981|     2020|          19|     F|   PRETA|            1|          2|        0|     NULL|           NULL|           NULL|           Corrente|         454.6|         575.4|           606.3|       493.9|      600|\n",
            "|200005300966|     2020|          19|     M|   PRETA|            1|          2|        0|       PI|              2|              1|   Buriti dos Lopes|         422.7|         456.0|           521.9|       373.0|      340|\n",
            "+------------+---------+------------+------+--------+-------------+-----------+---------+---------+---------------+---------------+-------------------+--------------+--------------+----------------+------------+---------+\n",
            "only showing top 20 rows\n",
            "\n"
          ]
        }
      ]
    },
    {
      "cell_type": "code",
      "source": [
        "# Alterando valores das colunas segundo dicionario de dados\n",
        "enem_2020.withColumn(    \"faixa_etaria\",\n",
        "                         f.when(enem_2020.faixa_etaria == 1, \"MENOR QUE 17\")\\\n",
        "                         .when(enem_2020.faixa_etaria == 2, \"17\")\\\n",
        "                         .when(enem_2020.faixa_etaria == 3, \"18\")\\\n",
        "                         .when(enem_2020.faixa_etaria == 4, \"19\")\\\n",
        "                         .when(enem_2020.faixa_etaria == 5, \"20\")\\\n",
        "                         .when(enem_2020.faixa_etaria == 6, \"21\")\\\n",
        "                         .when(enem_2020.faixa_etaria == 7, \"22\")\\\n",
        "                         .when(enem_2020.faixa_etaria == 8, \"23\")\\\n",
        "                         .when(enem_2020.faixa_etaria == 9, \"24\")\\\n",
        "                         .when(enem_2020.faixa_etaria == 10, \"25\").otherwise(\"N/I\")\n",
        "                         ).show()"
      ],
      "metadata": {
        "colab": {
          "base_uri": "https://localhost:8080/"
        },
        "id": "e15U-fQrF92t",
        "outputId": "c31fbf30-5fe7-42c4-b68e-34d37f59673a"
      },
      "execution_count": 184,
      "outputs": [
        {
          "output_type": "stream",
          "name": "stdout",
          "text": [
            "+------------+---------+------------+------+--------+-------------+-----------+---------+---------+---------------+---------------+-------------------+--------------+--------------+----------------+------------+---------+\n",
            "|   inscricao|ano_prova|faixa_etaria|genero|cor_raca|nacionalidade|tipo_escola|treineiro|uf_escola|dependencia_esc|localizacao_esc|      municipio_esc|n_ciencias_nat|n_ciencias_hum|n_linguagens_cod|n_matematica|n_redacao|\n",
            "+------------+---------+------------+------+--------+-------------+-----------+---------+---------+---------------+---------------+-------------------+--------------+--------------+----------------+------------+---------+\n",
            "|200001908998|     2020|         N/I|     M|   PARDA|            1|          2|        0|       SP|              3|              1|Santana de Parna�ba|         620.8|         675.0|           624.2|       759.4|      760|\n",
            "|200003209996|     2020|         N/I|     F|   PARDA|            1|          2|        0|       AM|              2|              1|             Silves|         486.9|         509.7|           532.3|       433.9|      620|\n",
            "|200005867610|     2020|         N/I|     F|     N/I|            1|          1|        1|     NULL|           NULL|           NULL|            Propri�|         503.4|         448.4|           432.7|       397.0|      500|\n",
            "|200001141912|     2020|         N/I|     M|   PARDA|            1|          2|        0|     NULL|           NULL|           NULL|          S�o Paulo|         439.6|         395.6|           505.7|       339.2|      280|\n",
            "|200002437786|     2020|         N/I|     F|   PARDA|            1|          2|        0|     NULL|           NULL|           NULL| Ribeir�o das Neves|         482.8|         384.4|           514.6|       536.4|      940|\n",
            "|200003350911|     2020|         N/I|     F|   PARDA|            1|          2|        0|       PI|              1|              1|             Oeiras|         516.8|         565.7|           567.7|       384.2|      880|\n",
            "|200004884707|     2020|         N/I|     M|   PARDA|            1|          2|        0|     NULL|           NULL|           NULL|            Caruaru|         425.4|         568.0|           585.5|       615.1|      880|\n",
            "|200005725669|     2020|         N/I|     F|   PARDA|            1|          2|        0|       MT|              2|              1|      V�rzea Grande|         467.5|         518.8|           541.0|       404.6|      600|\n",
            "|200004043002|     2020|         N/I|     M|   PRETA|            1|          3|        0|     NULL|           NULL|           NULL|          S�o Paulo|         530.9|         631.1|           601.8|       634.6|      700|\n",
            "|200004462096|     2020|         N/I|     F|  BRANCA|            1|          2|        0|       SP|              2|              1|      Guaratinguet�|         578.4|         681.1|           638.2|       669.8|      820|\n",
            "|200006077840|     2020|         N/I|     F|   PARDA|            1|          1|        1|     NULL|           NULL|           NULL|            Camaqu�|         447.3|         565.0|           557.3|       359.4|      600|\n",
            "|200002727241|     2020|         N/I|     M|   PRETA|            1|          2|        0|       RJ|              1|              1|            Itagua�|         606.3|         659.8|           607.1|       743.0|      920|\n",
            "|200004954618|     2020|         N/I|     M|   PARDA|            1|          2|        0|     NULL|           NULL|           NULL|        S�o Gabriel|         477.7|         589.8|           536.7|       516.7|      620|\n",
            "|200002347958|     2020|         N/I|     M|   PARDA|            1|          1|        1|     NULL|           NULL|           NULL|            Goi�nia|         484.1|         699.2|           638.1|       671.5|      680|\n",
            "|200004311829|     2020|         N/I|     F|   PRETA|            1|          2|        0|     NULL|           NULL|           NULL|           Guanh�es|         411.0|         415.5|           491.7|       491.1|      720|\n",
            "|200002597919|     2020|         N/I|     M|   PARDA|            1|          2|        0|     NULL|           NULL|           NULL|          Castanhal|         555.8|         525.5|           493.4|       354.4|      500|\n",
            "|200001051933|     2020|         N/I|     F|   PARDA|            1|          1|        1|     NULL|           NULL|           NULL|         A�ail�ndia|         443.9|         474.4|           445.2|       443.9|      380|\n",
            "|200005503430|     2020|         N/I|     F|   PARDA|            1|          2|        0|     NULL|           NULL|           NULL|            Aracaju|         441.0|         376.3|           481.5|       408.5|      360|\n",
            "|200004401981|     2020|         N/I|     F|   PRETA|            1|          2|        0|     NULL|           NULL|           NULL|           Corrente|         454.6|         575.4|           606.3|       493.9|      600|\n",
            "|200005300966|     2020|         N/I|     M|   PRETA|            1|          2|        0|       PI|              2|              1|   Buriti dos Lopes|         422.7|         456.0|           521.9|       373.0|      340|\n",
            "+------------+---------+------------+------+--------+-------------+-----------+---------+---------+---------------+---------------+-------------------+--------------+--------------+----------------+------------+---------+\n",
            "only showing top 20 rows\n",
            "\n"
          ]
        }
      ]
    },
    {
      "cell_type": "code",
      "source": [
        "# Aplicando valores\n",
        "enem_2020 =  enem_2020.withColumn(    \"faixa_etaria\",\n",
        "                         f.when(enem_2020.faixa_etaria == 1, \"MENOR QUE 17\")\\\n",
        "                         .when(enem_2020.faixa_etaria == 2, \"17\")\\\n",
        "                         .when(enem_2020.faixa_etaria == 3, \"18\")\\\n",
        "                         .when(enem_2020.faixa_etaria == 4, \"19\")\\\n",
        "                         .when(enem_2020.faixa_etaria == 5, \"20\")\\\n",
        "                         .when(enem_2020.faixa_etaria == 6, \"21\")\\\n",
        "                         .when(enem_2020.faixa_etaria == 7, \"22\")\\\n",
        "                         .when(enem_2020.faixa_etaria == 8, \"23\")\\\n",
        "                         .when(enem_2020.faixa_etaria == 9, \"24\")\\\n",
        "                         .when(enem_2020.faixa_etaria == 10, \"25\").otherwise(\"N/I\")\n",
        "                         )"
      ],
      "metadata": {
        "id": "2qVhoEt9GTVd"
      },
      "execution_count": 185,
      "outputs": []
    },
    {
      "cell_type": "code",
      "source": [
        "enem_2020.show()"
      ],
      "metadata": {
        "colab": {
          "base_uri": "https://localhost:8080/"
        },
        "id": "vg9q_UGzGwXs",
        "outputId": "44e9a56e-c6ea-4fb8-f93a-1604774171ef"
      },
      "execution_count": 186,
      "outputs": [
        {
          "output_type": "stream",
          "name": "stdout",
          "text": [
            "+------------+---------+------------+------+--------+-------------+-----------+---------+---------+---------------+---------------+-------------------+--------------+--------------+----------------+------------+---------+\n",
            "|   inscricao|ano_prova|faixa_etaria|genero|cor_raca|nacionalidade|tipo_escola|treineiro|uf_escola|dependencia_esc|localizacao_esc|      municipio_esc|n_ciencias_nat|n_ciencias_hum|n_linguagens_cod|n_matematica|n_redacao|\n",
            "+------------+---------+------------+------+--------+-------------+-----------+---------+---------+---------------+---------------+-------------------+--------------+--------------+----------------+------------+---------+\n",
            "|200001908998|     2020|         N/I|     M|   PARDA|            1|          2|        0|       SP|              3|              1|Santana de Parna�ba|         620.8|         675.0|           624.2|       759.4|      760|\n",
            "|200003209996|     2020|         N/I|     F|   PARDA|            1|          2|        0|       AM|              2|              1|             Silves|         486.9|         509.7|           532.3|       433.9|      620|\n",
            "|200005867610|     2020|         N/I|     F|     N/I|            1|          1|        1|     NULL|           NULL|           NULL|            Propri�|         503.4|         448.4|           432.7|       397.0|      500|\n",
            "|200001141912|     2020|         N/I|     M|   PARDA|            1|          2|        0|     NULL|           NULL|           NULL|          S�o Paulo|         439.6|         395.6|           505.7|       339.2|      280|\n",
            "|200002437786|     2020|         N/I|     F|   PARDA|            1|          2|        0|     NULL|           NULL|           NULL| Ribeir�o das Neves|         482.8|         384.4|           514.6|       536.4|      940|\n",
            "|200003350911|     2020|         N/I|     F|   PARDA|            1|          2|        0|       PI|              1|              1|             Oeiras|         516.8|         565.7|           567.7|       384.2|      880|\n",
            "|200004884707|     2020|         N/I|     M|   PARDA|            1|          2|        0|     NULL|           NULL|           NULL|            Caruaru|         425.4|         568.0|           585.5|       615.1|      880|\n",
            "|200005725669|     2020|         N/I|     F|   PARDA|            1|          2|        0|       MT|              2|              1|      V�rzea Grande|         467.5|         518.8|           541.0|       404.6|      600|\n",
            "|200004043002|     2020|         N/I|     M|   PRETA|            1|          3|        0|     NULL|           NULL|           NULL|          S�o Paulo|         530.9|         631.1|           601.8|       634.6|      700|\n",
            "|200004462096|     2020|         N/I|     F|  BRANCA|            1|          2|        0|       SP|              2|              1|      Guaratinguet�|         578.4|         681.1|           638.2|       669.8|      820|\n",
            "|200006077840|     2020|         N/I|     F|   PARDA|            1|          1|        1|     NULL|           NULL|           NULL|            Camaqu�|         447.3|         565.0|           557.3|       359.4|      600|\n",
            "|200002727241|     2020|         N/I|     M|   PRETA|            1|          2|        0|       RJ|              1|              1|            Itagua�|         606.3|         659.8|           607.1|       743.0|      920|\n",
            "|200004954618|     2020|         N/I|     M|   PARDA|            1|          2|        0|     NULL|           NULL|           NULL|        S�o Gabriel|         477.7|         589.8|           536.7|       516.7|      620|\n",
            "|200002347958|     2020|         N/I|     M|   PARDA|            1|          1|        1|     NULL|           NULL|           NULL|            Goi�nia|         484.1|         699.2|           638.1|       671.5|      680|\n",
            "|200004311829|     2020|         N/I|     F|   PRETA|            1|          2|        0|     NULL|           NULL|           NULL|           Guanh�es|         411.0|         415.5|           491.7|       491.1|      720|\n",
            "|200002597919|     2020|         N/I|     M|   PARDA|            1|          2|        0|     NULL|           NULL|           NULL|          Castanhal|         555.8|         525.5|           493.4|       354.4|      500|\n",
            "|200001051933|     2020|         N/I|     F|   PARDA|            1|          1|        1|     NULL|           NULL|           NULL|         A�ail�ndia|         443.9|         474.4|           445.2|       443.9|      380|\n",
            "|200005503430|     2020|         N/I|     F|   PARDA|            1|          2|        0|     NULL|           NULL|           NULL|            Aracaju|         441.0|         376.3|           481.5|       408.5|      360|\n",
            "|200004401981|     2020|         N/I|     F|   PRETA|            1|          2|        0|     NULL|           NULL|           NULL|           Corrente|         454.6|         575.4|           606.3|       493.9|      600|\n",
            "|200005300966|     2020|         N/I|     M|   PRETA|            1|          2|        0|       PI|              2|              1|   Buriti dos Lopes|         422.7|         456.0|           521.9|       373.0|      340|\n",
            "+------------+---------+------------+------+--------+-------------+-----------+---------+---------+---------------+---------------+-------------------+--------------+--------------+----------------+------------+---------+\n",
            "only showing top 20 rows\n",
            "\n"
          ]
        }
      ]
    },
    {
      "cell_type": "code",
      "source": [
        "# Alterando valores das colunas segundo dicionario de dados\n",
        "enem_2020.withColumn(\"cor_raca\",\n",
        "                         f.when(enem_2020.cor_raca == 1, \"BRANCA\")\\\n",
        "                         .when(enem_2020.cor_raca == 2, \"PRETA\")\\\n",
        "                         .when(enem_2020.cor_raca == 3, \"PARDA\")\\\n",
        "                         .when(enem_2020.cor_raca == 4, \"AMARELA\")\n",
        "                         .when(enem_2020.cor_raca == 5, \"INDIGENA\").otherwise(\"N/I\")\n",
        "                         ).show()"
      ],
      "metadata": {
        "colab": {
          "base_uri": "https://localhost:8080/"
        },
        "id": "Ts2pniAeG8nc",
        "outputId": "2cde3e5c-732d-4bfa-ad8d-3db884430c21"
      },
      "execution_count": 187,
      "outputs": [
        {
          "output_type": "stream",
          "name": "stdout",
          "text": [
            "+------------+---------+------------+------+--------+-------------+-----------+---------+---------+---------------+---------------+-------------------+--------------+--------------+----------------+------------+---------+\n",
            "|   inscricao|ano_prova|faixa_etaria|genero|cor_raca|nacionalidade|tipo_escola|treineiro|uf_escola|dependencia_esc|localizacao_esc|      municipio_esc|n_ciencias_nat|n_ciencias_hum|n_linguagens_cod|n_matematica|n_redacao|\n",
            "+------------+---------+------------+------+--------+-------------+-----------+---------+---------+---------------+---------------+-------------------+--------------+--------------+----------------+------------+---------+\n",
            "|200001908998|     2020|         N/I|     M|     N/I|            1|          2|        0|       SP|              3|              1|Santana de Parna�ba|         620.8|         675.0|           624.2|       759.4|      760|\n",
            "|200003209996|     2020|         N/I|     F|     N/I|            1|          2|        0|       AM|              2|              1|             Silves|         486.9|         509.7|           532.3|       433.9|      620|\n",
            "|200005867610|     2020|         N/I|     F|     N/I|            1|          1|        1|     NULL|           NULL|           NULL|            Propri�|         503.4|         448.4|           432.7|       397.0|      500|\n",
            "|200001141912|     2020|         N/I|     M|     N/I|            1|          2|        0|     NULL|           NULL|           NULL|          S�o Paulo|         439.6|         395.6|           505.7|       339.2|      280|\n",
            "|200002437786|     2020|         N/I|     F|     N/I|            1|          2|        0|     NULL|           NULL|           NULL| Ribeir�o das Neves|         482.8|         384.4|           514.6|       536.4|      940|\n",
            "|200003350911|     2020|         N/I|     F|     N/I|            1|          2|        0|       PI|              1|              1|             Oeiras|         516.8|         565.7|           567.7|       384.2|      880|\n",
            "|200004884707|     2020|         N/I|     M|     N/I|            1|          2|        0|     NULL|           NULL|           NULL|            Caruaru|         425.4|         568.0|           585.5|       615.1|      880|\n",
            "|200005725669|     2020|         N/I|     F|     N/I|            1|          2|        0|       MT|              2|              1|      V�rzea Grande|         467.5|         518.8|           541.0|       404.6|      600|\n",
            "|200004043002|     2020|         N/I|     M|     N/I|            1|          3|        0|     NULL|           NULL|           NULL|          S�o Paulo|         530.9|         631.1|           601.8|       634.6|      700|\n",
            "|200004462096|     2020|         N/I|     F|     N/I|            1|          2|        0|       SP|              2|              1|      Guaratinguet�|         578.4|         681.1|           638.2|       669.8|      820|\n",
            "|200006077840|     2020|         N/I|     F|     N/I|            1|          1|        1|     NULL|           NULL|           NULL|            Camaqu�|         447.3|         565.0|           557.3|       359.4|      600|\n",
            "|200002727241|     2020|         N/I|     M|     N/I|            1|          2|        0|       RJ|              1|              1|            Itagua�|         606.3|         659.8|           607.1|       743.0|      920|\n",
            "|200004954618|     2020|         N/I|     M|     N/I|            1|          2|        0|     NULL|           NULL|           NULL|        S�o Gabriel|         477.7|         589.8|           536.7|       516.7|      620|\n",
            "|200002347958|     2020|         N/I|     M|     N/I|            1|          1|        1|     NULL|           NULL|           NULL|            Goi�nia|         484.1|         699.2|           638.1|       671.5|      680|\n",
            "|200004311829|     2020|         N/I|     F|     N/I|            1|          2|        0|     NULL|           NULL|           NULL|           Guanh�es|         411.0|         415.5|           491.7|       491.1|      720|\n",
            "|200002597919|     2020|         N/I|     M|     N/I|            1|          2|        0|     NULL|           NULL|           NULL|          Castanhal|         555.8|         525.5|           493.4|       354.4|      500|\n",
            "|200001051933|     2020|         N/I|     F|     N/I|            1|          1|        1|     NULL|           NULL|           NULL|         A�ail�ndia|         443.9|         474.4|           445.2|       443.9|      380|\n",
            "|200005503430|     2020|         N/I|     F|     N/I|            1|          2|        0|     NULL|           NULL|           NULL|            Aracaju|         441.0|         376.3|           481.5|       408.5|      360|\n",
            "|200004401981|     2020|         N/I|     F|     N/I|            1|          2|        0|     NULL|           NULL|           NULL|           Corrente|         454.6|         575.4|           606.3|       493.9|      600|\n",
            "|200005300966|     2020|         N/I|     M|     N/I|            1|          2|        0|       PI|              2|              1|   Buriti dos Lopes|         422.7|         456.0|           521.9|       373.0|      340|\n",
            "+------------+---------+------------+------+--------+-------------+-----------+---------+---------+---------------+---------------+-------------------+--------------+--------------+----------------+------------+---------+\n",
            "only showing top 20 rows\n",
            "\n"
          ]
        }
      ]
    },
    {
      "cell_type": "code",
      "source": [
        "# Alterando valores das colunas segundo dicionario de dados\n",
        "enem_2020 = enem_2020.withColumn(\"cor_raca\",\n",
        "                         f.when(enem_2020.cor_raca == 1, \"BRANCA\")\\\n",
        "                         .when(enem_2020.cor_raca == 2, \"PRETA\")\\\n",
        "                         .when(enem_2020.cor_raca == 3, \"PARDA\")\\\n",
        "                         .when(enem_2020.cor_raca == 4, \"AMARELA\")\n",
        "                         .when(enem_2020.cor_raca == 5, \"INDIGENA\").otherwise(\"N/I\")\n",
        "                         )"
      ],
      "metadata": {
        "id": "jU6FTJ6HHEw8"
      },
      "execution_count": 188,
      "outputs": []
    },
    {
      "cell_type": "code",
      "source": [
        "enem_2020.show()"
      ],
      "metadata": {
        "colab": {
          "base_uri": "https://localhost:8080/"
        },
        "id": "rqjNwyC2HOfc",
        "outputId": "ba8dd315-68d8-4ceb-9864-6e3f1902c0ef"
      },
      "execution_count": 189,
      "outputs": [
        {
          "output_type": "stream",
          "name": "stdout",
          "text": [
            "+------------+---------+------------+------+--------+-------------+-----------+---------+---------+---------------+---------------+-------------------+--------------+--------------+----------------+------------+---------+\n",
            "|   inscricao|ano_prova|faixa_etaria|genero|cor_raca|nacionalidade|tipo_escola|treineiro|uf_escola|dependencia_esc|localizacao_esc|      municipio_esc|n_ciencias_nat|n_ciencias_hum|n_linguagens_cod|n_matematica|n_redacao|\n",
            "+------------+---------+------------+------+--------+-------------+-----------+---------+---------+---------------+---------------+-------------------+--------------+--------------+----------------+------------+---------+\n",
            "|200001908998|     2020|         N/I|     M|     N/I|            1|          2|        0|       SP|              3|              1|Santana de Parna�ba|         620.8|         675.0|           624.2|       759.4|      760|\n",
            "|200003209996|     2020|         N/I|     F|     N/I|            1|          2|        0|       AM|              2|              1|             Silves|         486.9|         509.7|           532.3|       433.9|      620|\n",
            "|200005867610|     2020|         N/I|     F|     N/I|            1|          1|        1|     NULL|           NULL|           NULL|            Propri�|         503.4|         448.4|           432.7|       397.0|      500|\n",
            "|200001141912|     2020|         N/I|     M|     N/I|            1|          2|        0|     NULL|           NULL|           NULL|          S�o Paulo|         439.6|         395.6|           505.7|       339.2|      280|\n",
            "|200002437786|     2020|         N/I|     F|     N/I|            1|          2|        0|     NULL|           NULL|           NULL| Ribeir�o das Neves|         482.8|         384.4|           514.6|       536.4|      940|\n",
            "|200003350911|     2020|         N/I|     F|     N/I|            1|          2|        0|       PI|              1|              1|             Oeiras|         516.8|         565.7|           567.7|       384.2|      880|\n",
            "|200004884707|     2020|         N/I|     M|     N/I|            1|          2|        0|     NULL|           NULL|           NULL|            Caruaru|         425.4|         568.0|           585.5|       615.1|      880|\n",
            "|200005725669|     2020|         N/I|     F|     N/I|            1|          2|        0|       MT|              2|              1|      V�rzea Grande|         467.5|         518.8|           541.0|       404.6|      600|\n",
            "|200004043002|     2020|         N/I|     M|     N/I|            1|          3|        0|     NULL|           NULL|           NULL|          S�o Paulo|         530.9|         631.1|           601.8|       634.6|      700|\n",
            "|200004462096|     2020|         N/I|     F|     N/I|            1|          2|        0|       SP|              2|              1|      Guaratinguet�|         578.4|         681.1|           638.2|       669.8|      820|\n",
            "|200006077840|     2020|         N/I|     F|     N/I|            1|          1|        1|     NULL|           NULL|           NULL|            Camaqu�|         447.3|         565.0|           557.3|       359.4|      600|\n",
            "|200002727241|     2020|         N/I|     M|     N/I|            1|          2|        0|       RJ|              1|              1|            Itagua�|         606.3|         659.8|           607.1|       743.0|      920|\n",
            "|200004954618|     2020|         N/I|     M|     N/I|            1|          2|        0|     NULL|           NULL|           NULL|        S�o Gabriel|         477.7|         589.8|           536.7|       516.7|      620|\n",
            "|200002347958|     2020|         N/I|     M|     N/I|            1|          1|        1|     NULL|           NULL|           NULL|            Goi�nia|         484.1|         699.2|           638.1|       671.5|      680|\n",
            "|200004311829|     2020|         N/I|     F|     N/I|            1|          2|        0|     NULL|           NULL|           NULL|           Guanh�es|         411.0|         415.5|           491.7|       491.1|      720|\n",
            "|200002597919|     2020|         N/I|     M|     N/I|            1|          2|        0|     NULL|           NULL|           NULL|          Castanhal|         555.8|         525.5|           493.4|       354.4|      500|\n",
            "|200001051933|     2020|         N/I|     F|     N/I|            1|          1|        1|     NULL|           NULL|           NULL|         A�ail�ndia|         443.9|         474.4|           445.2|       443.9|      380|\n",
            "|200005503430|     2020|         N/I|     F|     N/I|            1|          2|        0|     NULL|           NULL|           NULL|            Aracaju|         441.0|         376.3|           481.5|       408.5|      360|\n",
            "|200004401981|     2020|         N/I|     F|     N/I|            1|          2|        0|     NULL|           NULL|           NULL|           Corrente|         454.6|         575.4|           606.3|       493.9|      600|\n",
            "|200005300966|     2020|         N/I|     M|     N/I|            1|          2|        0|       PI|              2|              1|   Buriti dos Lopes|         422.7|         456.0|           521.9|       373.0|      340|\n",
            "+------------+---------+------------+------+--------+-------------+-----------+---------+---------+---------------+---------------+-------------------+--------------+--------------+----------------+------------+---------+\n",
            "only showing top 20 rows\n",
            "\n"
          ]
        }
      ]
    },
    {
      "cell_type": "code",
      "source": [
        "# Alterando valores de colunas segundo dicionario\n",
        "enem_2020.withColumn(\"nacionalidade\",\n",
        "                         f.when(enem_2020.nacionalidade == 1, \"BRASILEIRO(A)\")\\\n",
        "                         .when(enem_2020.nacionalidade == 2, \"BRASILEIRO(A) NATURALIZADO\")\\\n",
        "                         .when(enem_2020.nacionalidade == 3, \"ESTRANGEIRO\")\\\n",
        "                         .when(enem_2020.nacionalidade == 4, \"BRASILEIRO, NASCIDO NO EXTERIOR\").otherwise(\"N/I\")\n",
        "                         ).show()"
      ],
      "metadata": {
        "colab": {
          "base_uri": "https://localhost:8080/"
        },
        "id": "XBlRaUgCPcK5",
        "outputId": "821e14ac-8d0d-47e0-f0df-c48196ff9fbb"
      },
      "execution_count": 190,
      "outputs": [
        {
          "output_type": "stream",
          "name": "stdout",
          "text": [
            "+------------+---------+------------+------+--------+-------------+-----------+---------+---------+---------------+---------------+-------------------+--------------+--------------+----------------+------------+---------+\n",
            "|   inscricao|ano_prova|faixa_etaria|genero|cor_raca|nacionalidade|tipo_escola|treineiro|uf_escola|dependencia_esc|localizacao_esc|      municipio_esc|n_ciencias_nat|n_ciencias_hum|n_linguagens_cod|n_matematica|n_redacao|\n",
            "+------------+---------+------------+------+--------+-------------+-----------+---------+---------+---------------+---------------+-------------------+--------------+--------------+----------------+------------+---------+\n",
            "|200001908998|     2020|         N/I|     M|     N/I|BRASILEIRO(A)|          2|        0|       SP|              3|              1|Santana de Parna�ba|         620.8|         675.0|           624.2|       759.4|      760|\n",
            "|200003209996|     2020|         N/I|     F|     N/I|BRASILEIRO(A)|          2|        0|       AM|              2|              1|             Silves|         486.9|         509.7|           532.3|       433.9|      620|\n",
            "|200005867610|     2020|         N/I|     F|     N/I|BRASILEIRO(A)|          1|        1|     NULL|           NULL|           NULL|            Propri�|         503.4|         448.4|           432.7|       397.0|      500|\n",
            "|200001141912|     2020|         N/I|     M|     N/I|BRASILEIRO(A)|          2|        0|     NULL|           NULL|           NULL|          S�o Paulo|         439.6|         395.6|           505.7|       339.2|      280|\n",
            "|200002437786|     2020|         N/I|     F|     N/I|BRASILEIRO(A)|          2|        0|     NULL|           NULL|           NULL| Ribeir�o das Neves|         482.8|         384.4|           514.6|       536.4|      940|\n",
            "|200003350911|     2020|         N/I|     F|     N/I|BRASILEIRO(A)|          2|        0|       PI|              1|              1|             Oeiras|         516.8|         565.7|           567.7|       384.2|      880|\n",
            "|200004884707|     2020|         N/I|     M|     N/I|BRASILEIRO(A)|          2|        0|     NULL|           NULL|           NULL|            Caruaru|         425.4|         568.0|           585.5|       615.1|      880|\n",
            "|200005725669|     2020|         N/I|     F|     N/I|BRASILEIRO(A)|          2|        0|       MT|              2|              1|      V�rzea Grande|         467.5|         518.8|           541.0|       404.6|      600|\n",
            "|200004043002|     2020|         N/I|     M|     N/I|BRASILEIRO(A)|          3|        0|     NULL|           NULL|           NULL|          S�o Paulo|         530.9|         631.1|           601.8|       634.6|      700|\n",
            "|200004462096|     2020|         N/I|     F|     N/I|BRASILEIRO(A)|          2|        0|       SP|              2|              1|      Guaratinguet�|         578.4|         681.1|           638.2|       669.8|      820|\n",
            "|200006077840|     2020|         N/I|     F|     N/I|BRASILEIRO(A)|          1|        1|     NULL|           NULL|           NULL|            Camaqu�|         447.3|         565.0|           557.3|       359.4|      600|\n",
            "|200002727241|     2020|         N/I|     M|     N/I|BRASILEIRO(A)|          2|        0|       RJ|              1|              1|            Itagua�|         606.3|         659.8|           607.1|       743.0|      920|\n",
            "|200004954618|     2020|         N/I|     M|     N/I|BRASILEIRO(A)|          2|        0|     NULL|           NULL|           NULL|        S�o Gabriel|         477.7|         589.8|           536.7|       516.7|      620|\n",
            "|200002347958|     2020|         N/I|     M|     N/I|BRASILEIRO(A)|          1|        1|     NULL|           NULL|           NULL|            Goi�nia|         484.1|         699.2|           638.1|       671.5|      680|\n",
            "|200004311829|     2020|         N/I|     F|     N/I|BRASILEIRO(A)|          2|        0|     NULL|           NULL|           NULL|           Guanh�es|         411.0|         415.5|           491.7|       491.1|      720|\n",
            "|200002597919|     2020|         N/I|     M|     N/I|BRASILEIRO(A)|          2|        0|     NULL|           NULL|           NULL|          Castanhal|         555.8|         525.5|           493.4|       354.4|      500|\n",
            "|200001051933|     2020|         N/I|     F|     N/I|BRASILEIRO(A)|          1|        1|     NULL|           NULL|           NULL|         A�ail�ndia|         443.9|         474.4|           445.2|       443.9|      380|\n",
            "|200005503430|     2020|         N/I|     F|     N/I|BRASILEIRO(A)|          2|        0|     NULL|           NULL|           NULL|            Aracaju|         441.0|         376.3|           481.5|       408.5|      360|\n",
            "|200004401981|     2020|         N/I|     F|     N/I|BRASILEIRO(A)|          2|        0|     NULL|           NULL|           NULL|           Corrente|         454.6|         575.4|           606.3|       493.9|      600|\n",
            "|200005300966|     2020|         N/I|     M|     N/I|BRASILEIRO(A)|          2|        0|       PI|              2|              1|   Buriti dos Lopes|         422.7|         456.0|           521.9|       373.0|      340|\n",
            "+------------+---------+------------+------+--------+-------------+-----------+---------+---------+---------------+---------------+-------------------+--------------+--------------+----------------+------------+---------+\n",
            "only showing top 20 rows\n",
            "\n"
          ]
        }
      ]
    },
    {
      "cell_type": "code",
      "source": [
        "# Aplicando alteração:\n",
        "enem_2020=enem_2020.withColumn(\"nacionalidade\",\n",
        "                         f.when(enem_2020.nacionalidade == 1, \"BRASILEIRO(A)\")\\\n",
        "                         .when(enem_2020.nacionalidade == 2, \"BRASILEIRO(A) NATURALIZADO\")\\\n",
        "                         .when(enem_2020.nacionalidade == 3, \"ESTRANGEIRO\")\\\n",
        "                         .when(enem_2020.nacionalidade == 4, \"BRASILEIRO, NASCIDO NO EXTERIOR\").otherwise(\"N/I\")\n",
        "                         )"
      ],
      "metadata": {
        "id": "IYo1mI4FRdn5"
      },
      "execution_count": 191,
      "outputs": []
    },
    {
      "cell_type": "code",
      "source": [
        "enem_2020.show()"
      ],
      "metadata": {
        "colab": {
          "base_uri": "https://localhost:8080/"
        },
        "id": "fKchPUKQTLeh",
        "outputId": "73125541-a1b7-41a4-82a9-e863f59345c2"
      },
      "execution_count": 192,
      "outputs": [
        {
          "output_type": "stream",
          "name": "stdout",
          "text": [
            "+------------+---------+------------+------+--------+-------------+-----------+---------+---------+---------------+---------------+-------------------+--------------+--------------+----------------+------------+---------+\n",
            "|   inscricao|ano_prova|faixa_etaria|genero|cor_raca|nacionalidade|tipo_escola|treineiro|uf_escola|dependencia_esc|localizacao_esc|      municipio_esc|n_ciencias_nat|n_ciencias_hum|n_linguagens_cod|n_matematica|n_redacao|\n",
            "+------------+---------+------------+------+--------+-------------+-----------+---------+---------+---------------+---------------+-------------------+--------------+--------------+----------------+------------+---------+\n",
            "|200001908998|     2020|         N/I|     M|     N/I|BRASILEIRO(A)|          2|        0|       SP|              3|              1|Santana de Parna�ba|         620.8|         675.0|           624.2|       759.4|      760|\n",
            "|200003209996|     2020|         N/I|     F|     N/I|BRASILEIRO(A)|          2|        0|       AM|              2|              1|             Silves|         486.9|         509.7|           532.3|       433.9|      620|\n",
            "|200005867610|     2020|         N/I|     F|     N/I|BRASILEIRO(A)|          1|        1|     NULL|           NULL|           NULL|            Propri�|         503.4|         448.4|           432.7|       397.0|      500|\n",
            "|200001141912|     2020|         N/I|     M|     N/I|BRASILEIRO(A)|          2|        0|     NULL|           NULL|           NULL|          S�o Paulo|         439.6|         395.6|           505.7|       339.2|      280|\n",
            "|200002437786|     2020|         N/I|     F|     N/I|BRASILEIRO(A)|          2|        0|     NULL|           NULL|           NULL| Ribeir�o das Neves|         482.8|         384.4|           514.6|       536.4|      940|\n",
            "|200003350911|     2020|         N/I|     F|     N/I|BRASILEIRO(A)|          2|        0|       PI|              1|              1|             Oeiras|         516.8|         565.7|           567.7|       384.2|      880|\n",
            "|200004884707|     2020|         N/I|     M|     N/I|BRASILEIRO(A)|          2|        0|     NULL|           NULL|           NULL|            Caruaru|         425.4|         568.0|           585.5|       615.1|      880|\n",
            "|200005725669|     2020|         N/I|     F|     N/I|BRASILEIRO(A)|          2|        0|       MT|              2|              1|      V�rzea Grande|         467.5|         518.8|           541.0|       404.6|      600|\n",
            "|200004043002|     2020|         N/I|     M|     N/I|BRASILEIRO(A)|          3|        0|     NULL|           NULL|           NULL|          S�o Paulo|         530.9|         631.1|           601.8|       634.6|      700|\n",
            "|200004462096|     2020|         N/I|     F|     N/I|BRASILEIRO(A)|          2|        0|       SP|              2|              1|      Guaratinguet�|         578.4|         681.1|           638.2|       669.8|      820|\n",
            "|200006077840|     2020|         N/I|     F|     N/I|BRASILEIRO(A)|          1|        1|     NULL|           NULL|           NULL|            Camaqu�|         447.3|         565.0|           557.3|       359.4|      600|\n",
            "|200002727241|     2020|         N/I|     M|     N/I|BRASILEIRO(A)|          2|        0|       RJ|              1|              1|            Itagua�|         606.3|         659.8|           607.1|       743.0|      920|\n",
            "|200004954618|     2020|         N/I|     M|     N/I|BRASILEIRO(A)|          2|        0|     NULL|           NULL|           NULL|        S�o Gabriel|         477.7|         589.8|           536.7|       516.7|      620|\n",
            "|200002347958|     2020|         N/I|     M|     N/I|BRASILEIRO(A)|          1|        1|     NULL|           NULL|           NULL|            Goi�nia|         484.1|         699.2|           638.1|       671.5|      680|\n",
            "|200004311829|     2020|         N/I|     F|     N/I|BRASILEIRO(A)|          2|        0|     NULL|           NULL|           NULL|           Guanh�es|         411.0|         415.5|           491.7|       491.1|      720|\n",
            "|200002597919|     2020|         N/I|     M|     N/I|BRASILEIRO(A)|          2|        0|     NULL|           NULL|           NULL|          Castanhal|         555.8|         525.5|           493.4|       354.4|      500|\n",
            "|200001051933|     2020|         N/I|     F|     N/I|BRASILEIRO(A)|          1|        1|     NULL|           NULL|           NULL|         A�ail�ndia|         443.9|         474.4|           445.2|       443.9|      380|\n",
            "|200005503430|     2020|         N/I|     F|     N/I|BRASILEIRO(A)|          2|        0|     NULL|           NULL|           NULL|            Aracaju|         441.0|         376.3|           481.5|       408.5|      360|\n",
            "|200004401981|     2020|         N/I|     F|     N/I|BRASILEIRO(A)|          2|        0|     NULL|           NULL|           NULL|           Corrente|         454.6|         575.4|           606.3|       493.9|      600|\n",
            "|200005300966|     2020|         N/I|     M|     N/I|BRASILEIRO(A)|          2|        0|       PI|              2|              1|   Buriti dos Lopes|         422.7|         456.0|           521.9|       373.0|      340|\n",
            "+------------+---------+------------+------+--------+-------------+-----------+---------+---------+---------------+---------------+-------------------+--------------+--------------+----------------+------------+---------+\n",
            "only showing top 20 rows\n",
            "\n"
          ]
        }
      ]
    },
    {
      "cell_type": "code",
      "source": [
        "# Alterando valores das colunas segundo dicionario:\n",
        "enem_2020.withColumn(\"tipo_escola\",\n",
        "                         f.when(enem_2020.tipo_escola == 2, \"PUBLICA\")\\\n",
        "                         .when(enem_2020.tipo_escola == 3, \"PRIVADA\")\\\n",
        "                         .when(enem_2020.tipo_escola == 4, \"EXTERIOR\")\n",
        ").show()"
      ],
      "metadata": {
        "colab": {
          "base_uri": "https://localhost:8080/"
        },
        "id": "KykOqfZ9UxMo",
        "outputId": "63a349b9-503c-413c-a510-ff2e4f996617"
      },
      "execution_count": 193,
      "outputs": [
        {
          "output_type": "stream",
          "name": "stdout",
          "text": [
            "+------------+---------+------------+------+--------+-------------+-----------+---------+---------+---------------+---------------+-------------------+--------------+--------------+----------------+------------+---------+\n",
            "|   inscricao|ano_prova|faixa_etaria|genero|cor_raca|nacionalidade|tipo_escola|treineiro|uf_escola|dependencia_esc|localizacao_esc|      municipio_esc|n_ciencias_nat|n_ciencias_hum|n_linguagens_cod|n_matematica|n_redacao|\n",
            "+------------+---------+------------+------+--------+-------------+-----------+---------+---------+---------------+---------------+-------------------+--------------+--------------+----------------+------------+---------+\n",
            "|200001908998|     2020|         N/I|     M|     N/I|BRASILEIRO(A)|    PUBLICA|        0|       SP|              3|              1|Santana de Parna�ba|         620.8|         675.0|           624.2|       759.4|      760|\n",
            "|200003209996|     2020|         N/I|     F|     N/I|BRASILEIRO(A)|    PUBLICA|        0|       AM|              2|              1|             Silves|         486.9|         509.7|           532.3|       433.9|      620|\n",
            "|200005867610|     2020|         N/I|     F|     N/I|BRASILEIRO(A)|       NULL|        1|     NULL|           NULL|           NULL|            Propri�|         503.4|         448.4|           432.7|       397.0|      500|\n",
            "|200001141912|     2020|         N/I|     M|     N/I|BRASILEIRO(A)|    PUBLICA|        0|     NULL|           NULL|           NULL|          S�o Paulo|         439.6|         395.6|           505.7|       339.2|      280|\n",
            "|200002437786|     2020|         N/I|     F|     N/I|BRASILEIRO(A)|    PUBLICA|        0|     NULL|           NULL|           NULL| Ribeir�o das Neves|         482.8|         384.4|           514.6|       536.4|      940|\n",
            "|200003350911|     2020|         N/I|     F|     N/I|BRASILEIRO(A)|    PUBLICA|        0|       PI|              1|              1|             Oeiras|         516.8|         565.7|           567.7|       384.2|      880|\n",
            "|200004884707|     2020|         N/I|     M|     N/I|BRASILEIRO(A)|    PUBLICA|        0|     NULL|           NULL|           NULL|            Caruaru|         425.4|         568.0|           585.5|       615.1|      880|\n",
            "|200005725669|     2020|         N/I|     F|     N/I|BRASILEIRO(A)|    PUBLICA|        0|       MT|              2|              1|      V�rzea Grande|         467.5|         518.8|           541.0|       404.6|      600|\n",
            "|200004043002|     2020|         N/I|     M|     N/I|BRASILEIRO(A)|    PRIVADA|        0|     NULL|           NULL|           NULL|          S�o Paulo|         530.9|         631.1|           601.8|       634.6|      700|\n",
            "|200004462096|     2020|         N/I|     F|     N/I|BRASILEIRO(A)|    PUBLICA|        0|       SP|              2|              1|      Guaratinguet�|         578.4|         681.1|           638.2|       669.8|      820|\n",
            "|200006077840|     2020|         N/I|     F|     N/I|BRASILEIRO(A)|       NULL|        1|     NULL|           NULL|           NULL|            Camaqu�|         447.3|         565.0|           557.3|       359.4|      600|\n",
            "|200002727241|     2020|         N/I|     M|     N/I|BRASILEIRO(A)|    PUBLICA|        0|       RJ|              1|              1|            Itagua�|         606.3|         659.8|           607.1|       743.0|      920|\n",
            "|200004954618|     2020|         N/I|     M|     N/I|BRASILEIRO(A)|    PUBLICA|        0|     NULL|           NULL|           NULL|        S�o Gabriel|         477.7|         589.8|           536.7|       516.7|      620|\n",
            "|200002347958|     2020|         N/I|     M|     N/I|BRASILEIRO(A)|       NULL|        1|     NULL|           NULL|           NULL|            Goi�nia|         484.1|         699.2|           638.1|       671.5|      680|\n",
            "|200004311829|     2020|         N/I|     F|     N/I|BRASILEIRO(A)|    PUBLICA|        0|     NULL|           NULL|           NULL|           Guanh�es|         411.0|         415.5|           491.7|       491.1|      720|\n",
            "|200002597919|     2020|         N/I|     M|     N/I|BRASILEIRO(A)|    PUBLICA|        0|     NULL|           NULL|           NULL|          Castanhal|         555.8|         525.5|           493.4|       354.4|      500|\n",
            "|200001051933|     2020|         N/I|     F|     N/I|BRASILEIRO(A)|       NULL|        1|     NULL|           NULL|           NULL|         A�ail�ndia|         443.9|         474.4|           445.2|       443.9|      380|\n",
            "|200005503430|     2020|         N/I|     F|     N/I|BRASILEIRO(A)|    PUBLICA|        0|     NULL|           NULL|           NULL|            Aracaju|         441.0|         376.3|           481.5|       408.5|      360|\n",
            "|200004401981|     2020|         N/I|     F|     N/I|BRASILEIRO(A)|    PUBLICA|        0|     NULL|           NULL|           NULL|           Corrente|         454.6|         575.4|           606.3|       493.9|      600|\n",
            "|200005300966|     2020|         N/I|     M|     N/I|BRASILEIRO(A)|    PUBLICA|        0|       PI|              2|              1|   Buriti dos Lopes|         422.7|         456.0|           521.9|       373.0|      340|\n",
            "+------------+---------+------------+------+--------+-------------+-----------+---------+---------+---------------+---------------+-------------------+--------------+--------------+----------------+------------+---------+\n",
            "only showing top 20 rows\n",
            "\n"
          ]
        }
      ]
    },
    {
      "cell_type": "code",
      "source": [
        "# Aplicando alterações:\n",
        "enem_2020 = enem_2020.withColumn(\"tipo_escola\",\n",
        "                         f.when(enem_2020.tipo_escola == 2, \"PUBLICA\")\\\n",
        "                         .when(enem_2020.tipo_escola == 3, \"PRIVADA\")\\\n",
        "                         .when(enem_2020.tipo_escola == 4, \"EXTERIOR\")\n",
        ")"
      ],
      "metadata": {
        "id": "kOoO6pAOVFQX"
      },
      "execution_count": 194,
      "outputs": []
    },
    {
      "cell_type": "code",
      "source": [
        "enem_2020.show()"
      ],
      "metadata": {
        "colab": {
          "base_uri": "https://localhost:8080/"
        },
        "id": "hTGko_EIVMz4",
        "outputId": "6babfadd-d83d-4360-d2a0-5e0918c9f812"
      },
      "execution_count": 195,
      "outputs": [
        {
          "output_type": "stream",
          "name": "stdout",
          "text": [
            "+------------+---------+------------+------+--------+-------------+-----------+---------+---------+---------------+---------------+-------------------+--------------+--------------+----------------+------------+---------+\n",
            "|   inscricao|ano_prova|faixa_etaria|genero|cor_raca|nacionalidade|tipo_escola|treineiro|uf_escola|dependencia_esc|localizacao_esc|      municipio_esc|n_ciencias_nat|n_ciencias_hum|n_linguagens_cod|n_matematica|n_redacao|\n",
            "+------------+---------+------------+------+--------+-------------+-----------+---------+---------+---------------+---------------+-------------------+--------------+--------------+----------------+------------+---------+\n",
            "|200001908998|     2020|         N/I|     M|     N/I|BRASILEIRO(A)|    PUBLICA|        0|       SP|              3|              1|Santana de Parna�ba|         620.8|         675.0|           624.2|       759.4|      760|\n",
            "|200003209996|     2020|         N/I|     F|     N/I|BRASILEIRO(A)|    PUBLICA|        0|       AM|              2|              1|             Silves|         486.9|         509.7|           532.3|       433.9|      620|\n",
            "|200005867610|     2020|         N/I|     F|     N/I|BRASILEIRO(A)|       NULL|        1|     NULL|           NULL|           NULL|            Propri�|         503.4|         448.4|           432.7|       397.0|      500|\n",
            "|200001141912|     2020|         N/I|     M|     N/I|BRASILEIRO(A)|    PUBLICA|        0|     NULL|           NULL|           NULL|          S�o Paulo|         439.6|         395.6|           505.7|       339.2|      280|\n",
            "|200002437786|     2020|         N/I|     F|     N/I|BRASILEIRO(A)|    PUBLICA|        0|     NULL|           NULL|           NULL| Ribeir�o das Neves|         482.8|         384.4|           514.6|       536.4|      940|\n",
            "|200003350911|     2020|         N/I|     F|     N/I|BRASILEIRO(A)|    PUBLICA|        0|       PI|              1|              1|             Oeiras|         516.8|         565.7|           567.7|       384.2|      880|\n",
            "|200004884707|     2020|         N/I|     M|     N/I|BRASILEIRO(A)|    PUBLICA|        0|     NULL|           NULL|           NULL|            Caruaru|         425.4|         568.0|           585.5|       615.1|      880|\n",
            "|200005725669|     2020|         N/I|     F|     N/I|BRASILEIRO(A)|    PUBLICA|        0|       MT|              2|              1|      V�rzea Grande|         467.5|         518.8|           541.0|       404.6|      600|\n",
            "|200004043002|     2020|         N/I|     M|     N/I|BRASILEIRO(A)|    PRIVADA|        0|     NULL|           NULL|           NULL|          S�o Paulo|         530.9|         631.1|           601.8|       634.6|      700|\n",
            "|200004462096|     2020|         N/I|     F|     N/I|BRASILEIRO(A)|    PUBLICA|        0|       SP|              2|              1|      Guaratinguet�|         578.4|         681.1|           638.2|       669.8|      820|\n",
            "|200006077840|     2020|         N/I|     F|     N/I|BRASILEIRO(A)|       NULL|        1|     NULL|           NULL|           NULL|            Camaqu�|         447.3|         565.0|           557.3|       359.4|      600|\n",
            "|200002727241|     2020|         N/I|     M|     N/I|BRASILEIRO(A)|    PUBLICA|        0|       RJ|              1|              1|            Itagua�|         606.3|         659.8|           607.1|       743.0|      920|\n",
            "|200004954618|     2020|         N/I|     M|     N/I|BRASILEIRO(A)|    PUBLICA|        0|     NULL|           NULL|           NULL|        S�o Gabriel|         477.7|         589.8|           536.7|       516.7|      620|\n",
            "|200002347958|     2020|         N/I|     M|     N/I|BRASILEIRO(A)|       NULL|        1|     NULL|           NULL|           NULL|            Goi�nia|         484.1|         699.2|           638.1|       671.5|      680|\n",
            "|200004311829|     2020|         N/I|     F|     N/I|BRASILEIRO(A)|    PUBLICA|        0|     NULL|           NULL|           NULL|           Guanh�es|         411.0|         415.5|           491.7|       491.1|      720|\n",
            "|200002597919|     2020|         N/I|     M|     N/I|BRASILEIRO(A)|    PUBLICA|        0|     NULL|           NULL|           NULL|          Castanhal|         555.8|         525.5|           493.4|       354.4|      500|\n",
            "|200001051933|     2020|         N/I|     F|     N/I|BRASILEIRO(A)|       NULL|        1|     NULL|           NULL|           NULL|         A�ail�ndia|         443.9|         474.4|           445.2|       443.9|      380|\n",
            "|200005503430|     2020|         N/I|     F|     N/I|BRASILEIRO(A)|    PUBLICA|        0|     NULL|           NULL|           NULL|            Aracaju|         441.0|         376.3|           481.5|       408.5|      360|\n",
            "|200004401981|     2020|         N/I|     F|     N/I|BRASILEIRO(A)|    PUBLICA|        0|     NULL|           NULL|           NULL|           Corrente|         454.6|         575.4|           606.3|       493.9|      600|\n",
            "|200005300966|     2020|         N/I|     M|     N/I|BRASILEIRO(A)|    PUBLICA|        0|       PI|              2|              1|   Buriti dos Lopes|         422.7|         456.0|           521.9|       373.0|      340|\n",
            "+------------+---------+------------+------+--------+-------------+-----------+---------+---------+---------------+---------------+-------------------+--------------+--------------+----------------+------------+---------+\n",
            "only showing top 20 rows\n",
            "\n"
          ]
        }
      ]
    },
    {
      "cell_type": "code",
      "source": [
        "# Removendo valores nulos do tipo escola:\n",
        "enem_2020.dropna(subset=[\"tipo_escola\"]).show()"
      ],
      "metadata": {
        "colab": {
          "base_uri": "https://localhost:8080/"
        },
        "id": "pD8U0C2WVPZX",
        "outputId": "dd9056a4-33bf-496b-a890-34dc879e35c8"
      },
      "execution_count": 197,
      "outputs": [
        {
          "output_type": "stream",
          "name": "stdout",
          "text": [
            "+------------+---------+------------+------+--------+-------------+-----------+---------+---------+---------------+---------------+-------------------+--------------+--------------+----------------+------------+---------+\n",
            "|   inscricao|ano_prova|faixa_etaria|genero|cor_raca|nacionalidade|tipo_escola|treineiro|uf_escola|dependencia_esc|localizacao_esc|      municipio_esc|n_ciencias_nat|n_ciencias_hum|n_linguagens_cod|n_matematica|n_redacao|\n",
            "+------------+---------+------------+------+--------+-------------+-----------+---------+---------+---------------+---------------+-------------------+--------------+--------------+----------------+------------+---------+\n",
            "|200001908998|     2020|         N/I|     M|     N/I|BRASILEIRO(A)|    PUBLICA|        0|       SP|              3|              1|Santana de Parna�ba|         620.8|         675.0|           624.2|       759.4|      760|\n",
            "|200003209996|     2020|         N/I|     F|     N/I|BRASILEIRO(A)|    PUBLICA|        0|       AM|              2|              1|             Silves|         486.9|         509.7|           532.3|       433.9|      620|\n",
            "|200001141912|     2020|         N/I|     M|     N/I|BRASILEIRO(A)|    PUBLICA|        0|     NULL|           NULL|           NULL|          S�o Paulo|         439.6|         395.6|           505.7|       339.2|      280|\n",
            "|200002437786|     2020|         N/I|     F|     N/I|BRASILEIRO(A)|    PUBLICA|        0|     NULL|           NULL|           NULL| Ribeir�o das Neves|         482.8|         384.4|           514.6|       536.4|      940|\n",
            "|200003350911|     2020|         N/I|     F|     N/I|BRASILEIRO(A)|    PUBLICA|        0|       PI|              1|              1|             Oeiras|         516.8|         565.7|           567.7|       384.2|      880|\n",
            "|200004884707|     2020|         N/I|     M|     N/I|BRASILEIRO(A)|    PUBLICA|        0|     NULL|           NULL|           NULL|            Caruaru|         425.4|         568.0|           585.5|       615.1|      880|\n",
            "|200005725669|     2020|         N/I|     F|     N/I|BRASILEIRO(A)|    PUBLICA|        0|       MT|              2|              1|      V�rzea Grande|         467.5|         518.8|           541.0|       404.6|      600|\n",
            "|200004043002|     2020|         N/I|     M|     N/I|BRASILEIRO(A)|    PRIVADA|        0|     NULL|           NULL|           NULL|          S�o Paulo|         530.9|         631.1|           601.8|       634.6|      700|\n",
            "|200004462096|     2020|         N/I|     F|     N/I|BRASILEIRO(A)|    PUBLICA|        0|       SP|              2|              1|      Guaratinguet�|         578.4|         681.1|           638.2|       669.8|      820|\n",
            "|200002727241|     2020|         N/I|     M|     N/I|BRASILEIRO(A)|    PUBLICA|        0|       RJ|              1|              1|            Itagua�|         606.3|         659.8|           607.1|       743.0|      920|\n",
            "|200004954618|     2020|         N/I|     M|     N/I|BRASILEIRO(A)|    PUBLICA|        0|     NULL|           NULL|           NULL|        S�o Gabriel|         477.7|         589.8|           536.7|       516.7|      620|\n",
            "|200004311829|     2020|         N/I|     F|     N/I|BRASILEIRO(A)|    PUBLICA|        0|     NULL|           NULL|           NULL|           Guanh�es|         411.0|         415.5|           491.7|       491.1|      720|\n",
            "|200002597919|     2020|         N/I|     M|     N/I|BRASILEIRO(A)|    PUBLICA|        0|     NULL|           NULL|           NULL|          Castanhal|         555.8|         525.5|           493.4|       354.4|      500|\n",
            "|200005503430|     2020|         N/I|     F|     N/I|BRASILEIRO(A)|    PUBLICA|        0|     NULL|           NULL|           NULL|            Aracaju|         441.0|         376.3|           481.5|       408.5|      360|\n",
            "|200004401981|     2020|         N/I|     F|     N/I|BRASILEIRO(A)|    PUBLICA|        0|     NULL|           NULL|           NULL|           Corrente|         454.6|         575.4|           606.3|       493.9|      600|\n",
            "|200005300966|     2020|         N/I|     M|     N/I|BRASILEIRO(A)|    PUBLICA|        0|       PI|              2|              1|   Buriti dos Lopes|         422.7|         456.0|           521.9|       373.0|      340|\n",
            "|200006635187|     2020|         N/I|     F|     N/I|BRASILEIRO(A)|    PUBLICA|        0|       MG|              2|              1|     Belo Horizonte|         519.8|         550.6|           579.5|       648.6|      640|\n",
            "|200002454016|     2020|         N/I|     F|     N/I|BRASILEIRO(A)|    PUBLICA|        0|       ES|              2|              1|          Guarapari|         440.9|         484.2|           452.0|       370.9|      240|\n",
            "|200002186164|     2020|         N/I|     F|     N/I|BRASILEIRO(A)|    PUBLICA|        0|       RJ|              2|              1|     Rio de Janeiro|         471.8|         535.4|           554.2|       538.6|      560|\n",
            "|200003043997|     2020|         N/I|     F|     N/I|BRASILEIRO(A)|    PUBLICA|        0|     NULL|           NULL|           NULL| Concei��o da Feira|         615.9|         651.0|           628.9|       517.2|      700|\n",
            "+------------+---------+------------+------+--------+-------------+-----------+---------+---------+---------------+---------------+-------------------+--------------+--------------+----------------+------------+---------+\n",
            "only showing top 20 rows\n",
            "\n"
          ]
        }
      ]
    },
    {
      "cell_type": "code",
      "source": [
        "# Aplicando alteração\n",
        "enem_2020 = enem_2020.dropna(subset=[\"tipo_escola\"])"
      ],
      "metadata": {
        "id": "v-ficCrUVgFH"
      },
      "execution_count": 198,
      "outputs": []
    },
    {
      "cell_type": "code",
      "source": [
        "# Verificando alteração:\n",
        "enem_2020.filter((enem_2020[\"tipo_escola\"].isNull())).show()"
      ],
      "metadata": {
        "colab": {
          "base_uri": "https://localhost:8080/"
        },
        "id": "pEIbs-0lVs63",
        "outputId": "262e820b-f762-42aa-c2a2-5d5dbb1c0431"
      },
      "execution_count": 199,
      "outputs": [
        {
          "output_type": "stream",
          "name": "stdout",
          "text": [
            "+---------+---------+------------+------+--------+-------------+-----------+---------+---------+---------------+---------------+-------------+--------------+--------------+----------------+------------+---------+\n",
            "|inscricao|ano_prova|faixa_etaria|genero|cor_raca|nacionalidade|tipo_escola|treineiro|uf_escola|dependencia_esc|localizacao_esc|municipio_esc|n_ciencias_nat|n_ciencias_hum|n_linguagens_cod|n_matematica|n_redacao|\n",
            "+---------+---------+------------+------+--------+-------------+-----------+---------+---------+---------------+---------------+-------------+--------------+--------------+----------------+------------+---------+\n",
            "+---------+---------+------------+------+--------+-------------+-----------+---------+---------+---------------+---------------+-------------+--------------+--------------+----------------+------------+---------+\n",
            "\n"
          ]
        }
      ]
    },
    {
      "cell_type": "code",
      "source": [
        "# Alterando dados segundo dicionario\n",
        "enem_2020.withColumn(\"treineiro\",\n",
        "                         f.when(enem_2020.treineiro == 1, \"SIM\").otherwise(\"NAO\")\n",
        "                         ).show()"
      ],
      "metadata": {
        "colab": {
          "base_uri": "https://localhost:8080/"
        },
        "id": "jEhYxnrqWEAX",
        "outputId": "75c6a631-ff6c-4574-b07d-8c7a9a928ef8"
      },
      "execution_count": 200,
      "outputs": [
        {
          "output_type": "stream",
          "name": "stdout",
          "text": [
            "+------------+---------+------------+------+--------+-------------+-----------+---------+---------+---------------+---------------+-------------------+--------------+--------------+----------------+------------+---------+\n",
            "|   inscricao|ano_prova|faixa_etaria|genero|cor_raca|nacionalidade|tipo_escola|treineiro|uf_escola|dependencia_esc|localizacao_esc|      municipio_esc|n_ciencias_nat|n_ciencias_hum|n_linguagens_cod|n_matematica|n_redacao|\n",
            "+------------+---------+------------+------+--------+-------------+-----------+---------+---------+---------------+---------------+-------------------+--------------+--------------+----------------+------------+---------+\n",
            "|200001908998|     2020|         N/I|     M|     N/I|BRASILEIRO(A)|    PUBLICA|      NAO|       SP|              3|              1|Santana de Parna�ba|         620.8|         675.0|           624.2|       759.4|      760|\n",
            "|200003209996|     2020|         N/I|     F|     N/I|BRASILEIRO(A)|    PUBLICA|      NAO|       AM|              2|              1|             Silves|         486.9|         509.7|           532.3|       433.9|      620|\n",
            "|200001141912|     2020|         N/I|     M|     N/I|BRASILEIRO(A)|    PUBLICA|      NAO|     NULL|           NULL|           NULL|          S�o Paulo|         439.6|         395.6|           505.7|       339.2|      280|\n",
            "|200002437786|     2020|         N/I|     F|     N/I|BRASILEIRO(A)|    PUBLICA|      NAO|     NULL|           NULL|           NULL| Ribeir�o das Neves|         482.8|         384.4|           514.6|       536.4|      940|\n",
            "|200003350911|     2020|         N/I|     F|     N/I|BRASILEIRO(A)|    PUBLICA|      NAO|       PI|              1|              1|             Oeiras|         516.8|         565.7|           567.7|       384.2|      880|\n",
            "|200004884707|     2020|         N/I|     M|     N/I|BRASILEIRO(A)|    PUBLICA|      NAO|     NULL|           NULL|           NULL|            Caruaru|         425.4|         568.0|           585.5|       615.1|      880|\n",
            "|200005725669|     2020|         N/I|     F|     N/I|BRASILEIRO(A)|    PUBLICA|      NAO|       MT|              2|              1|      V�rzea Grande|         467.5|         518.8|           541.0|       404.6|      600|\n",
            "|200004043002|     2020|         N/I|     M|     N/I|BRASILEIRO(A)|    PRIVADA|      NAO|     NULL|           NULL|           NULL|          S�o Paulo|         530.9|         631.1|           601.8|       634.6|      700|\n",
            "|200004462096|     2020|         N/I|     F|     N/I|BRASILEIRO(A)|    PUBLICA|      NAO|       SP|              2|              1|      Guaratinguet�|         578.4|         681.1|           638.2|       669.8|      820|\n",
            "|200002727241|     2020|         N/I|     M|     N/I|BRASILEIRO(A)|    PUBLICA|      NAO|       RJ|              1|              1|            Itagua�|         606.3|         659.8|           607.1|       743.0|      920|\n",
            "|200004954618|     2020|         N/I|     M|     N/I|BRASILEIRO(A)|    PUBLICA|      NAO|     NULL|           NULL|           NULL|        S�o Gabriel|         477.7|         589.8|           536.7|       516.7|      620|\n",
            "|200004311829|     2020|         N/I|     F|     N/I|BRASILEIRO(A)|    PUBLICA|      NAO|     NULL|           NULL|           NULL|           Guanh�es|         411.0|         415.5|           491.7|       491.1|      720|\n",
            "|200002597919|     2020|         N/I|     M|     N/I|BRASILEIRO(A)|    PUBLICA|      NAO|     NULL|           NULL|           NULL|          Castanhal|         555.8|         525.5|           493.4|       354.4|      500|\n",
            "|200005503430|     2020|         N/I|     F|     N/I|BRASILEIRO(A)|    PUBLICA|      NAO|     NULL|           NULL|           NULL|            Aracaju|         441.0|         376.3|           481.5|       408.5|      360|\n",
            "|200004401981|     2020|         N/I|     F|     N/I|BRASILEIRO(A)|    PUBLICA|      NAO|     NULL|           NULL|           NULL|           Corrente|         454.6|         575.4|           606.3|       493.9|      600|\n",
            "|200005300966|     2020|         N/I|     M|     N/I|BRASILEIRO(A)|    PUBLICA|      NAO|       PI|              2|              1|   Buriti dos Lopes|         422.7|         456.0|           521.9|       373.0|      340|\n",
            "|200006635187|     2020|         N/I|     F|     N/I|BRASILEIRO(A)|    PUBLICA|      NAO|       MG|              2|              1|     Belo Horizonte|         519.8|         550.6|           579.5|       648.6|      640|\n",
            "|200002454016|     2020|         N/I|     F|     N/I|BRASILEIRO(A)|    PUBLICA|      NAO|       ES|              2|              1|          Guarapari|         440.9|         484.2|           452.0|       370.9|      240|\n",
            "|200002186164|     2020|         N/I|     F|     N/I|BRASILEIRO(A)|    PUBLICA|      NAO|       RJ|              2|              1|     Rio de Janeiro|         471.8|         535.4|           554.2|       538.6|      560|\n",
            "|200003043997|     2020|         N/I|     F|     N/I|BRASILEIRO(A)|    PUBLICA|      NAO|     NULL|           NULL|           NULL| Concei��o da Feira|         615.9|         651.0|           628.9|       517.2|      700|\n",
            "+------------+---------+------------+------+--------+-------------+-----------+---------+---------+---------------+---------------+-------------------+--------------+--------------+----------------+------------+---------+\n",
            "only showing top 20 rows\n",
            "\n"
          ]
        }
      ]
    },
    {
      "cell_type": "code",
      "source": [
        "enem_2020 = enem_2020.withColumn(\"treineiro\",\n",
        "                         f.when(enem_2020.treineiro == 1, \"SIM\").otherwise(\"NAO\")\n",
        "                         )"
      ],
      "metadata": {
        "id": "aZCTWs-ZZ5dW"
      },
      "execution_count": 201,
      "outputs": []
    },
    {
      "cell_type": "code",
      "source": [
        "enem_2020.show()"
      ],
      "metadata": {
        "colab": {
          "base_uri": "https://localhost:8080/"
        },
        "id": "hFo91zRvZ_ZV",
        "outputId": "89614236-e458-4ca8-bdba-7b5e7753f14f"
      },
      "execution_count": 202,
      "outputs": [
        {
          "output_type": "stream",
          "name": "stdout",
          "text": [
            "+------------+---------+------------+------+--------+-------------+-----------+---------+---------+---------------+---------------+-------------------+--------------+--------------+----------------+------------+---------+\n",
            "|   inscricao|ano_prova|faixa_etaria|genero|cor_raca|nacionalidade|tipo_escola|treineiro|uf_escola|dependencia_esc|localizacao_esc|      municipio_esc|n_ciencias_nat|n_ciencias_hum|n_linguagens_cod|n_matematica|n_redacao|\n",
            "+------------+---------+------------+------+--------+-------------+-----------+---------+---------+---------------+---------------+-------------------+--------------+--------------+----------------+------------+---------+\n",
            "|200001908998|     2020|         N/I|     M|     N/I|BRASILEIRO(A)|    PUBLICA|      NAO|       SP|              3|              1|Santana de Parna�ba|         620.8|         675.0|           624.2|       759.4|      760|\n",
            "|200003209996|     2020|         N/I|     F|     N/I|BRASILEIRO(A)|    PUBLICA|      NAO|       AM|              2|              1|             Silves|         486.9|         509.7|           532.3|       433.9|      620|\n",
            "|200001141912|     2020|         N/I|     M|     N/I|BRASILEIRO(A)|    PUBLICA|      NAO|     NULL|           NULL|           NULL|          S�o Paulo|         439.6|         395.6|           505.7|       339.2|      280|\n",
            "|200002437786|     2020|         N/I|     F|     N/I|BRASILEIRO(A)|    PUBLICA|      NAO|     NULL|           NULL|           NULL| Ribeir�o das Neves|         482.8|         384.4|           514.6|       536.4|      940|\n",
            "|200003350911|     2020|         N/I|     F|     N/I|BRASILEIRO(A)|    PUBLICA|      NAO|       PI|              1|              1|             Oeiras|         516.8|         565.7|           567.7|       384.2|      880|\n",
            "|200004884707|     2020|         N/I|     M|     N/I|BRASILEIRO(A)|    PUBLICA|      NAO|     NULL|           NULL|           NULL|            Caruaru|         425.4|         568.0|           585.5|       615.1|      880|\n",
            "|200005725669|     2020|         N/I|     F|     N/I|BRASILEIRO(A)|    PUBLICA|      NAO|       MT|              2|              1|      V�rzea Grande|         467.5|         518.8|           541.0|       404.6|      600|\n",
            "|200004043002|     2020|         N/I|     M|     N/I|BRASILEIRO(A)|    PRIVADA|      NAO|     NULL|           NULL|           NULL|          S�o Paulo|         530.9|         631.1|           601.8|       634.6|      700|\n",
            "|200004462096|     2020|         N/I|     F|     N/I|BRASILEIRO(A)|    PUBLICA|      NAO|       SP|              2|              1|      Guaratinguet�|         578.4|         681.1|           638.2|       669.8|      820|\n",
            "|200002727241|     2020|         N/I|     M|     N/I|BRASILEIRO(A)|    PUBLICA|      NAO|       RJ|              1|              1|            Itagua�|         606.3|         659.8|           607.1|       743.0|      920|\n",
            "|200004954618|     2020|         N/I|     M|     N/I|BRASILEIRO(A)|    PUBLICA|      NAO|     NULL|           NULL|           NULL|        S�o Gabriel|         477.7|         589.8|           536.7|       516.7|      620|\n",
            "|200004311829|     2020|         N/I|     F|     N/I|BRASILEIRO(A)|    PUBLICA|      NAO|     NULL|           NULL|           NULL|           Guanh�es|         411.0|         415.5|           491.7|       491.1|      720|\n",
            "|200002597919|     2020|         N/I|     M|     N/I|BRASILEIRO(A)|    PUBLICA|      NAO|     NULL|           NULL|           NULL|          Castanhal|         555.8|         525.5|           493.4|       354.4|      500|\n",
            "|200005503430|     2020|         N/I|     F|     N/I|BRASILEIRO(A)|    PUBLICA|      NAO|     NULL|           NULL|           NULL|            Aracaju|         441.0|         376.3|           481.5|       408.5|      360|\n",
            "|200004401981|     2020|         N/I|     F|     N/I|BRASILEIRO(A)|    PUBLICA|      NAO|     NULL|           NULL|           NULL|           Corrente|         454.6|         575.4|           606.3|       493.9|      600|\n",
            "|200005300966|     2020|         N/I|     M|     N/I|BRASILEIRO(A)|    PUBLICA|      NAO|       PI|              2|              1|   Buriti dos Lopes|         422.7|         456.0|           521.9|       373.0|      340|\n",
            "|200006635187|     2020|         N/I|     F|     N/I|BRASILEIRO(A)|    PUBLICA|      NAO|       MG|              2|              1|     Belo Horizonte|         519.8|         550.6|           579.5|       648.6|      640|\n",
            "|200002454016|     2020|         N/I|     F|     N/I|BRASILEIRO(A)|    PUBLICA|      NAO|       ES|              2|              1|          Guarapari|         440.9|         484.2|           452.0|       370.9|      240|\n",
            "|200002186164|     2020|         N/I|     F|     N/I|BRASILEIRO(A)|    PUBLICA|      NAO|       RJ|              2|              1|     Rio de Janeiro|         471.8|         535.4|           554.2|       538.6|      560|\n",
            "|200003043997|     2020|         N/I|     F|     N/I|BRASILEIRO(A)|    PUBLICA|      NAO|     NULL|           NULL|           NULL| Concei��o da Feira|         615.9|         651.0|           628.9|       517.2|      700|\n",
            "+------------+---------+------------+------+--------+-------------+-----------+---------+---------+---------------+---------------+-------------------+--------------+--------------+----------------+------------+---------+\n",
            "only showing top 20 rows\n",
            "\n"
          ]
        }
      ]
    },
    {
      "cell_type": "code",
      "source": [],
      "metadata": {
        "id": "pyLYCWEYaCwI"
      },
      "execution_count": null,
      "outputs": []
    }
  ],
  "metadata": {
    "colab": {
      "provenance": [],
      "mount_file_id": "1giSEFsKMlxH-TqYJ1i-acGAp3VWxdT0X",
      "authorship_tag": "ABX9TyPxkYiJGIc7/TwvomMOVTc4",
      "include_colab_link": true
    },
    "kernelspec": {
      "display_name": "Python 3",
      "name": "python3"
    },
    "language_info": {
      "name": "python"
    }
  },
  "nbformat": 4,
  "nbformat_minor": 0
}