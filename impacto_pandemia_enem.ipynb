{
  "cells": [
    {
      "cell_type": "markdown",
      "metadata": {
        "id": "view-in-github",
        "colab_type": "text"
      },
      "source": [
        "<a href=\"https://colab.research.google.com/github/hugopoggi/enem/blob/main/impacto_pandemia_enem.ipynb\" target=\"_parent\"><img src=\"https://colab.research.google.com/assets/colab-badge.svg\" alt=\"Open In Colab\"/></a>"
      ]
    },
    {
      "cell_type": "code",
      "execution_count": 1,
      "metadata": {
        "colab": {
          "base_uri": "https://localhost:8080/"
        },
        "id": "BbgLD6BnZpAe",
        "outputId": "dd5dedfa-b306-4e9d-ac69-80aec471a35b"
      },
      "outputs": [
        {
          "output_type": "stream",
          "name": "stdout",
          "text": [
            "Collecting pyspark\n",
            "  Downloading pyspark-3.5.1.tar.gz (317.0 MB)\n",
            "\u001b[2K     \u001b[90m━━━━━━━━━━━━━━━━━━━━━━━━━━━━━━━━━━━━━━━━\u001b[0m \u001b[32m317.0/317.0 MB\u001b[0m \u001b[31m3.5 MB/s\u001b[0m eta \u001b[36m0:00:00\u001b[0m\n",
            "\u001b[?25h  Preparing metadata (setup.py) ... \u001b[?25l\u001b[?25hdone\n",
            "Requirement already satisfied: py4j==0.10.9.7 in /usr/local/lib/python3.10/dist-packages (from pyspark) (0.10.9.7)\n",
            "Building wheels for collected packages: pyspark\n",
            "  Building wheel for pyspark (setup.py) ... \u001b[?25l\u001b[?25hdone\n",
            "  Created wheel for pyspark: filename=pyspark-3.5.1-py2.py3-none-any.whl size=317488493 sha256=f8765ff7ef7943f4b6af79c84d54972ff9235ec702a427ba2e1125f0bfe5d2f7\n",
            "  Stored in directory: /root/.cache/pip/wheels/80/1d/60/2c256ed38dddce2fdd93be545214a63e02fbd8d74fb0b7f3a6\n",
            "Successfully built pyspark\n",
            "Installing collected packages: pyspark\n",
            "Successfully installed pyspark-3.5.1\n"
          ]
        }
      ],
      "source": [
        "!pip install pyspark"
      ]
    },
    {
      "cell_type": "code",
      "execution_count": 2,
      "metadata": {
        "id": "qUgEWrTTZ5lb"
      },
      "outputs": [],
      "source": [
        "from pyspark.sql import SparkSession as ss\n",
        "from pyspark.sql import functions as f\n",
        "from pyspark.sql.types import DoubleType"
      ]
    },
    {
      "cell_type": "code",
      "execution_count": 3,
      "metadata": {
        "id": "SmCA8hgxa0Fw"
      },
      "outputs": [],
      "source": [
        "spark = ss.builder.appName(\"ENEM\").getOrCreate()"
      ]
    },
    {
      "cell_type": "markdown",
      "source": [
        "**INICIANDO TRATAMENTO DE DADOS ENEM 2019\n",
        "**"
      ],
      "metadata": {
        "id": "g0ZXl97NO4hM"
      }
    },
    {
      "cell_type": "code",
      "execution_count": 4,
      "metadata": {
        "id": "J3WexsFkdKId"
      },
      "outputs": [],
      "source": [
        "# Importando a base de dados do enem de 2019\n",
        "url = \"/content/drive/MyDrive/BasesSpark/enem/enem_2019/DADOS/MICRODADOS*\"\n",
        "enem_2019 =spark.read.csv(\n",
        "    url,\n",
        "    header=True,\n",
        "    inferSchema=True,\n",
        "    encoding= \"UTF-8\",\n",
        "    sep=\";\"\n",
        ")"
      ]
    },
    {
      "cell_type": "code",
      "execution_count": 5,
      "metadata": {
        "colab": {
          "base_uri": "https://localhost:8080/"
        },
        "id": "pMxCEV8ZeML2",
        "outputId": "7bc5b422-fc7d-4880-d2ec-9f5c03413035"
      },
      "outputs": [
        {
          "output_type": "stream",
          "name": "stdout",
          "text": [
            "+------------+------+---------------+-------+---------------+-----------+----------------+---------------+---------------+---------+---------+------------+----------------+----------------+---------+---------+----------------------+------------------+---------------+------------------+------------------+-----------+-----------+--------------+--------------+--------------+--------------+-----------+-----------+-----------+-----------+----------+----------+----------+----------+--------------------+--------------------+--------------------+--------------------+---------+--------------------+--------------------+--------------------+--------------------+-----------------+-------------+-------------+-------------+-------------+-------------+---------------+----+----+----+----+----+----+----+----+----+----+----+----+----+----+----+----+----+----+----+----+----+----+----+----+----+\n",
            "|NU_INSCRICAO|NU_ANO|TP_FAIXA_ETARIA|TP_SEXO|TP_ESTADO_CIVIL|TP_COR_RACA|TP_NACIONALIDADE|TP_ST_CONCLUSAO|TP_ANO_CONCLUIU|TP_ESCOLA|TP_ENSINO|IN_TREINEIRO|CO_MUNICIPIO_ESC|NO_MUNICIPIO_ESC|CO_UF_ESC|SG_UF_ESC|TP_DEPENDENCIA_ADM_ESC|TP_LOCALIZACAO_ESC|TP_SIT_FUNC_ESC|CO_MUNICIPIO_PROVA|NO_MUNICIPIO_PROVA|CO_UF_PROVA|SG_UF_PROVA|TP_PRESENCA_CN|TP_PRESENCA_CH|TP_PRESENCA_LC|TP_PRESENCA_MT|CO_PROVA_CN|CO_PROVA_CH|CO_PROVA_LC|CO_PROVA_MT|NU_NOTA_CN|NU_NOTA_CH|NU_NOTA_LC|NU_NOTA_MT|     TX_RESPOSTAS_CN|     TX_RESPOSTAS_CH|     TX_RESPOSTAS_LC|     TX_RESPOSTAS_MT|TP_LINGUA|      TX_GABARITO_CN|      TX_GABARITO_CH|      TX_GABARITO_LC|      TX_GABARITO_MT|TP_STATUS_REDACAO|NU_NOTA_COMP1|NU_NOTA_COMP2|NU_NOTA_COMP3|NU_NOTA_COMP4|NU_NOTA_COMP5|NU_NOTA_REDACAO|Q001|Q002|Q003|Q004|Q005|Q006|Q007|Q008|Q009|Q010|Q011|Q012|Q013|Q014|Q015|Q016|Q017|Q018|Q019|Q020|Q021|Q022|Q023|Q024|Q025|\n",
            "+------------+------+---------------+-------+---------------+-----------+----------------+---------------+---------------+---------+---------+------------+----------------+----------------+---------+---------+----------------------+------------------+---------------+------------------+------------------+-----------+-----------+--------------+--------------+--------------+--------------+-----------+-----------+-----------+-----------+----------+----------+----------+----------+--------------------+--------------------+--------------------+--------------------+---------+--------------------+--------------------+--------------------+--------------------+-----------------+-------------+-------------+-------------+-------------+-------------+---------------+----+----+----+----+----+----+----+----+----+----+----+----+----+----+----+----+----+----+----+----+----+----+----+----+----+\n",
            "|190001595656|  2019|             13|      M|              1|          3|               1|              1|             11|        1|     NULL|           0|            NULL|            NULL|     NULL|     NULL|                  NULL|              NULL|           NULL|           3552205|          Sorocaba|         35|         SP|             0|             0|             0|             0|       NULL|       NULL|       NULL|       NULL|      NULL|      NULL|      NULL|      NULL|                NULL|                NULL|                NULL|                NULL|        0|                NULL|                NULL|                NULL|                NULL|             NULL|         NULL|         NULL|         NULL|         NULL|         NULL|           NULL|   B|   B|   A|   A|   2|   A|   A|   B|   C|   A|   A|   B|   A|   A|   A|   A|   A|   A|   A|   A|   A|   C|   A|   C|   B|\n",
            "|190001421546|  2019|              8|      M|              1|          1|               1|              1|              5|        1|        1|           0|            NULL|            NULL|     NULL|     NULL|                  NULL|              NULL|           NULL|           2910800|  Feira de Santana|         29|         BA|             0|             0|             0|             0|       NULL|       NULL|       NULL|       NULL|      NULL|      NULL|      NULL|      NULL|                NULL|                NULL|                NULL|                NULL|        0|                NULL|                NULL|                NULL|                NULL|             NULL|         NULL|         NULL|         NULL|         NULL|         NULL|           NULL|   C|   E|   B|   B|   4|   C|   A|   B|   C|   A|   A|   B|   A|   A|   A|   A|   A|   A|   B|   A|   A|   E|   A|   A|   B|\n",
            "|190001133210|  2019|             13|      F|              1|          3|               1|              1|             13|        1|        1|           0|            NULL|            NULL|     NULL|     NULL|                  NULL|              NULL|           NULL|           2304400|         Fortaleza|         23|         CE|             0|             0|             0|             0|       NULL|       NULL|       NULL|       NULL|      NULL|      NULL|      NULL|      NULL|                NULL|                NULL|                NULL|                NULL|        1|                NULL|                NULL|                NULL|                NULL|             NULL|         NULL|         NULL|         NULL|         NULL|         NULL|           NULL|   E|   E|   B|   C|   2|   B|   A|   B|   B|   A|   A|   B|   A|   A|   A|   A|   A|   A|   B|   A|   A|   C|   A|   A|   B|\n",
            "|190001199383|  2019|             10|      F|              1|          1|               1|              1|              4|        1|     NULL|           0|            NULL|            NULL|     NULL|     NULL|                  NULL|              NULL|           NULL|           1721000|            Palmas|         17|         TO|             1|             1|             1|             1|        504|        510|        513|        516|     483.8|     503.6|     537.3|     392.0|BACCEEBEECDBEDDAE...|AECEDADAABAADBAAD...|99999AAABEBBCCBDC...|DDBBBBCDCCDCAECCB...|        1|BEEAAEBEEBADEADDA...|EEBCEEDBADBBCBABC...|ADBBEDCABAABBCBCD...|BEDEEEAADBEBACABC...|                1|          120|          120|          120|          100|            0|            460|   C|   E|   B|   D|   4|   E|   A|   C|   C|   A|   B|   B|   A|   B|   A|   A|   A|   A|   C|   A|   B|   D|   A|   B|   B|\n",
            "|190001237802|  2019|              7|      F|              1|          1|               1|              1|              4|        1|        1|           0|            NULL|            NULL|     NULL|     NULL|                  NULL|              NULL|           NULL|           3118601|          Contagem|         31|         MG|             1|             1|             1|             1|        504|        510|        513|        516|     513.6|     575.5|     570.7|     677.0|EEBEDEEEEEBDCEEBE...|EEDCCEDDBCBEABAAA...|ABBBE99999ABBCACC...|CDEEEEEAEECBABABC...|        0|BEEAAEBEEBADEADDA...|EEBCEEDBADBBCBABC...|ADBBEDCABAABBCBCD...|BEDEEEAADBEBACABC...|                1|          160|          120|          180|          200|          200|            860|   E|   E|   C|   C|   3|   G|   A|   C|   D|   B|   A|   B|   B|   B|   A|   B|   A|   A|   B|   A|   A|   C|   B|   B|   B|\n",
            "|190001782198|  2019|             13|      M|              2|          2|               1|              1|             13|        1|     NULL|           0|            NULL|            NULL|     NULL|     NULL|                  NULL|              NULL|           NULL|           5107602|      Rondon�polis|         51|         MT|             1|             1|             1|             1|        505|        508|        512|        518|     563.7|     644.9|     564.2|     675.3|DCDBDEDCDDBCBEADB...|ABABADBECAEEBCBBD...|BBDDA99999ABACBEC...|DDCBADCBCDEABEACE...|        0|DADCCEBBCCACBEEBE...|CBABADBBCEEEBCBAD...|BBEDABDACACBABAEC...|DBEBACABCDBABECEE...|                1|          160|          200|          180|          180|           80|            800|   B|   B|   C|   B|   7|   E|   A|   B|   D|   A|   C|   B|   A|   B|   A|   B|   A|   A|   B|   A|   A|   E|   A|   B|   B|\n",
            "|190001421548|  2019|              7|      F|              1|          3|               1|              1|              5|        1|        1|           0|            NULL|            NULL|     NULL|     NULL|                  NULL|              NULL|           NULL|           2924009|      Paulo Afonso|         29|         BA|             1|             1|             1|             1|        505|        508|        512|        518|     484.6|     488.4|     507.2|     594.7|BADEBCACADECAEAAA...|AAAECDAACDAEDCDBD...|99999BEDAACECEACD...|ACBBAECECDBDDDCED...|        1|DADCCEBBCCACBEEBE...|CBABADBBCEEEBCBAD...|BBEDABDACACBABAEC...|DBEBACABCDBABECEE...|                1|          140|          120|          120|          160|           60|            600|   E|   B|   C|   B|   3|   B|   A|   B|   B|   A|   A|   B|   A|   A|   A|   A|   A|   A|   B|   A|   A|   B|   A|   A|   A|\n",
            "|190001595657|  2019|              5|      M|              1|          3|               1|              1|              1|        1|     NULL|           0|            NULL|            NULL|     NULL|     NULL|                  NULL|              NULL|           NULL|           3550308|         S�o Paulo|         35|         SP|             0|             0|             0|             0|       NULL|       NULL|       NULL|       NULL|      NULL|      NULL|      NULL|      NULL|                NULL|                NULL|                NULL|                NULL|        0|                NULL|                NULL|                NULL|                NULL|             NULL|         NULL|         NULL|         NULL|         NULL|         NULL|           NULL|   E|   B|   B|   B|   2|   D|   A|   B|   C|   A|   A|   B|   B|   B|   A|   B|   A|   A|   B|   A|   A|   C|   A|   A|   B|\n",
            "|190001592264|  2019|              5|      F|              1|          1|               1|              1|              1|        1|        1|           0|            NULL|            NULL|     NULL|     NULL|                  NULL|              NULL|           NULL|           3550308|         S�o Paulo|         35|         SP|             0|             0|             0|             0|       NULL|       NULL|       NULL|       NULL|      NULL|      NULL|      NULL|      NULL|                NULL|                NULL|                NULL|                NULL|        0|                NULL|                NULL|                NULL|                NULL|             NULL|         NULL|         NULL|         NULL|         NULL|         NULL|           NULL|   B|   C|   C|   F|   6|   C|   A|   B|   C|   A|   A|   B|   B|   A|   A|   B|   A|   A|   B|   A|   A|   B|   B|   A|   A|\n",
            "|190001592266|  2019|              2|      M|              1|          1|               1|              2|              0|        2|        1|           0|            NULL|            NULL|     NULL|     NULL|                  NULL|              NULL|           NULL|           3550308|         S�o Paulo|         35|         SP|             1|             1|             1|             1|        505|        509|        514|        518|     543.9|     548.1|     502.5|     480.7|BADADDBADBBECEBBC...|CDACAEDDABABADCEB...|EBBBC99999BCDBEBE...|DACCDBCBBDDDCCAEC...|        0|DADCCEBBCCACBEEBE...|ACACEEBCCBABADBBB...|EBBADCABDABACBCEB...|DBEBACABCDBABECEE...|                1|          120|           40|          120|          120|            0|            400|   E|   E|   B|   B|   5|   F|   A|   B|   C|   B|   A|   B|   B|   B|   A|   B|   A|   A|   B|   A|   B|   C|   B|   B|   B|\n",
            "|190001592265|  2019|              6|      F|              1|          1|               1|              1|              4|        1|        1|           0|            NULL|            NULL|     NULL|     NULL|                  NULL|              NULL|           NULL|           3530607|   Mogi das Cruzes|         35|         SP|             0|             0|             0|             0|       NULL|       NULL|       NULL|       NULL|      NULL|      NULL|      NULL|      NULL|                NULL|                NULL|                NULL|                NULL|        0|                NULL|                NULL|                NULL|                NULL|             NULL|         NULL|         NULL|         NULL|         NULL|         NULL|           NULL|   D|   D|   C|   B|   2|   C|   A|   B|   B|   A|   A|   B|   B|   B|   B|   B|   A|   B|   C|   A|   B|   C|   A|   A|   B|\n",
            "|190001475147|  2019|              4|      M|              1|          4|               1|              1|              1|        1|        1|           0|            NULL|            NULL|     NULL|     NULL|                  NULL|              NULL|           NULL|           2407104|           Maca�ba|         24|         RN|             1|             1|             1|             1|        505|        507|        511|        518|     518.2|     351.7|     417.6|     459.0|DADBBCDBACBDACCEB...|DCEABDAECBADBCADB...|99999EECABDCABEAA...|DEACBEBBCBECDAEEB...|        1|DADCCEBBCCACBEEBE...|BACCCBABBADCBCEEE...|BDABEABCADBCBAADD...|DBEBACABCDBABECEE...|                1|          120|          120|          120|          120|           20|            500|   B|   C|   C|   A|   4|   C|   A|   C|   D|   A|   A|   B|   B|   A|   A|   B|   A|   A|   B|   B|   A|   D|   A|   B|   B|\n",
            "|190001867756|  2019|              8|      F|              2|          1|               1|              1|              6|        1|        1|           0|            NULL|            NULL|     NULL|     NULL|                  NULL|              NULL|           NULL|           4101804|         Arauc�ria|         41|         PR|             1|             1|             1|             1|        506|        510|        513|        517|     373.8|     393.6|     451.0|     484.7|BADCACDEDADAACEAD...|CBABECBCBBDEACABA...|99999BDDDCBBABECA...|AADCDCCAEDAEBCECA...|        1|DEADBAAAEBEECEBCB...|EEBCEEDBADBBCBABC...|ADBBEDCABAABBCBCD...|AADDDBEEEBEDDBEBA...|                1|          120|           40|           40|          100|            0|            300|   D|   B|   F|   B|   3|   C|   A|   B|   C|   B|   B|   B|   A|   A|   A|   A|   A|   A|   B|   A|   A|   B|   A|   A|   A|\n",
            "|190001133211|  2019|              6|      F|              1|          1|               1|              1|              1|        1|        1|           0|            NULL|            NULL|     NULL|     NULL|                  NULL|              NULL|           NULL|           2304400|         Fortaleza|         23|         CE|             1|             1|             1|             1|        505|        510|        513|        518|     458.9|     441.6|     413.0|     399.0|AAABBD*BBBCCDAECB...|CDDEDBDABABAAAABD...|99999AADCBCEDDAAA...|BDDCBACAEDEDBBECB...|        1|DADCCEBBCCACBEEBE...|EEBCEEDBADBBCBABC...|ADBBEDCABAABBCBCD...|DBEBACABCDBABECEE...|                1|           80|           40|           40|           80|            0|            240|   E|   E|   E|   B|   4|   D|   A|   B|   C|   A|   A|   B|   A|   A|   A|   A|   A|   A|   B|   A|   A|   C|   A|   A|   A|\n",
            "|190001237803|  2019|             11|      F|              1|          2|               1|              2|              0|        2|        2|           0|         3170206|      Uberl�ndia|       31|       MG|                     2|                 1|              1|           3170206|        Uberl�ndia|         31|         MG|             0|             0|             0|             0|       NULL|       NULL|       NULL|       NULL|      NULL|      NULL|      NULL|      NULL|                NULL|                NULL|                NULL|                NULL|        1|                NULL|                NULL|                NULL|                NULL|             NULL|         NULL|         NULL|         NULL|         NULL|         NULL|           NULL|   E|   E|   C|   C|   4|   B|   A|   B|   B|   A|   A|   B|   A|   B|   A|   A|   A|   A|   B|   A|   A|   B|   A|   A|   A|\n",
            "|190001493186|  2019|              4|      M|              1|          2|               1|              1|              1|        1|        1|           0|            NULL|            NULL|     NULL|     NULL|                  NULL|              NULL|           NULL|           2611606|            Recife|         26|         PE|             0|             0|             0|             0|       NULL|       NULL|       NULL|       NULL|      NULL|      NULL|      NULL|      NULL|                NULL|                NULL|                NULL|                NULL|        1|                NULL|                NULL|                NULL|                NULL|             NULL|         NULL|         NULL|         NULL|         NULL|         NULL|           NULL|   D|   B|   C|   F|   4|   B|   A|   B|   C|   A|   A|   B|   A|   B|   A|   B|   A|   A|   B|   A|   A|   C|   B|   A|   B|\n",
            "|190001421547|  2019|              4|      M|              1|          3|               1|              3|              0|        1|     NULL|           1|            NULL|            NULL|     NULL|     NULL|                  NULL|              NULL|           NULL|           2911709|          Guanambi|         29|         BA|             1|             1|             1|             1|        506|        509|        514|        517|     390.1|     453.0|     515.2|     461.5|DCCBDDDBABBDBCADA...|BBABCBBBABBAABBAA...|ABBBB99999BAABCCC...|DCDDCCECDDDBDDDDD...|        0|DEADBAAAEBEECEBCB...|ACACEEBCCBABADBBB...|EBBADCABDABACBCEB...|AADDDBEEEBEDDBEBA...|                1|          100|          120|          100|          140|           60|            520|   C|   C|   A|   A|   4|   C|   A|   B|   D|   A|   A|   B|   A|   A|   A|   A|   A|   A|   B|   A|   A|   B|   A|   A|   A|\n",
            "|190001493187|  2019|              6|      F|              1|          3|               1|              1|              4|        1|        1|           0|            NULL|            NULL|     NULL|     NULL|                  NULL|              NULL|           NULL|           2611606|            Recife|         26|         PE|             0|             0|             0|             0|       NULL|       NULL|       NULL|       NULL|      NULL|      NULL|      NULL|      NULL|                NULL|                NULL|                NULL|                NULL|        1|                NULL|                NULL|                NULL|                NULL|             NULL|         NULL|         NULL|         NULL|         NULL|         NULL|           NULL|   D|   C|   B|   B|   3|   B|   A|   B|   C|   A|   A|   B|   A|   B|   A|   B|   A|   A|   B|   A|   A|   C|   A|   A|   B|\n",
            "|190001210202|  2019|              4|      F|              1|          3|               1|              1|              2|        1|        1|           0|            NULL|            NULL|     NULL|     NULL|                  NULL|              NULL|           NULL|           2105401|   Itapecuru Mirim|         21|         MA|             1|             1|             1|             1|        505|        508|        512|        518|     415.7|     379.2|     470.2|     375.1|AECCCACEDDDAEDCAB...|BACABBAECECBACBBC...|AADED99999CDCBABE...|CADCBDBBEAECBDBED...|        0|DADCCEBBCCACBEEBE...|CBABADBBCEEEBCBAD...|BBEDABDACACBABAEC...|DBEBACABCDBABECEE...|                1|          140|          120|          140|          120|           40|            560|   C|   E|   A|   A|   5|   B|   A|   B|   D|   A|   B|   B|   A|   A|   A|   A|   A|   A|   B|   A|   A|   B|   A|   A|   A|\n",
            "|190001421549|  2019|             11|      F|              2|          3|               1|              1|              2|        1|     NULL|           0|            NULL|            NULL|     NULL|     NULL|                  NULL|              NULL|           NULL|           2927408|          Salvador|         29|         BA|             1|             1|             1|             1|        503|        508|        512|        515|     461.9|     585.0|     552.1|     437.3|CEEEECCCDBBEADBCD...|EBCBADADBCAEDCAAD...|99999EDDAACBABAEE...|DCBEAACCABABDAEBC...|        1|AAECACDEADCBCDDDB...|CBABADBBCEEEBCBAD...|BBEDABDACACBABAEC...|EEEADBEBACABCDBAB...|                1|          140|          120|          140|          120|          140|            660|   B|   B|   A|   B|   4|   G|   A|   B|   C|   B|   A|   B|   A|   A|   A|   A|   A|   A|   B|   A|   A|   C|   B|   B|   B|\n",
            "+------------+------+---------------+-------+---------------+-----------+----------------+---------------+---------------+---------+---------+------------+----------------+----------------+---------+---------+----------------------+------------------+---------------+------------------+------------------+-----------+-----------+--------------+--------------+--------------+--------------+-----------+-----------+-----------+-----------+----------+----------+----------+----------+--------------------+--------------------+--------------------+--------------------+---------+--------------------+--------------------+--------------------+--------------------+-----------------+-------------+-------------+-------------+-------------+-------------+---------------+----+----+----+----+----+----+----+----+----+----+----+----+----+----+----+----+----+----+----+----+----+----+----+----+----+\n",
            "only showing top 20 rows\n",
            "\n"
          ]
        }
      ],
      "source": [
        "enem_2019.show()"
      ]
    },
    {
      "cell_type": "code",
      "execution_count": 6,
      "metadata": {
        "colab": {
          "base_uri": "https://localhost:8080/"
        },
        "id": "vKjXC2_SfClX",
        "outputId": "5e70448a-dbcb-4f5d-f643-a04764abde1a"
      },
      "outputs": [
        {
          "output_type": "execute_result",
          "data": {
            "text/plain": [
              "5095171"
            ]
          },
          "metadata": {},
          "execution_count": 6
        }
      ],
      "source": [
        "enem_2019.count()"
      ]
    },
    {
      "cell_type": "code",
      "execution_count": 7,
      "metadata": {
        "colab": {
          "base_uri": "https://localhost:8080/"
        },
        "id": "QHk-OpZ2gInj",
        "outputId": "d68d31a2-c548-417d-8727-3fa805210d73"
      },
      "outputs": [
        {
          "output_type": "stream",
          "name": "stdout",
          "text": [
            "root\n",
            " |-- NU_INSCRICAO: long (nullable = true)\n",
            " |-- NU_ANO: integer (nullable = true)\n",
            " |-- TP_FAIXA_ETARIA: integer (nullable = true)\n",
            " |-- TP_SEXO: string (nullable = true)\n",
            " |-- TP_ESTADO_CIVIL: integer (nullable = true)\n",
            " |-- TP_COR_RACA: integer (nullable = true)\n",
            " |-- TP_NACIONALIDADE: integer (nullable = true)\n",
            " |-- TP_ST_CONCLUSAO: integer (nullable = true)\n",
            " |-- TP_ANO_CONCLUIU: integer (nullable = true)\n",
            " |-- TP_ESCOLA: integer (nullable = true)\n",
            " |-- TP_ENSINO: integer (nullable = true)\n",
            " |-- IN_TREINEIRO: integer (nullable = true)\n",
            " |-- CO_MUNICIPIO_ESC: integer (nullable = true)\n",
            " |-- NO_MUNICIPIO_ESC: string (nullable = true)\n",
            " |-- CO_UF_ESC: integer (nullable = true)\n",
            " |-- SG_UF_ESC: string (nullable = true)\n",
            " |-- TP_DEPENDENCIA_ADM_ESC: integer (nullable = true)\n",
            " |-- TP_LOCALIZACAO_ESC: integer (nullable = true)\n",
            " |-- TP_SIT_FUNC_ESC: integer (nullable = true)\n",
            " |-- CO_MUNICIPIO_PROVA: integer (nullable = true)\n",
            " |-- NO_MUNICIPIO_PROVA: string (nullable = true)\n",
            " |-- CO_UF_PROVA: integer (nullable = true)\n",
            " |-- SG_UF_PROVA: string (nullable = true)\n",
            " |-- TP_PRESENCA_CN: integer (nullable = true)\n",
            " |-- TP_PRESENCA_CH: integer (nullable = true)\n",
            " |-- TP_PRESENCA_LC: integer (nullable = true)\n",
            " |-- TP_PRESENCA_MT: integer (nullable = true)\n",
            " |-- CO_PROVA_CN: integer (nullable = true)\n",
            " |-- CO_PROVA_CH: integer (nullable = true)\n",
            " |-- CO_PROVA_LC: integer (nullable = true)\n",
            " |-- CO_PROVA_MT: integer (nullable = true)\n",
            " |-- NU_NOTA_CN: double (nullable = true)\n",
            " |-- NU_NOTA_CH: double (nullable = true)\n",
            " |-- NU_NOTA_LC: double (nullable = true)\n",
            " |-- NU_NOTA_MT: double (nullable = true)\n",
            " |-- TX_RESPOSTAS_CN: string (nullable = true)\n",
            " |-- TX_RESPOSTAS_CH: string (nullable = true)\n",
            " |-- TX_RESPOSTAS_LC: string (nullable = true)\n",
            " |-- TX_RESPOSTAS_MT: string (nullable = true)\n",
            " |-- TP_LINGUA: integer (nullable = true)\n",
            " |-- TX_GABARITO_CN: string (nullable = true)\n",
            " |-- TX_GABARITO_CH: string (nullable = true)\n",
            " |-- TX_GABARITO_LC: string (nullable = true)\n",
            " |-- TX_GABARITO_MT: string (nullable = true)\n",
            " |-- TP_STATUS_REDACAO: integer (nullable = true)\n",
            " |-- NU_NOTA_COMP1: integer (nullable = true)\n",
            " |-- NU_NOTA_COMP2: integer (nullable = true)\n",
            " |-- NU_NOTA_COMP3: integer (nullable = true)\n",
            " |-- NU_NOTA_COMP4: integer (nullable = true)\n",
            " |-- NU_NOTA_COMP5: integer (nullable = true)\n",
            " |-- NU_NOTA_REDACAO: integer (nullable = true)\n",
            " |-- Q001: string (nullable = true)\n",
            " |-- Q002: string (nullable = true)\n",
            " |-- Q003: string (nullable = true)\n",
            " |-- Q004: string (nullable = true)\n",
            " |-- Q005: integer (nullable = true)\n",
            " |-- Q006: string (nullable = true)\n",
            " |-- Q007: string (nullable = true)\n",
            " |-- Q008: string (nullable = true)\n",
            " |-- Q009: string (nullable = true)\n",
            " |-- Q010: string (nullable = true)\n",
            " |-- Q011: string (nullable = true)\n",
            " |-- Q012: string (nullable = true)\n",
            " |-- Q013: string (nullable = true)\n",
            " |-- Q014: string (nullable = true)\n",
            " |-- Q015: string (nullable = true)\n",
            " |-- Q016: string (nullable = true)\n",
            " |-- Q017: string (nullable = true)\n",
            " |-- Q018: string (nullable = true)\n",
            " |-- Q019: string (nullable = true)\n",
            " |-- Q020: string (nullable = true)\n",
            " |-- Q021: string (nullable = true)\n",
            " |-- Q022: string (nullable = true)\n",
            " |-- Q023: string (nullable = true)\n",
            " |-- Q024: string (nullable = true)\n",
            " |-- Q025: string (nullable = true)\n",
            "\n"
          ]
        }
      ],
      "source": [
        "enem_2019.printSchema()"
      ]
    },
    {
      "cell_type": "code",
      "execution_count": 8,
      "metadata": {
        "colab": {
          "base_uri": "https://localhost:8080/"
        },
        "id": "2zo-VM_Agbph",
        "outputId": "63432e60-4097-4bf2-85b3-d441d0bd0ed0"
      },
      "outputs": [
        {
          "output_type": "stream",
          "name": "stdout",
          "text": [
            "+------------+------+---------------+-------+---------------+-----------+----------------+---------------+---------------+---------+---------+------------+----------------+--------------------+---------+---------+----------------------+------------------+---------------+------------------+--------------------+-----------+-----------+--------------+--------------+--------------+--------------+-----------+-----------+-----------+-----------+----------+----------+----------+----------+--------------------+--------------------+--------------------+--------------------+---------+--------------------+--------------------+--------------------+--------------------+-----------------+-------------+-------------+-------------+-------------+-------------+---------------+----+----+----+----+----+----+----+----+----+----+----+----+----+----+----+----+----+----+----+----+----+----+----+----+----+\n",
            "|NU_INSCRICAO|NU_ANO|TP_FAIXA_ETARIA|TP_SEXO|TP_ESTADO_CIVIL|TP_COR_RACA|TP_NACIONALIDADE|TP_ST_CONCLUSAO|TP_ANO_CONCLUIU|TP_ESCOLA|TP_ENSINO|IN_TREINEIRO|CO_MUNICIPIO_ESC|    NO_MUNICIPIO_ESC|CO_UF_ESC|SG_UF_ESC|TP_DEPENDENCIA_ADM_ESC|TP_LOCALIZACAO_ESC|TP_SIT_FUNC_ESC|CO_MUNICIPIO_PROVA|  NO_MUNICIPIO_PROVA|CO_UF_PROVA|SG_UF_PROVA|TP_PRESENCA_CN|TP_PRESENCA_CH|TP_PRESENCA_LC|TP_PRESENCA_MT|CO_PROVA_CN|CO_PROVA_CH|CO_PROVA_LC|CO_PROVA_MT|NU_NOTA_CN|NU_NOTA_CH|NU_NOTA_LC|NU_NOTA_MT|     TX_RESPOSTAS_CN|     TX_RESPOSTAS_CH|     TX_RESPOSTAS_LC|     TX_RESPOSTAS_MT|TP_LINGUA|      TX_GABARITO_CN|      TX_GABARITO_CH|      TX_GABARITO_LC|      TX_GABARITO_MT|TP_STATUS_REDACAO|NU_NOTA_COMP1|NU_NOTA_COMP2|NU_NOTA_COMP3|NU_NOTA_COMP4|NU_NOTA_COMP5|NU_NOTA_REDACAO|Q001|Q002|Q003|Q004|Q005|Q006|Q007|Q008|Q009|Q010|Q011|Q012|Q013|Q014|Q015|Q016|Q017|Q018|Q019|Q020|Q021|Q022|Q023|Q024|Q025|\n",
            "+------------+------+---------------+-------+---------------+-----------+----------------+---------------+---------------+---------+---------+------------+----------------+--------------------+---------+---------+----------------------+------------------+---------------+------------------+--------------------+-----------+-----------+--------------+--------------+--------------+--------------+-----------+-----------+-----------+-----------+----------+----------+----------+----------+--------------------+--------------------+--------------------+--------------------+---------+--------------------+--------------------+--------------------+--------------------+-----------------+-------------+-------------+-------------+-------------+-------------+---------------+----+----+----+----+----+----+----+----+----+----+----+----+----+----+----+----+----+----+----+----+----+----+----+----+----+\n",
            "|190001592266|  2019|              2|      M|              1|          1|               1|              2|              0|        2|        1|           0|            NULL|                NULL|     NULL|     NULL|                  NULL|              NULL|           NULL|           3550308|           S�o Paulo|         35|         SP|             1|             1|             1|             1|        505|        509|        514|        518|     543.9|     548.1|     502.5|     480.7|BADADDBADBBECEBBC...|CDACAEDDABABADCEB...|EBBBC99999BCDBEBE...|DACCDBCBBDDDCCAEC...|        0|DADCCEBBCCACBEEBE...|ACACEEBCCBABADBBB...|EBBADCABDABACBCEB...|DBEBACABCDBABECEE...|                1|          120|           40|          120|          120|            0|            400|   E|   E|   B|   B|   5|   F|   A|   B|   C|   B|   A|   B|   B|   B|   A|   B|   A|   A|   B|   A|   B|   C|   B|   B|   B|\n",
            "|190001421547|  2019|              4|      M|              1|          3|               1|              3|              0|        1|     NULL|           1|            NULL|                NULL|     NULL|     NULL|                  NULL|              NULL|           NULL|           2911709|            Guanambi|         29|         BA|             1|             1|             1|             1|        506|        509|        514|        517|     390.1|     453.0|     515.2|     461.5|DCCBDDDBABBDBCADA...|BBABCBBBABBAABBAA...|ABBBB99999BAABCCC...|DCDDCCECDDDBDDDDD...|        0|DEADBAAAEBEECEBCB...|ACACEEBCCBABADBBB...|EBBADCABDABACBCEB...|AADDDBEEEBEDDBEBA...|                1|          100|          120|          100|          140|           60|            520|   C|   C|   A|   A|   4|   C|   A|   B|   D|   A|   A|   B|   A|   A|   A|   A|   A|   A|   B|   A|   A|   B|   A|   A|   A|\n",
            "|190001867757|  2019|              2|      F|              1|          1|               1|              2|              0|        3|        1|           0|         4101408|           Apucarana|       41|       PR|                     4|                 1|              1|           4101408|           Apucarana|         41|         PR|             1|             1|             1|             1|        504|        509|        514|        516|     618.2|     744.7|     636.3|     713.7|BACACEDDEBCDEADAA...|ACACEEBCCBABADABE...|EBBAD99999BAEBADB...|BEBEAEAADAABABAAB...|        0|BEEAAEBEEBADEADDA...|ACACEEBCCBABADBBB...|EBBADCABDABACBCEB...|BEDEEEAADBEBACABC...|                1|          160|          200|          200|          180|          160|            900|   E|   E|   B|   B|   2|   E|   A|   B|   C|   B|   A|   B|   B|   B|   A|   B|   A|   B|   B|   B|   A|   C|   B|   B|   B|\n",
            "|190001692704|  2019|              3|      F|              1|          1|               1|              2|              0|        2|        1|           0|         4300604|            Alvorada|       43|       RS|                     2|                 1|              1|           4300604|            Alvorada|         43|         RS|             1|             1|             1|             1|        506|        507|        511|        517|     430.4|     466.8|     515.9|     394.1|BCDCAEDBABECDDCBE...|EEAEDEBCEBDDBCAAA...|99999CDDBDCABBBDA...|DBABCCBCDBAEEDDCB...|        1|DEADBAAAEBEECEBCB...|BACCCBABBADCBCEEE...|BDABEABCADBCBAADD...|AADDDBEEEBEDDBEBA...|                1|          160|          140|          120|          120|           40|            580|   E|   B|   B|   B|   3|   A|   A|   B|   D|   A|   A|   B|   B|   B|   A|   A|   A|   A|   B|   B|   A|   D|   A|   B|   A|\n",
            "|190001595660|  2019|              2|      F|              1|          2|               1|              2|              0|        2|        1|           0|         3530607|     Mogi das Cruzes|       35|       SP|                     2|                 1|              1|           3523107|     Itaquaquecetuba|         35|         SP|             1|             1|             1|             1|        505|        509|        514|        518|     371.8|     501.4|     518.6|     442.0|ABACBDDDBBEECEACB...|AEABAECCDAAEADAAD...|99999.....DBCDCDE...|ACACAEBBBBDABDCCD...|        1|DADCCEBBCCACBEEBE...|ACACEEBCCBABADBBB...|EBBADCABDABACBCEB...|DBEBACABCDBABECEE...|                1|          140|          120|          120|          140|          140|            660|   E|   F|   B|   D|   3|   B|   A|   B|   C|   A|   A|   B|   B|   A|   A|   A|   A|   A|   A|   A|   A|   D|   A|   A|   B|\n",
            "|190001421552|  2019|              2|      M|              1|          2|               1|              2|              0|        2|        1|           0|         2919207|    Lauro de Freitas|       29|       BA|                     2|                 1|              1|           2919207|    Lauro de Freitas|         29|         BA|             1|             1|             1|             1|        506|        510|        513|        517|     567.3|     584.1|     595.8|     704.5|BEDCCDDCEABBBDBDA...|AEECBEABADAEABAAE...|ADBBC99999ABBCBCD...|AABDCBBEECBDDCEBA...|        0|DEADBAAAEBEECEBCB...|EEBCEEDBADBBCBABC...|ADBBEDCABAABBCBCD...|AADDDBEEEBEDDBEBA...|                1|          140|          120|          140|          120|          100|            620|   E|   C|   B|   B|   2|   B|   A|   B|   C|   A|   A|   B|   B|   A|   A|   A|   A|   A|   B|   A|   A|   C|   A|   A|   B|\n",
            "|190001421555|  2019|              4|      M|              1|          3|               1|              3|              0|        1|     NULL|           1|            NULL|                NULL|     NULL|     NULL|                  NULL|              NULL|           NULL|           2900702|          Alagoinhas|         29|         BA|             1|             1|             1|             1|        503|        508|        512|        515|     421.1|     469.9|     435.6|     527.4|CEEDBCD*E*BACECDD...|ABACBCBADEACDDDBA...|99999BBAEDCBDDCBA...|EDBBBEBCADEBDDEEC...|        1|AAECACDEADCBCDDDB...|CBABADBBCEEEBCBAD...|BBEDABDACACBABAEC...|EEEADBEBACABCDBAB...|                4|            0|            0|            0|            0|            0|              0|   E|   E|   B|   B|   5|   B|   A|   B|   C|   A|   A|   B|   A|   A|   A|   A|   A|   A|   B|   A|   A|   B|   A|   A|   A|\n",
            "|190001421558|  2019|              1|      F|              1|          3|               1|              3|              0|        1|     NULL|           1|            NULL|                NULL|     NULL|     NULL|                  NULL|              NULL|           NULL|           2910800|    Feira de Santana|         29|         BA|             0|             0|             0|             0|       NULL|       NULL|       NULL|       NULL|      NULL|      NULL|      NULL|      NULL|                NULL|                NULL|                NULL|                NULL|        0|                NULL|                NULL|                NULL|                NULL|             NULL|         NULL|         NULL|         NULL|         NULL|         NULL|           NULL|   B|   E|   C|   B|   3|   B|   A|   B|   B|   A|   A|   B|   A|   A|   A|   A|   A|   A|   B|   B|   A|   B|   A|   B|   B|\n",
            "|190001480443|  2019|              3|      M|              2|          3|               4|              2|              0|        2|        1|           0|         2513703|          Santa Rita|       25|       PB|                     2|                 1|              1|           2513703|          Santa Rita|         25|         PB|             1|             1|             1|             1|        503|        509|        514|        515|     373.2|     409.6|     469.5|     379.1|BECAABDACDDBAEDCE...|CEBEABADEACABCBDE...|CBBDB99999BBEBEAE...|DEEDADDCBEADCEEBA...|        0|AAECACDEADCBCDDDB...|ACACEEBCCBABADBBB...|EBBADCABDABACBCEB...|EEEADBEBACABCDBAB...|                1|          120|          120|          120|          120|            0|            480|   D|   E|   C|   B|   4|   C|   A|   B|   C|   A|   B|   B|   A|   B|   A|   B|   A|   A|   C|   B|   A|   E|   A|   A|   B|\n",
            "|190001082475|  2019|              2|      F|              1|          3|               1|              2|              0|        2|        1|           0|         1302603|              Manaus|       13|       AM|                     2|                 1|              1|           1302603|              Manaus|         13|         AM|             1|             1|             1|             1|        504|        507|        511|        516|     385.8|     436.3|     393.8|     370.0|DAEDDCAEBACBBCBBD...|DDBAAAEAABECDABAE...|99999BBDDCCBDBEEA...|AAAEDBCECABCBABAA...|        1|BEEAAEBEEBADEADDA...|BACCCBABBADCBCEEE...|BDABEABCADBCBAADD...|BEDEEEAADBEBACABC...|                1|          100|           40|           40|           80|            0|            260|   H|   H|   F|   C|   4|   B|   A|   B|   B|   A|   A|   B|   A|   B|   A|   A|   A|   A|   B|   A|   A|   C|   B|   B|   B|\n",
            "|190002037440|  2019|              2|      M|              1|          3|               1|              2|              0|        2|        1|           0|         5300108|            Bras�lia|       53|       DF|                     2|                 1|              1|           5300108|            Bras�lia|         53|         DF|             1|             1|             1|             1|        506|        507|        511|        517|     389.7|     431.1|     482.0|     529.7|DCCADBEBDAAABBBDD...|BBADBCAABBCCECCCB...|DBBDA99999CCBECBD...|CBDCDCBBCBEADCAAA...|        0|DEADBAAAEBEECEBCB...|BACCCBABBADCBCEEE...|BDABEABCADBCBAADD...|AADDDBEEEBEDDBEBA...|                1|          120|          120|          120|          120|           80|            560|   B|   E|   A|   B|   4|   B|   B|   B|   C|   B|   A|   B|   A|   B|   A|   B|   A|   A|   B|   B|   A|   D|   A|   A|   A|\n",
            "|190001121527|  2019|              2|      F|              3|          1|               1|              2|              0|        2|        1|           0|         2207702|            Parna�ba|       22|       PI|                     1|                 1|              1|           2207702|            Parna�ba|         22|         PI|             1|             1|             1|             1|        505|        507|        511|        518|     427.6|     548.8|     587.2|     699.3|DBECADBBDDAACBEDE...|CEBDABACDACDECEEE...|99999CBCADBEBEAED...|DBDBAEBACDBAEEDEC...|        1|DADCCEBBCCACBEEBE...|BACCCBABBADCBCEEE...|BDABEABCADBCBAADD...|DBEBACABCDBABECEE...|                1|          160|          180|          140|          140|          200|            820|   D|   C|   C|   B|   6|   G|   A|   B|   C|   B|   A|   B|   A|   A|   A|   A|   A|   A|   A|   A|   A|   B|   A|   A|   A|\n",
            "|190001042836|  2019|              2|      F|              1|          2|               1|              2|              0|        2|        1|           0|         1501402|               Bel�m|       15|       PA|                     2|                 1|              1|           1501402|               Bel�m|         15|         PA|             1|             1|             1|             1|        506|        507|        511|        517|     510.9|     585.4|     578.4|     605.2|DDADBECADAECBDABD...|AECDBBACABDCEDAEE...|99999AECADBABADBD...|AACABDECBEBCDCACA...|        1|DEADBAAAEBEECEBCB...|BACCCBABBADCBCEEE...|BDABEABCADBCBAADD...|AADDDBEEEBEDDBEBA...|                1|          160|          200|          160|          200|          160|            880|   E|   F|   D|   D|   3|   C|   A|   B|   C|   A|   A|   B|   B|   B|   A|   A|   A|   A|   B|   A|   B|   D|   B|   B|   B|\n",
            "|190001421560|  2019|              4|      M|              1|          3|               1|              2|              0|        2|        1|           0|         2929503|S�o Sebasti�o do ...|       29|       BA|                     2|                 1|              1|           2929503|S�o Sebasti�o do ...|         29|         BA|             1|             1|             1|             1|        504|        509|        514|        516|     361.2|     499.0|     403.5|     392.5|EAEADACABEBDDAEBB...|EDBCDBCCBAACAAABE...|99999CBEABACEBEBA...|DABADBEBCEBCCACEA...|        1|BEEAAEBEEBADEADDA...|ACACEEBCCBABADBBB...|EBBADCABDABACBCEB...|BEDEEEAADBEBACABC...|                1|          120|          120|          120|          120|           80|            560|   C|   B|   C|   D|   5|   B|   A|   B|   B|   A|   A|   B|   A|   A|   A|   A|   A|   A|   B|   A|   A|   C|   A|   A|   B|\n",
            "|190001121528|  2019|              2|      F|              1|          3|               1|              2|              0|        2|        1|           0|         2208403|            Piripiri|       22|       PI|                     2|                 1|              1|           2208403|            Piripiri|         22|         PI|             1|             1|             1|             1|        504|        508|        512|        516|     556.8|     487.0|     571.8|     578.5|CBCCEECBEBBDECDAC...|AAACDCAEBEEEABABD...|99999BDABACCABEEC...|CAEACDABCCCCABCDC...|        1|BEEAAEBEEBADEADDA...|CBABADBBCEEEBCBAD...|BBEDABDACACBABAEC...|BEDEEEAADBEBACABC...|                1|          140|          180|          160|          160|          160|            800|   B|   A|   A|   F|   7|   C|   A|   B|   D|   A|   B|   B|   A|   A|   A|   A|   A|   A|   B|   A|   A|   C|   A|   A|   A|\n",
            "|190001595672|  2019|              3|      M|              1|          1|               1|              2|              0|        2|        1|           0|         3503307|              Araras|       35|       SP|                     2|                 1|              1|           3503307|              Araras|         35|         SP|             1|             1|             1|             1|        506|        507|        511|        517|     537.0|     585.3|     590.1|     661.4|EECDABBBDDECDABEA...|BAECAACBDADCBBEAE...|BDABE99999BABEAED...|AABDCCEBEDABDCBDA...|        0|DEADBAAAEBEECEBCB...|BACCCBABBADCBCEEE...|BDABEABCADBCBAADD...|AADDDBEEEBEDDBEBA...|                1|          120|          120|          100|          120|           80|            540|   E|   E|   C|   F|   3|   C|   A|   B|   B|   A|   B|   B|   A|   B|   A|   B|   A|   A|   B|   A|   A|   C|   A|   B|   B|\n",
            "|190001867760|  2019|              3|      M|              1|          3|               1|              2|              0|        2|        1|           0|         4104303|        Campo Mour�o|       41|       PR|                     2|                 1|              1|           4104303|        Campo Mour�o|         41|         PR|             1|             1|             1|             1|        506|        509|        514|        517|     523.2|     469.3|     508.4|     679.4|ADCBBBACEACCEDCCB...|ACECCCDDAAAEAABEC...|99999ACADBBBCCCDE...|AABDACEBCBABDECBA...|        1|DEADBAAAEBEECEBCB...|ACACEEBCCBABADBBB...|EBBADCABDABACBCEB...|AADDDBEEEBEDDBEBA...|                1|          140|          160|          120|          120|          100|            640|   E|   E|   D|   D|   4|   D|   A|   C|   D|   B|   A|   B|   A|   B|   A|   A|   A|   A|   B|   A|   A|   D|   A|   A|   B|\n",
            "|190001595675|  2019|              2|      F|              1|          1|               1|              2|              0|        2|        1|           0|         3529005|             Mar�lia|       35|       SP|                     2|                 1|              1|           3529005|             Mar�lia|         35|         SP|             1|             1|             1|             1|        506|        508|        512|        517|     423.9|     500.4|     472.3|     503.9|BDCBDBDEDBECEDDBB...|DAACAADECCAECCABD...|DBCBA99999ACBBEEB...|BBABDCBCAAEAEECCA...|        0|DEADBAAAEBEECEBCB...|CBABADBBCEEEBCBAD...|BBEDABDACACBABAEC...|AADDDBEEEBEDDBEBA...|                1|          120|          120|          140|          120|          120|            620|   E|   E|   C|   C|   4|   E|   A|   B|   C|   A|   A|   B|   B|   B|   B|   A|   A|   A|   B|   A|   B|   E|   A|   A|   A|\n",
            "|190001779797|  2019|              2|      F|              1|          3|               1|              2|              0|        2|        1|           0|            NULL|                NULL|     NULL|     NULL|                  NULL|              NULL|           NULL|           5200258|�guas Lindas de G...|         52|         GO|             1|             1|             1|             1|        504|        507|        511|        516|     467.9|     548.7|     536.1|     392.4|EAADBEBAECBBECCAB...|DCBCABAAABCCEAECE...|BDABD99999ECAACED...|ECDACDDBBEDCBEBBB...|        0|BEEAAEBEEBADEADDA...|BACCCBABBADCBCEEE...|BDABEABCADBCBAADD...|BEDEEEAADBEBACABC...|                1|          120|          120|          120|          120|          120|            600|   C|   F|   F|   B|   4|   C|   A|   B|   C|   B|   A|   B|   A|   A|   A|   B|   A|   A|   B|   A|   A|   D|   A|   A|   B|\n",
            "|190001237815|  2019|              2|      F|              1|          1|               1|              2|              0|        2|        1|           0|         3125101|             Extrema|       31|       MG|                     2|                 1|              1|           3125101|             Extrema|         31|         MG|             1|             1|             1|             1|        503|        508|        512|        515|     624.5|     636.9|     635.8|     698.7|CAECCCEEADDBCDDAB...|ABACADBBCEEEBCAAD...|BBEDA99999CBABDBC...|ECEADBEBAECBADAAC...|        0|AAECACDEADCBCDDDB...|CBABADBBCEEEBCBAD...|BBEDABDACACBABAEC...|EEEADBEBACABCDBAB...|                1|          160|          140|          160|          160|          180|            800|   C|   G|   C|   D|   4|   K|   A|   C|   C|   B|   B|   B|   A|   B|   A|   B|   A|   B|   C|   B|   A|   E|   A|   C|   B|\n",
            "+------------+------+---------------+-------+---------------+-----------+----------------+---------------+---------------+---------+---------+------------+----------------+--------------------+---------+---------+----------------------+------------------+---------------+------------------+--------------------+-----------+-----------+--------------+--------------+--------------+--------------+-----------+-----------+-----------+-----------+----------+----------+----------+----------+--------------------+--------------------+--------------------+--------------------+---------+--------------------+--------------------+--------------------+--------------------+-----------------+-------------+-------------+-------------+-------------+-------------+---------------+----+----+----+----+----+----+----+----+----+----+----+----+----+----+----+----+----+----+----+----+----+----+----+----+----+\n",
            "only showing top 20 rows\n",
            "\n"
          ]
        }
      ],
      "source": [
        "# Filtrando alunos que estiveram presentes em todos os dias de prova, que nao concluiram ou irão concluir o ensino medio\n",
        "enem_2019.where(\n",
        "    \"TP_FAIXA_ETARIA <= 10 and TP_PRESENCA_CN like '1' and TP_PRESENCA_CH like '1' and TP_PRESENCA_LC like '1' and TP_PRESENCA_MT like '1' and TP_ST_CONCLUSAO like '2' or TP_ST_CONCLUSAO like '3'\"\n",
        ").show()"
      ]
    },
    {
      "cell_type": "code",
      "execution_count": 9,
      "metadata": {
        "id": "uDem-zDZhKwn"
      },
      "outputs": [],
      "source": [
        "# Aplicando alteração ao Data Frame\n",
        "enem_2019 = enem_2019.where(\n",
        "    \"TP_FAIXA_ETARIA <= 10 and TP_PRESENCA_CN like '1' and TP_PRESENCA_CH like '1' and TP_PRESENCA_LC like '1' and TP_PRESENCA_MT like '1' and TP_ST_CONCLUSAO like '2' or TP_ST_CONCLUSAO like '3'\"\n",
        ")"
      ]
    },
    {
      "cell_type": "code",
      "source": [
        "enem_2019.show()"
      ],
      "metadata": {
        "colab": {
          "base_uri": "https://localhost:8080/"
        },
        "id": "j6IqQisEL14J",
        "outputId": "fc06c114-cf37-473d-bb8b-099f1c5d2a6e"
      },
      "execution_count": 10,
      "outputs": [
        {
          "output_type": "stream",
          "name": "stdout",
          "text": [
            "+------------+------+---------------+-------+---------------+-----------+----------------+---------------+---------------+---------+---------+------------+----------------+--------------------+---------+---------+----------------------+------------------+---------------+------------------+--------------------+-----------+-----------+--------------+--------------+--------------+--------------+-----------+-----------+-----------+-----------+----------+----------+----------+----------+--------------------+--------------------+--------------------+--------------------+---------+--------------------+--------------------+--------------------+--------------------+-----------------+-------------+-------------+-------------+-------------+-------------+---------------+----+----+----+----+----+----+----+----+----+----+----+----+----+----+----+----+----+----+----+----+----+----+----+----+----+\n",
            "|NU_INSCRICAO|NU_ANO|TP_FAIXA_ETARIA|TP_SEXO|TP_ESTADO_CIVIL|TP_COR_RACA|TP_NACIONALIDADE|TP_ST_CONCLUSAO|TP_ANO_CONCLUIU|TP_ESCOLA|TP_ENSINO|IN_TREINEIRO|CO_MUNICIPIO_ESC|    NO_MUNICIPIO_ESC|CO_UF_ESC|SG_UF_ESC|TP_DEPENDENCIA_ADM_ESC|TP_LOCALIZACAO_ESC|TP_SIT_FUNC_ESC|CO_MUNICIPIO_PROVA|  NO_MUNICIPIO_PROVA|CO_UF_PROVA|SG_UF_PROVA|TP_PRESENCA_CN|TP_PRESENCA_CH|TP_PRESENCA_LC|TP_PRESENCA_MT|CO_PROVA_CN|CO_PROVA_CH|CO_PROVA_LC|CO_PROVA_MT|NU_NOTA_CN|NU_NOTA_CH|NU_NOTA_LC|NU_NOTA_MT|     TX_RESPOSTAS_CN|     TX_RESPOSTAS_CH|     TX_RESPOSTAS_LC|     TX_RESPOSTAS_MT|TP_LINGUA|      TX_GABARITO_CN|      TX_GABARITO_CH|      TX_GABARITO_LC|      TX_GABARITO_MT|TP_STATUS_REDACAO|NU_NOTA_COMP1|NU_NOTA_COMP2|NU_NOTA_COMP3|NU_NOTA_COMP4|NU_NOTA_COMP5|NU_NOTA_REDACAO|Q001|Q002|Q003|Q004|Q005|Q006|Q007|Q008|Q009|Q010|Q011|Q012|Q013|Q014|Q015|Q016|Q017|Q018|Q019|Q020|Q021|Q022|Q023|Q024|Q025|\n",
            "+------------+------+---------------+-------+---------------+-----------+----------------+---------------+---------------+---------+---------+------------+----------------+--------------------+---------+---------+----------------------+------------------+---------------+------------------+--------------------+-----------+-----------+--------------+--------------+--------------+--------------+-----------+-----------+-----------+-----------+----------+----------+----------+----------+--------------------+--------------------+--------------------+--------------------+---------+--------------------+--------------------+--------------------+--------------------+-----------------+-------------+-------------+-------------+-------------+-------------+---------------+----+----+----+----+----+----+----+----+----+----+----+----+----+----+----+----+----+----+----+----+----+----+----+----+----+\n",
            "|190001592266|  2019|              2|      M|              1|          1|               1|              2|              0|        2|        1|           0|            NULL|                NULL|     NULL|     NULL|                  NULL|              NULL|           NULL|           3550308|           S�o Paulo|         35|         SP|             1|             1|             1|             1|        505|        509|        514|        518|     543.9|     548.1|     502.5|     480.7|BADADDBADBBECEBBC...|CDACAEDDABABADCEB...|EBBBC99999BCDBEBE...|DACCDBCBBDDDCCAEC...|        0|DADCCEBBCCACBEEBE...|ACACEEBCCBABADBBB...|EBBADCABDABACBCEB...|DBEBACABCDBABECEE...|                1|          120|           40|          120|          120|            0|            400|   E|   E|   B|   B|   5|   F|   A|   B|   C|   B|   A|   B|   B|   B|   A|   B|   A|   A|   B|   A|   B|   C|   B|   B|   B|\n",
            "|190001421547|  2019|              4|      M|              1|          3|               1|              3|              0|        1|     NULL|           1|            NULL|                NULL|     NULL|     NULL|                  NULL|              NULL|           NULL|           2911709|            Guanambi|         29|         BA|             1|             1|             1|             1|        506|        509|        514|        517|     390.1|     453.0|     515.2|     461.5|DCCBDDDBABBDBCADA...|BBABCBBBABBAABBAA...|ABBBB99999BAABCCC...|DCDDCCECDDDBDDDDD...|        0|DEADBAAAEBEECEBCB...|ACACEEBCCBABADBBB...|EBBADCABDABACBCEB...|AADDDBEEEBEDDBEBA...|                1|          100|          120|          100|          140|           60|            520|   C|   C|   A|   A|   4|   C|   A|   B|   D|   A|   A|   B|   A|   A|   A|   A|   A|   A|   B|   A|   A|   B|   A|   A|   A|\n",
            "|190001867757|  2019|              2|      F|              1|          1|               1|              2|              0|        3|        1|           0|         4101408|           Apucarana|       41|       PR|                     4|                 1|              1|           4101408|           Apucarana|         41|         PR|             1|             1|             1|             1|        504|        509|        514|        516|     618.2|     744.7|     636.3|     713.7|BACACEDDEBCDEADAA...|ACACEEBCCBABADABE...|EBBAD99999BAEBADB...|BEBEAEAADAABABAAB...|        0|BEEAAEBEEBADEADDA...|ACACEEBCCBABADBBB...|EBBADCABDABACBCEB...|BEDEEEAADBEBACABC...|                1|          160|          200|          200|          180|          160|            900|   E|   E|   B|   B|   2|   E|   A|   B|   C|   B|   A|   B|   B|   B|   A|   B|   A|   B|   B|   B|   A|   C|   B|   B|   B|\n",
            "|190001692704|  2019|              3|      F|              1|          1|               1|              2|              0|        2|        1|           0|         4300604|            Alvorada|       43|       RS|                     2|                 1|              1|           4300604|            Alvorada|         43|         RS|             1|             1|             1|             1|        506|        507|        511|        517|     430.4|     466.8|     515.9|     394.1|BCDCAEDBABECDDCBE...|EEAEDEBCEBDDBCAAA...|99999CDDBDCABBBDA...|DBABCCBCDBAEEDDCB...|        1|DEADBAAAEBEECEBCB...|BACCCBABBADCBCEEE...|BDABEABCADBCBAADD...|AADDDBEEEBEDDBEBA...|                1|          160|          140|          120|          120|           40|            580|   E|   B|   B|   B|   3|   A|   A|   B|   D|   A|   A|   B|   B|   B|   A|   A|   A|   A|   B|   B|   A|   D|   A|   B|   A|\n",
            "|190001595660|  2019|              2|      F|              1|          2|               1|              2|              0|        2|        1|           0|         3530607|     Mogi das Cruzes|       35|       SP|                     2|                 1|              1|           3523107|     Itaquaquecetuba|         35|         SP|             1|             1|             1|             1|        505|        509|        514|        518|     371.8|     501.4|     518.6|     442.0|ABACBDDDBBEECEACB...|AEABAECCDAAEADAAD...|99999.....DBCDCDE...|ACACAEBBBBDABDCCD...|        1|DADCCEBBCCACBEEBE...|ACACEEBCCBABADBBB...|EBBADCABDABACBCEB...|DBEBACABCDBABECEE...|                1|          140|          120|          120|          140|          140|            660|   E|   F|   B|   D|   3|   B|   A|   B|   C|   A|   A|   B|   B|   A|   A|   A|   A|   A|   A|   A|   A|   D|   A|   A|   B|\n",
            "|190001421552|  2019|              2|      M|              1|          2|               1|              2|              0|        2|        1|           0|         2919207|    Lauro de Freitas|       29|       BA|                     2|                 1|              1|           2919207|    Lauro de Freitas|         29|         BA|             1|             1|             1|             1|        506|        510|        513|        517|     567.3|     584.1|     595.8|     704.5|BEDCCDDCEABBBDBDA...|AEECBEABADAEABAAE...|ADBBC99999ABBCBCD...|AABDCBBEECBDDCEBA...|        0|DEADBAAAEBEECEBCB...|EEBCEEDBADBBCBABC...|ADBBEDCABAABBCBCD...|AADDDBEEEBEDDBEBA...|                1|          140|          120|          140|          120|          100|            620|   E|   C|   B|   B|   2|   B|   A|   B|   C|   A|   A|   B|   B|   A|   A|   A|   A|   A|   B|   A|   A|   C|   A|   A|   B|\n",
            "|190001421555|  2019|              4|      M|              1|          3|               1|              3|              0|        1|     NULL|           1|            NULL|                NULL|     NULL|     NULL|                  NULL|              NULL|           NULL|           2900702|          Alagoinhas|         29|         BA|             1|             1|             1|             1|        503|        508|        512|        515|     421.1|     469.9|     435.6|     527.4|CEEDBCD*E*BACECDD...|ABACBCBADEACDDDBA...|99999BBAEDCBDDCBA...|EDBBBEBCADEBDDEEC...|        1|AAECACDEADCBCDDDB...|CBABADBBCEEEBCBAD...|BBEDABDACACBABAEC...|EEEADBEBACABCDBAB...|                4|            0|            0|            0|            0|            0|              0|   E|   E|   B|   B|   5|   B|   A|   B|   C|   A|   A|   B|   A|   A|   A|   A|   A|   A|   B|   A|   A|   B|   A|   A|   A|\n",
            "|190001421558|  2019|              1|      F|              1|          3|               1|              3|              0|        1|     NULL|           1|            NULL|                NULL|     NULL|     NULL|                  NULL|              NULL|           NULL|           2910800|    Feira de Santana|         29|         BA|             0|             0|             0|             0|       NULL|       NULL|       NULL|       NULL|      NULL|      NULL|      NULL|      NULL|                NULL|                NULL|                NULL|                NULL|        0|                NULL|                NULL|                NULL|                NULL|             NULL|         NULL|         NULL|         NULL|         NULL|         NULL|           NULL|   B|   E|   C|   B|   3|   B|   A|   B|   B|   A|   A|   B|   A|   A|   A|   A|   A|   A|   B|   B|   A|   B|   A|   B|   B|\n",
            "|190001480443|  2019|              3|      M|              2|          3|               4|              2|              0|        2|        1|           0|         2513703|          Santa Rita|       25|       PB|                     2|                 1|              1|           2513703|          Santa Rita|         25|         PB|             1|             1|             1|             1|        503|        509|        514|        515|     373.2|     409.6|     469.5|     379.1|BECAABDACDDBAEDCE...|CEBEABADEACABCBDE...|CBBDB99999BBEBEAE...|DEEDADDCBEADCEEBA...|        0|AAECACDEADCBCDDDB...|ACACEEBCCBABADBBB...|EBBADCABDABACBCEB...|EEEADBEBACABCDBAB...|                1|          120|          120|          120|          120|            0|            480|   D|   E|   C|   B|   4|   C|   A|   B|   C|   A|   B|   B|   A|   B|   A|   B|   A|   A|   C|   B|   A|   E|   A|   A|   B|\n",
            "|190001082475|  2019|              2|      F|              1|          3|               1|              2|              0|        2|        1|           0|         1302603|              Manaus|       13|       AM|                     2|                 1|              1|           1302603|              Manaus|         13|         AM|             1|             1|             1|             1|        504|        507|        511|        516|     385.8|     436.3|     393.8|     370.0|DAEDDCAEBACBBCBBD...|DDBAAAEAABECDABAE...|99999BBDDCCBDBEEA...|AAAEDBCECABCBABAA...|        1|BEEAAEBEEBADEADDA...|BACCCBABBADCBCEEE...|BDABEABCADBCBAADD...|BEDEEEAADBEBACABC...|                1|          100|           40|           40|           80|            0|            260|   H|   H|   F|   C|   4|   B|   A|   B|   B|   A|   A|   B|   A|   B|   A|   A|   A|   A|   B|   A|   A|   C|   B|   B|   B|\n",
            "|190002037440|  2019|              2|      M|              1|          3|               1|              2|              0|        2|        1|           0|         5300108|            Bras�lia|       53|       DF|                     2|                 1|              1|           5300108|            Bras�lia|         53|         DF|             1|             1|             1|             1|        506|        507|        511|        517|     389.7|     431.1|     482.0|     529.7|DCCADBEBDAAABBBDD...|BBADBCAABBCCECCCB...|DBBDA99999CCBECBD...|CBDCDCBBCBEADCAAA...|        0|DEADBAAAEBEECEBCB...|BACCCBABBADCBCEEE...|BDABEABCADBCBAADD...|AADDDBEEEBEDDBEBA...|                1|          120|          120|          120|          120|           80|            560|   B|   E|   A|   B|   4|   B|   B|   B|   C|   B|   A|   B|   A|   B|   A|   B|   A|   A|   B|   B|   A|   D|   A|   A|   A|\n",
            "|190001121527|  2019|              2|      F|              3|          1|               1|              2|              0|        2|        1|           0|         2207702|            Parna�ba|       22|       PI|                     1|                 1|              1|           2207702|            Parna�ba|         22|         PI|             1|             1|             1|             1|        505|        507|        511|        518|     427.6|     548.8|     587.2|     699.3|DBECADBBDDAACBEDE...|CEBDABACDACDECEEE...|99999CBCADBEBEAED...|DBDBAEBACDBAEEDEC...|        1|DADCCEBBCCACBEEBE...|BACCCBABBADCBCEEE...|BDABEABCADBCBAADD...|DBEBACABCDBABECEE...|                1|          160|          180|          140|          140|          200|            820|   D|   C|   C|   B|   6|   G|   A|   B|   C|   B|   A|   B|   A|   A|   A|   A|   A|   A|   A|   A|   A|   B|   A|   A|   A|\n",
            "|190001042836|  2019|              2|      F|              1|          2|               1|              2|              0|        2|        1|           0|         1501402|               Bel�m|       15|       PA|                     2|                 1|              1|           1501402|               Bel�m|         15|         PA|             1|             1|             1|             1|        506|        507|        511|        517|     510.9|     585.4|     578.4|     605.2|DDADBECADAECBDABD...|AECDBBACABDCEDAEE...|99999AECADBABADBD...|AACABDECBEBCDCACA...|        1|DEADBAAAEBEECEBCB...|BACCCBABBADCBCEEE...|BDABEABCADBCBAADD...|AADDDBEEEBEDDBEBA...|                1|          160|          200|          160|          200|          160|            880|   E|   F|   D|   D|   3|   C|   A|   B|   C|   A|   A|   B|   B|   B|   A|   A|   A|   A|   B|   A|   B|   D|   B|   B|   B|\n",
            "|190001421560|  2019|              4|      M|              1|          3|               1|              2|              0|        2|        1|           0|         2929503|S�o Sebasti�o do ...|       29|       BA|                     2|                 1|              1|           2929503|S�o Sebasti�o do ...|         29|         BA|             1|             1|             1|             1|        504|        509|        514|        516|     361.2|     499.0|     403.5|     392.5|EAEADACABEBDDAEBB...|EDBCDBCCBAACAAABE...|99999CBEABACEBEBA...|DABADBEBCEBCCACEA...|        1|BEEAAEBEEBADEADDA...|ACACEEBCCBABADBBB...|EBBADCABDABACBCEB...|BEDEEEAADBEBACABC...|                1|          120|          120|          120|          120|           80|            560|   C|   B|   C|   D|   5|   B|   A|   B|   B|   A|   A|   B|   A|   A|   A|   A|   A|   A|   B|   A|   A|   C|   A|   A|   B|\n",
            "|190001121528|  2019|              2|      F|              1|          3|               1|              2|              0|        2|        1|           0|         2208403|            Piripiri|       22|       PI|                     2|                 1|              1|           2208403|            Piripiri|         22|         PI|             1|             1|             1|             1|        504|        508|        512|        516|     556.8|     487.0|     571.8|     578.5|CBCCEECBEBBDECDAC...|AAACDCAEBEEEABABD...|99999BDABACCABEEC...|CAEACDABCCCCABCDC...|        1|BEEAAEBEEBADEADDA...|CBABADBBCEEEBCBAD...|BBEDABDACACBABAEC...|BEDEEEAADBEBACABC...|                1|          140|          180|          160|          160|          160|            800|   B|   A|   A|   F|   7|   C|   A|   B|   D|   A|   B|   B|   A|   A|   A|   A|   A|   A|   B|   A|   A|   C|   A|   A|   A|\n",
            "|190001595672|  2019|              3|      M|              1|          1|               1|              2|              0|        2|        1|           0|         3503307|              Araras|       35|       SP|                     2|                 1|              1|           3503307|              Araras|         35|         SP|             1|             1|             1|             1|        506|        507|        511|        517|     537.0|     585.3|     590.1|     661.4|EECDABBBDDECDABEA...|BAECAACBDADCBBEAE...|BDABE99999BABEAED...|AABDCCEBEDABDCBDA...|        0|DEADBAAAEBEECEBCB...|BACCCBABBADCBCEEE...|BDABEABCADBCBAADD...|AADDDBEEEBEDDBEBA...|                1|          120|          120|          100|          120|           80|            540|   E|   E|   C|   F|   3|   C|   A|   B|   B|   A|   B|   B|   A|   B|   A|   B|   A|   A|   B|   A|   A|   C|   A|   B|   B|\n",
            "|190001867760|  2019|              3|      M|              1|          3|               1|              2|              0|        2|        1|           0|         4104303|        Campo Mour�o|       41|       PR|                     2|                 1|              1|           4104303|        Campo Mour�o|         41|         PR|             1|             1|             1|             1|        506|        509|        514|        517|     523.2|     469.3|     508.4|     679.4|ADCBBBACEACCEDCCB...|ACECCCDDAAAEAABEC...|99999ACADBBBCCCDE...|AABDACEBCBABDECBA...|        1|DEADBAAAEBEECEBCB...|ACACEEBCCBABADBBB...|EBBADCABDABACBCEB...|AADDDBEEEBEDDBEBA...|                1|          140|          160|          120|          120|          100|            640|   E|   E|   D|   D|   4|   D|   A|   C|   D|   B|   A|   B|   A|   B|   A|   A|   A|   A|   B|   A|   A|   D|   A|   A|   B|\n",
            "|190001595675|  2019|              2|      F|              1|          1|               1|              2|              0|        2|        1|           0|         3529005|             Mar�lia|       35|       SP|                     2|                 1|              1|           3529005|             Mar�lia|         35|         SP|             1|             1|             1|             1|        506|        508|        512|        517|     423.9|     500.4|     472.3|     503.9|BDCBDBDEDBECEDDBB...|DAACAADECCAECCABD...|DBCBA99999ACBBEEB...|BBABDCBCAAEAEECCA...|        0|DEADBAAAEBEECEBCB...|CBABADBBCEEEBCBAD...|BBEDABDACACBABAEC...|AADDDBEEEBEDDBEBA...|                1|          120|          120|          140|          120|          120|            620|   E|   E|   C|   C|   4|   E|   A|   B|   C|   A|   A|   B|   B|   B|   B|   A|   A|   A|   B|   A|   B|   E|   A|   A|   A|\n",
            "|190001779797|  2019|              2|      F|              1|          3|               1|              2|              0|        2|        1|           0|            NULL|                NULL|     NULL|     NULL|                  NULL|              NULL|           NULL|           5200258|�guas Lindas de G...|         52|         GO|             1|             1|             1|             1|        504|        507|        511|        516|     467.9|     548.7|     536.1|     392.4|EAADBEBAECBBECCAB...|DCBCABAAABCCEAECE...|BDABD99999ECAACED...|ECDACDDBBEDCBEBBB...|        0|BEEAAEBEEBADEADDA...|BACCCBABBADCBCEEE...|BDABEABCADBCBAADD...|BEDEEEAADBEBACABC...|                1|          120|          120|          120|          120|          120|            600|   C|   F|   F|   B|   4|   C|   A|   B|   C|   B|   A|   B|   A|   A|   A|   B|   A|   A|   B|   A|   A|   D|   A|   A|   B|\n",
            "|190001237815|  2019|              2|      F|              1|          1|               1|              2|              0|        2|        1|           0|         3125101|             Extrema|       31|       MG|                     2|                 1|              1|           3125101|             Extrema|         31|         MG|             1|             1|             1|             1|        503|        508|        512|        515|     624.5|     636.9|     635.8|     698.7|CAECCCEEADDBCDDAB...|ABACADBBCEEEBCAAD...|BBEDA99999CBABDBC...|ECEADBEBAECBADAAC...|        0|AAECACDEADCBCDDDB...|CBABADBBCEEEBCBAD...|BBEDABDACACBABAEC...|EEEADBEBACABCDBAB...|                1|          160|          140|          160|          160|          180|            800|   C|   G|   C|   D|   4|   K|   A|   C|   C|   B|   B|   B|   A|   B|   A|   B|   A|   B|   C|   B|   A|   E|   A|   C|   B|\n",
            "+------------+------+---------------+-------+---------------+-----------+----------------+---------------+---------------+---------+---------+------------+----------------+--------------------+---------+---------+----------------------+------------------+---------------+------------------+--------------------+-----------+-----------+--------------+--------------+--------------+--------------+-----------+-----------+-----------+-----------+----------+----------+----------+----------+--------------------+--------------------+--------------------+--------------------+---------+--------------------+--------------------+--------------------+--------------------+-----------------+-------------+-------------+-------------+-------------+-------------+---------------+----+----+----+----+----+----+----+----+----+----+----+----+----+----+----+----+----+----+----+----+----+----+----+----+----+\n",
            "only showing top 20 rows\n",
            "\n"
          ]
        }
      ]
    },
    {
      "cell_type": "code",
      "source": [
        "# Removendo notas nulas:\n",
        "enem_2019.dropna(how='any',subset=[\"NU_NOTA_CN\",\n",
        "                                   \"NU_NOTA_CH\",\n",
        "                                   \"NU_NOTA_LC\",\n",
        "                                   \"NU_NOTA_MT\",\n",
        "                                   \"NU_NOTA_REDACAO\"]).show()"
      ],
      "metadata": {
        "colab": {
          "base_uri": "https://localhost:8080/"
        },
        "id": "Nxc316oDL7tK",
        "outputId": "4b1052c1-0bc4-4378-9ab8-a8a86472b203"
      },
      "execution_count": 13,
      "outputs": [
        {
          "output_type": "stream",
          "name": "stdout",
          "text": [
            "+------------+------+---------------+-------+---------------+-----------+----------------+---------------+---------------+---------+---------+------------+----------------+--------------------+---------+---------+----------------------+------------------+---------------+------------------+--------------------+-----------+-----------+--------------+--------------+--------------+--------------+-----------+-----------+-----------+-----------+----------+----------+----------+----------+--------------------+--------------------+--------------------+--------------------+---------+--------------------+--------------------+--------------------+--------------------+-----------------+-------------+-------------+-------------+-------------+-------------+---------------+----+----+----+----+----+----+----+----+----+----+----+----+----+----+----+----+----+----+----+----+----+----+----+----+----+\n",
            "|NU_INSCRICAO|NU_ANO|TP_FAIXA_ETARIA|TP_SEXO|TP_ESTADO_CIVIL|TP_COR_RACA|TP_NACIONALIDADE|TP_ST_CONCLUSAO|TP_ANO_CONCLUIU|TP_ESCOLA|TP_ENSINO|IN_TREINEIRO|CO_MUNICIPIO_ESC|    NO_MUNICIPIO_ESC|CO_UF_ESC|SG_UF_ESC|TP_DEPENDENCIA_ADM_ESC|TP_LOCALIZACAO_ESC|TP_SIT_FUNC_ESC|CO_MUNICIPIO_PROVA|  NO_MUNICIPIO_PROVA|CO_UF_PROVA|SG_UF_PROVA|TP_PRESENCA_CN|TP_PRESENCA_CH|TP_PRESENCA_LC|TP_PRESENCA_MT|CO_PROVA_CN|CO_PROVA_CH|CO_PROVA_LC|CO_PROVA_MT|NU_NOTA_CN|NU_NOTA_CH|NU_NOTA_LC|NU_NOTA_MT|     TX_RESPOSTAS_CN|     TX_RESPOSTAS_CH|     TX_RESPOSTAS_LC|     TX_RESPOSTAS_MT|TP_LINGUA|      TX_GABARITO_CN|      TX_GABARITO_CH|      TX_GABARITO_LC|      TX_GABARITO_MT|TP_STATUS_REDACAO|NU_NOTA_COMP1|NU_NOTA_COMP2|NU_NOTA_COMP3|NU_NOTA_COMP4|NU_NOTA_COMP5|NU_NOTA_REDACAO|Q001|Q002|Q003|Q004|Q005|Q006|Q007|Q008|Q009|Q010|Q011|Q012|Q013|Q014|Q015|Q016|Q017|Q018|Q019|Q020|Q021|Q022|Q023|Q024|Q025|\n",
            "+------------+------+---------------+-------+---------------+-----------+----------------+---------------+---------------+---------+---------+------------+----------------+--------------------+---------+---------+----------------------+------------------+---------------+------------------+--------------------+-----------+-----------+--------------+--------------+--------------+--------------+-----------+-----------+-----------+-----------+----------+----------+----------+----------+--------------------+--------------------+--------------------+--------------------+---------+--------------------+--------------------+--------------------+--------------------+-----------------+-------------+-------------+-------------+-------------+-------------+---------------+----+----+----+----+----+----+----+----+----+----+----+----+----+----+----+----+----+----+----+----+----+----+----+----+----+\n",
            "|190001592266|  2019|              2|      M|              1|          1|               1|              2|              0|        2|        1|           0|            NULL|                NULL|     NULL|     NULL|                  NULL|              NULL|           NULL|           3550308|           S�o Paulo|         35|         SP|             1|             1|             1|             1|        505|        509|        514|        518|     543.9|     548.1|     502.5|     480.7|BADADDBADBBECEBBC...|CDACAEDDABABADCEB...|EBBBC99999BCDBEBE...|DACCDBCBBDDDCCAEC...|        0|DADCCEBBCCACBEEBE...|ACACEEBCCBABADBBB...|EBBADCABDABACBCEB...|DBEBACABCDBABECEE...|                1|          120|           40|          120|          120|            0|            400|   E|   E|   B|   B|   5|   F|   A|   B|   C|   B|   A|   B|   B|   B|   A|   B|   A|   A|   B|   A|   B|   C|   B|   B|   B|\n",
            "|190001421547|  2019|              4|      M|              1|          3|               1|              3|              0|        1|     NULL|           1|            NULL|                NULL|     NULL|     NULL|                  NULL|              NULL|           NULL|           2911709|            Guanambi|         29|         BA|             1|             1|             1|             1|        506|        509|        514|        517|     390.1|     453.0|     515.2|     461.5|DCCBDDDBABBDBCADA...|BBABCBBBABBAABBAA...|ABBBB99999BAABCCC...|DCDDCCECDDDBDDDDD...|        0|DEADBAAAEBEECEBCB...|ACACEEBCCBABADBBB...|EBBADCABDABACBCEB...|AADDDBEEEBEDDBEBA...|                1|          100|          120|          100|          140|           60|            520|   C|   C|   A|   A|   4|   C|   A|   B|   D|   A|   A|   B|   A|   A|   A|   A|   A|   A|   B|   A|   A|   B|   A|   A|   A|\n",
            "|190001867757|  2019|              2|      F|              1|          1|               1|              2|              0|        3|        1|           0|         4101408|           Apucarana|       41|       PR|                     4|                 1|              1|           4101408|           Apucarana|         41|         PR|             1|             1|             1|             1|        504|        509|        514|        516|     618.2|     744.7|     636.3|     713.7|BACACEDDEBCDEADAA...|ACACEEBCCBABADABE...|EBBAD99999BAEBADB...|BEBEAEAADAABABAAB...|        0|BEEAAEBEEBADEADDA...|ACACEEBCCBABADBBB...|EBBADCABDABACBCEB...|BEDEEEAADBEBACABC...|                1|          160|          200|          200|          180|          160|            900|   E|   E|   B|   B|   2|   E|   A|   B|   C|   B|   A|   B|   B|   B|   A|   B|   A|   B|   B|   B|   A|   C|   B|   B|   B|\n",
            "|190001692704|  2019|              3|      F|              1|          1|               1|              2|              0|        2|        1|           0|         4300604|            Alvorada|       43|       RS|                     2|                 1|              1|           4300604|            Alvorada|         43|         RS|             1|             1|             1|             1|        506|        507|        511|        517|     430.4|     466.8|     515.9|     394.1|BCDCAEDBABECDDCBE...|EEAEDEBCEBDDBCAAA...|99999CDDBDCABBBDA...|DBABCCBCDBAEEDDCB...|        1|DEADBAAAEBEECEBCB...|BACCCBABBADCBCEEE...|BDABEABCADBCBAADD...|AADDDBEEEBEDDBEBA...|                1|          160|          140|          120|          120|           40|            580|   E|   B|   B|   B|   3|   A|   A|   B|   D|   A|   A|   B|   B|   B|   A|   A|   A|   A|   B|   B|   A|   D|   A|   B|   A|\n",
            "|190001595660|  2019|              2|      F|              1|          2|               1|              2|              0|        2|        1|           0|         3530607|     Mogi das Cruzes|       35|       SP|                     2|                 1|              1|           3523107|     Itaquaquecetuba|         35|         SP|             1|             1|             1|             1|        505|        509|        514|        518|     371.8|     501.4|     518.6|     442.0|ABACBDDDBBEECEACB...|AEABAECCDAAEADAAD...|99999.....DBCDCDE...|ACACAEBBBBDABDCCD...|        1|DADCCEBBCCACBEEBE...|ACACEEBCCBABADBBB...|EBBADCABDABACBCEB...|DBEBACABCDBABECEE...|                1|          140|          120|          120|          140|          140|            660|   E|   F|   B|   D|   3|   B|   A|   B|   C|   A|   A|   B|   B|   A|   A|   A|   A|   A|   A|   A|   A|   D|   A|   A|   B|\n",
            "|190001421552|  2019|              2|      M|              1|          2|               1|              2|              0|        2|        1|           0|         2919207|    Lauro de Freitas|       29|       BA|                     2|                 1|              1|           2919207|    Lauro de Freitas|         29|         BA|             1|             1|             1|             1|        506|        510|        513|        517|     567.3|     584.1|     595.8|     704.5|BEDCCDDCEABBBDBDA...|AEECBEABADAEABAAE...|ADBBC99999ABBCBCD...|AABDCBBEECBDDCEBA...|        0|DEADBAAAEBEECEBCB...|EEBCEEDBADBBCBABC...|ADBBEDCABAABBCBCD...|AADDDBEEEBEDDBEBA...|                1|          140|          120|          140|          120|          100|            620|   E|   C|   B|   B|   2|   B|   A|   B|   C|   A|   A|   B|   B|   A|   A|   A|   A|   A|   B|   A|   A|   C|   A|   A|   B|\n",
            "|190001421555|  2019|              4|      M|              1|          3|               1|              3|              0|        1|     NULL|           1|            NULL|                NULL|     NULL|     NULL|                  NULL|              NULL|           NULL|           2900702|          Alagoinhas|         29|         BA|             1|             1|             1|             1|        503|        508|        512|        515|     421.1|     469.9|     435.6|     527.4|CEEDBCD*E*BACECDD...|ABACBCBADEACDDDBA...|99999BBAEDCBDDCBA...|EDBBBEBCADEBDDEEC...|        1|AAECACDEADCBCDDDB...|CBABADBBCEEEBCBAD...|BBEDABDACACBABAEC...|EEEADBEBACABCDBAB...|                4|            0|            0|            0|            0|            0|              0|   E|   E|   B|   B|   5|   B|   A|   B|   C|   A|   A|   B|   A|   A|   A|   A|   A|   A|   B|   A|   A|   B|   A|   A|   A|\n",
            "|190001480443|  2019|              3|      M|              2|          3|               4|              2|              0|        2|        1|           0|         2513703|          Santa Rita|       25|       PB|                     2|                 1|              1|           2513703|          Santa Rita|         25|         PB|             1|             1|             1|             1|        503|        509|        514|        515|     373.2|     409.6|     469.5|     379.1|BECAABDACDDBAEDCE...|CEBEABADEACABCBDE...|CBBDB99999BBEBEAE...|DEEDADDCBEADCEEBA...|        0|AAECACDEADCBCDDDB...|ACACEEBCCBABADBBB...|EBBADCABDABACBCEB...|EEEADBEBACABCDBAB...|                1|          120|          120|          120|          120|            0|            480|   D|   E|   C|   B|   4|   C|   A|   B|   C|   A|   B|   B|   A|   B|   A|   B|   A|   A|   C|   B|   A|   E|   A|   A|   B|\n",
            "|190001082475|  2019|              2|      F|              1|          3|               1|              2|              0|        2|        1|           0|         1302603|              Manaus|       13|       AM|                     2|                 1|              1|           1302603|              Manaus|         13|         AM|             1|             1|             1|             1|        504|        507|        511|        516|     385.8|     436.3|     393.8|     370.0|DAEDDCAEBACBBCBBD...|DDBAAAEAABECDABAE...|99999BBDDCCBDBEEA...|AAAEDBCECABCBABAA...|        1|BEEAAEBEEBADEADDA...|BACCCBABBADCBCEEE...|BDABEABCADBCBAADD...|BEDEEEAADBEBACABC...|                1|          100|           40|           40|           80|            0|            260|   H|   H|   F|   C|   4|   B|   A|   B|   B|   A|   A|   B|   A|   B|   A|   A|   A|   A|   B|   A|   A|   C|   B|   B|   B|\n",
            "|190002037440|  2019|              2|      M|              1|          3|               1|              2|              0|        2|        1|           0|         5300108|            Bras�lia|       53|       DF|                     2|                 1|              1|           5300108|            Bras�lia|         53|         DF|             1|             1|             1|             1|        506|        507|        511|        517|     389.7|     431.1|     482.0|     529.7|DCCADBEBDAAABBBDD...|BBADBCAABBCCECCCB...|DBBDA99999CCBECBD...|CBDCDCBBCBEADCAAA...|        0|DEADBAAAEBEECEBCB...|BACCCBABBADCBCEEE...|BDABEABCADBCBAADD...|AADDDBEEEBEDDBEBA...|                1|          120|          120|          120|          120|           80|            560|   B|   E|   A|   B|   4|   B|   B|   B|   C|   B|   A|   B|   A|   B|   A|   B|   A|   A|   B|   B|   A|   D|   A|   A|   A|\n",
            "|190001121527|  2019|              2|      F|              3|          1|               1|              2|              0|        2|        1|           0|         2207702|            Parna�ba|       22|       PI|                     1|                 1|              1|           2207702|            Parna�ba|         22|         PI|             1|             1|             1|             1|        505|        507|        511|        518|     427.6|     548.8|     587.2|     699.3|DBECADBBDDAACBEDE...|CEBDABACDACDECEEE...|99999CBCADBEBEAED...|DBDBAEBACDBAEEDEC...|        1|DADCCEBBCCACBEEBE...|BACCCBABBADCBCEEE...|BDABEABCADBCBAADD...|DBEBACABCDBABECEE...|                1|          160|          180|          140|          140|          200|            820|   D|   C|   C|   B|   6|   G|   A|   B|   C|   B|   A|   B|   A|   A|   A|   A|   A|   A|   A|   A|   A|   B|   A|   A|   A|\n",
            "|190001042836|  2019|              2|      F|              1|          2|               1|              2|              0|        2|        1|           0|         1501402|               Bel�m|       15|       PA|                     2|                 1|              1|           1501402|               Bel�m|         15|         PA|             1|             1|             1|             1|        506|        507|        511|        517|     510.9|     585.4|     578.4|     605.2|DDADBECADAECBDABD...|AECDBBACABDCEDAEE...|99999AECADBABADBD...|AACABDECBEBCDCACA...|        1|DEADBAAAEBEECEBCB...|BACCCBABBADCBCEEE...|BDABEABCADBCBAADD...|AADDDBEEEBEDDBEBA...|                1|          160|          200|          160|          200|          160|            880|   E|   F|   D|   D|   3|   C|   A|   B|   C|   A|   A|   B|   B|   B|   A|   A|   A|   A|   B|   A|   B|   D|   B|   B|   B|\n",
            "|190001421560|  2019|              4|      M|              1|          3|               1|              2|              0|        2|        1|           0|         2929503|S�o Sebasti�o do ...|       29|       BA|                     2|                 1|              1|           2929503|S�o Sebasti�o do ...|         29|         BA|             1|             1|             1|             1|        504|        509|        514|        516|     361.2|     499.0|     403.5|     392.5|EAEADACABEBDDAEBB...|EDBCDBCCBAACAAABE...|99999CBEABACEBEBA...|DABADBEBCEBCCACEA...|        1|BEEAAEBEEBADEADDA...|ACACEEBCCBABADBBB...|EBBADCABDABACBCEB...|BEDEEEAADBEBACABC...|                1|          120|          120|          120|          120|           80|            560|   C|   B|   C|   D|   5|   B|   A|   B|   B|   A|   A|   B|   A|   A|   A|   A|   A|   A|   B|   A|   A|   C|   A|   A|   B|\n",
            "|190001121528|  2019|              2|      F|              1|          3|               1|              2|              0|        2|        1|           0|         2208403|            Piripiri|       22|       PI|                     2|                 1|              1|           2208403|            Piripiri|         22|         PI|             1|             1|             1|             1|        504|        508|        512|        516|     556.8|     487.0|     571.8|     578.5|CBCCEECBEBBDECDAC...|AAACDCAEBEEEABABD...|99999BDABACCABEEC...|CAEACDABCCCCABCDC...|        1|BEEAAEBEEBADEADDA...|CBABADBBCEEEBCBAD...|BBEDABDACACBABAEC...|BEDEEEAADBEBACABC...|                1|          140|          180|          160|          160|          160|            800|   B|   A|   A|   F|   7|   C|   A|   B|   D|   A|   B|   B|   A|   A|   A|   A|   A|   A|   B|   A|   A|   C|   A|   A|   A|\n",
            "|190001595672|  2019|              3|      M|              1|          1|               1|              2|              0|        2|        1|           0|         3503307|              Araras|       35|       SP|                     2|                 1|              1|           3503307|              Araras|         35|         SP|             1|             1|             1|             1|        506|        507|        511|        517|     537.0|     585.3|     590.1|     661.4|EECDABBBDDECDABEA...|BAECAACBDADCBBEAE...|BDABE99999BABEAED...|AABDCCEBEDABDCBDA...|        0|DEADBAAAEBEECEBCB...|BACCCBABBADCBCEEE...|BDABEABCADBCBAADD...|AADDDBEEEBEDDBEBA...|                1|          120|          120|          100|          120|           80|            540|   E|   E|   C|   F|   3|   C|   A|   B|   B|   A|   B|   B|   A|   B|   A|   B|   A|   A|   B|   A|   A|   C|   A|   B|   B|\n",
            "|190001867760|  2019|              3|      M|              1|          3|               1|              2|              0|        2|        1|           0|         4104303|        Campo Mour�o|       41|       PR|                     2|                 1|              1|           4104303|        Campo Mour�o|         41|         PR|             1|             1|             1|             1|        506|        509|        514|        517|     523.2|     469.3|     508.4|     679.4|ADCBBBACEACCEDCCB...|ACECCCDDAAAEAABEC...|99999ACADBBBCCCDE...|AABDACEBCBABDECBA...|        1|DEADBAAAEBEECEBCB...|ACACEEBCCBABADBBB...|EBBADCABDABACBCEB...|AADDDBEEEBEDDBEBA...|                1|          140|          160|          120|          120|          100|            640|   E|   E|   D|   D|   4|   D|   A|   C|   D|   B|   A|   B|   A|   B|   A|   A|   A|   A|   B|   A|   A|   D|   A|   A|   B|\n",
            "|190001595675|  2019|              2|      F|              1|          1|               1|              2|              0|        2|        1|           0|         3529005|             Mar�lia|       35|       SP|                     2|                 1|              1|           3529005|             Mar�lia|         35|         SP|             1|             1|             1|             1|        506|        508|        512|        517|     423.9|     500.4|     472.3|     503.9|BDCBDBDEDBECEDDBB...|DAACAADECCAECCABD...|DBCBA99999ACBBEEB...|BBABDCBCAAEAEECCA...|        0|DEADBAAAEBEECEBCB...|CBABADBBCEEEBCBAD...|BBEDABDACACBABAEC...|AADDDBEEEBEDDBEBA...|                1|          120|          120|          140|          120|          120|            620|   E|   E|   C|   C|   4|   E|   A|   B|   C|   A|   A|   B|   B|   B|   B|   A|   A|   A|   B|   A|   B|   E|   A|   A|   A|\n",
            "|190001779797|  2019|              2|      F|              1|          3|               1|              2|              0|        2|        1|           0|            NULL|                NULL|     NULL|     NULL|                  NULL|              NULL|           NULL|           5200258|�guas Lindas de G...|         52|         GO|             1|             1|             1|             1|        504|        507|        511|        516|     467.9|     548.7|     536.1|     392.4|EAADBEBAECBBECCAB...|DCBCABAAABCCEAECE...|BDABD99999ECAACED...|ECDACDDBBEDCBEBBB...|        0|BEEAAEBEEBADEADDA...|BACCCBABBADCBCEEE...|BDABEABCADBCBAADD...|BEDEEEAADBEBACABC...|                1|          120|          120|          120|          120|          120|            600|   C|   F|   F|   B|   4|   C|   A|   B|   C|   B|   A|   B|   A|   A|   A|   B|   A|   A|   B|   A|   A|   D|   A|   A|   B|\n",
            "|190001237815|  2019|              2|      F|              1|          1|               1|              2|              0|        2|        1|           0|         3125101|             Extrema|       31|       MG|                     2|                 1|              1|           3125101|             Extrema|         31|         MG|             1|             1|             1|             1|        503|        508|        512|        515|     624.5|     636.9|     635.8|     698.7|CAECCCEEADDBCDDAB...|ABACADBBCEEEBCAAD...|BBEDA99999CBABDBC...|ECEADBEBAECBADAAC...|        0|AAECACDEADCBCDDDB...|CBABADBBCEEEBCBAD...|BBEDABDACACBABAEC...|EEEADBEBACABCDBAB...|                1|          160|          140|          160|          160|          180|            800|   C|   G|   C|   D|   4|   K|   A|   C|   C|   B|   B|   B|   A|   B|   A|   B|   A|   B|   C|   B|   A|   E|   A|   C|   B|\n",
            "|190001925229|  2019|              3|      M|              1|          3|               1|              2|              0|        2|        1|           0|         2304400|           Fortaleza|       23|       CE|                     2|                 1|              1|           2304400|           Fortaleza|         23|         CE|             1|             1|             1|             1|        505|        509|        514|        518|     416.3|     489.4|     501.7|     394.4|ABCBADCCACDCBBAAB...|CCBEEAACABDBABAEC...|99999AEBEAABCBCDE...|ECDCABDEBBCECDCDC...|        1|DADCCEBBCCACBEEBE...|ACACEEBCCBABADBBB...|EBBADCABDABACBCEB...|DBEBACABCDBABECEE...|                1|          160|          200|          120|          160|           80|            720|   D|   B|   F|   F|   5|   A|   A|   B|   A|   A|   A|   B|   A|   A|   A|   A|   A|   A|   B|   A|   A|   D|   A|   A|   B|\n",
            "+------------+------+---------------+-------+---------------+-----------+----------------+---------------+---------------+---------+---------+------------+----------------+--------------------+---------+---------+----------------------+------------------+---------------+------------------+--------------------+-----------+-----------+--------------+--------------+--------------+--------------+-----------+-----------+-----------+-----------+----------+----------+----------+----------+--------------------+--------------------+--------------------+--------------------+---------+--------------------+--------------------+--------------------+--------------------+-----------------+-------------+-------------+-------------+-------------+-------------+---------------+----+----+----+----+----+----+----+----+----+----+----+----+----+----+----+----+----+----+----+----+----+----+----+----+----+\n",
            "only showing top 20 rows\n",
            "\n"
          ]
        }
      ]
    },
    {
      "cell_type": "code",
      "source": [
        "# Fazendo backup\n",
        "bkp = enem_2019"
      ],
      "metadata": {
        "id": "at8_B7Z9NV9g"
      },
      "execution_count": 14,
      "outputs": []
    },
    {
      "cell_type": "code",
      "source": [
        "# Aplicando alteração:\n",
        "enem_2019 = enem_2019.dropna(how='any',subset=[\"NU_NOTA_CN\",\n",
        "                                   \"NU_NOTA_CH\",\n",
        "                                   \"NU_NOTA_LC\",\n",
        "                                   \"NU_NOTA_MT\",\n",
        "                                   \"NU_NOTA_REDACAO\"])"
      ],
      "metadata": {
        "id": "od2PGLhMNehR"
      },
      "execution_count": 15,
      "outputs": []
    },
    {
      "cell_type": "code",
      "source": [
        "# Validando a alteração: verificando se existem valores nulos nas colunas especificadas\n",
        "enem_2019.filter((enem_2019[\"NU_NOTA_CN\"].isNull()) |\n",
        "                 (enem_2019[\"NU_NOTA_CH\"].isNull()) |\n",
        "                 (enem_2019[\"NU_NOTA_LC\"].isNull()) |\n",
        "                 (enem_2019[\"NU_NOTA_MT\"].isNull()) |\n",
        "                 (enem_2019[\"NU_NOTA_REDACAO\"].isNull())).show()"
      ],
      "metadata": {
        "colab": {
          "base_uri": "https://localhost:8080/"
        },
        "id": "Bk_gtrFSNmOG",
        "outputId": "38801261-19bb-4090-bfd6-c395daf4d023"
      },
      "execution_count": 18,
      "outputs": [
        {
          "output_type": "stream",
          "name": "stdout",
          "text": [
            "+------------+------+---------------+-------+---------------+-----------+----------------+---------------+---------------+---------+---------+------------+----------------+----------------+---------+---------+----------------------+------------------+---------------+------------------+------------------+-----------+-----------+--------------+--------------+--------------+--------------+-----------+-----------+-----------+-----------+----------+----------+----------+----------+---------------+---------------+---------------+---------------+---------+--------------+--------------+--------------+--------------+-----------------+-------------+-------------+-------------+-------------+-------------+---------------+----+----+----+----+----+----+----+----+----+----+----+----+----+----+----+----+----+----+----+----+----+----+----+----+----+\n",
            "|NU_INSCRICAO|NU_ANO|TP_FAIXA_ETARIA|TP_SEXO|TP_ESTADO_CIVIL|TP_COR_RACA|TP_NACIONALIDADE|TP_ST_CONCLUSAO|TP_ANO_CONCLUIU|TP_ESCOLA|TP_ENSINO|IN_TREINEIRO|CO_MUNICIPIO_ESC|NO_MUNICIPIO_ESC|CO_UF_ESC|SG_UF_ESC|TP_DEPENDENCIA_ADM_ESC|TP_LOCALIZACAO_ESC|TP_SIT_FUNC_ESC|CO_MUNICIPIO_PROVA|NO_MUNICIPIO_PROVA|CO_UF_PROVA|SG_UF_PROVA|TP_PRESENCA_CN|TP_PRESENCA_CH|TP_PRESENCA_LC|TP_PRESENCA_MT|CO_PROVA_CN|CO_PROVA_CH|CO_PROVA_LC|CO_PROVA_MT|NU_NOTA_CN|NU_NOTA_CH|NU_NOTA_LC|NU_NOTA_MT|TX_RESPOSTAS_CN|TX_RESPOSTAS_CH|TX_RESPOSTAS_LC|TX_RESPOSTAS_MT|TP_LINGUA|TX_GABARITO_CN|TX_GABARITO_CH|TX_GABARITO_LC|TX_GABARITO_MT|TP_STATUS_REDACAO|NU_NOTA_COMP1|NU_NOTA_COMP2|NU_NOTA_COMP3|NU_NOTA_COMP4|NU_NOTA_COMP5|NU_NOTA_REDACAO|Q001|Q002|Q003|Q004|Q005|Q006|Q007|Q008|Q009|Q010|Q011|Q012|Q013|Q014|Q015|Q016|Q017|Q018|Q019|Q020|Q021|Q022|Q023|Q024|Q025|\n",
            "+------------+------+---------------+-------+---------------+-----------+----------------+---------------+---------------+---------+---------+------------+----------------+----------------+---------+---------+----------------------+------------------+---------------+------------------+------------------+-----------+-----------+--------------+--------------+--------------+--------------+-----------+-----------+-----------+-----------+----------+----------+----------+----------+---------------+---------------+---------------+---------------+---------+--------------+--------------+--------------+--------------+-----------------+-------------+-------------+-------------+-------------+-------------+---------------+----+----+----+----+----+----+----+----+----+----+----+----+----+----+----+----+----+----+----+----+----+----+----+----+----+\n",
            "+------------+------+---------------+-------+---------------+-----------+----------------+---------------+---------------+---------+---------+------------+----------------+----------------+---------+---------+----------------------+------------------+---------------+------------------+------------------+-----------+-----------+--------------+--------------+--------------+--------------+-----------+-----------+-----------+-----------+----------+----------+----------+----------+---------------+---------------+---------------+---------------+---------+--------------+--------------+--------------+--------------+-----------------+-------------+-------------+-------------+-------------+-------------+---------------+----+----+----+----+----+----+----+----+----+----+----+----+----+----+----+----+----+----+----+----+----+----+----+----+----+\n",
            "\n"
          ]
        }
      ]
    },
    {
      "cell_type": "code",
      "execution_count": 19,
      "metadata": {
        "colab": {
          "base_uri": "https://localhost:8080/"
        },
        "id": "m8F2N3DfhwYk",
        "outputId": "395a99ff-9caf-4323-a931-1061553bfc5e"
      },
      "outputs": [
        {
          "output_type": "stream",
          "name": "stdout",
          "text": [
            "+------------+------+---------------+-------+---------------+-----------+----------------+---------+------------+---------+----------------------+------------------+--------------------+----------+----------+----------+----------+---------------+\n",
            "|NU_INSCRICAO|NU_ANO|TP_FAIXA_ETARIA|TP_SEXO|TP_ESTADO_CIVIL|TP_COR_RACA|TP_NACIONALIDADE|TP_ESCOLA|IN_TREINEIRO|SG_UF_ESC|TP_DEPENDENCIA_ADM_ESC|TP_LOCALIZACAO_ESC|  NO_MUNICIPIO_PROVA|NU_NOTA_CN|NU_NOTA_CH|NU_NOTA_LC|NU_NOTA_MT|NU_NOTA_REDACAO|\n",
            "+------------+------+---------------+-------+---------------+-----------+----------------+---------+------------+---------+----------------------+------------------+--------------------+----------+----------+----------+----------+---------------+\n",
            "|190001592266|  2019|              2|      M|              1|          1|               1|        2|           0|     NULL|                  NULL|              NULL|           S�o Paulo|     543.9|     548.1|     502.5|     480.7|            400|\n",
            "|190001421547|  2019|              4|      M|              1|          3|               1|        1|           1|     NULL|                  NULL|              NULL|            Guanambi|     390.1|     453.0|     515.2|     461.5|            520|\n",
            "|190001867757|  2019|              2|      F|              1|          1|               1|        3|           0|       PR|                     4|                 1|           Apucarana|     618.2|     744.7|     636.3|     713.7|            900|\n",
            "|190001692704|  2019|              3|      F|              1|          1|               1|        2|           0|       RS|                     2|                 1|            Alvorada|     430.4|     466.8|     515.9|     394.1|            580|\n",
            "|190001595660|  2019|              2|      F|              1|          2|               1|        2|           0|       SP|                     2|                 1|     Itaquaquecetuba|     371.8|     501.4|     518.6|     442.0|            660|\n",
            "|190001421552|  2019|              2|      M|              1|          2|               1|        2|           0|       BA|                     2|                 1|    Lauro de Freitas|     567.3|     584.1|     595.8|     704.5|            620|\n",
            "|190001421555|  2019|              4|      M|              1|          3|               1|        1|           1|     NULL|                  NULL|              NULL|          Alagoinhas|     421.1|     469.9|     435.6|     527.4|              0|\n",
            "|190001480443|  2019|              3|      M|              2|          3|               4|        2|           0|       PB|                     2|                 1|          Santa Rita|     373.2|     409.6|     469.5|     379.1|            480|\n",
            "|190001082475|  2019|              2|      F|              1|          3|               1|        2|           0|       AM|                     2|                 1|              Manaus|     385.8|     436.3|     393.8|     370.0|            260|\n",
            "|190002037440|  2019|              2|      M|              1|          3|               1|        2|           0|       DF|                     2|                 1|            Bras�lia|     389.7|     431.1|     482.0|     529.7|            560|\n",
            "|190001121527|  2019|              2|      F|              3|          1|               1|        2|           0|       PI|                     1|                 1|            Parna�ba|     427.6|     548.8|     587.2|     699.3|            820|\n",
            "|190001042836|  2019|              2|      F|              1|          2|               1|        2|           0|       PA|                     2|                 1|               Bel�m|     510.9|     585.4|     578.4|     605.2|            880|\n",
            "|190001421560|  2019|              4|      M|              1|          3|               1|        2|           0|       BA|                     2|                 1|S�o Sebasti�o do ...|     361.2|     499.0|     403.5|     392.5|            560|\n",
            "|190001121528|  2019|              2|      F|              1|          3|               1|        2|           0|       PI|                     2|                 1|            Piripiri|     556.8|     487.0|     571.8|     578.5|            800|\n",
            "|190001595672|  2019|              3|      M|              1|          1|               1|        2|           0|       SP|                     2|                 1|              Araras|     537.0|     585.3|     590.1|     661.4|            540|\n",
            "|190001867760|  2019|              3|      M|              1|          3|               1|        2|           0|       PR|                     2|                 1|        Campo Mour�o|     523.2|     469.3|     508.4|     679.4|            640|\n",
            "|190001595675|  2019|              2|      F|              1|          1|               1|        2|           0|       SP|                     2|                 1|             Mar�lia|     423.9|     500.4|     472.3|     503.9|            620|\n",
            "|190001779797|  2019|              2|      F|              1|          3|               1|        2|           0|     NULL|                  NULL|              NULL|�guas Lindas de G...|     467.9|     548.7|     536.1|     392.4|            600|\n",
            "|190001237815|  2019|              2|      F|              1|          1|               1|        2|           0|       MG|                     2|                 1|             Extrema|     624.5|     636.9|     635.8|     698.7|            800|\n",
            "|190001925229|  2019|              3|      M|              1|          3|               1|        2|           0|       CE|                     2|                 1|           Fortaleza|     416.3|     489.4|     501.7|     394.4|            720|\n",
            "+------------+------+---------------+-------+---------------+-----------+----------------+---------+------------+---------+----------------------+------------------+--------------------+----------+----------+----------+----------+---------------+\n",
            "only showing top 20 rows\n",
            "\n"
          ]
        }
      ],
      "source": [
        "# Filtrando colunas que não interessam para esta analise:\n",
        "enem_2019.drop(\"TP_ANO_CONCLUIU\",\n",
        "               \"TP_ST_CONCLUSAO\",\n",
        "               \"CO_MUNICIPIO_ESC\",\n",
        "               \"CO_UF_ESC\",\n",
        "               \"CO_MUNICIPIO_PROVA\",\n",
        "               \"NO_MUNICIPIO_ESC\",\n",
        "               \"TP_SIT_FUNC_ESC\",\n",
        "               \"TP_ENSINO\",\n",
        "               \"TX_RESPOSTAS_CN\",\n",
        "               \"TX_RESPOSTAS_CH\",\n",
        "               \"TX_RESPOSTAS_LC\",\n",
        "               \"TX_RESPOSTAS_MT\",\n",
        "               \"TP_LINGUA\",\n",
        "               \"TX_GABARITO_CN\",\n",
        "               \"TX_GABARITO_CH\",\n",
        "               \"TX_GABARITO_LC\",\n",
        "               \"TX_GABARITO_MT\",\n",
        "               \"TP_STATUS_REDACAO\",\n",
        "               \"NU_NOTA_COMP1\",\n",
        "               \"NU_NOTA_COMP2\",\n",
        "               \"NU_NOTA_COMP3\",\n",
        "               \"NU_NOTA_COMP4\",\n",
        "               \"NU_NOTA_COMP5\",\n",
        "               \"CO_UF_PROVA\",\n",
        "               \"SG_UF_PROVA\",\n",
        "               \"TP_PRESENCA_CN\",\n",
        "               \"TP_PRESENCA_CH\",\n",
        "               \"TP_PRESENCA_LC\",\n",
        "               \"TP_PRESENCA_MT\",\n",
        "               \"CO_PROVA_CN\",\n",
        "               \"CO_PROVA_CH\",\n",
        "               \"CO_PROVA_LC\",\n",
        "               \"CO_PROVA_MT\",\n",
        "               \"Q001\",\n",
        "               \"Q002\",\n",
        "               \"Q003\",\n",
        "               \"Q004\",\n",
        "               \"Q005\",\n",
        "               \"Q006\",\n",
        "               \"Q007\",\n",
        "               \"Q008\",\n",
        "               \"Q009\",\n",
        "               \"Q010\",\n",
        "               \"Q011\",\n",
        "               \"Q012\",\n",
        "               \"Q013\",\n",
        "               \"Q014\",\n",
        "               \"Q015\",\n",
        "               \"Q016\",\n",
        "               \"Q017\",\n",
        "               \"Q018\",\n",
        "               \"Q019\",\n",
        "               \"Q020\",\n",
        "               \"Q021\",\n",
        "               \"Q022\",\n",
        "               \"Q023\",\n",
        "               \"Q024\",\n",
        "               \"Q025\").show()\n",
        "\n",
        "\n",
        "\n"
      ]
    },
    {
      "cell_type": "code",
      "execution_count": 20,
      "metadata": {
        "id": "DoWRsTMPjuPK"
      },
      "outputs": [],
      "source": [
        "# Aplicando Data frame\n",
        "enem_2019 = enem_2019.drop(\n",
        "               \"TP_ANO_CONCLUIU\",\n",
        "               \"TP_ESTADO_CIVIL\",\n",
        "               \"TP_ST_CONCLUSAO\",\n",
        "               \"CO_MUNICIPIO_ESC\",\n",
        "               \"CO_UF_ESC\",\n",
        "               \"CO_MUNICIPIO_PROVA\",\n",
        "               \"NO_MUNICIPIO_ESC\",\n",
        "               \"TP_SIT_FUNC_ESC\",\n",
        "               \"TP_ENSINO\",\n",
        "               \"TX_RESPOSTAS_CN\",\n",
        "               \"TX_RESPOSTAS_CH\",\n",
        "               \"TX_RESPOSTAS_LC\",\n",
        "               \"TX_RESPOSTAS_MT\",\n",
        "               \"TP_LINGUA\",\n",
        "               \"TX_GABARITO_CN\",\n",
        "               \"TX_GABARITO_CH\",\n",
        "               \"TX_GABARITO_LC\",\n",
        "               \"TX_GABARITO_MT\",\n",
        "               \"TP_STATUS_REDACAO\",\n",
        "               \"NU_NOTA_COMP1\",\n",
        "               \"NU_NOTA_COMP2\",\n",
        "               \"NU_NOTA_COMP3\",\n",
        "               \"NU_NOTA_COMP4\",\n",
        "               \"NU_NOTA_COMP5\",\n",
        "               \"CO_UF_PROVA\",\n",
        "               \"SG_UF_PROVA\",\n",
        "               \"TP_PRESENCA_CN\",\n",
        "               \"TP_PRESENCA_CH\",\n",
        "               \"TP_PRESENCA_LC\",\n",
        "               \"TP_PRESENCA_MT\",\n",
        "               \"CO_PROVA_CN\",\n",
        "               \"CO_PROVA_CH\",\n",
        "               \"CO_PROVA_LC\",\n",
        "               \"CO_PROVA_MT\",\n",
        "               \"Q001\",\n",
        "               \"Q002\",\n",
        "               \"Q003\",\n",
        "               \"Q004\",\n",
        "               \"Q005\",\n",
        "               \"Q006\",\n",
        "               \"Q007\",\n",
        "               \"Q008\",\n",
        "               \"Q009\",\n",
        "               \"Q010\",\n",
        "               \"Q011\",\n",
        "               \"Q012\",\n",
        "               \"Q013\",\n",
        "               \"Q014\",\n",
        "               \"Q015\",\n",
        "               \"Q016\",\n",
        "               \"Q017\",\n",
        "               \"Q018\",\n",
        "               \"Q019\",\n",
        "               \"Q020\",\n",
        "               \"Q021\",\n",
        "               \"Q022\",\n",
        "               \"Q023\",\n",
        "               \"Q024\",\n",
        "               \"Q025\")"
      ]
    },
    {
      "cell_type": "code",
      "execution_count": 21,
      "metadata": {
        "id": "pzHhViDYm9uM",
        "colab": {
          "base_uri": "https://localhost:8080/"
        },
        "outputId": "251933ac-8ce6-40db-b872-89a4f962419a"
      },
      "outputs": [
        {
          "output_type": "stream",
          "name": "stdout",
          "text": [
            "+------------+------+---------------+-------+-----------+----------------+---------+------------+---------+----------------------+------------------+--------------------+----------+----------+----------+----------+---------------+\n",
            "|NU_INSCRICAO|NU_ANO|TP_FAIXA_ETARIA|TP_SEXO|TP_COR_RACA|TP_NACIONALIDADE|TP_ESCOLA|IN_TREINEIRO|SG_UF_ESC|TP_DEPENDENCIA_ADM_ESC|TP_LOCALIZACAO_ESC|  NO_MUNICIPIO_PROVA|NU_NOTA_CN|NU_NOTA_CH|NU_NOTA_LC|NU_NOTA_MT|NU_NOTA_REDACAO|\n",
            "+------------+------+---------------+-------+-----------+----------------+---------+------------+---------+----------------------+------------------+--------------------+----------+----------+----------+----------+---------------+\n",
            "|190001592266|  2019|              2|      M|          1|               1|        2|           0|     NULL|                  NULL|              NULL|           S�o Paulo|     543.9|     548.1|     502.5|     480.7|            400|\n",
            "|190001421547|  2019|              4|      M|          3|               1|        1|           1|     NULL|                  NULL|              NULL|            Guanambi|     390.1|     453.0|     515.2|     461.5|            520|\n",
            "|190001867757|  2019|              2|      F|          1|               1|        3|           0|       PR|                     4|                 1|           Apucarana|     618.2|     744.7|     636.3|     713.7|            900|\n",
            "|190001692704|  2019|              3|      F|          1|               1|        2|           0|       RS|                     2|                 1|            Alvorada|     430.4|     466.8|     515.9|     394.1|            580|\n",
            "|190001595660|  2019|              2|      F|          2|               1|        2|           0|       SP|                     2|                 1|     Itaquaquecetuba|     371.8|     501.4|     518.6|     442.0|            660|\n",
            "|190001421552|  2019|              2|      M|          2|               1|        2|           0|       BA|                     2|                 1|    Lauro de Freitas|     567.3|     584.1|     595.8|     704.5|            620|\n",
            "|190001421555|  2019|              4|      M|          3|               1|        1|           1|     NULL|                  NULL|              NULL|          Alagoinhas|     421.1|     469.9|     435.6|     527.4|              0|\n",
            "|190001480443|  2019|              3|      M|          3|               4|        2|           0|       PB|                     2|                 1|          Santa Rita|     373.2|     409.6|     469.5|     379.1|            480|\n",
            "|190001082475|  2019|              2|      F|          3|               1|        2|           0|       AM|                     2|                 1|              Manaus|     385.8|     436.3|     393.8|     370.0|            260|\n",
            "|190002037440|  2019|              2|      M|          3|               1|        2|           0|       DF|                     2|                 1|            Bras�lia|     389.7|     431.1|     482.0|     529.7|            560|\n",
            "|190001121527|  2019|              2|      F|          1|               1|        2|           0|       PI|                     1|                 1|            Parna�ba|     427.6|     548.8|     587.2|     699.3|            820|\n",
            "|190001042836|  2019|              2|      F|          2|               1|        2|           0|       PA|                     2|                 1|               Bel�m|     510.9|     585.4|     578.4|     605.2|            880|\n",
            "|190001421560|  2019|              4|      M|          3|               1|        2|           0|       BA|                     2|                 1|S�o Sebasti�o do ...|     361.2|     499.0|     403.5|     392.5|            560|\n",
            "|190001121528|  2019|              2|      F|          3|               1|        2|           0|       PI|                     2|                 1|            Piripiri|     556.8|     487.0|     571.8|     578.5|            800|\n",
            "|190001595672|  2019|              3|      M|          1|               1|        2|           0|       SP|                     2|                 1|              Araras|     537.0|     585.3|     590.1|     661.4|            540|\n",
            "|190001867760|  2019|              3|      M|          3|               1|        2|           0|       PR|                     2|                 1|        Campo Mour�o|     523.2|     469.3|     508.4|     679.4|            640|\n",
            "|190001595675|  2019|              2|      F|          1|               1|        2|           0|       SP|                     2|                 1|             Mar�lia|     423.9|     500.4|     472.3|     503.9|            620|\n",
            "|190001779797|  2019|              2|      F|          3|               1|        2|           0|     NULL|                  NULL|              NULL|�guas Lindas de G...|     467.9|     548.7|     536.1|     392.4|            600|\n",
            "|190001237815|  2019|              2|      F|          1|               1|        2|           0|       MG|                     2|                 1|             Extrema|     624.5|     636.9|     635.8|     698.7|            800|\n",
            "|190001925229|  2019|              3|      M|          3|               1|        2|           0|       CE|                     2|                 1|           Fortaleza|     416.3|     489.4|     501.7|     394.4|            720|\n",
            "+------------+------+---------------+-------+-----------+----------------+---------+------------+---------+----------------------+------------------+--------------------+----------+----------+----------+----------+---------------+\n",
            "only showing top 20 rows\n",
            "\n"
          ]
        }
      ],
      "source": [
        "enem_2019.show()"
      ]
    },
    {
      "cell_type": "code",
      "source": [
        "# Renomenando colunas:\n",
        "enem_2019.withColumnsRenamed({\n",
        "    \"NU_INSCRICAO\":\"inscricao\",\n",
        "    \"NU_ANO\":\"ano_prova\",\n",
        "    \"TP_FAIXA_ETARIA\":\"faixa_etaria\",\n",
        "    \"TP_SEXO\":\"genero\",\n",
        "    \"TP_COR_RACA\":\"cor_raca\",\n",
        "    \"TP_NACIONALIDADE\":\"nacionalidade\",\n",
        "    \"TP_ESCOLA\": \"tipo_escola\",\n",
        "    \"IN_TREINEIRO\": \"treineiro\",\n",
        "    \"SG_UF_ESC\":\"uf_escola\",\n",
        "    \"TP_DEPENDENCIA_ADM_ESC\":\"dependencia_esc\",\n",
        "    \"TP_LOCALIZACAO_ESC\":\"localizacao_esc\",\n",
        "    \"NO_MUNICIPIO_PROVA\":\"municipio_esc\",\n",
        "    \"NU_NOTA_CN\":\"n_ciencias_nat\",\n",
        "    \"NU_NOTA_CH\":\"n_ciencias_hum\",\n",
        "    \"NU_NOTA_LC\":\"n_linguagens_cod\",\n",
        "    \"NU_NOTA_MT\":\"n_matematica\",\n",
        "    \"NU_NOTA_REDACAO\":\"n_redacao\"\n",
        "}).show()"
      ],
      "metadata": {
        "colab": {
          "base_uri": "https://localhost:8080/"
        },
        "id": "Ybz4omFW6SGD",
        "outputId": "dbdd8214-2b71-41ca-975f-7221040fd3d6"
      },
      "execution_count": 22,
      "outputs": [
        {
          "output_type": "stream",
          "name": "stdout",
          "text": [
            "+------------+---------+------------+------+--------+-------------+-----------+---------+---------+---------------+---------------+--------------------+--------------+--------------+----------------+------------+---------+\n",
            "|   inscricao|ano_prova|faixa_etaria|genero|cor_raca|nacionalidade|tipo_escola|treineiro|uf_escola|dependencia_esc|localizacao_esc|       municipio_esc|n_ciencias_nat|n_ciencias_hum|n_linguagens_cod|n_matematica|n_redacao|\n",
            "+------------+---------+------------+------+--------+-------------+-----------+---------+---------+---------------+---------------+--------------------+--------------+--------------+----------------+------------+---------+\n",
            "|190001592266|     2019|           2|     M|       1|            1|          2|        0|     NULL|           NULL|           NULL|           S�o Paulo|         543.9|         548.1|           502.5|       480.7|      400|\n",
            "|190001421547|     2019|           4|     M|       3|            1|          1|        1|     NULL|           NULL|           NULL|            Guanambi|         390.1|         453.0|           515.2|       461.5|      520|\n",
            "|190001867757|     2019|           2|     F|       1|            1|          3|        0|       PR|              4|              1|           Apucarana|         618.2|         744.7|           636.3|       713.7|      900|\n",
            "|190001692704|     2019|           3|     F|       1|            1|          2|        0|       RS|              2|              1|            Alvorada|         430.4|         466.8|           515.9|       394.1|      580|\n",
            "|190001595660|     2019|           2|     F|       2|            1|          2|        0|       SP|              2|              1|     Itaquaquecetuba|         371.8|         501.4|           518.6|       442.0|      660|\n",
            "|190001421552|     2019|           2|     M|       2|            1|          2|        0|       BA|              2|              1|    Lauro de Freitas|         567.3|         584.1|           595.8|       704.5|      620|\n",
            "|190001421555|     2019|           4|     M|       3|            1|          1|        1|     NULL|           NULL|           NULL|          Alagoinhas|         421.1|         469.9|           435.6|       527.4|        0|\n",
            "|190001480443|     2019|           3|     M|       3|            4|          2|        0|       PB|              2|              1|          Santa Rita|         373.2|         409.6|           469.5|       379.1|      480|\n",
            "|190001082475|     2019|           2|     F|       3|            1|          2|        0|       AM|              2|              1|              Manaus|         385.8|         436.3|           393.8|       370.0|      260|\n",
            "|190002037440|     2019|           2|     M|       3|            1|          2|        0|       DF|              2|              1|            Bras�lia|         389.7|         431.1|           482.0|       529.7|      560|\n",
            "|190001121527|     2019|           2|     F|       1|            1|          2|        0|       PI|              1|              1|            Parna�ba|         427.6|         548.8|           587.2|       699.3|      820|\n",
            "|190001042836|     2019|           2|     F|       2|            1|          2|        0|       PA|              2|              1|               Bel�m|         510.9|         585.4|           578.4|       605.2|      880|\n",
            "|190001421560|     2019|           4|     M|       3|            1|          2|        0|       BA|              2|              1|S�o Sebasti�o do ...|         361.2|         499.0|           403.5|       392.5|      560|\n",
            "|190001121528|     2019|           2|     F|       3|            1|          2|        0|       PI|              2|              1|            Piripiri|         556.8|         487.0|           571.8|       578.5|      800|\n",
            "|190001595672|     2019|           3|     M|       1|            1|          2|        0|       SP|              2|              1|              Araras|         537.0|         585.3|           590.1|       661.4|      540|\n",
            "|190001867760|     2019|           3|     M|       3|            1|          2|        0|       PR|              2|              1|        Campo Mour�o|         523.2|         469.3|           508.4|       679.4|      640|\n",
            "|190001595675|     2019|           2|     F|       1|            1|          2|        0|       SP|              2|              1|             Mar�lia|         423.9|         500.4|           472.3|       503.9|      620|\n",
            "|190001779797|     2019|           2|     F|       3|            1|          2|        0|     NULL|           NULL|           NULL|�guas Lindas de G...|         467.9|         548.7|           536.1|       392.4|      600|\n",
            "|190001237815|     2019|           2|     F|       1|            1|          2|        0|       MG|              2|              1|             Extrema|         624.5|         636.9|           635.8|       698.7|      800|\n",
            "|190001925229|     2019|           3|     M|       3|            1|          2|        0|       CE|              2|              1|           Fortaleza|         416.3|         489.4|           501.7|       394.4|      720|\n",
            "+------------+---------+------------+------+--------+-------------+-----------+---------+---------+---------------+---------------+--------------------+--------------+--------------+----------------+------------+---------+\n",
            "only showing top 20 rows\n",
            "\n"
          ]
        }
      ]
    },
    {
      "cell_type": "code",
      "source": [
        "# Aplicando alterações\n",
        "enem_2019=enem_2019.withColumnsRenamed({\n",
        "    \"NU_INSCRICAO\":\"inscricao\",\n",
        "    \"NU_ANO\":\"ano_prova\",\n",
        "    \"TP_FAIXA_ETARIA\":\"faixa_etaria\",\n",
        "    \"TP_SEXO\":\"genero\",\n",
        "    \"TP_COR_RACA\":\"cor_raca\",\n",
        "    \"TP_NACIONALIDADE\":\"nacionalidade\",\n",
        "    \"TP_ESCOLA\": \"tipo_escola\",\n",
        "    \"IN_TREINEIRO\": \"treineiro\",\n",
        "    \"SG_UF_ESC\":\"uf_escola\",\n",
        "    \"TP_DEPENDENCIA_ADM_ESC\":\"dependencia_esc\",\n",
        "    \"TP_LOCALIZACAO_ESC\":\"localizacao_esc\",\n",
        "    \"NO_MUNICIPIO_PROVA\":\"municipio_esc\",\n",
        "    \"NU_NOTA_CN\":\"n_ciencias_nat\",\n",
        "    \"NU_NOTA_CH\":\"n_ciencias_hum\",\n",
        "    \"NU_NOTA_LC\":\"n_linguagens_cod\",\n",
        "    \"NU_NOTA_MT\":\"n_matematica\",\n",
        "    \"NU_NOTA_REDACAO\":\"n_redacao\"\n",
        "})"
      ],
      "metadata": {
        "id": "PjrDDYCv9HCR"
      },
      "execution_count": 23,
      "outputs": []
    },
    {
      "cell_type": "code",
      "source": [
        "enem_2019.show()"
      ],
      "metadata": {
        "colab": {
          "base_uri": "https://localhost:8080/"
        },
        "id": "GL4UY4viAPnA",
        "outputId": "aca02e25-f8b8-4dd9-c6d8-30a81423feab"
      },
      "execution_count": 24,
      "outputs": [
        {
          "output_type": "stream",
          "name": "stdout",
          "text": [
            "+------------+---------+------------+------+--------+-------------+-----------+---------+---------+---------------+---------------+--------------------+--------------+--------------+----------------+------------+---------+\n",
            "|   inscricao|ano_prova|faixa_etaria|genero|cor_raca|nacionalidade|tipo_escola|treineiro|uf_escola|dependencia_esc|localizacao_esc|       municipio_esc|n_ciencias_nat|n_ciencias_hum|n_linguagens_cod|n_matematica|n_redacao|\n",
            "+------------+---------+------------+------+--------+-------------+-----------+---------+---------+---------------+---------------+--------------------+--------------+--------------+----------------+------------+---------+\n",
            "|190001592266|     2019|           2|     M|       1|            1|          2|        0|     NULL|           NULL|           NULL|           S�o Paulo|         543.9|         548.1|           502.5|       480.7|      400|\n",
            "|190001421547|     2019|           4|     M|       3|            1|          1|        1|     NULL|           NULL|           NULL|            Guanambi|         390.1|         453.0|           515.2|       461.5|      520|\n",
            "|190001867757|     2019|           2|     F|       1|            1|          3|        0|       PR|              4|              1|           Apucarana|         618.2|         744.7|           636.3|       713.7|      900|\n",
            "|190001692704|     2019|           3|     F|       1|            1|          2|        0|       RS|              2|              1|            Alvorada|         430.4|         466.8|           515.9|       394.1|      580|\n",
            "|190001595660|     2019|           2|     F|       2|            1|          2|        0|       SP|              2|              1|     Itaquaquecetuba|         371.8|         501.4|           518.6|       442.0|      660|\n",
            "|190001421552|     2019|           2|     M|       2|            1|          2|        0|       BA|              2|              1|    Lauro de Freitas|         567.3|         584.1|           595.8|       704.5|      620|\n",
            "|190001421555|     2019|           4|     M|       3|            1|          1|        1|     NULL|           NULL|           NULL|          Alagoinhas|         421.1|         469.9|           435.6|       527.4|        0|\n",
            "|190001480443|     2019|           3|     M|       3|            4|          2|        0|       PB|              2|              1|          Santa Rita|         373.2|         409.6|           469.5|       379.1|      480|\n",
            "|190001082475|     2019|           2|     F|       3|            1|          2|        0|       AM|              2|              1|              Manaus|         385.8|         436.3|           393.8|       370.0|      260|\n",
            "|190002037440|     2019|           2|     M|       3|            1|          2|        0|       DF|              2|              1|            Bras�lia|         389.7|         431.1|           482.0|       529.7|      560|\n",
            "|190001121527|     2019|           2|     F|       1|            1|          2|        0|       PI|              1|              1|            Parna�ba|         427.6|         548.8|           587.2|       699.3|      820|\n",
            "|190001042836|     2019|           2|     F|       2|            1|          2|        0|       PA|              2|              1|               Bel�m|         510.9|         585.4|           578.4|       605.2|      880|\n",
            "|190001421560|     2019|           4|     M|       3|            1|          2|        0|       BA|              2|              1|S�o Sebasti�o do ...|         361.2|         499.0|           403.5|       392.5|      560|\n",
            "|190001121528|     2019|           2|     F|       3|            1|          2|        0|       PI|              2|              1|            Piripiri|         556.8|         487.0|           571.8|       578.5|      800|\n",
            "|190001595672|     2019|           3|     M|       1|            1|          2|        0|       SP|              2|              1|              Araras|         537.0|         585.3|           590.1|       661.4|      540|\n",
            "|190001867760|     2019|           3|     M|       3|            1|          2|        0|       PR|              2|              1|        Campo Mour�o|         523.2|         469.3|           508.4|       679.4|      640|\n",
            "|190001595675|     2019|           2|     F|       1|            1|          2|        0|       SP|              2|              1|             Mar�lia|         423.9|         500.4|           472.3|       503.9|      620|\n",
            "|190001779797|     2019|           2|     F|       3|            1|          2|        0|     NULL|           NULL|           NULL|�guas Lindas de G...|         467.9|         548.7|           536.1|       392.4|      600|\n",
            "|190001237815|     2019|           2|     F|       1|            1|          2|        0|       MG|              2|              1|             Extrema|         624.5|         636.9|           635.8|       698.7|      800|\n",
            "|190001925229|     2019|           3|     M|       3|            1|          2|        0|       CE|              2|              1|           Fortaleza|         416.3|         489.4|           501.7|       394.4|      720|\n",
            "+------------+---------+------------+------+--------+-------------+-----------+---------+---------+---------------+---------------+--------------------+--------------+--------------+----------------+------------+---------+\n",
            "only showing top 20 rows\n",
            "\n"
          ]
        }
      ]
    },
    {
      "cell_type": "code",
      "source": [
        "# Alterando valores das colunas segundo dicionario de dados\n",
        "enem_2019.withColumn(    \"faixa_etaria\",\n",
        "                         f.when(enem_2019.faixa_etaria == 1, \"MENOR QUE 17\")\\\n",
        "                         .when(enem_2019.faixa_etaria == 2, \"17\")\\\n",
        "                         .when(enem_2019.faixa_etaria == 3, \"18\")\\\n",
        "                         .when(enem_2019.faixa_etaria == 4, \"19\")\\\n",
        "                         .when(enem_2019.faixa_etaria == 5, \"20\")\\\n",
        "                         .when(enem_2019.faixa_etaria == 6, \"21\")\\\n",
        "                         .when(enem_2019.faixa_etaria == 7, \"22\")\\\n",
        "                         .when(enem_2019.faixa_etaria == 8, \"23\")\\\n",
        "                         .when(enem_2019.faixa_etaria == 9, \"24\")\\\n",
        "                         .when(enem_2019.faixa_etaria == 10, \"25\").otherwise(\"N/I\")\n",
        "                         ).show()"
      ],
      "metadata": {
        "colab": {
          "base_uri": "https://localhost:8080/"
        },
        "id": "fwha3EZTARsv",
        "outputId": "d15d3857-b657-4065-8425-12869e090fe8"
      },
      "execution_count": 27,
      "outputs": [
        {
          "output_type": "stream",
          "name": "stdout",
          "text": [
            "+------------+---------+------------+------+--------+-------------+-----------+---------+---------+---------------+---------------+--------------------+--------------+--------------+----------------+------------+---------+\n",
            "|   inscricao|ano_prova|faixa_etaria|genero|cor_raca|nacionalidade|tipo_escola|treineiro|uf_escola|dependencia_esc|localizacao_esc|       municipio_esc|n_ciencias_nat|n_ciencias_hum|n_linguagens_cod|n_matematica|n_redacao|\n",
            "+------------+---------+------------+------+--------+-------------+-----------+---------+---------+---------------+---------------+--------------------+--------------+--------------+----------------+------------+---------+\n",
            "|190001592266|     2019|         N/I|     M|       1|            1|          2|        0|     NULL|           NULL|           NULL|           S�o Paulo|         543.9|         548.1|           502.5|       480.7|      400|\n",
            "|190001421547|     2019|         N/I|     M|       3|            1|          1|        1|     NULL|           NULL|           NULL|            Guanambi|         390.1|         453.0|           515.2|       461.5|      520|\n",
            "|190001867757|     2019|         N/I|     F|       1|            1|          3|        0|       PR|              4|              1|           Apucarana|         618.2|         744.7|           636.3|       713.7|      900|\n",
            "|190001692704|     2019|         N/I|     F|       1|            1|          2|        0|       RS|              2|              1|            Alvorada|         430.4|         466.8|           515.9|       394.1|      580|\n",
            "|190001595660|     2019|         N/I|     F|       2|            1|          2|        0|       SP|              2|              1|     Itaquaquecetuba|         371.8|         501.4|           518.6|       442.0|      660|\n",
            "|190001421552|     2019|         N/I|     M|       2|            1|          2|        0|       BA|              2|              1|    Lauro de Freitas|         567.3|         584.1|           595.8|       704.5|      620|\n",
            "|190001421555|     2019|         N/I|     M|       3|            1|          1|        1|     NULL|           NULL|           NULL|          Alagoinhas|         421.1|         469.9|           435.6|       527.4|        0|\n",
            "|190001480443|     2019|         N/I|     M|       3|            4|          2|        0|       PB|              2|              1|          Santa Rita|         373.2|         409.6|           469.5|       379.1|      480|\n",
            "|190001082475|     2019|         N/I|     F|       3|            1|          2|        0|       AM|              2|              1|              Manaus|         385.8|         436.3|           393.8|       370.0|      260|\n",
            "|190002037440|     2019|         N/I|     M|       3|            1|          2|        0|       DF|              2|              1|            Bras�lia|         389.7|         431.1|           482.0|       529.7|      560|\n",
            "|190001121527|     2019|         N/I|     F|       1|            1|          2|        0|       PI|              1|              1|            Parna�ba|         427.6|         548.8|           587.2|       699.3|      820|\n",
            "|190001042836|     2019|         N/I|     F|       2|            1|          2|        0|       PA|              2|              1|               Bel�m|         510.9|         585.4|           578.4|       605.2|      880|\n",
            "|190001421560|     2019|         N/I|     M|       3|            1|          2|        0|       BA|              2|              1|S�o Sebasti�o do ...|         361.2|         499.0|           403.5|       392.5|      560|\n",
            "|190001121528|     2019|         N/I|     F|       3|            1|          2|        0|       PI|              2|              1|            Piripiri|         556.8|         487.0|           571.8|       578.5|      800|\n",
            "|190001595672|     2019|         N/I|     M|       1|            1|          2|        0|       SP|              2|              1|              Araras|         537.0|         585.3|           590.1|       661.4|      540|\n",
            "|190001867760|     2019|         N/I|     M|       3|            1|          2|        0|       PR|              2|              1|        Campo Mour�o|         523.2|         469.3|           508.4|       679.4|      640|\n",
            "|190001595675|     2019|         N/I|     F|       1|            1|          2|        0|       SP|              2|              1|             Mar�lia|         423.9|         500.4|           472.3|       503.9|      620|\n",
            "|190001779797|     2019|         N/I|     F|       3|            1|          2|        0|     NULL|           NULL|           NULL|�guas Lindas de G...|         467.9|         548.7|           536.1|       392.4|      600|\n",
            "|190001237815|     2019|         N/I|     F|       1|            1|          2|        0|       MG|              2|              1|             Extrema|         624.5|         636.9|           635.8|       698.7|      800|\n",
            "|190001925229|     2019|         N/I|     M|       3|            1|          2|        0|       CE|              2|              1|           Fortaleza|         416.3|         489.4|           501.7|       394.4|      720|\n",
            "+------------+---------+------------+------+--------+-------------+-----------+---------+---------+---------------+---------------+--------------------+--------------+--------------+----------------+------------+---------+\n",
            "only showing top 20 rows\n",
            "\n"
          ]
        }
      ]
    },
    {
      "cell_type": "code",
      "source": [
        "# Implementando alteração:\n",
        "enem_2019 = enem_2019.withColumn(    \"faixa_etaria\",\n",
        "                         f.when(enem_2019.faixa_etaria == 1, \"MENOR QUE 17\")\\\n",
        "                         .when(enem_2019.faixa_etaria == 2, \"17\")\\\n",
        "                         .when(enem_2019.faixa_etaria == 3, \"18\")\\\n",
        "                         .when(enem_2019.faixa_etaria == 4, \"19\")\\\n",
        "                         .when(enem_2019.faixa_etaria == 5, \"20\")\\\n",
        "                         .when(enem_2019.faixa_etaria == 6, \"21\")\\\n",
        "                         .when(enem_2019.faixa_etaria == 7, \"22\")\\\n",
        "                         .when(enem_2019.faixa_etaria == 8, \"23\")\\\n",
        "                         .when(enem_2019.faixa_etaria == 9, \"24\")\\\n",
        "                         .when(enem_2019.faixa_etaria == 10, \"25\").otherwise(\"N/I\")\n",
        "                         )"
      ],
      "metadata": {
        "id": "ICkGub69CK1P"
      },
      "execution_count": 28,
      "outputs": []
    },
    {
      "cell_type": "code",
      "source": [
        "enem_2019.show()"
      ],
      "metadata": {
        "colab": {
          "base_uri": "https://localhost:8080/"
        },
        "id": "HhcI9hMrGoNN",
        "outputId": "943bd522-1734-4db1-9a41-3edcba5eb2fe"
      },
      "execution_count": 29,
      "outputs": [
        {
          "output_type": "stream",
          "name": "stdout",
          "text": [
            "+------------+---------+------------+------+--------+-------------+-----------+---------+---------+---------------+---------------+--------------------+--------------+--------------+----------------+------------+---------+\n",
            "|   inscricao|ano_prova|faixa_etaria|genero|cor_raca|nacionalidade|tipo_escola|treineiro|uf_escola|dependencia_esc|localizacao_esc|       municipio_esc|n_ciencias_nat|n_ciencias_hum|n_linguagens_cod|n_matematica|n_redacao|\n",
            "+------------+---------+------------+------+--------+-------------+-----------+---------+---------+---------------+---------------+--------------------+--------------+--------------+----------------+------------+---------+\n",
            "|190001592266|     2019|         N/I|     M|       1|            1|          2|        0|     NULL|           NULL|           NULL|           S�o Paulo|         543.9|         548.1|           502.5|       480.7|      400|\n",
            "|190001421547|     2019|         N/I|     M|       3|            1|          1|        1|     NULL|           NULL|           NULL|            Guanambi|         390.1|         453.0|           515.2|       461.5|      520|\n",
            "|190001867757|     2019|         N/I|     F|       1|            1|          3|        0|       PR|              4|              1|           Apucarana|         618.2|         744.7|           636.3|       713.7|      900|\n",
            "|190001692704|     2019|         N/I|     F|       1|            1|          2|        0|       RS|              2|              1|            Alvorada|         430.4|         466.8|           515.9|       394.1|      580|\n",
            "|190001595660|     2019|         N/I|     F|       2|            1|          2|        0|       SP|              2|              1|     Itaquaquecetuba|         371.8|         501.4|           518.6|       442.0|      660|\n",
            "|190001421552|     2019|         N/I|     M|       2|            1|          2|        0|       BA|              2|              1|    Lauro de Freitas|         567.3|         584.1|           595.8|       704.5|      620|\n",
            "|190001421555|     2019|         N/I|     M|       3|            1|          1|        1|     NULL|           NULL|           NULL|          Alagoinhas|         421.1|         469.9|           435.6|       527.4|        0|\n",
            "|190001480443|     2019|         N/I|     M|       3|            4|          2|        0|       PB|              2|              1|          Santa Rita|         373.2|         409.6|           469.5|       379.1|      480|\n",
            "|190001082475|     2019|         N/I|     F|       3|            1|          2|        0|       AM|              2|              1|              Manaus|         385.8|         436.3|           393.8|       370.0|      260|\n",
            "|190002037440|     2019|         N/I|     M|       3|            1|          2|        0|       DF|              2|              1|            Bras�lia|         389.7|         431.1|           482.0|       529.7|      560|\n",
            "|190001121527|     2019|         N/I|     F|       1|            1|          2|        0|       PI|              1|              1|            Parna�ba|         427.6|         548.8|           587.2|       699.3|      820|\n",
            "|190001042836|     2019|         N/I|     F|       2|            1|          2|        0|       PA|              2|              1|               Bel�m|         510.9|         585.4|           578.4|       605.2|      880|\n",
            "|190001421560|     2019|         N/I|     M|       3|            1|          2|        0|       BA|              2|              1|S�o Sebasti�o do ...|         361.2|         499.0|           403.5|       392.5|      560|\n",
            "|190001121528|     2019|         N/I|     F|       3|            1|          2|        0|       PI|              2|              1|            Piripiri|         556.8|         487.0|           571.8|       578.5|      800|\n",
            "|190001595672|     2019|         N/I|     M|       1|            1|          2|        0|       SP|              2|              1|              Araras|         537.0|         585.3|           590.1|       661.4|      540|\n",
            "|190001867760|     2019|         N/I|     M|       3|            1|          2|        0|       PR|              2|              1|        Campo Mour�o|         523.2|         469.3|           508.4|       679.4|      640|\n",
            "|190001595675|     2019|         N/I|     F|       1|            1|          2|        0|       SP|              2|              1|             Mar�lia|         423.9|         500.4|           472.3|       503.9|      620|\n",
            "|190001779797|     2019|         N/I|     F|       3|            1|          2|        0|     NULL|           NULL|           NULL|�guas Lindas de G...|         467.9|         548.7|           536.1|       392.4|      600|\n",
            "|190001237815|     2019|         N/I|     F|       1|            1|          2|        0|       MG|              2|              1|             Extrema|         624.5|         636.9|           635.8|       698.7|      800|\n",
            "|190001925229|     2019|         N/I|     M|       3|            1|          2|        0|       CE|              2|              1|           Fortaleza|         416.3|         489.4|           501.7|       394.4|      720|\n",
            "+------------+---------+------------+------+--------+-------------+-----------+---------+---------+---------------+---------------+--------------------+--------------+--------------+----------------+------------+---------+\n",
            "only showing top 20 rows\n",
            "\n"
          ]
        }
      ]
    },
    {
      "cell_type": "code",
      "source": [
        "# Alterando valores das colunas segundo dicionario de dados\n",
        "enem_2019.withColumn(\"cor_raca\",\n",
        "                         f.when(enem_2019.cor_raca == 1, \"BRANCA\")\\\n",
        "                         .when(enem_2019.cor_raca == 2, \"PRETA\")\\\n",
        "                         .when(enem_2019.cor_raca == 3, \"PARDA\")\\\n",
        "                         .when(enem_2019.cor_raca == 4, \"AMARELA\")\n",
        "                         .when(enem_2019.cor_raca == 5, \"INDIGENA\").otherwise(\"N/I\")\n",
        "                         ).show()"
      ],
      "metadata": {
        "colab": {
          "base_uri": "https://localhost:8080/"
        },
        "id": "BUwk0H9ZJB7M",
        "outputId": "c6e57d0a-aa4c-41d0-dda3-9f97e5b640a8"
      },
      "execution_count": 30,
      "outputs": [
        {
          "output_type": "stream",
          "name": "stdout",
          "text": [
            "+------------+---------+------------+------+--------+-------------+-----------+---------+---------+---------------+---------------+--------------------+--------------+--------------+----------------+------------+---------+\n",
            "|   inscricao|ano_prova|faixa_etaria|genero|cor_raca|nacionalidade|tipo_escola|treineiro|uf_escola|dependencia_esc|localizacao_esc|       municipio_esc|n_ciencias_nat|n_ciencias_hum|n_linguagens_cod|n_matematica|n_redacao|\n",
            "+------------+---------+------------+------+--------+-------------+-----------+---------+---------+---------------+---------------+--------------------+--------------+--------------+----------------+------------+---------+\n",
            "|190001592266|     2019|         N/I|     M|  BRANCA|            1|          2|        0|     NULL|           NULL|           NULL|           S�o Paulo|         543.9|         548.1|           502.5|       480.7|      400|\n",
            "|190001421547|     2019|         N/I|     M|   PARDA|            1|          1|        1|     NULL|           NULL|           NULL|            Guanambi|         390.1|         453.0|           515.2|       461.5|      520|\n",
            "|190001867757|     2019|         N/I|     F|  BRANCA|            1|          3|        0|       PR|              4|              1|           Apucarana|         618.2|         744.7|           636.3|       713.7|      900|\n",
            "|190001692704|     2019|         N/I|     F|  BRANCA|            1|          2|        0|       RS|              2|              1|            Alvorada|         430.4|         466.8|           515.9|       394.1|      580|\n",
            "|190001595660|     2019|         N/I|     F|   PRETA|            1|          2|        0|       SP|              2|              1|     Itaquaquecetuba|         371.8|         501.4|           518.6|       442.0|      660|\n",
            "|190001421552|     2019|         N/I|     M|   PRETA|            1|          2|        0|       BA|              2|              1|    Lauro de Freitas|         567.3|         584.1|           595.8|       704.5|      620|\n",
            "|190001421555|     2019|         N/I|     M|   PARDA|            1|          1|        1|     NULL|           NULL|           NULL|          Alagoinhas|         421.1|         469.9|           435.6|       527.4|        0|\n",
            "|190001480443|     2019|         N/I|     M|   PARDA|            4|          2|        0|       PB|              2|              1|          Santa Rita|         373.2|         409.6|           469.5|       379.1|      480|\n",
            "|190001082475|     2019|         N/I|     F|   PARDA|            1|          2|        0|       AM|              2|              1|              Manaus|         385.8|         436.3|           393.8|       370.0|      260|\n",
            "|190002037440|     2019|         N/I|     M|   PARDA|            1|          2|        0|       DF|              2|              1|            Bras�lia|         389.7|         431.1|           482.0|       529.7|      560|\n",
            "|190001121527|     2019|         N/I|     F|  BRANCA|            1|          2|        0|       PI|              1|              1|            Parna�ba|         427.6|         548.8|           587.2|       699.3|      820|\n",
            "|190001042836|     2019|         N/I|     F|   PRETA|            1|          2|        0|       PA|              2|              1|               Bel�m|         510.9|         585.4|           578.4|       605.2|      880|\n",
            "|190001421560|     2019|         N/I|     M|   PARDA|            1|          2|        0|       BA|              2|              1|S�o Sebasti�o do ...|         361.2|         499.0|           403.5|       392.5|      560|\n",
            "|190001121528|     2019|         N/I|     F|   PARDA|            1|          2|        0|       PI|              2|              1|            Piripiri|         556.8|         487.0|           571.8|       578.5|      800|\n",
            "|190001595672|     2019|         N/I|     M|  BRANCA|            1|          2|        0|       SP|              2|              1|              Araras|         537.0|         585.3|           590.1|       661.4|      540|\n",
            "|190001867760|     2019|         N/I|     M|   PARDA|            1|          2|        0|       PR|              2|              1|        Campo Mour�o|         523.2|         469.3|           508.4|       679.4|      640|\n",
            "|190001595675|     2019|         N/I|     F|  BRANCA|            1|          2|        0|       SP|              2|              1|             Mar�lia|         423.9|         500.4|           472.3|       503.9|      620|\n",
            "|190001779797|     2019|         N/I|     F|   PARDA|            1|          2|        0|     NULL|           NULL|           NULL|�guas Lindas de G...|         467.9|         548.7|           536.1|       392.4|      600|\n",
            "|190001237815|     2019|         N/I|     F|  BRANCA|            1|          2|        0|       MG|              2|              1|             Extrema|         624.5|         636.9|           635.8|       698.7|      800|\n",
            "|190001925229|     2019|         N/I|     M|   PARDA|            1|          2|        0|       CE|              2|              1|           Fortaleza|         416.3|         489.4|           501.7|       394.4|      720|\n",
            "+------------+---------+------------+------+--------+-------------+-----------+---------+---------+---------------+---------------+--------------------+--------------+--------------+----------------+------------+---------+\n",
            "only showing top 20 rows\n",
            "\n"
          ]
        }
      ]
    },
    {
      "cell_type": "code",
      "source": [
        "# Implementando alteração\n",
        "enem_2019 = enem_2019.withColumn(\"cor_raca\",\n",
        "                         f.when(enem_2019.cor_raca == 1, \"BRANCA\")\\\n",
        "                         .when(enem_2019.cor_raca == 2, \"PRETA\")\\\n",
        "                         .when(enem_2019.cor_raca == 3, \"PARDA\")\\\n",
        "                         .when(enem_2019.cor_raca == 4, \"AMARELA\")\n",
        "                         .when(enem_2019.cor_raca == 5, \"INDIGENA\").otherwise(\"N/I\")\n",
        "                         )"
      ],
      "metadata": {
        "id": "HZllOInHJ-Hr"
      },
      "execution_count": 31,
      "outputs": []
    },
    {
      "cell_type": "code",
      "source": [
        "enem_2019.show()"
      ],
      "metadata": {
        "colab": {
          "base_uri": "https://localhost:8080/"
        },
        "id": "TOnjydx5H1wV",
        "outputId": "7e9ba49b-de11-4cea-8640-6d0303c7e2a2"
      },
      "execution_count": 32,
      "outputs": [
        {
          "output_type": "stream",
          "name": "stdout",
          "text": [
            "+------------+---------+------------+------+--------+-------------+-----------+---------+---------+---------------+---------------+--------------------+--------------+--------------+----------------+------------+---------+\n",
            "|   inscricao|ano_prova|faixa_etaria|genero|cor_raca|nacionalidade|tipo_escola|treineiro|uf_escola|dependencia_esc|localizacao_esc|       municipio_esc|n_ciencias_nat|n_ciencias_hum|n_linguagens_cod|n_matematica|n_redacao|\n",
            "+------------+---------+------------+------+--------+-------------+-----------+---------+---------+---------------+---------------+--------------------+--------------+--------------+----------------+------------+---------+\n",
            "|190001592266|     2019|         N/I|     M|  BRANCA|            1|          2|        0|     NULL|           NULL|           NULL|           S�o Paulo|         543.9|         548.1|           502.5|       480.7|      400|\n",
            "|190001421547|     2019|         N/I|     M|   PARDA|            1|          1|        1|     NULL|           NULL|           NULL|            Guanambi|         390.1|         453.0|           515.2|       461.5|      520|\n",
            "|190001867757|     2019|         N/I|     F|  BRANCA|            1|          3|        0|       PR|              4|              1|           Apucarana|         618.2|         744.7|           636.3|       713.7|      900|\n",
            "|190001692704|     2019|         N/I|     F|  BRANCA|            1|          2|        0|       RS|              2|              1|            Alvorada|         430.4|         466.8|           515.9|       394.1|      580|\n",
            "|190001595660|     2019|         N/I|     F|   PRETA|            1|          2|        0|       SP|              2|              1|     Itaquaquecetuba|         371.8|         501.4|           518.6|       442.0|      660|\n",
            "|190001421552|     2019|         N/I|     M|   PRETA|            1|          2|        0|       BA|              2|              1|    Lauro de Freitas|         567.3|         584.1|           595.8|       704.5|      620|\n",
            "|190001421555|     2019|         N/I|     M|   PARDA|            1|          1|        1|     NULL|           NULL|           NULL|          Alagoinhas|         421.1|         469.9|           435.6|       527.4|        0|\n",
            "|190001480443|     2019|         N/I|     M|   PARDA|            4|          2|        0|       PB|              2|              1|          Santa Rita|         373.2|         409.6|           469.5|       379.1|      480|\n",
            "|190001082475|     2019|         N/I|     F|   PARDA|            1|          2|        0|       AM|              2|              1|              Manaus|         385.8|         436.3|           393.8|       370.0|      260|\n",
            "|190002037440|     2019|         N/I|     M|   PARDA|            1|          2|        0|       DF|              2|              1|            Bras�lia|         389.7|         431.1|           482.0|       529.7|      560|\n",
            "|190001121527|     2019|         N/I|     F|  BRANCA|            1|          2|        0|       PI|              1|              1|            Parna�ba|         427.6|         548.8|           587.2|       699.3|      820|\n",
            "|190001042836|     2019|         N/I|     F|   PRETA|            1|          2|        0|       PA|              2|              1|               Bel�m|         510.9|         585.4|           578.4|       605.2|      880|\n",
            "|190001421560|     2019|         N/I|     M|   PARDA|            1|          2|        0|       BA|              2|              1|S�o Sebasti�o do ...|         361.2|         499.0|           403.5|       392.5|      560|\n",
            "|190001121528|     2019|         N/I|     F|   PARDA|            1|          2|        0|       PI|              2|              1|            Piripiri|         556.8|         487.0|           571.8|       578.5|      800|\n",
            "|190001595672|     2019|         N/I|     M|  BRANCA|            1|          2|        0|       SP|              2|              1|              Araras|         537.0|         585.3|           590.1|       661.4|      540|\n",
            "|190001867760|     2019|         N/I|     M|   PARDA|            1|          2|        0|       PR|              2|              1|        Campo Mour�o|         523.2|         469.3|           508.4|       679.4|      640|\n",
            "|190001595675|     2019|         N/I|     F|  BRANCA|            1|          2|        0|       SP|              2|              1|             Mar�lia|         423.9|         500.4|           472.3|       503.9|      620|\n",
            "|190001779797|     2019|         N/I|     F|   PARDA|            1|          2|        0|     NULL|           NULL|           NULL|�guas Lindas de G...|         467.9|         548.7|           536.1|       392.4|      600|\n",
            "|190001237815|     2019|         N/I|     F|  BRANCA|            1|          2|        0|       MG|              2|              1|             Extrema|         624.5|         636.9|           635.8|       698.7|      800|\n",
            "|190001925229|     2019|         N/I|     M|   PARDA|            1|          2|        0|       CE|              2|              1|           Fortaleza|         416.3|         489.4|           501.7|       394.4|      720|\n",
            "+------------+---------+------------+------+--------+-------------+-----------+---------+---------+---------------+---------------+--------------------+--------------+--------------+----------------+------------+---------+\n",
            "only showing top 20 rows\n",
            "\n"
          ]
        }
      ]
    },
    {
      "cell_type": "code",
      "source": [
        "# Implementando alteração\n",
        "enem_2019.withColumn(\"nacionalidade\",\n",
        "                         f.when(enem_2019.nacionalidade == 1, \"BRASILEIRO(A)\")\\\n",
        "                         .when(enem_2019.nacionalidade == 2, \"BRASILEIRO(A) NATURALIZADO\")\\\n",
        "                         .when(enem_2019.nacionalidade == 3, \"ESTRANGEIRO\")\\\n",
        "                         .when(enem_2019.nacionalidade == 4, \"BRASILEIRO, NASCIDO NO EXTERIOR\").otherwise(\"N/I\")\n",
        "                         ).show()"
      ],
      "metadata": {
        "colab": {
          "base_uri": "https://localhost:8080/"
        },
        "id": "nCDcEqsCKSZr",
        "outputId": "4ee2d8e1-3088-405b-823b-0a261ebf1c5e"
      },
      "execution_count": 33,
      "outputs": [
        {
          "output_type": "stream",
          "name": "stdout",
          "text": [
            "+------------+---------+------------+------+--------+--------------------+-----------+---------+---------+---------------+---------------+--------------------+--------------+--------------+----------------+------------+---------+\n",
            "|   inscricao|ano_prova|faixa_etaria|genero|cor_raca|       nacionalidade|tipo_escola|treineiro|uf_escola|dependencia_esc|localizacao_esc|       municipio_esc|n_ciencias_nat|n_ciencias_hum|n_linguagens_cod|n_matematica|n_redacao|\n",
            "+------------+---------+------------+------+--------+--------------------+-----------+---------+---------+---------------+---------------+--------------------+--------------+--------------+----------------+------------+---------+\n",
            "|190001592266|     2019|         N/I|     M|  BRANCA|       BRASILEIRO(A)|          2|        0|     NULL|           NULL|           NULL|           S�o Paulo|         543.9|         548.1|           502.5|       480.7|      400|\n",
            "|190001421547|     2019|         N/I|     M|   PARDA|       BRASILEIRO(A)|          1|        1|     NULL|           NULL|           NULL|            Guanambi|         390.1|         453.0|           515.2|       461.5|      520|\n",
            "|190001867757|     2019|         N/I|     F|  BRANCA|       BRASILEIRO(A)|          3|        0|       PR|              4|              1|           Apucarana|         618.2|         744.7|           636.3|       713.7|      900|\n",
            "|190001692704|     2019|         N/I|     F|  BRANCA|       BRASILEIRO(A)|          2|        0|       RS|              2|              1|            Alvorada|         430.4|         466.8|           515.9|       394.1|      580|\n",
            "|190001595660|     2019|         N/I|     F|   PRETA|       BRASILEIRO(A)|          2|        0|       SP|              2|              1|     Itaquaquecetuba|         371.8|         501.4|           518.6|       442.0|      660|\n",
            "|190001421552|     2019|         N/I|     M|   PRETA|       BRASILEIRO(A)|          2|        0|       BA|              2|              1|    Lauro de Freitas|         567.3|         584.1|           595.8|       704.5|      620|\n",
            "|190001421555|     2019|         N/I|     M|   PARDA|       BRASILEIRO(A)|          1|        1|     NULL|           NULL|           NULL|          Alagoinhas|         421.1|         469.9|           435.6|       527.4|        0|\n",
            "|190001480443|     2019|         N/I|     M|   PARDA|BRASILEIRO, NASCI...|          2|        0|       PB|              2|              1|          Santa Rita|         373.2|         409.6|           469.5|       379.1|      480|\n",
            "|190001082475|     2019|         N/I|     F|   PARDA|       BRASILEIRO(A)|          2|        0|       AM|              2|              1|              Manaus|         385.8|         436.3|           393.8|       370.0|      260|\n",
            "|190002037440|     2019|         N/I|     M|   PARDA|       BRASILEIRO(A)|          2|        0|       DF|              2|              1|            Bras�lia|         389.7|         431.1|           482.0|       529.7|      560|\n",
            "|190001121527|     2019|         N/I|     F|  BRANCA|       BRASILEIRO(A)|          2|        0|       PI|              1|              1|            Parna�ba|         427.6|         548.8|           587.2|       699.3|      820|\n",
            "|190001042836|     2019|         N/I|     F|   PRETA|       BRASILEIRO(A)|          2|        0|       PA|              2|              1|               Bel�m|         510.9|         585.4|           578.4|       605.2|      880|\n",
            "|190001421560|     2019|         N/I|     M|   PARDA|       BRASILEIRO(A)|          2|        0|       BA|              2|              1|S�o Sebasti�o do ...|         361.2|         499.0|           403.5|       392.5|      560|\n",
            "|190001121528|     2019|         N/I|     F|   PARDA|       BRASILEIRO(A)|          2|        0|       PI|              2|              1|            Piripiri|         556.8|         487.0|           571.8|       578.5|      800|\n",
            "|190001595672|     2019|         N/I|     M|  BRANCA|       BRASILEIRO(A)|          2|        0|       SP|              2|              1|              Araras|         537.0|         585.3|           590.1|       661.4|      540|\n",
            "|190001867760|     2019|         N/I|     M|   PARDA|       BRASILEIRO(A)|          2|        0|       PR|              2|              1|        Campo Mour�o|         523.2|         469.3|           508.4|       679.4|      640|\n",
            "|190001595675|     2019|         N/I|     F|  BRANCA|       BRASILEIRO(A)|          2|        0|       SP|              2|              1|             Mar�lia|         423.9|         500.4|           472.3|       503.9|      620|\n",
            "|190001779797|     2019|         N/I|     F|   PARDA|       BRASILEIRO(A)|          2|        0|     NULL|           NULL|           NULL|�guas Lindas de G...|         467.9|         548.7|           536.1|       392.4|      600|\n",
            "|190001237815|     2019|         N/I|     F|  BRANCA|       BRASILEIRO(A)|          2|        0|       MG|              2|              1|             Extrema|         624.5|         636.9|           635.8|       698.7|      800|\n",
            "|190001925229|     2019|         N/I|     M|   PARDA|       BRASILEIRO(A)|          2|        0|       CE|              2|              1|           Fortaleza|         416.3|         489.4|           501.7|       394.4|      720|\n",
            "+------------+---------+------------+------+--------+--------------------+-----------+---------+---------+---------------+---------------+--------------------+--------------+--------------+----------------+------------+---------+\n",
            "only showing top 20 rows\n",
            "\n"
          ]
        }
      ]
    },
    {
      "cell_type": "code",
      "source": [
        "# Implementando normalização:\n",
        "enem_2019 = enem_2019.withColumn(\"nacionalidade\",\n",
        "                         f.when(enem_2019.nacionalidade == 1, \"BRASILEIRO(A)\")\\\n",
        "                         .when(enem_2019.nacionalidade == 2, \"BRASILEIRO(A) NATURALIZADO\")\\\n",
        "                         .when(enem_2019.nacionalidade == 3, \"ESTRANGEIRO\")\\\n",
        "                         .when(enem_2019.nacionalidade == 4, \"BRASILEIRO, NASCIDO NO EXTERIOR\").otherwise(\"N/I\")\n",
        "                         )"
      ],
      "metadata": {
        "id": "BO1VjV_xK250"
      },
      "execution_count": 34,
      "outputs": []
    },
    {
      "cell_type": "code",
      "source": [
        "enem_2019.show()"
      ],
      "metadata": {
        "colab": {
          "base_uri": "https://localhost:8080/"
        },
        "id": "sojeF1COLZ7U",
        "outputId": "67af111d-b061-40d7-a866-5e222a55ac02"
      },
      "execution_count": 35,
      "outputs": [
        {
          "output_type": "stream",
          "name": "stdout",
          "text": [
            "+------------+---------+------------+------+--------+--------------------+-----------+---------+---------+---------------+---------------+--------------------+--------------+--------------+----------------+------------+---------+\n",
            "|   inscricao|ano_prova|faixa_etaria|genero|cor_raca|       nacionalidade|tipo_escola|treineiro|uf_escola|dependencia_esc|localizacao_esc|       municipio_esc|n_ciencias_nat|n_ciencias_hum|n_linguagens_cod|n_matematica|n_redacao|\n",
            "+------------+---------+------------+------+--------+--------------------+-----------+---------+---------+---------------+---------------+--------------------+--------------+--------------+----------------+------------+---------+\n",
            "|190001592266|     2019|         N/I|     M|  BRANCA|       BRASILEIRO(A)|          2|        0|     NULL|           NULL|           NULL|           S�o Paulo|         543.9|         548.1|           502.5|       480.7|      400|\n",
            "|190001421547|     2019|         N/I|     M|   PARDA|       BRASILEIRO(A)|          1|        1|     NULL|           NULL|           NULL|            Guanambi|         390.1|         453.0|           515.2|       461.5|      520|\n",
            "|190001867757|     2019|         N/I|     F|  BRANCA|       BRASILEIRO(A)|          3|        0|       PR|              4|              1|           Apucarana|         618.2|         744.7|           636.3|       713.7|      900|\n",
            "|190001692704|     2019|         N/I|     F|  BRANCA|       BRASILEIRO(A)|          2|        0|       RS|              2|              1|            Alvorada|         430.4|         466.8|           515.9|       394.1|      580|\n",
            "|190001595660|     2019|         N/I|     F|   PRETA|       BRASILEIRO(A)|          2|        0|       SP|              2|              1|     Itaquaquecetuba|         371.8|         501.4|           518.6|       442.0|      660|\n",
            "|190001421552|     2019|         N/I|     M|   PRETA|       BRASILEIRO(A)|          2|        0|       BA|              2|              1|    Lauro de Freitas|         567.3|         584.1|           595.8|       704.5|      620|\n",
            "|190001421555|     2019|         N/I|     M|   PARDA|       BRASILEIRO(A)|          1|        1|     NULL|           NULL|           NULL|          Alagoinhas|         421.1|         469.9|           435.6|       527.4|        0|\n",
            "|190001480443|     2019|         N/I|     M|   PARDA|BRASILEIRO, NASCI...|          2|        0|       PB|              2|              1|          Santa Rita|         373.2|         409.6|           469.5|       379.1|      480|\n",
            "|190001082475|     2019|         N/I|     F|   PARDA|       BRASILEIRO(A)|          2|        0|       AM|              2|              1|              Manaus|         385.8|         436.3|           393.8|       370.0|      260|\n",
            "|190002037440|     2019|         N/I|     M|   PARDA|       BRASILEIRO(A)|          2|        0|       DF|              2|              1|            Bras�lia|         389.7|         431.1|           482.0|       529.7|      560|\n",
            "|190001121527|     2019|         N/I|     F|  BRANCA|       BRASILEIRO(A)|          2|        0|       PI|              1|              1|            Parna�ba|         427.6|         548.8|           587.2|       699.3|      820|\n",
            "|190001042836|     2019|         N/I|     F|   PRETA|       BRASILEIRO(A)|          2|        0|       PA|              2|              1|               Bel�m|         510.9|         585.4|           578.4|       605.2|      880|\n",
            "|190001421560|     2019|         N/I|     M|   PARDA|       BRASILEIRO(A)|          2|        0|       BA|              2|              1|S�o Sebasti�o do ...|         361.2|         499.0|           403.5|       392.5|      560|\n",
            "|190001121528|     2019|         N/I|     F|   PARDA|       BRASILEIRO(A)|          2|        0|       PI|              2|              1|            Piripiri|         556.8|         487.0|           571.8|       578.5|      800|\n",
            "|190001595672|     2019|         N/I|     M|  BRANCA|       BRASILEIRO(A)|          2|        0|       SP|              2|              1|              Araras|         537.0|         585.3|           590.1|       661.4|      540|\n",
            "|190001867760|     2019|         N/I|     M|   PARDA|       BRASILEIRO(A)|          2|        0|       PR|              2|              1|        Campo Mour�o|         523.2|         469.3|           508.4|       679.4|      640|\n",
            "|190001595675|     2019|         N/I|     F|  BRANCA|       BRASILEIRO(A)|          2|        0|       SP|              2|              1|             Mar�lia|         423.9|         500.4|           472.3|       503.9|      620|\n",
            "|190001779797|     2019|         N/I|     F|   PARDA|       BRASILEIRO(A)|          2|        0|     NULL|           NULL|           NULL|�guas Lindas de G...|         467.9|         548.7|           536.1|       392.4|      600|\n",
            "|190001237815|     2019|         N/I|     F|  BRANCA|       BRASILEIRO(A)|          2|        0|       MG|              2|              1|             Extrema|         624.5|         636.9|           635.8|       698.7|      800|\n",
            "|190001925229|     2019|         N/I|     M|   PARDA|       BRASILEIRO(A)|          2|        0|       CE|              2|              1|           Fortaleza|         416.3|         489.4|           501.7|       394.4|      720|\n",
            "+------------+---------+------------+------+--------+--------------------+-----------+---------+---------+---------------+---------------+--------------------+--------------+--------------+----------------+------------+---------+\n",
            "only showing top 20 rows\n",
            "\n"
          ]
        }
      ]
    },
    {
      "cell_type": "code",
      "source": [
        "# Alterando valores das colunas segundo dicionario:\n",
        "enem_2019.withColumn(\"tipo_escola\",\n",
        "                         f.when(enem_2019.tipo_escola == 2, \"PUBLICA\")\\\n",
        "                         .when(enem_2019.tipo_escola == 3, \"PRIVADA\")\\\n",
        "                         .when(enem_2019.tipo_escola == 4, \"EXTERIOR\")\n",
        ").show()"
      ],
      "metadata": {
        "colab": {
          "base_uri": "https://localhost:8080/"
        },
        "id": "SsIHjneLLDHK",
        "outputId": "de0d7c69-ddbf-4704-bf39-611ea7ca64d0"
      },
      "execution_count": 36,
      "outputs": [
        {
          "output_type": "stream",
          "name": "stdout",
          "text": [
            "+------------+---------+------------+------+--------+--------------------+-----------+---------+---------+---------------+---------------+--------------------+--------------+--------------+----------------+------------+---------+\n",
            "|   inscricao|ano_prova|faixa_etaria|genero|cor_raca|       nacionalidade|tipo_escola|treineiro|uf_escola|dependencia_esc|localizacao_esc|       municipio_esc|n_ciencias_nat|n_ciencias_hum|n_linguagens_cod|n_matematica|n_redacao|\n",
            "+------------+---------+------------+------+--------+--------------------+-----------+---------+---------+---------------+---------------+--------------------+--------------+--------------+----------------+------------+---------+\n",
            "|190001592266|     2019|         N/I|     M|  BRANCA|       BRASILEIRO(A)|    PUBLICA|        0|     NULL|           NULL|           NULL|           S�o Paulo|         543.9|         548.1|           502.5|       480.7|      400|\n",
            "|190001421547|     2019|         N/I|     M|   PARDA|       BRASILEIRO(A)|       NULL|        1|     NULL|           NULL|           NULL|            Guanambi|         390.1|         453.0|           515.2|       461.5|      520|\n",
            "|190001867757|     2019|         N/I|     F|  BRANCA|       BRASILEIRO(A)|    PRIVADA|        0|       PR|              4|              1|           Apucarana|         618.2|         744.7|           636.3|       713.7|      900|\n",
            "|190001692704|     2019|         N/I|     F|  BRANCA|       BRASILEIRO(A)|    PUBLICA|        0|       RS|              2|              1|            Alvorada|         430.4|         466.8|           515.9|       394.1|      580|\n",
            "|190001595660|     2019|         N/I|     F|   PRETA|       BRASILEIRO(A)|    PUBLICA|        0|       SP|              2|              1|     Itaquaquecetuba|         371.8|         501.4|           518.6|       442.0|      660|\n",
            "|190001421552|     2019|         N/I|     M|   PRETA|       BRASILEIRO(A)|    PUBLICA|        0|       BA|              2|              1|    Lauro de Freitas|         567.3|         584.1|           595.8|       704.5|      620|\n",
            "|190001421555|     2019|         N/I|     M|   PARDA|       BRASILEIRO(A)|       NULL|        1|     NULL|           NULL|           NULL|          Alagoinhas|         421.1|         469.9|           435.6|       527.4|        0|\n",
            "|190001480443|     2019|         N/I|     M|   PARDA|BRASILEIRO, NASCI...|    PUBLICA|        0|       PB|              2|              1|          Santa Rita|         373.2|         409.6|           469.5|       379.1|      480|\n",
            "|190001082475|     2019|         N/I|     F|   PARDA|       BRASILEIRO(A)|    PUBLICA|        0|       AM|              2|              1|              Manaus|         385.8|         436.3|           393.8|       370.0|      260|\n",
            "|190002037440|     2019|         N/I|     M|   PARDA|       BRASILEIRO(A)|    PUBLICA|        0|       DF|              2|              1|            Bras�lia|         389.7|         431.1|           482.0|       529.7|      560|\n",
            "|190001121527|     2019|         N/I|     F|  BRANCA|       BRASILEIRO(A)|    PUBLICA|        0|       PI|              1|              1|            Parna�ba|         427.6|         548.8|           587.2|       699.3|      820|\n",
            "|190001042836|     2019|         N/I|     F|   PRETA|       BRASILEIRO(A)|    PUBLICA|        0|       PA|              2|              1|               Bel�m|         510.9|         585.4|           578.4|       605.2|      880|\n",
            "|190001421560|     2019|         N/I|     M|   PARDA|       BRASILEIRO(A)|    PUBLICA|        0|       BA|              2|              1|S�o Sebasti�o do ...|         361.2|         499.0|           403.5|       392.5|      560|\n",
            "|190001121528|     2019|         N/I|     F|   PARDA|       BRASILEIRO(A)|    PUBLICA|        0|       PI|              2|              1|            Piripiri|         556.8|         487.0|           571.8|       578.5|      800|\n",
            "|190001595672|     2019|         N/I|     M|  BRANCA|       BRASILEIRO(A)|    PUBLICA|        0|       SP|              2|              1|              Araras|         537.0|         585.3|           590.1|       661.4|      540|\n",
            "|190001867760|     2019|         N/I|     M|   PARDA|       BRASILEIRO(A)|    PUBLICA|        0|       PR|              2|              1|        Campo Mour�o|         523.2|         469.3|           508.4|       679.4|      640|\n",
            "|190001595675|     2019|         N/I|     F|  BRANCA|       BRASILEIRO(A)|    PUBLICA|        0|       SP|              2|              1|             Mar�lia|         423.9|         500.4|           472.3|       503.9|      620|\n",
            "|190001779797|     2019|         N/I|     F|   PARDA|       BRASILEIRO(A)|    PUBLICA|        0|     NULL|           NULL|           NULL|�guas Lindas de G...|         467.9|         548.7|           536.1|       392.4|      600|\n",
            "|190001237815|     2019|         N/I|     F|  BRANCA|       BRASILEIRO(A)|    PUBLICA|        0|       MG|              2|              1|             Extrema|         624.5|         636.9|           635.8|       698.7|      800|\n",
            "|190001925229|     2019|         N/I|     M|   PARDA|       BRASILEIRO(A)|    PUBLICA|        0|       CE|              2|              1|           Fortaleza|         416.3|         489.4|           501.7|       394.4|      720|\n",
            "+------------+---------+------------+------+--------+--------------------+-----------+---------+---------+---------------+---------------+--------------------+--------------+--------------+----------------+------------+---------+\n",
            "only showing top 20 rows\n",
            "\n"
          ]
        }
      ]
    },
    {
      "cell_type": "code",
      "source": [
        "enem_2019 = enem_2019.withColumn(\"tipo_escola\",\n",
        "                         f.when(enem_2019.tipo_escola == 2, \"PUBLICA\")\\\n",
        "                         .when(enem_2019.tipo_escola == 3, \"PRIVADA\")\\\n",
        "                         .when(enem_2019.tipo_escola == 4, \"EXTERIOR\")\n",
        ")"
      ],
      "metadata": {
        "id": "K2mGa_dALyMz"
      },
      "execution_count": 37,
      "outputs": []
    },
    {
      "cell_type": "code",
      "source": [
        "enem_2019.show()"
      ],
      "metadata": {
        "colab": {
          "base_uri": "https://localhost:8080/"
        },
        "id": "1S5WbeKdMDQa",
        "outputId": "b6667653-3f5b-430c-9d18-b7eb1b11e306"
      },
      "execution_count": 38,
      "outputs": [
        {
          "output_type": "stream",
          "name": "stdout",
          "text": [
            "+------------+---------+------------+------+--------+--------------------+-----------+---------+---------+---------------+---------------+--------------------+--------------+--------------+----------------+------------+---------+\n",
            "|   inscricao|ano_prova|faixa_etaria|genero|cor_raca|       nacionalidade|tipo_escola|treineiro|uf_escola|dependencia_esc|localizacao_esc|       municipio_esc|n_ciencias_nat|n_ciencias_hum|n_linguagens_cod|n_matematica|n_redacao|\n",
            "+------------+---------+------------+------+--------+--------------------+-----------+---------+---------+---------------+---------------+--------------------+--------------+--------------+----------------+------------+---------+\n",
            "|190001592266|     2019|         N/I|     M|  BRANCA|       BRASILEIRO(A)|    PUBLICA|        0|     NULL|           NULL|           NULL|           S�o Paulo|         543.9|         548.1|           502.5|       480.7|      400|\n",
            "|190001421547|     2019|         N/I|     M|   PARDA|       BRASILEIRO(A)|       NULL|        1|     NULL|           NULL|           NULL|            Guanambi|         390.1|         453.0|           515.2|       461.5|      520|\n",
            "|190001867757|     2019|         N/I|     F|  BRANCA|       BRASILEIRO(A)|    PRIVADA|        0|       PR|              4|              1|           Apucarana|         618.2|         744.7|           636.3|       713.7|      900|\n",
            "|190001692704|     2019|         N/I|     F|  BRANCA|       BRASILEIRO(A)|    PUBLICA|        0|       RS|              2|              1|            Alvorada|         430.4|         466.8|           515.9|       394.1|      580|\n",
            "|190001595660|     2019|         N/I|     F|   PRETA|       BRASILEIRO(A)|    PUBLICA|        0|       SP|              2|              1|     Itaquaquecetuba|         371.8|         501.4|           518.6|       442.0|      660|\n",
            "|190001421552|     2019|         N/I|     M|   PRETA|       BRASILEIRO(A)|    PUBLICA|        0|       BA|              2|              1|    Lauro de Freitas|         567.3|         584.1|           595.8|       704.5|      620|\n",
            "|190001421555|     2019|         N/I|     M|   PARDA|       BRASILEIRO(A)|       NULL|        1|     NULL|           NULL|           NULL|          Alagoinhas|         421.1|         469.9|           435.6|       527.4|        0|\n",
            "|190001480443|     2019|         N/I|     M|   PARDA|BRASILEIRO, NASCI...|    PUBLICA|        0|       PB|              2|              1|          Santa Rita|         373.2|         409.6|           469.5|       379.1|      480|\n",
            "|190001082475|     2019|         N/I|     F|   PARDA|       BRASILEIRO(A)|    PUBLICA|        0|       AM|              2|              1|              Manaus|         385.8|         436.3|           393.8|       370.0|      260|\n",
            "|190002037440|     2019|         N/I|     M|   PARDA|       BRASILEIRO(A)|    PUBLICA|        0|       DF|              2|              1|            Bras�lia|         389.7|         431.1|           482.0|       529.7|      560|\n",
            "|190001121527|     2019|         N/I|     F|  BRANCA|       BRASILEIRO(A)|    PUBLICA|        0|       PI|              1|              1|            Parna�ba|         427.6|         548.8|           587.2|       699.3|      820|\n",
            "|190001042836|     2019|         N/I|     F|   PRETA|       BRASILEIRO(A)|    PUBLICA|        0|       PA|              2|              1|               Bel�m|         510.9|         585.4|           578.4|       605.2|      880|\n",
            "|190001421560|     2019|         N/I|     M|   PARDA|       BRASILEIRO(A)|    PUBLICA|        0|       BA|              2|              1|S�o Sebasti�o do ...|         361.2|         499.0|           403.5|       392.5|      560|\n",
            "|190001121528|     2019|         N/I|     F|   PARDA|       BRASILEIRO(A)|    PUBLICA|        0|       PI|              2|              1|            Piripiri|         556.8|         487.0|           571.8|       578.5|      800|\n",
            "|190001595672|     2019|         N/I|     M|  BRANCA|       BRASILEIRO(A)|    PUBLICA|        0|       SP|              2|              1|              Araras|         537.0|         585.3|           590.1|       661.4|      540|\n",
            "|190001867760|     2019|         N/I|     M|   PARDA|       BRASILEIRO(A)|    PUBLICA|        0|       PR|              2|              1|        Campo Mour�o|         523.2|         469.3|           508.4|       679.4|      640|\n",
            "|190001595675|     2019|         N/I|     F|  BRANCA|       BRASILEIRO(A)|    PUBLICA|        0|       SP|              2|              1|             Mar�lia|         423.9|         500.4|           472.3|       503.9|      620|\n",
            "|190001779797|     2019|         N/I|     F|   PARDA|       BRASILEIRO(A)|    PUBLICA|        0|     NULL|           NULL|           NULL|�guas Lindas de G...|         467.9|         548.7|           536.1|       392.4|      600|\n",
            "|190001237815|     2019|         N/I|     F|  BRANCA|       BRASILEIRO(A)|    PUBLICA|        0|       MG|              2|              1|             Extrema|         624.5|         636.9|           635.8|       698.7|      800|\n",
            "|190001925229|     2019|         N/I|     M|   PARDA|       BRASILEIRO(A)|    PUBLICA|        0|       CE|              2|              1|           Fortaleza|         416.3|         489.4|           501.7|       394.4|      720|\n",
            "+------------+---------+------------+------+--------+--------------------+-----------+---------+---------+---------------+---------------+--------------------+--------------+--------------+----------------+------------+---------+\n",
            "only showing top 20 rows\n",
            "\n"
          ]
        }
      ]
    },
    {
      "cell_type": "code",
      "source": [
        "# Removendo valores nulos do tipo escola:\n",
        "enem_2019.dropna(subset=[\"tipo_escola\"]).show()"
      ],
      "metadata": {
        "colab": {
          "base_uri": "https://localhost:8080/"
        },
        "id": "KGd8HnxQQF7r",
        "outputId": "2bf8bbf7-8666-4fba-e4d8-c9319112c496"
      },
      "execution_count": 39,
      "outputs": [
        {
          "output_type": "stream",
          "name": "stdout",
          "text": [
            "+------------+---------+------------+------+--------+--------------------+-----------+---------+---------+---------------+---------------+--------------------+--------------+--------------+----------------+------------+---------+\n",
            "|   inscricao|ano_prova|faixa_etaria|genero|cor_raca|       nacionalidade|tipo_escola|treineiro|uf_escola|dependencia_esc|localizacao_esc|       municipio_esc|n_ciencias_nat|n_ciencias_hum|n_linguagens_cod|n_matematica|n_redacao|\n",
            "+------------+---------+------------+------+--------+--------------------+-----------+---------+---------+---------------+---------------+--------------------+--------------+--------------+----------------+------------+---------+\n",
            "|190001592266|     2019|         N/I|     M|  BRANCA|       BRASILEIRO(A)|    PUBLICA|        0|     NULL|           NULL|           NULL|           S�o Paulo|         543.9|         548.1|           502.5|       480.7|      400|\n",
            "|190001867757|     2019|         N/I|     F|  BRANCA|       BRASILEIRO(A)|    PRIVADA|        0|       PR|              4|              1|           Apucarana|         618.2|         744.7|           636.3|       713.7|      900|\n",
            "|190001692704|     2019|         N/I|     F|  BRANCA|       BRASILEIRO(A)|    PUBLICA|        0|       RS|              2|              1|            Alvorada|         430.4|         466.8|           515.9|       394.1|      580|\n",
            "|190001595660|     2019|         N/I|     F|   PRETA|       BRASILEIRO(A)|    PUBLICA|        0|       SP|              2|              1|     Itaquaquecetuba|         371.8|         501.4|           518.6|       442.0|      660|\n",
            "|190001421552|     2019|         N/I|     M|   PRETA|       BRASILEIRO(A)|    PUBLICA|        0|       BA|              2|              1|    Lauro de Freitas|         567.3|         584.1|           595.8|       704.5|      620|\n",
            "|190001480443|     2019|         N/I|     M|   PARDA|BRASILEIRO, NASCI...|    PUBLICA|        0|       PB|              2|              1|          Santa Rita|         373.2|         409.6|           469.5|       379.1|      480|\n",
            "|190001082475|     2019|         N/I|     F|   PARDA|       BRASILEIRO(A)|    PUBLICA|        0|       AM|              2|              1|              Manaus|         385.8|         436.3|           393.8|       370.0|      260|\n",
            "|190002037440|     2019|         N/I|     M|   PARDA|       BRASILEIRO(A)|    PUBLICA|        0|       DF|              2|              1|            Bras�lia|         389.7|         431.1|           482.0|       529.7|      560|\n",
            "|190001121527|     2019|         N/I|     F|  BRANCA|       BRASILEIRO(A)|    PUBLICA|        0|       PI|              1|              1|            Parna�ba|         427.6|         548.8|           587.2|       699.3|      820|\n",
            "|190001042836|     2019|         N/I|     F|   PRETA|       BRASILEIRO(A)|    PUBLICA|        0|       PA|              2|              1|               Bel�m|         510.9|         585.4|           578.4|       605.2|      880|\n",
            "|190001421560|     2019|         N/I|     M|   PARDA|       BRASILEIRO(A)|    PUBLICA|        0|       BA|              2|              1|S�o Sebasti�o do ...|         361.2|         499.0|           403.5|       392.5|      560|\n",
            "|190001121528|     2019|         N/I|     F|   PARDA|       BRASILEIRO(A)|    PUBLICA|        0|       PI|              2|              1|            Piripiri|         556.8|         487.0|           571.8|       578.5|      800|\n",
            "|190001595672|     2019|         N/I|     M|  BRANCA|       BRASILEIRO(A)|    PUBLICA|        0|       SP|              2|              1|              Araras|         537.0|         585.3|           590.1|       661.4|      540|\n",
            "|190001867760|     2019|         N/I|     M|   PARDA|       BRASILEIRO(A)|    PUBLICA|        0|       PR|              2|              1|        Campo Mour�o|         523.2|         469.3|           508.4|       679.4|      640|\n",
            "|190001595675|     2019|         N/I|     F|  BRANCA|       BRASILEIRO(A)|    PUBLICA|        0|       SP|              2|              1|             Mar�lia|         423.9|         500.4|           472.3|       503.9|      620|\n",
            "|190001779797|     2019|         N/I|     F|   PARDA|       BRASILEIRO(A)|    PUBLICA|        0|     NULL|           NULL|           NULL|�guas Lindas de G...|         467.9|         548.7|           536.1|       392.4|      600|\n",
            "|190001237815|     2019|         N/I|     F|  BRANCA|       BRASILEIRO(A)|    PUBLICA|        0|       MG|              2|              1|             Extrema|         624.5|         636.9|           635.8|       698.7|      800|\n",
            "|190001925229|     2019|         N/I|     M|   PARDA|       BRASILEIRO(A)|    PUBLICA|        0|       CE|              2|              1|           Fortaleza|         416.3|         489.4|           501.7|       394.4|      720|\n",
            "|190001517230|     2019|         N/I|     F|   PARDA|       BRASILEIRO(A)|    PUBLICA|        0|       RJ|              2|              1|      Angra dos Reis|         402.9|         509.7|           534.2|       451.9|      500|\n",
            "|190001595676|     2019|         N/I|     F|  BRANCA|       BRASILEIRO(A)|    PUBLICA|        0|       SP|              2|              1|           S�o Paulo|         565.5|         590.4|           600.0|       687.0|      940|\n",
            "+------------+---------+------------+------+--------+--------------------+-----------+---------+---------+---------------+---------------+--------------------+--------------+--------------+----------------+------------+---------+\n",
            "only showing top 20 rows\n",
            "\n"
          ]
        }
      ]
    },
    {
      "cell_type": "code",
      "source": [
        "# Aplicando alteração:\n",
        "enem_2019 = enem_2019.dropna(subset=[\"tipo_escola\"])"
      ],
      "metadata": {
        "id": "H4wqx0Z0Qa6I"
      },
      "execution_count": 40,
      "outputs": []
    },
    {
      "cell_type": "code",
      "source": [
        "# Verificando alteração:\n",
        "enem_2019.filter((enem_2019[\"tipo_escola\"].isNull())).show()"
      ],
      "metadata": {
        "colab": {
          "base_uri": "https://localhost:8080/"
        },
        "id": "olPU37XCQhXo",
        "outputId": "007fc74d-32a1-473d-c877-7c23596776ab"
      },
      "execution_count": 42,
      "outputs": [
        {
          "output_type": "stream",
          "name": "stdout",
          "text": [
            "+---------+---------+------------+------+--------+-------------+-----------+---------+---------+---------------+---------------+-------------+--------------+--------------+----------------+------------+---------+\n",
            "|inscricao|ano_prova|faixa_etaria|genero|cor_raca|nacionalidade|tipo_escola|treineiro|uf_escola|dependencia_esc|localizacao_esc|municipio_esc|n_ciencias_nat|n_ciencias_hum|n_linguagens_cod|n_matematica|n_redacao|\n",
            "+---------+---------+------------+------+--------+-------------+-----------+---------+---------+---------------+---------------+-------------+--------------+--------------+----------------+------------+---------+\n",
            "+---------+---------+------------+------+--------+-------------+-----------+---------+---------+---------------+---------------+-------------+--------------+--------------+----------------+------------+---------+\n",
            "\n"
          ]
        }
      ]
    },
    {
      "cell_type": "code",
      "source": [
        "# Alterando dados segundo dicionario\n",
        "enem_2019.withColumn(\"treineiro\",\n",
        "                         f.when(enem_2019.treineiro == 1, \"SIM\").otherwise(\"NAO\")\n",
        "                         ).show()"
      ],
      "metadata": {
        "colab": {
          "base_uri": "https://localhost:8080/"
        },
        "id": "a_RNhWC2MFbK",
        "outputId": "550c0b70-608e-49a4-a2aa-3b13858d61f6"
      },
      "execution_count": 43,
      "outputs": [
        {
          "output_type": "stream",
          "name": "stdout",
          "text": [
            "+------------+---------+------------+------+--------+--------------------+-----------+---------+---------+---------------+---------------+--------------------+--------------+--------------+----------------+------------+---------+\n",
            "|   inscricao|ano_prova|faixa_etaria|genero|cor_raca|       nacionalidade|tipo_escola|treineiro|uf_escola|dependencia_esc|localizacao_esc|       municipio_esc|n_ciencias_nat|n_ciencias_hum|n_linguagens_cod|n_matematica|n_redacao|\n",
            "+------------+---------+------------+------+--------+--------------------+-----------+---------+---------+---------------+---------------+--------------------+--------------+--------------+----------------+------------+---------+\n",
            "|190001592266|     2019|         N/I|     M|  BRANCA|       BRASILEIRO(A)|    PUBLICA|      NAO|     NULL|           NULL|           NULL|           S�o Paulo|         543.9|         548.1|           502.5|       480.7|      400|\n",
            "|190001867757|     2019|         N/I|     F|  BRANCA|       BRASILEIRO(A)|    PRIVADA|      NAO|       PR|              4|              1|           Apucarana|         618.2|         744.7|           636.3|       713.7|      900|\n",
            "|190001692704|     2019|         N/I|     F|  BRANCA|       BRASILEIRO(A)|    PUBLICA|      NAO|       RS|              2|              1|            Alvorada|         430.4|         466.8|           515.9|       394.1|      580|\n",
            "|190001595660|     2019|         N/I|     F|   PRETA|       BRASILEIRO(A)|    PUBLICA|      NAO|       SP|              2|              1|     Itaquaquecetuba|         371.8|         501.4|           518.6|       442.0|      660|\n",
            "|190001421552|     2019|         N/I|     M|   PRETA|       BRASILEIRO(A)|    PUBLICA|      NAO|       BA|              2|              1|    Lauro de Freitas|         567.3|         584.1|           595.8|       704.5|      620|\n",
            "|190001480443|     2019|         N/I|     M|   PARDA|BRASILEIRO, NASCI...|    PUBLICA|      NAO|       PB|              2|              1|          Santa Rita|         373.2|         409.6|           469.5|       379.1|      480|\n",
            "|190001082475|     2019|         N/I|     F|   PARDA|       BRASILEIRO(A)|    PUBLICA|      NAO|       AM|              2|              1|              Manaus|         385.8|         436.3|           393.8|       370.0|      260|\n",
            "|190002037440|     2019|         N/I|     M|   PARDA|       BRASILEIRO(A)|    PUBLICA|      NAO|       DF|              2|              1|            Bras�lia|         389.7|         431.1|           482.0|       529.7|      560|\n",
            "|190001121527|     2019|         N/I|     F|  BRANCA|       BRASILEIRO(A)|    PUBLICA|      NAO|       PI|              1|              1|            Parna�ba|         427.6|         548.8|           587.2|       699.3|      820|\n",
            "|190001042836|     2019|         N/I|     F|   PRETA|       BRASILEIRO(A)|    PUBLICA|      NAO|       PA|              2|              1|               Bel�m|         510.9|         585.4|           578.4|       605.2|      880|\n",
            "|190001421560|     2019|         N/I|     M|   PARDA|       BRASILEIRO(A)|    PUBLICA|      NAO|       BA|              2|              1|S�o Sebasti�o do ...|         361.2|         499.0|           403.5|       392.5|      560|\n",
            "|190001121528|     2019|         N/I|     F|   PARDA|       BRASILEIRO(A)|    PUBLICA|      NAO|       PI|              2|              1|            Piripiri|         556.8|         487.0|           571.8|       578.5|      800|\n",
            "|190001595672|     2019|         N/I|     M|  BRANCA|       BRASILEIRO(A)|    PUBLICA|      NAO|       SP|              2|              1|              Araras|         537.0|         585.3|           590.1|       661.4|      540|\n",
            "|190001867760|     2019|         N/I|     M|   PARDA|       BRASILEIRO(A)|    PUBLICA|      NAO|       PR|              2|              1|        Campo Mour�o|         523.2|         469.3|           508.4|       679.4|      640|\n",
            "|190001595675|     2019|         N/I|     F|  BRANCA|       BRASILEIRO(A)|    PUBLICA|      NAO|       SP|              2|              1|             Mar�lia|         423.9|         500.4|           472.3|       503.9|      620|\n",
            "|190001779797|     2019|         N/I|     F|   PARDA|       BRASILEIRO(A)|    PUBLICA|      NAO|     NULL|           NULL|           NULL|�guas Lindas de G...|         467.9|         548.7|           536.1|       392.4|      600|\n",
            "|190001237815|     2019|         N/I|     F|  BRANCA|       BRASILEIRO(A)|    PUBLICA|      NAO|       MG|              2|              1|             Extrema|         624.5|         636.9|           635.8|       698.7|      800|\n",
            "|190001925229|     2019|         N/I|     M|   PARDA|       BRASILEIRO(A)|    PUBLICA|      NAO|       CE|              2|              1|           Fortaleza|         416.3|         489.4|           501.7|       394.4|      720|\n",
            "|190001517230|     2019|         N/I|     F|   PARDA|       BRASILEIRO(A)|    PUBLICA|      NAO|       RJ|              2|              1|      Angra dos Reis|         402.9|         509.7|           534.2|       451.9|      500|\n",
            "|190001595676|     2019|         N/I|     F|  BRANCA|       BRASILEIRO(A)|    PUBLICA|      NAO|       SP|              2|              1|           S�o Paulo|         565.5|         590.4|           600.0|       687.0|      940|\n",
            "+------------+---------+------------+------+--------+--------------------+-----------+---------+---------+---------------+---------------+--------------------+--------------+--------------+----------------+------------+---------+\n",
            "only showing top 20 rows\n",
            "\n"
          ]
        }
      ]
    },
    {
      "cell_type": "code",
      "source": [
        "enem_2019=enem_2019.withColumn(\"treineiro\",\n",
        "                         f.when(enem_2019.treineiro == 1, \"SIM\").otherwise(\"NAO\"))"
      ],
      "metadata": {
        "id": "iSPFOD0zR6tB"
      },
      "execution_count": 45,
      "outputs": []
    },
    {
      "cell_type": "code",
      "source": [
        "# Atualizando backup\n",
        "bpk = enem_2019"
      ],
      "metadata": {
        "id": "yxuNB7qlMWqp"
      },
      "execution_count": 46,
      "outputs": []
    },
    {
      "cell_type": "code",
      "source": [
        "# Tratando dados \"uf_escola\" e \"municipio_esc\" - se \"uf_escola\" e \"municipio_esc\"\n",
        "# for nulo remova a linha\n",
        "enem_2019.dropna(thresh=2,subset=[\"uf_escola\",\"dependencia_esc\"]).show()"
      ],
      "metadata": {
        "colab": {
          "base_uri": "https://localhost:8080/"
        },
        "id": "5ONFn1P1Si7X",
        "outputId": "294c8cda-4b1b-44f3-bde7-388686383bb6"
      },
      "execution_count": 47,
      "outputs": [
        {
          "output_type": "stream",
          "name": "stdout",
          "text": [
            "+------------+---------+------------+------+--------+--------------------+-----------+---------+---------+---------------+---------------+--------------------+--------------+--------------+----------------+------------+---------+\n",
            "|   inscricao|ano_prova|faixa_etaria|genero|cor_raca|       nacionalidade|tipo_escola|treineiro|uf_escola|dependencia_esc|localizacao_esc|       municipio_esc|n_ciencias_nat|n_ciencias_hum|n_linguagens_cod|n_matematica|n_redacao|\n",
            "+------------+---------+------------+------+--------+--------------------+-----------+---------+---------+---------------+---------------+--------------------+--------------+--------------+----------------+------------+---------+\n",
            "|190001867757|     2019|         N/I|     F|  BRANCA|       BRASILEIRO(A)|    PRIVADA|      NAO|       PR|              4|              1|           Apucarana|         618.2|         744.7|           636.3|       713.7|      900|\n",
            "|190001692704|     2019|         N/I|     F|  BRANCA|       BRASILEIRO(A)|    PUBLICA|      NAO|       RS|              2|              1|            Alvorada|         430.4|         466.8|           515.9|       394.1|      580|\n",
            "|190001595660|     2019|         N/I|     F|   PRETA|       BRASILEIRO(A)|    PUBLICA|      NAO|       SP|              2|              1|     Itaquaquecetuba|         371.8|         501.4|           518.6|       442.0|      660|\n",
            "|190001421552|     2019|         N/I|     M|   PRETA|       BRASILEIRO(A)|    PUBLICA|      NAO|       BA|              2|              1|    Lauro de Freitas|         567.3|         584.1|           595.8|       704.5|      620|\n",
            "|190001480443|     2019|         N/I|     M|   PARDA|BRASILEIRO, NASCI...|    PUBLICA|      NAO|       PB|              2|              1|          Santa Rita|         373.2|         409.6|           469.5|       379.1|      480|\n",
            "|190001082475|     2019|         N/I|     F|   PARDA|       BRASILEIRO(A)|    PUBLICA|      NAO|       AM|              2|              1|              Manaus|         385.8|         436.3|           393.8|       370.0|      260|\n",
            "|190002037440|     2019|         N/I|     M|   PARDA|       BRASILEIRO(A)|    PUBLICA|      NAO|       DF|              2|              1|            Bras�lia|         389.7|         431.1|           482.0|       529.7|      560|\n",
            "|190001121527|     2019|         N/I|     F|  BRANCA|       BRASILEIRO(A)|    PUBLICA|      NAO|       PI|              1|              1|            Parna�ba|         427.6|         548.8|           587.2|       699.3|      820|\n",
            "|190001042836|     2019|         N/I|     F|   PRETA|       BRASILEIRO(A)|    PUBLICA|      NAO|       PA|              2|              1|               Bel�m|         510.9|         585.4|           578.4|       605.2|      880|\n",
            "|190001421560|     2019|         N/I|     M|   PARDA|       BRASILEIRO(A)|    PUBLICA|      NAO|       BA|              2|              1|S�o Sebasti�o do ...|         361.2|         499.0|           403.5|       392.5|      560|\n",
            "|190001121528|     2019|         N/I|     F|   PARDA|       BRASILEIRO(A)|    PUBLICA|      NAO|       PI|              2|              1|            Piripiri|         556.8|         487.0|           571.8|       578.5|      800|\n",
            "|190001595672|     2019|         N/I|     M|  BRANCA|       BRASILEIRO(A)|    PUBLICA|      NAO|       SP|              2|              1|              Araras|         537.0|         585.3|           590.1|       661.4|      540|\n",
            "|190001867760|     2019|         N/I|     M|   PARDA|       BRASILEIRO(A)|    PUBLICA|      NAO|       PR|              2|              1|        Campo Mour�o|         523.2|         469.3|           508.4|       679.4|      640|\n",
            "|190001595675|     2019|         N/I|     F|  BRANCA|       BRASILEIRO(A)|    PUBLICA|      NAO|       SP|              2|              1|             Mar�lia|         423.9|         500.4|           472.3|       503.9|      620|\n",
            "|190001237815|     2019|         N/I|     F|  BRANCA|       BRASILEIRO(A)|    PUBLICA|      NAO|       MG|              2|              1|             Extrema|         624.5|         636.9|           635.8|       698.7|      800|\n",
            "|190001925229|     2019|         N/I|     M|   PARDA|       BRASILEIRO(A)|    PUBLICA|      NAO|       CE|              2|              1|           Fortaleza|         416.3|         489.4|           501.7|       394.4|      720|\n",
            "|190001517230|     2019|         N/I|     F|   PARDA|       BRASILEIRO(A)|    PUBLICA|      NAO|       RJ|              2|              1|      Angra dos Reis|         402.9|         509.7|           534.2|       451.9|      500|\n",
            "|190001595676|     2019|         N/I|     F|  BRANCA|       BRASILEIRO(A)|    PUBLICA|      NAO|       SP|              2|              1|           S�o Paulo|         565.5|         590.4|           600.0|       687.0|      940|\n",
            "|190001480447|     2019|         N/I|     F|     N/I|       BRASILEIRO(A)|    PUBLICA|      NAO|       PB|              2|              1|         Jo�o Pessoa|         419.5|         540.9|           495.8|       444.6|      480|\n",
            "|190001237818|     2019|         N/I|     M|   PRETA|       BRASILEIRO(A)|    PUBLICA|      NAO|       MG|              2|              1|      Belo Horizonte|         421.6|         381.0|           463.0|       449.0|      420|\n",
            "+------------+---------+------------+------+--------+--------------------+-----------+---------+---------+---------------+---------------+--------------------+--------------+--------------+----------------+------------+---------+\n",
            "only showing top 20 rows\n",
            "\n"
          ]
        }
      ]
    },
    {
      "cell_type": "code",
      "source": [
        "enem_2019 = enem_2019.dropna(thresh=2,subset=[\"uf_escola\",\"dependencia_esc\"])"
      ],
      "metadata": {
        "id": "NNCpafbxM98q"
      },
      "execution_count": 48,
      "outputs": []
    },
    {
      "cell_type": "code",
      "source": [
        "enem_2019.show()"
      ],
      "metadata": {
        "colab": {
          "base_uri": "https://localhost:8080/"
        },
        "id": "YhKACUWKNFBK",
        "outputId": "eed6938f-6395-499b-9915-7ba901d51bb8"
      },
      "execution_count": 49,
      "outputs": [
        {
          "output_type": "stream",
          "name": "stdout",
          "text": [
            "+------------+---------+------------+------+--------+--------------------+-----------+---------+---------+---------------+---------------+--------------------+--------------+--------------+----------------+------------+---------+\n",
            "|   inscricao|ano_prova|faixa_etaria|genero|cor_raca|       nacionalidade|tipo_escola|treineiro|uf_escola|dependencia_esc|localizacao_esc|       municipio_esc|n_ciencias_nat|n_ciencias_hum|n_linguagens_cod|n_matematica|n_redacao|\n",
            "+------------+---------+------------+------+--------+--------------------+-----------+---------+---------+---------------+---------------+--------------------+--------------+--------------+----------------+------------+---------+\n",
            "|190001867757|     2019|         N/I|     F|  BRANCA|       BRASILEIRO(A)|    PRIVADA|      NAO|       PR|              4|              1|           Apucarana|         618.2|         744.7|           636.3|       713.7|      900|\n",
            "|190001692704|     2019|         N/I|     F|  BRANCA|       BRASILEIRO(A)|    PUBLICA|      NAO|       RS|              2|              1|            Alvorada|         430.4|         466.8|           515.9|       394.1|      580|\n",
            "|190001595660|     2019|         N/I|     F|   PRETA|       BRASILEIRO(A)|    PUBLICA|      NAO|       SP|              2|              1|     Itaquaquecetuba|         371.8|         501.4|           518.6|       442.0|      660|\n",
            "|190001421552|     2019|         N/I|     M|   PRETA|       BRASILEIRO(A)|    PUBLICA|      NAO|       BA|              2|              1|    Lauro de Freitas|         567.3|         584.1|           595.8|       704.5|      620|\n",
            "|190001480443|     2019|         N/I|     M|   PARDA|BRASILEIRO, NASCI...|    PUBLICA|      NAO|       PB|              2|              1|          Santa Rita|         373.2|         409.6|           469.5|       379.1|      480|\n",
            "|190001082475|     2019|         N/I|     F|   PARDA|       BRASILEIRO(A)|    PUBLICA|      NAO|       AM|              2|              1|              Manaus|         385.8|         436.3|           393.8|       370.0|      260|\n",
            "|190002037440|     2019|         N/I|     M|   PARDA|       BRASILEIRO(A)|    PUBLICA|      NAO|       DF|              2|              1|            Bras�lia|         389.7|         431.1|           482.0|       529.7|      560|\n",
            "|190001121527|     2019|         N/I|     F|  BRANCA|       BRASILEIRO(A)|    PUBLICA|      NAO|       PI|              1|              1|            Parna�ba|         427.6|         548.8|           587.2|       699.3|      820|\n",
            "|190001042836|     2019|         N/I|     F|   PRETA|       BRASILEIRO(A)|    PUBLICA|      NAO|       PA|              2|              1|               Bel�m|         510.9|         585.4|           578.4|       605.2|      880|\n",
            "|190001421560|     2019|         N/I|     M|   PARDA|       BRASILEIRO(A)|    PUBLICA|      NAO|       BA|              2|              1|S�o Sebasti�o do ...|         361.2|         499.0|           403.5|       392.5|      560|\n",
            "|190001121528|     2019|         N/I|     F|   PARDA|       BRASILEIRO(A)|    PUBLICA|      NAO|       PI|              2|              1|            Piripiri|         556.8|         487.0|           571.8|       578.5|      800|\n",
            "|190001595672|     2019|         N/I|     M|  BRANCA|       BRASILEIRO(A)|    PUBLICA|      NAO|       SP|              2|              1|              Araras|         537.0|         585.3|           590.1|       661.4|      540|\n",
            "|190001867760|     2019|         N/I|     M|   PARDA|       BRASILEIRO(A)|    PUBLICA|      NAO|       PR|              2|              1|        Campo Mour�o|         523.2|         469.3|           508.4|       679.4|      640|\n",
            "|190001595675|     2019|         N/I|     F|  BRANCA|       BRASILEIRO(A)|    PUBLICA|      NAO|       SP|              2|              1|             Mar�lia|         423.9|         500.4|           472.3|       503.9|      620|\n",
            "|190001237815|     2019|         N/I|     F|  BRANCA|       BRASILEIRO(A)|    PUBLICA|      NAO|       MG|              2|              1|             Extrema|         624.5|         636.9|           635.8|       698.7|      800|\n",
            "|190001925229|     2019|         N/I|     M|   PARDA|       BRASILEIRO(A)|    PUBLICA|      NAO|       CE|              2|              1|           Fortaleza|         416.3|         489.4|           501.7|       394.4|      720|\n",
            "|190001517230|     2019|         N/I|     F|   PARDA|       BRASILEIRO(A)|    PUBLICA|      NAO|       RJ|              2|              1|      Angra dos Reis|         402.9|         509.7|           534.2|       451.9|      500|\n",
            "|190001595676|     2019|         N/I|     F|  BRANCA|       BRASILEIRO(A)|    PUBLICA|      NAO|       SP|              2|              1|           S�o Paulo|         565.5|         590.4|           600.0|       687.0|      940|\n",
            "|190001480447|     2019|         N/I|     F|     N/I|       BRASILEIRO(A)|    PUBLICA|      NAO|       PB|              2|              1|         Jo�o Pessoa|         419.5|         540.9|           495.8|       444.6|      480|\n",
            "|190001237818|     2019|         N/I|     M|   PRETA|       BRASILEIRO(A)|    PUBLICA|      NAO|       MG|              2|              1|      Belo Horizonte|         421.6|         381.0|           463.0|       449.0|      420|\n",
            "+------------+---------+------------+------+--------+--------------------+-----------+---------+---------+---------------+---------------+--------------------+--------------+--------------+----------------+------------+---------+\n",
            "only showing top 20 rows\n",
            "\n"
          ]
        }
      ]
    },
    {
      "cell_type": "code",
      "source": [
        "# Alterando dados de colunas segundo dicionario:\n",
        "enem_2019.withColumn(\"dependencia_esc\",\n",
        "                         f.when(enem_2019.dependencia_esc == 1, \"FEDERAL\")\\\n",
        "                         .when(enem_2019.dependencia_esc == 2, \"MUNICIPAL\")\\\n",
        "                         .when(enem_2019.dependencia_esc == 3, \"PRIVADA\").otherwise(\"N/I\")\n",
        ").show()"
      ],
      "metadata": {
        "colab": {
          "base_uri": "https://localhost:8080/"
        },
        "id": "MQa0KsCcNGg6",
        "outputId": "e7985a95-c0a1-4c6a-fbc5-74e35d3cd82a"
      },
      "execution_count": 50,
      "outputs": [
        {
          "output_type": "stream",
          "name": "stdout",
          "text": [
            "+------------+---------+------------+------+--------+--------------------+-----------+---------+---------+---------------+---------------+--------------------+--------------+--------------+----------------+------------+---------+\n",
            "|   inscricao|ano_prova|faixa_etaria|genero|cor_raca|       nacionalidade|tipo_escola|treineiro|uf_escola|dependencia_esc|localizacao_esc|       municipio_esc|n_ciencias_nat|n_ciencias_hum|n_linguagens_cod|n_matematica|n_redacao|\n",
            "+------------+---------+------------+------+--------+--------------------+-----------+---------+---------+---------------+---------------+--------------------+--------------+--------------+----------------+------------+---------+\n",
            "|190001867757|     2019|         N/I|     F|  BRANCA|       BRASILEIRO(A)|    PRIVADA|      NAO|       PR|            N/I|              1|           Apucarana|         618.2|         744.7|           636.3|       713.7|      900|\n",
            "|190001692704|     2019|         N/I|     F|  BRANCA|       BRASILEIRO(A)|    PUBLICA|      NAO|       RS|      MUNICIPAL|              1|            Alvorada|         430.4|         466.8|           515.9|       394.1|      580|\n",
            "|190001595660|     2019|         N/I|     F|   PRETA|       BRASILEIRO(A)|    PUBLICA|      NAO|       SP|      MUNICIPAL|              1|     Itaquaquecetuba|         371.8|         501.4|           518.6|       442.0|      660|\n",
            "|190001421552|     2019|         N/I|     M|   PRETA|       BRASILEIRO(A)|    PUBLICA|      NAO|       BA|      MUNICIPAL|              1|    Lauro de Freitas|         567.3|         584.1|           595.8|       704.5|      620|\n",
            "|190001480443|     2019|         N/I|     M|   PARDA|BRASILEIRO, NASCI...|    PUBLICA|      NAO|       PB|      MUNICIPAL|              1|          Santa Rita|         373.2|         409.6|           469.5|       379.1|      480|\n",
            "|190001082475|     2019|         N/I|     F|   PARDA|       BRASILEIRO(A)|    PUBLICA|      NAO|       AM|      MUNICIPAL|              1|              Manaus|         385.8|         436.3|           393.8|       370.0|      260|\n",
            "|190002037440|     2019|         N/I|     M|   PARDA|       BRASILEIRO(A)|    PUBLICA|      NAO|       DF|      MUNICIPAL|              1|            Bras�lia|         389.7|         431.1|           482.0|       529.7|      560|\n",
            "|190001121527|     2019|         N/I|     F|  BRANCA|       BRASILEIRO(A)|    PUBLICA|      NAO|       PI|        FEDERAL|              1|            Parna�ba|         427.6|         548.8|           587.2|       699.3|      820|\n",
            "|190001042836|     2019|         N/I|     F|   PRETA|       BRASILEIRO(A)|    PUBLICA|      NAO|       PA|      MUNICIPAL|              1|               Bel�m|         510.9|         585.4|           578.4|       605.2|      880|\n",
            "|190001421560|     2019|         N/I|     M|   PARDA|       BRASILEIRO(A)|    PUBLICA|      NAO|       BA|      MUNICIPAL|              1|S�o Sebasti�o do ...|         361.2|         499.0|           403.5|       392.5|      560|\n",
            "|190001121528|     2019|         N/I|     F|   PARDA|       BRASILEIRO(A)|    PUBLICA|      NAO|       PI|      MUNICIPAL|              1|            Piripiri|         556.8|         487.0|           571.8|       578.5|      800|\n",
            "|190001595672|     2019|         N/I|     M|  BRANCA|       BRASILEIRO(A)|    PUBLICA|      NAO|       SP|      MUNICIPAL|              1|              Araras|         537.0|         585.3|           590.1|       661.4|      540|\n",
            "|190001867760|     2019|         N/I|     M|   PARDA|       BRASILEIRO(A)|    PUBLICA|      NAO|       PR|      MUNICIPAL|              1|        Campo Mour�o|         523.2|         469.3|           508.4|       679.4|      640|\n",
            "|190001595675|     2019|         N/I|     F|  BRANCA|       BRASILEIRO(A)|    PUBLICA|      NAO|       SP|      MUNICIPAL|              1|             Mar�lia|         423.9|         500.4|           472.3|       503.9|      620|\n",
            "|190001237815|     2019|         N/I|     F|  BRANCA|       BRASILEIRO(A)|    PUBLICA|      NAO|       MG|      MUNICIPAL|              1|             Extrema|         624.5|         636.9|           635.8|       698.7|      800|\n",
            "|190001925229|     2019|         N/I|     M|   PARDA|       BRASILEIRO(A)|    PUBLICA|      NAO|       CE|      MUNICIPAL|              1|           Fortaleza|         416.3|         489.4|           501.7|       394.4|      720|\n",
            "|190001517230|     2019|         N/I|     F|   PARDA|       BRASILEIRO(A)|    PUBLICA|      NAO|       RJ|      MUNICIPAL|              1|      Angra dos Reis|         402.9|         509.7|           534.2|       451.9|      500|\n",
            "|190001595676|     2019|         N/I|     F|  BRANCA|       BRASILEIRO(A)|    PUBLICA|      NAO|       SP|      MUNICIPAL|              1|           S�o Paulo|         565.5|         590.4|           600.0|       687.0|      940|\n",
            "|190001480447|     2019|         N/I|     F|     N/I|       BRASILEIRO(A)|    PUBLICA|      NAO|       PB|      MUNICIPAL|              1|         Jo�o Pessoa|         419.5|         540.9|           495.8|       444.6|      480|\n",
            "|190001237818|     2019|         N/I|     M|   PRETA|       BRASILEIRO(A)|    PUBLICA|      NAO|       MG|      MUNICIPAL|              1|      Belo Horizonte|         421.6|         381.0|           463.0|       449.0|      420|\n",
            "+------------+---------+------------+------+--------+--------------------+-----------+---------+---------+---------------+---------------+--------------------+--------------+--------------+----------------+------------+---------+\n",
            "only showing top 20 rows\n",
            "\n"
          ]
        }
      ]
    },
    {
      "cell_type": "code",
      "source": [
        "enem_2019 = enem_2019.withColumn(\"dependencia_esc\",\n",
        "                         f.when(enem_2019.dependencia_esc == 1, \"FEDERAL\")\\\n",
        "                         .when(enem_2019.dependencia_esc == 2, \"MUNICIPAL\")\\\n",
        "                         .when(enem_2019.dependencia_esc == 3, \"PRIVADA\").otherwise(\"N/I\")\n",
        ")"
      ],
      "metadata": {
        "id": "-sqH7jTIN4xS"
      },
      "execution_count": 51,
      "outputs": []
    },
    {
      "cell_type": "code",
      "source": [
        "enem_2019.show()"
      ],
      "metadata": {
        "colab": {
          "base_uri": "https://localhost:8080/"
        },
        "id": "8tXlZUlyN8l5",
        "outputId": "c6a857ea-343c-40c4-f330-2e159067e3de"
      },
      "execution_count": 52,
      "outputs": [
        {
          "output_type": "stream",
          "name": "stdout",
          "text": [
            "+------------+---------+------------+------+--------+--------------------+-----------+---------+---------+---------------+---------------+--------------------+--------------+--------------+----------------+------------+---------+\n",
            "|   inscricao|ano_prova|faixa_etaria|genero|cor_raca|       nacionalidade|tipo_escola|treineiro|uf_escola|dependencia_esc|localizacao_esc|       municipio_esc|n_ciencias_nat|n_ciencias_hum|n_linguagens_cod|n_matematica|n_redacao|\n",
            "+------------+---------+------------+------+--------+--------------------+-----------+---------+---------+---------------+---------------+--------------------+--------------+--------------+----------------+------------+---------+\n",
            "|190001867757|     2019|         N/I|     F|  BRANCA|       BRASILEIRO(A)|    PRIVADA|      NAO|       PR|            N/I|              1|           Apucarana|         618.2|         744.7|           636.3|       713.7|      900|\n",
            "|190001692704|     2019|         N/I|     F|  BRANCA|       BRASILEIRO(A)|    PUBLICA|      NAO|       RS|      MUNICIPAL|              1|            Alvorada|         430.4|         466.8|           515.9|       394.1|      580|\n",
            "|190001595660|     2019|         N/I|     F|   PRETA|       BRASILEIRO(A)|    PUBLICA|      NAO|       SP|      MUNICIPAL|              1|     Itaquaquecetuba|         371.8|         501.4|           518.6|       442.0|      660|\n",
            "|190001421552|     2019|         N/I|     M|   PRETA|       BRASILEIRO(A)|    PUBLICA|      NAO|       BA|      MUNICIPAL|              1|    Lauro de Freitas|         567.3|         584.1|           595.8|       704.5|      620|\n",
            "|190001480443|     2019|         N/I|     M|   PARDA|BRASILEIRO, NASCI...|    PUBLICA|      NAO|       PB|      MUNICIPAL|              1|          Santa Rita|         373.2|         409.6|           469.5|       379.1|      480|\n",
            "|190001082475|     2019|         N/I|     F|   PARDA|       BRASILEIRO(A)|    PUBLICA|      NAO|       AM|      MUNICIPAL|              1|              Manaus|         385.8|         436.3|           393.8|       370.0|      260|\n",
            "|190002037440|     2019|         N/I|     M|   PARDA|       BRASILEIRO(A)|    PUBLICA|      NAO|       DF|      MUNICIPAL|              1|            Bras�lia|         389.7|         431.1|           482.0|       529.7|      560|\n",
            "|190001121527|     2019|         N/I|     F|  BRANCA|       BRASILEIRO(A)|    PUBLICA|      NAO|       PI|        FEDERAL|              1|            Parna�ba|         427.6|         548.8|           587.2|       699.3|      820|\n",
            "|190001042836|     2019|         N/I|     F|   PRETA|       BRASILEIRO(A)|    PUBLICA|      NAO|       PA|      MUNICIPAL|              1|               Bel�m|         510.9|         585.4|           578.4|       605.2|      880|\n",
            "|190001421560|     2019|         N/I|     M|   PARDA|       BRASILEIRO(A)|    PUBLICA|      NAO|       BA|      MUNICIPAL|              1|S�o Sebasti�o do ...|         361.2|         499.0|           403.5|       392.5|      560|\n",
            "|190001121528|     2019|         N/I|     F|   PARDA|       BRASILEIRO(A)|    PUBLICA|      NAO|       PI|      MUNICIPAL|              1|            Piripiri|         556.8|         487.0|           571.8|       578.5|      800|\n",
            "|190001595672|     2019|         N/I|     M|  BRANCA|       BRASILEIRO(A)|    PUBLICA|      NAO|       SP|      MUNICIPAL|              1|              Araras|         537.0|         585.3|           590.1|       661.4|      540|\n",
            "|190001867760|     2019|         N/I|     M|   PARDA|       BRASILEIRO(A)|    PUBLICA|      NAO|       PR|      MUNICIPAL|              1|        Campo Mour�o|         523.2|         469.3|           508.4|       679.4|      640|\n",
            "|190001595675|     2019|         N/I|     F|  BRANCA|       BRASILEIRO(A)|    PUBLICA|      NAO|       SP|      MUNICIPAL|              1|             Mar�lia|         423.9|         500.4|           472.3|       503.9|      620|\n",
            "|190001237815|     2019|         N/I|     F|  BRANCA|       BRASILEIRO(A)|    PUBLICA|      NAO|       MG|      MUNICIPAL|              1|             Extrema|         624.5|         636.9|           635.8|       698.7|      800|\n",
            "|190001925229|     2019|         N/I|     M|   PARDA|       BRASILEIRO(A)|    PUBLICA|      NAO|       CE|      MUNICIPAL|              1|           Fortaleza|         416.3|         489.4|           501.7|       394.4|      720|\n",
            "|190001517230|     2019|         N/I|     F|   PARDA|       BRASILEIRO(A)|    PUBLICA|      NAO|       RJ|      MUNICIPAL|              1|      Angra dos Reis|         402.9|         509.7|           534.2|       451.9|      500|\n",
            "|190001595676|     2019|         N/I|     F|  BRANCA|       BRASILEIRO(A)|    PUBLICA|      NAO|       SP|      MUNICIPAL|              1|           S�o Paulo|         565.5|         590.4|           600.0|       687.0|      940|\n",
            "|190001480447|     2019|         N/I|     F|     N/I|       BRASILEIRO(A)|    PUBLICA|      NAO|       PB|      MUNICIPAL|              1|         Jo�o Pessoa|         419.5|         540.9|           495.8|       444.6|      480|\n",
            "|190001237818|     2019|         N/I|     M|   PRETA|       BRASILEIRO(A)|    PUBLICA|      NAO|       MG|      MUNICIPAL|              1|      Belo Horizonte|         421.6|         381.0|           463.0|       449.0|      420|\n",
            "+------------+---------+------------+------+--------+--------------------+-----------+---------+---------+---------------+---------------+--------------------+--------------+--------------+----------------+------------+---------+\n",
            "only showing top 20 rows\n",
            "\n"
          ]
        }
      ]
    },
    {
      "cell_type": "code",
      "source": [
        "# Alterando dados de colunas segundo dicionario:\n",
        "enem_2019.withColumn(\"localizacao_esc\",\n",
        "                         f.when(enem_2019.localizacao_esc == 1, \"URBANO\")\\\n",
        "                         .when(enem_2019.localizacao_esc == 2, \"RURAL\")\n",
        ").show()"
      ],
      "metadata": {
        "colab": {
          "base_uri": "https://localhost:8080/"
        },
        "id": "d-FsESmlN9-J",
        "outputId": "d88c59cd-8b7a-4468-ab8c-c9bc49f08fd7"
      },
      "execution_count": 53,
      "outputs": [
        {
          "output_type": "stream",
          "name": "stdout",
          "text": [
            "+------------+---------+------------+------+--------+--------------------+-----------+---------+---------+---------------+---------------+--------------------+--------------+--------------+----------------+------------+---------+\n",
            "|   inscricao|ano_prova|faixa_etaria|genero|cor_raca|       nacionalidade|tipo_escola|treineiro|uf_escola|dependencia_esc|localizacao_esc|       municipio_esc|n_ciencias_nat|n_ciencias_hum|n_linguagens_cod|n_matematica|n_redacao|\n",
            "+------------+---------+------------+------+--------+--------------------+-----------+---------+---------+---------------+---------------+--------------------+--------------+--------------+----------------+------------+---------+\n",
            "|190001867757|     2019|         N/I|     F|  BRANCA|       BRASILEIRO(A)|    PRIVADA|      NAO|       PR|            N/I|         URBANO|           Apucarana|         618.2|         744.7|           636.3|       713.7|      900|\n",
            "|190001692704|     2019|         N/I|     F|  BRANCA|       BRASILEIRO(A)|    PUBLICA|      NAO|       RS|      MUNICIPAL|         URBANO|            Alvorada|         430.4|         466.8|           515.9|       394.1|      580|\n",
            "|190001595660|     2019|         N/I|     F|   PRETA|       BRASILEIRO(A)|    PUBLICA|      NAO|       SP|      MUNICIPAL|         URBANO|     Itaquaquecetuba|         371.8|         501.4|           518.6|       442.0|      660|\n",
            "|190001421552|     2019|         N/I|     M|   PRETA|       BRASILEIRO(A)|    PUBLICA|      NAO|       BA|      MUNICIPAL|         URBANO|    Lauro de Freitas|         567.3|         584.1|           595.8|       704.5|      620|\n",
            "|190001480443|     2019|         N/I|     M|   PARDA|BRASILEIRO, NASCI...|    PUBLICA|      NAO|       PB|      MUNICIPAL|         URBANO|          Santa Rita|         373.2|         409.6|           469.5|       379.1|      480|\n",
            "|190001082475|     2019|         N/I|     F|   PARDA|       BRASILEIRO(A)|    PUBLICA|      NAO|       AM|      MUNICIPAL|         URBANO|              Manaus|         385.8|         436.3|           393.8|       370.0|      260|\n",
            "|190002037440|     2019|         N/I|     M|   PARDA|       BRASILEIRO(A)|    PUBLICA|      NAO|       DF|      MUNICIPAL|         URBANO|            Bras�lia|         389.7|         431.1|           482.0|       529.7|      560|\n",
            "|190001121527|     2019|         N/I|     F|  BRANCA|       BRASILEIRO(A)|    PUBLICA|      NAO|       PI|        FEDERAL|         URBANO|            Parna�ba|         427.6|         548.8|           587.2|       699.3|      820|\n",
            "|190001042836|     2019|         N/I|     F|   PRETA|       BRASILEIRO(A)|    PUBLICA|      NAO|       PA|      MUNICIPAL|         URBANO|               Bel�m|         510.9|         585.4|           578.4|       605.2|      880|\n",
            "|190001421560|     2019|         N/I|     M|   PARDA|       BRASILEIRO(A)|    PUBLICA|      NAO|       BA|      MUNICIPAL|         URBANO|S�o Sebasti�o do ...|         361.2|         499.0|           403.5|       392.5|      560|\n",
            "|190001121528|     2019|         N/I|     F|   PARDA|       BRASILEIRO(A)|    PUBLICA|      NAO|       PI|      MUNICIPAL|         URBANO|            Piripiri|         556.8|         487.0|           571.8|       578.5|      800|\n",
            "|190001595672|     2019|         N/I|     M|  BRANCA|       BRASILEIRO(A)|    PUBLICA|      NAO|       SP|      MUNICIPAL|         URBANO|              Araras|         537.0|         585.3|           590.1|       661.4|      540|\n",
            "|190001867760|     2019|         N/I|     M|   PARDA|       BRASILEIRO(A)|    PUBLICA|      NAO|       PR|      MUNICIPAL|         URBANO|        Campo Mour�o|         523.2|         469.3|           508.4|       679.4|      640|\n",
            "|190001595675|     2019|         N/I|     F|  BRANCA|       BRASILEIRO(A)|    PUBLICA|      NAO|       SP|      MUNICIPAL|         URBANO|             Mar�lia|         423.9|         500.4|           472.3|       503.9|      620|\n",
            "|190001237815|     2019|         N/I|     F|  BRANCA|       BRASILEIRO(A)|    PUBLICA|      NAO|       MG|      MUNICIPAL|         URBANO|             Extrema|         624.5|         636.9|           635.8|       698.7|      800|\n",
            "|190001925229|     2019|         N/I|     M|   PARDA|       BRASILEIRO(A)|    PUBLICA|      NAO|       CE|      MUNICIPAL|         URBANO|           Fortaleza|         416.3|         489.4|           501.7|       394.4|      720|\n",
            "|190001517230|     2019|         N/I|     F|   PARDA|       BRASILEIRO(A)|    PUBLICA|      NAO|       RJ|      MUNICIPAL|         URBANO|      Angra dos Reis|         402.9|         509.7|           534.2|       451.9|      500|\n",
            "|190001595676|     2019|         N/I|     F|  BRANCA|       BRASILEIRO(A)|    PUBLICA|      NAO|       SP|      MUNICIPAL|         URBANO|           S�o Paulo|         565.5|         590.4|           600.0|       687.0|      940|\n",
            "|190001480447|     2019|         N/I|     F|     N/I|       BRASILEIRO(A)|    PUBLICA|      NAO|       PB|      MUNICIPAL|         URBANO|         Jo�o Pessoa|         419.5|         540.9|           495.8|       444.6|      480|\n",
            "|190001237818|     2019|         N/I|     M|   PRETA|       BRASILEIRO(A)|    PUBLICA|      NAO|       MG|      MUNICIPAL|         URBANO|      Belo Horizonte|         421.6|         381.0|           463.0|       449.0|      420|\n",
            "+------------+---------+------------+------+--------+--------------------+-----------+---------+---------+---------------+---------------+--------------------+--------------+--------------+----------------+------------+---------+\n",
            "only showing top 20 rows\n",
            "\n"
          ]
        }
      ]
    },
    {
      "cell_type": "code",
      "source": [
        "enem_2019 = enem_2019.withColumn(\"localizacao_esc\",\n",
        "                         f.when(enem_2019.localizacao_esc == 1, \"URBANO\")\\\n",
        "                         .when(enem_2019.localizacao_esc == 2, \"RURAL\")\n",
        ")"
      ],
      "metadata": {
        "id": "_-0MBoghOaAS"
      },
      "execution_count": 54,
      "outputs": []
    },
    {
      "cell_type": "code",
      "source": [
        "enem_2019.show()"
      ],
      "metadata": {
        "colab": {
          "base_uri": "https://localhost:8080/"
        },
        "id": "lLEwoZeEOe5p",
        "outputId": "936a6aa8-9e93-45ca-eeac-e8f970ecd92d"
      },
      "execution_count": 55,
      "outputs": [
        {
          "output_type": "stream",
          "name": "stdout",
          "text": [
            "+------------+---------+------------+------+--------+--------------------+-----------+---------+---------+---------------+---------------+--------------------+--------------+--------------+----------------+------------+---------+\n",
            "|   inscricao|ano_prova|faixa_etaria|genero|cor_raca|       nacionalidade|tipo_escola|treineiro|uf_escola|dependencia_esc|localizacao_esc|       municipio_esc|n_ciencias_nat|n_ciencias_hum|n_linguagens_cod|n_matematica|n_redacao|\n",
            "+------------+---------+------------+------+--------+--------------------+-----------+---------+---------+---------------+---------------+--------------------+--------------+--------------+----------------+------------+---------+\n",
            "|190001867757|     2019|         N/I|     F|  BRANCA|       BRASILEIRO(A)|    PRIVADA|      NAO|       PR|            N/I|         URBANO|           Apucarana|         618.2|         744.7|           636.3|       713.7|      900|\n",
            "|190001692704|     2019|         N/I|     F|  BRANCA|       BRASILEIRO(A)|    PUBLICA|      NAO|       RS|      MUNICIPAL|         URBANO|            Alvorada|         430.4|         466.8|           515.9|       394.1|      580|\n",
            "|190001595660|     2019|         N/I|     F|   PRETA|       BRASILEIRO(A)|    PUBLICA|      NAO|       SP|      MUNICIPAL|         URBANO|     Itaquaquecetuba|         371.8|         501.4|           518.6|       442.0|      660|\n",
            "|190001421552|     2019|         N/I|     M|   PRETA|       BRASILEIRO(A)|    PUBLICA|      NAO|       BA|      MUNICIPAL|         URBANO|    Lauro de Freitas|         567.3|         584.1|           595.8|       704.5|      620|\n",
            "|190001480443|     2019|         N/I|     M|   PARDA|BRASILEIRO, NASCI...|    PUBLICA|      NAO|       PB|      MUNICIPAL|         URBANO|          Santa Rita|         373.2|         409.6|           469.5|       379.1|      480|\n",
            "|190001082475|     2019|         N/I|     F|   PARDA|       BRASILEIRO(A)|    PUBLICA|      NAO|       AM|      MUNICIPAL|         URBANO|              Manaus|         385.8|         436.3|           393.8|       370.0|      260|\n",
            "|190002037440|     2019|         N/I|     M|   PARDA|       BRASILEIRO(A)|    PUBLICA|      NAO|       DF|      MUNICIPAL|         URBANO|            Bras�lia|         389.7|         431.1|           482.0|       529.7|      560|\n",
            "|190001121527|     2019|         N/I|     F|  BRANCA|       BRASILEIRO(A)|    PUBLICA|      NAO|       PI|        FEDERAL|         URBANO|            Parna�ba|         427.6|         548.8|           587.2|       699.3|      820|\n",
            "|190001042836|     2019|         N/I|     F|   PRETA|       BRASILEIRO(A)|    PUBLICA|      NAO|       PA|      MUNICIPAL|         URBANO|               Bel�m|         510.9|         585.4|           578.4|       605.2|      880|\n",
            "|190001421560|     2019|         N/I|     M|   PARDA|       BRASILEIRO(A)|    PUBLICA|      NAO|       BA|      MUNICIPAL|         URBANO|S�o Sebasti�o do ...|         361.2|         499.0|           403.5|       392.5|      560|\n",
            "|190001121528|     2019|         N/I|     F|   PARDA|       BRASILEIRO(A)|    PUBLICA|      NAO|       PI|      MUNICIPAL|         URBANO|            Piripiri|         556.8|         487.0|           571.8|       578.5|      800|\n",
            "|190001595672|     2019|         N/I|     M|  BRANCA|       BRASILEIRO(A)|    PUBLICA|      NAO|       SP|      MUNICIPAL|         URBANO|              Araras|         537.0|         585.3|           590.1|       661.4|      540|\n",
            "|190001867760|     2019|         N/I|     M|   PARDA|       BRASILEIRO(A)|    PUBLICA|      NAO|       PR|      MUNICIPAL|         URBANO|        Campo Mour�o|         523.2|         469.3|           508.4|       679.4|      640|\n",
            "|190001595675|     2019|         N/I|     F|  BRANCA|       BRASILEIRO(A)|    PUBLICA|      NAO|       SP|      MUNICIPAL|         URBANO|             Mar�lia|         423.9|         500.4|           472.3|       503.9|      620|\n",
            "|190001237815|     2019|         N/I|     F|  BRANCA|       BRASILEIRO(A)|    PUBLICA|      NAO|       MG|      MUNICIPAL|         URBANO|             Extrema|         624.5|         636.9|           635.8|       698.7|      800|\n",
            "|190001925229|     2019|         N/I|     M|   PARDA|       BRASILEIRO(A)|    PUBLICA|      NAO|       CE|      MUNICIPAL|         URBANO|           Fortaleza|         416.3|         489.4|           501.7|       394.4|      720|\n",
            "|190001517230|     2019|         N/I|     F|   PARDA|       BRASILEIRO(A)|    PUBLICA|      NAO|       RJ|      MUNICIPAL|         URBANO|      Angra dos Reis|         402.9|         509.7|           534.2|       451.9|      500|\n",
            "|190001595676|     2019|         N/I|     F|  BRANCA|       BRASILEIRO(A)|    PUBLICA|      NAO|       SP|      MUNICIPAL|         URBANO|           S�o Paulo|         565.5|         590.4|           600.0|       687.0|      940|\n",
            "|190001480447|     2019|         N/I|     F|     N/I|       BRASILEIRO(A)|    PUBLICA|      NAO|       PB|      MUNICIPAL|         URBANO|         Jo�o Pessoa|         419.5|         540.9|           495.8|       444.6|      480|\n",
            "|190001237818|     2019|         N/I|     M|   PRETA|       BRASILEIRO(A)|    PUBLICA|      NAO|       MG|      MUNICIPAL|         URBANO|      Belo Horizonte|         421.6|         381.0|           463.0|       449.0|      420|\n",
            "+------------+---------+------------+------+--------+--------------------+-----------+---------+---------+---------------+---------------+--------------------+--------------+--------------+----------------+------------+---------+\n",
            "only showing top 20 rows\n",
            "\n"
          ]
        }
      ]
    },
    {
      "cell_type": "code",
      "source": [
        "bkp= enem_2019"
      ],
      "metadata": {
        "id": "ULDeJ9MkUBv2"
      },
      "execution_count": 56,
      "outputs": []
    },
    {
      "cell_type": "code",
      "source": [
        "# Removendo dados nulos da coluna \"localizacao_esc\":\n",
        "enem_2019 = enem_2019.dropna(subset=['localizacao_esc'])"
      ],
      "metadata": {
        "id": "seK2tl8dTtal"
      },
      "execution_count": 58,
      "outputs": []
    },
    {
      "cell_type": "code",
      "source": [
        "# Verificando alteração\n",
        "enem_2019.filter((enem_2019['localizacao_esc'].isNull())).show()"
      ],
      "metadata": {
        "colab": {
          "base_uri": "https://localhost:8080/"
        },
        "id": "5CsUqOcfUghY",
        "outputId": "44b6d331-421b-4b50-8aae-398f87880bff"
      },
      "execution_count": 60,
      "outputs": [
        {
          "output_type": "stream",
          "name": "stdout",
          "text": [
            "+---------+---------+------------+------+--------+-------------+-----------+---------+---------+---------------+---------------+-------------+--------------+--------------+----------------+------------+---------+\n",
            "|inscricao|ano_prova|faixa_etaria|genero|cor_raca|nacionalidade|tipo_escola|treineiro|uf_escola|dependencia_esc|localizacao_esc|municipio_esc|n_ciencias_nat|n_ciencias_hum|n_linguagens_cod|n_matematica|n_redacao|\n",
            "+---------+---------+------------+------+--------+-------------+-----------+---------+---------+---------------+---------------+-------------+--------------+--------------+----------------+------------+---------+\n",
            "+---------+---------+------------+------+--------+-------------+-----------+---------+---------+---------------+---------------+-------------+--------------+--------------+----------------+------------+---------+\n",
            "\n"
          ]
        }
      ]
    },
    {
      "cell_type": "code",
      "source": [
        "bkp = enem_2019"
      ],
      "metadata": {
        "id": "xxVGlDOYWhNX"
      },
      "execution_count": 63,
      "outputs": []
    },
    {
      "cell_type": "code",
      "source": [
        "# Adicionando a coluna media final para enem:\n",
        "enem_2019 = enem_2019.withColumn(\"nota_final\",\n",
        "                                  (f.col(\"n_ciencias_nat\") +\n",
        "                                   f.col(\"n_ciencias_hum\") +\n",
        "                                   f.col(\"n_linguagens_cod\") +\n",
        "                                   f.col(\"n_matematica\") +\n",
        "                                   f.col(\"n_redacao\")) / 5)"
      ],
      "metadata": {
        "id": "0xplXxfbTOQI"
      },
      "execution_count": 66,
      "outputs": []
    },
    {
      "cell_type": "code",
      "source": [
        "enem_2019.show()"
      ],
      "metadata": {
        "colab": {
          "base_uri": "https://localhost:8080/"
        },
        "id": "j3G-TLdvXPh0",
        "outputId": "1ef046a7-147a-479b-cca2-ca0677350477"
      },
      "execution_count": 67,
      "outputs": [
        {
          "output_type": "stream",
          "name": "stdout",
          "text": [
            "+------------+---------+------------+------+--------+--------------------+-----------+---------+---------+---------------+---------------+--------------------+--------------+--------------+----------------+------------+---------+------------------+\n",
            "|   inscricao|ano_prova|faixa_etaria|genero|cor_raca|       nacionalidade|tipo_escola|treineiro|uf_escola|dependencia_esc|localizacao_esc|       municipio_esc|n_ciencias_nat|n_ciencias_hum|n_linguagens_cod|n_matematica|n_redacao|        nota_final|\n",
            "+------------+---------+------------+------+--------+--------------------+-----------+---------+---------+---------------+---------------+--------------------+--------------+--------------+----------------+------------+---------+------------------+\n",
            "|190001867757|     2019|         N/I|     F|  BRANCA|       BRASILEIRO(A)|    PRIVADA|      NAO|       PR|            N/I|         URBANO|           Apucarana|         618.2|         744.7|           636.3|       713.7|      900|            722.58|\n",
            "|190001692704|     2019|         N/I|     F|  BRANCA|       BRASILEIRO(A)|    PUBLICA|      NAO|       RS|      MUNICIPAL|         URBANO|            Alvorada|         430.4|         466.8|           515.9|       394.1|      580|477.43999999999994|\n",
            "|190001595660|     2019|         N/I|     F|   PRETA|       BRASILEIRO(A)|    PUBLICA|      NAO|       SP|      MUNICIPAL|         URBANO|     Itaquaquecetuba|         371.8|         501.4|           518.6|       442.0|      660|498.76000000000005|\n",
            "|190001421552|     2019|         N/I|     M|   PRETA|       BRASILEIRO(A)|    PUBLICA|      NAO|       BA|      MUNICIPAL|         URBANO|    Lauro de Freitas|         567.3|         584.1|           595.8|       704.5|      620| 614.3399999999999|\n",
            "|190001480443|     2019|         N/I|     M|   PARDA|BRASILEIRO, NASCI...|    PUBLICA|      NAO|       PB|      MUNICIPAL|         URBANO|          Santa Rita|         373.2|         409.6|           469.5|       379.1|      480|422.28000000000003|\n",
            "|190001082475|     2019|         N/I|     F|   PARDA|       BRASILEIRO(A)|    PUBLICA|      NAO|       AM|      MUNICIPAL|         URBANO|              Manaus|         385.8|         436.3|           393.8|       370.0|      260|            369.18|\n",
            "|190002037440|     2019|         N/I|     M|   PARDA|       BRASILEIRO(A)|    PUBLICA|      NAO|       DF|      MUNICIPAL|         URBANO|            Bras�lia|         389.7|         431.1|           482.0|       529.7|      560|             478.5|\n",
            "|190001121527|     2019|         N/I|     F|  BRANCA|       BRASILEIRO(A)|    PUBLICA|      NAO|       PI|        FEDERAL|         URBANO|            Parna�ba|         427.6|         548.8|           587.2|       699.3|      820| 616.5799999999999|\n",
            "|190001042836|     2019|         N/I|     F|   PRETA|       BRASILEIRO(A)|    PUBLICA|      NAO|       PA|      MUNICIPAL|         URBANO|               Bel�m|         510.9|         585.4|           578.4|       605.2|      880| 631.9799999999999|\n",
            "|190001421560|     2019|         N/I|     M|   PARDA|       BRASILEIRO(A)|    PUBLICA|      NAO|       BA|      MUNICIPAL|         URBANO|S�o Sebasti�o do ...|         361.2|         499.0|           403.5|       392.5|      560|443.23999999999995|\n",
            "|190001121528|     2019|         N/I|     F|   PARDA|       BRASILEIRO(A)|    PUBLICA|      NAO|       PI|      MUNICIPAL|         URBANO|            Piripiri|         556.8|         487.0|           571.8|       578.5|      800| 598.8199999999999|\n",
            "|190001595672|     2019|         N/I|     M|  BRANCA|       BRASILEIRO(A)|    PUBLICA|      NAO|       SP|      MUNICIPAL|         URBANO|              Araras|         537.0|         585.3|           590.1|       661.4|      540|            582.76|\n",
            "|190001867760|     2019|         N/I|     M|   PARDA|       BRASILEIRO(A)|    PUBLICA|      NAO|       PR|      MUNICIPAL|         URBANO|        Campo Mour�o|         523.2|         469.3|           508.4|       679.4|      640| 564.0600000000001|\n",
            "|190001595675|     2019|         N/I|     F|  BRANCA|       BRASILEIRO(A)|    PUBLICA|      NAO|       SP|      MUNICIPAL|         URBANO|             Mar�lia|         423.9|         500.4|           472.3|       503.9|      620|             504.1|\n",
            "|190001237815|     2019|         N/I|     F|  BRANCA|       BRASILEIRO(A)|    PUBLICA|      NAO|       MG|      MUNICIPAL|         URBANO|             Extrema|         624.5|         636.9|           635.8|       698.7|      800| 679.1800000000001|\n",
            "|190001925229|     2019|         N/I|     M|   PARDA|       BRASILEIRO(A)|    PUBLICA|      NAO|       CE|      MUNICIPAL|         URBANO|           Fortaleza|         416.3|         489.4|           501.7|       394.4|      720|            504.36|\n",
            "|190001517230|     2019|         N/I|     F|   PARDA|       BRASILEIRO(A)|    PUBLICA|      NAO|       RJ|      MUNICIPAL|         URBANO|      Angra dos Reis|         402.9|         509.7|           534.2|       451.9|      500|479.73999999999995|\n",
            "|190001595676|     2019|         N/I|     F|  BRANCA|       BRASILEIRO(A)|    PUBLICA|      NAO|       SP|      MUNICIPAL|         URBANO|           S�o Paulo|         565.5|         590.4|           600.0|       687.0|      940|            676.58|\n",
            "|190001480447|     2019|         N/I|     F|     N/I|       BRASILEIRO(A)|    PUBLICA|      NAO|       PB|      MUNICIPAL|         URBANO|         Jo�o Pessoa|         419.5|         540.9|           495.8|       444.6|      480|            476.16|\n",
            "|190001237818|     2019|         N/I|     M|   PRETA|       BRASILEIRO(A)|    PUBLICA|      NAO|       MG|      MUNICIPAL|         URBANO|      Belo Horizonte|         421.6|         381.0|           463.0|       449.0|      420|426.91999999999996|\n",
            "+------------+---------+------------+------+--------+--------------------+-----------+---------+---------+---------------+---------------+--------------------+--------------+--------------+----------------+------------+---------+------------------+\n",
            "only showing top 20 rows\n",
            "\n"
          ]
        }
      ]
    },
    {
      "cell_type": "code",
      "source": [
        "bkp = enem_2019"
      ],
      "metadata": {
        "id": "to_b_FxKXrzX"
      },
      "execution_count": 68,
      "outputs": []
    },
    {
      "cell_type": "code",
      "source": [
        "# normalizando coluna nota final deixando 2 casa apos o . :\n",
        "enem_2019 = enem_2019.withColumn(\"nota_final\",\n",
        "                                 f.format_number(\"nota_final\", 2))"
      ],
      "metadata": {
        "id": "t6gI01PUXjuE"
      },
      "execution_count": 69,
      "outputs": []
    },
    {
      "cell_type": "code",
      "source": [
        "enem_2019.show()"
      ],
      "metadata": {
        "colab": {
          "base_uri": "https://localhost:8080/"
        },
        "id": "CwU2nyWuX7Nd",
        "outputId": "85eacf34-67f8-4e2d-9521-83f669eab197"
      },
      "execution_count": 70,
      "outputs": [
        {
          "output_type": "stream",
          "name": "stdout",
          "text": [
            "+------------+---------+------------+------+--------+--------------------+-----------+---------+---------+---------------+---------------+--------------------+--------------+--------------+----------------+------------+---------+----------+\n",
            "|   inscricao|ano_prova|faixa_etaria|genero|cor_raca|       nacionalidade|tipo_escola|treineiro|uf_escola|dependencia_esc|localizacao_esc|       municipio_esc|n_ciencias_nat|n_ciencias_hum|n_linguagens_cod|n_matematica|n_redacao|nota_final|\n",
            "+------------+---------+------------+------+--------+--------------------+-----------+---------+---------+---------------+---------------+--------------------+--------------+--------------+----------------+------------+---------+----------+\n",
            "|190001867757|     2019|         N/I|     F|  BRANCA|       BRASILEIRO(A)|    PRIVADA|      NAO|       PR|            N/I|         URBANO|           Apucarana|         618.2|         744.7|           636.3|       713.7|      900|    722.58|\n",
            "|190001692704|     2019|         N/I|     F|  BRANCA|       BRASILEIRO(A)|    PUBLICA|      NAO|       RS|      MUNICIPAL|         URBANO|            Alvorada|         430.4|         466.8|           515.9|       394.1|      580|    477.44|\n",
            "|190001595660|     2019|         N/I|     F|   PRETA|       BRASILEIRO(A)|    PUBLICA|      NAO|       SP|      MUNICIPAL|         URBANO|     Itaquaquecetuba|         371.8|         501.4|           518.6|       442.0|      660|    498.76|\n",
            "|190001421552|     2019|         N/I|     M|   PRETA|       BRASILEIRO(A)|    PUBLICA|      NAO|       BA|      MUNICIPAL|         URBANO|    Lauro de Freitas|         567.3|         584.1|           595.8|       704.5|      620|    614.34|\n",
            "|190001480443|     2019|         N/I|     M|   PARDA|BRASILEIRO, NASCI...|    PUBLICA|      NAO|       PB|      MUNICIPAL|         URBANO|          Santa Rita|         373.2|         409.6|           469.5|       379.1|      480|    422.28|\n",
            "|190001082475|     2019|         N/I|     F|   PARDA|       BRASILEIRO(A)|    PUBLICA|      NAO|       AM|      MUNICIPAL|         URBANO|              Manaus|         385.8|         436.3|           393.8|       370.0|      260|    369.18|\n",
            "|190002037440|     2019|         N/I|     M|   PARDA|       BRASILEIRO(A)|    PUBLICA|      NAO|       DF|      MUNICIPAL|         URBANO|            Bras�lia|         389.7|         431.1|           482.0|       529.7|      560|    478.50|\n",
            "|190001121527|     2019|         N/I|     F|  BRANCA|       BRASILEIRO(A)|    PUBLICA|      NAO|       PI|        FEDERAL|         URBANO|            Parna�ba|         427.6|         548.8|           587.2|       699.3|      820|    616.58|\n",
            "|190001042836|     2019|         N/I|     F|   PRETA|       BRASILEIRO(A)|    PUBLICA|      NAO|       PA|      MUNICIPAL|         URBANO|               Bel�m|         510.9|         585.4|           578.4|       605.2|      880|    631.98|\n",
            "|190001421560|     2019|         N/I|     M|   PARDA|       BRASILEIRO(A)|    PUBLICA|      NAO|       BA|      MUNICIPAL|         URBANO|S�o Sebasti�o do ...|         361.2|         499.0|           403.5|       392.5|      560|    443.24|\n",
            "|190001121528|     2019|         N/I|     F|   PARDA|       BRASILEIRO(A)|    PUBLICA|      NAO|       PI|      MUNICIPAL|         URBANO|            Piripiri|         556.8|         487.0|           571.8|       578.5|      800|    598.82|\n",
            "|190001595672|     2019|         N/I|     M|  BRANCA|       BRASILEIRO(A)|    PUBLICA|      NAO|       SP|      MUNICIPAL|         URBANO|              Araras|         537.0|         585.3|           590.1|       661.4|      540|    582.76|\n",
            "|190001867760|     2019|         N/I|     M|   PARDA|       BRASILEIRO(A)|    PUBLICA|      NAO|       PR|      MUNICIPAL|         URBANO|        Campo Mour�o|         523.2|         469.3|           508.4|       679.4|      640|    564.06|\n",
            "|190001595675|     2019|         N/I|     F|  BRANCA|       BRASILEIRO(A)|    PUBLICA|      NAO|       SP|      MUNICIPAL|         URBANO|             Mar�lia|         423.9|         500.4|           472.3|       503.9|      620|    504.10|\n",
            "|190001237815|     2019|         N/I|     F|  BRANCA|       BRASILEIRO(A)|    PUBLICA|      NAO|       MG|      MUNICIPAL|         URBANO|             Extrema|         624.5|         636.9|           635.8|       698.7|      800|    679.18|\n",
            "|190001925229|     2019|         N/I|     M|   PARDA|       BRASILEIRO(A)|    PUBLICA|      NAO|       CE|      MUNICIPAL|         URBANO|           Fortaleza|         416.3|         489.4|           501.7|       394.4|      720|    504.36|\n",
            "|190001517230|     2019|         N/I|     F|   PARDA|       BRASILEIRO(A)|    PUBLICA|      NAO|       RJ|      MUNICIPAL|         URBANO|      Angra dos Reis|         402.9|         509.7|           534.2|       451.9|      500|    479.74|\n",
            "|190001595676|     2019|         N/I|     F|  BRANCA|       BRASILEIRO(A)|    PUBLICA|      NAO|       SP|      MUNICIPAL|         URBANO|           S�o Paulo|         565.5|         590.4|           600.0|       687.0|      940|    676.58|\n",
            "|190001480447|     2019|         N/I|     F|     N/I|       BRASILEIRO(A)|    PUBLICA|      NAO|       PB|      MUNICIPAL|         URBANO|         Jo�o Pessoa|         419.5|         540.9|           495.8|       444.6|      480|    476.16|\n",
            "|190001237818|     2019|         N/I|     M|   PRETA|       BRASILEIRO(A)|    PUBLICA|      NAO|       MG|      MUNICIPAL|         URBANO|      Belo Horizonte|         421.6|         381.0|           463.0|       449.0|      420|    426.92|\n",
            "+------------+---------+------------+------+--------+--------------------+-----------+---------+---------+---------------+---------------+--------------------+--------------+--------------+----------------+------------+---------+----------+\n",
            "only showing top 20 rows\n",
            "\n"
          ]
        }
      ]
    },
    {
      "cell_type": "code",
      "source": [
        "enem_2019.count()"
      ],
      "metadata": {
        "colab": {
          "base_uri": "https://localhost:8080/"
        },
        "id": "d7TXZcwUYCaE",
        "outputId": "0fc3317c-8754-4ab9-b35a-6e27465b07e5"
      },
      "execution_count": 71,
      "outputs": [
        {
          "output_type": "execute_result",
          "data": {
            "text/plain": [
              "940926"
            ]
          },
          "metadata": {},
          "execution_count": 71
        }
      ]
    },
    {
      "cell_type": "code",
      "source": [
        "# Criando view\n",
        "enem_2019.createOrReplaceTempView(\"v_enem_2019\")"
      ],
      "metadata": {
        "id": "s5PTVWeQSMz4"
      },
      "execution_count": 72,
      "outputs": []
    },
    {
      "cell_type": "code",
      "source": [
        "spark.sql(\n",
        "\"\"\"\n",
        "SELECT A.uf_escola, AVG(A.nota_final) AS media_estado\n",
        "FROM v_enem_2019 A\n",
        "GROUP BY uf_escola\n",
        "ORDER BY media_estado DESC\n",
        "\"\"\"\n",
        ").show()"
      ],
      "metadata": {
        "id": "gZGigWeuSsHX"
      },
      "execution_count": null,
      "outputs": []
    },
    {
      "cell_type": "code",
      "source": [],
      "metadata": {
        "id": "0Zq1aokcYp7b"
      },
      "execution_count": null,
      "outputs": []
    }
  ],
  "metadata": {
    "colab": {
      "provenance": [],
      "mount_file_id": "1giSEFsKMlxH-TqYJ1i-acGAp3VWxdT0X",
      "authorship_tag": "ABX9TyMcchn0NSfzl3j17U6LtXjR",
      "include_colab_link": true
    },
    "kernelspec": {
      "display_name": "Python 3",
      "name": "python3"
    },
    "language_info": {
      "name": "python"
    }
  },
  "nbformat": 4,
  "nbformat_minor": 0
}